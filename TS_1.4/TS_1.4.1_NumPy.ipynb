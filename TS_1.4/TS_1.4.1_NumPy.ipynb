{
 "cells": [
  {
   "cell_type": "markdown",
   "id": "2933a616",
   "metadata": {
    "id": "gdRIZKiWTRvg"
   },
   "source": [
    "---\n",
    "<a name='title'></a>\n",
    "# **<font color=\"Navy\"> Temas Selectos </font>**\n",
    "## **<font color=\"RoyalBlue\"> Tema 1.4 Programación científica en Python </font>**\n",
    "### **<font color=\"DodgerBlue\"> Notebook 1: Operaciones con arreglos </font>**\n",
    "#### Escuela Nacional de Ciencias de la Tierra\n",
    "#### Semestre 2024-II\n",
    "\n",
    "---\n",
    "\n",
    "\n",
    "Objetivos: aprender a realizar las siguientes operaciones en el lenguaje Python a través de las paqueterías `numpy` y `scipy`.\n",
    "\n",
    "Las paqueterías son un agregado de clases y funciones que permiten al usuario operar con ciertos objetos utilizando código pre-existente. Por ejemplo, si queremos obtener la evaluación de la función $f(x)=sen(x)$, ya existe una función que nos permitirá hacer este análisis.\n",
    "\n",
    "Específicamente, vamos a ver algunas bases de programación científica. Para empezar, necesitamos ver operaciones básicas entre objetos matemáticos, vectores, matrices, números, etc.\n",
    "\n",
    "*   Creación y operaciones con arreglos\n",
    "*   Funciones geométricas\n",
    "*   Álgebra lineal\n",
    "*   Sistemas de ecuaciones\n",
    "*   Integración numérica\n",
    "\n",
    "También veremos algunas bases de graficación utilizando la paquetería de Python `matplotlib`.\n",
    "\n",
    "Antes de empezar, es importante recordar que para acceder a diferentes funciones o módulos provenientes de una paquetería en Python se utiliza el punto \".\" como si fuera un apellido. Por ejemplo, en la paquetería de matplotlib se puede acceder al módulo de pyplot, que es el que utilizaremos para graficar de la siguiente manera:\n",
    "\n",
    "```\n",
    "matplotlib.pyplot\n",
    "```\n",
    "\n",
    "Ahora podemos empezar el notebook importando estas dos librerías que utilizaremos para la primera sección de este tema:"
   ]
  },
  {
   "cell_type": "code",
   "execution_count": 2,
   "id": "3c85d745",
   "metadata": {
    "id": "X04vKH5WTPxC"
   },
   "outputs": [],
   "source": [
    "import numpy as np\n",
    "\n",
    "import matplotlib.pyplot as plt"
   ]
  },
  {
   "cell_type": "markdown",
   "id": "1781969e",
   "metadata": {
    "id": "o7f9d2jEwgwE"
   },
   "source": [
    "### Tema 1.4.1 Creación y operaciones con arreglos\n",
    "\n",
    "Ahora podemos empezar a trabajar con numpy. En la celda anterior lo importamos pero haciendo un cambio de nombre, paso de ser numpy a `np`, podría haber sido cualquier cosa pero le pusimos np por convención. Así mismo, pyplot se abrevia como plt.\n",
    "\n",
    "\n",
    "---\n",
    "\n",
    "\n",
    "¿Qué es un arreglo?\n",
    "\n",
    "*a) Arreglo np.array:*\n",
    "Un arreglo np.array en NumPy es una estructura de datos que representa una matriz unidimensional, bidimensional o multidimensional, dependiendo de la forma de los datos proporcionados. Este objeto se crea utilizando la función numpy.array() y ofrece una amplia variedad de operaciones y funciones para manipular datos de manera eficiente. Los elementos en el arreglo son del mismo tipo, lo que permite realizar operaciones vectorizadas. Además, los arreglos NumPy admiten broadcasting, lo que facilita las operaciones entre arreglos de diferentes formas.\n",
    "\n",
    "*b) Arreglo N dimensiones np.ndarray:*\n",
    "Un arreglo np.ndarray es similar a un arreglo np.array, pero con la capacidad de representar arreglos de N dimensiones. Este objeto es la estructura de datos fundamental en NumPy y se utiliza para almacenar elementos homogéneos, ya sea en una matriz unidimensional, bidimensional o con más dimensiones. Los arreglos np.ndarray proporcionan funciones y métodos especializados para operaciones algebraicas y estadísticas, así como para manipulación de datos. Al igual que los arreglos unidimensionales, los arreglos N-dimensionales en NumPy permiten realizar operaciones eficientes debido a su naturaleza vectorizada.\n",
    "\n",
    "Vamos a hacer nuestro primer arreglo:"
   ]
  },
  {
   "cell_type": "code",
   "execution_count": 3,
   "id": "824c1f8b",
   "metadata": {
    "colab": {
     "base_uri": "https://localhost:8080/"
    },
    "id": "YY6CP7IRXIzG",
    "outputId": "87c61ac0-850b-48cc-d369-c95607364ff1"
   },
   "outputs": [
    {
     "name": "stdout",
     "output_type": "stream",
     "text": [
      "[1 2 3]\n",
      "<class 'numpy.ndarray'>\n"
     ]
    }
   ],
   "source": [
    "# Creamos un arreglo de 1 al 3\n",
    "arreglo=np.array([1,2,3])\n",
    "print(arreglo)\n",
    "# funcion type nos dice el tipo de objeto con el que estamos trabajando\n",
    "print(type(arreglo))"
   ]
  },
  {
   "cell_type": "code",
   "execution_count": 4,
   "id": "e24c5b7b",
   "metadata": {
    "colab": {
     "base_uri": "https://localhost:8080/"
    },
    "id": "b2NUy_7t0IoC",
    "outputId": "f9c4bc29-db5f-46d1-a07a-adfb12449d90"
   },
   "outputs": [
    {
     "data": {
      "text/plain": [
       "2"
      ]
     },
     "execution_count": 4,
     "metadata": {},
     "output_type": "execute_result"
    }
   ],
   "source": [
    "# seleccionando la posicion 1\n",
    "arreglo[1]"
   ]
  },
  {
   "cell_type": "code",
   "execution_count": 5,
   "id": "0f0409a3",
   "metadata": {},
   "outputs": [
    {
     "name": "stdout",
     "output_type": "stream",
     "text": [
      "[0 1 2 3 5 8]\n",
      "2\n"
     ]
    }
   ],
   "source": [
    "arreglo2=np.array([0,1,2,3,5,8])\n",
    "print(arreglo2)\n",
    "print(arreglo2[2])"
   ]
  },
  {
   "cell_type": "markdown",
   "id": "3349d143",
   "metadata": {
    "id": "2uN1GrX0z93R"
   },
   "source": [
    "En Python, un atributo de un objeto es una característica o propiedad asociada a una instancia particular de una clase. Estos atributos almacenan información sobre el estado del objeto y pueden ser variables que contienen datos específicos para esa instancia. Los atributos se definen en la clase y se asignan valores específicos cuando se crea una instancia del objeto. Pueden ser accedidos y modificados directamente desde el objeto.\n",
    "\n",
    "Por ejemplo, consideremos una clase Persona que tiene atributos como nombre y edad:"
   ]
  },
  {
   "cell_type": "code",
   "execution_count": 6,
   "id": "4249c7f2",
   "metadata": {
    "colab": {
     "base_uri": "https://localhost:8080/"
    },
    "id": "9YP103WJ0AtK",
    "outputId": "dc70181b-b01d-4c81-e14b-5aa42343a902"
   },
   "outputs": [
    {
     "name": "stdout",
     "output_type": "stream",
     "text": [
      "Nombre: Juan\n",
      "Edad: 30\n",
      "Nueva Edad: 31\n"
     ]
    }
   ],
   "source": [
    "class Persona:\n",
    "    def __init__(self, nombre, edad):\n",
    "        self.nombre = nombre  # Atributo \"nombre\"\n",
    "        self.edad = edad      # Atributo \"edad\"\n",
    "\n",
    "# Crear una instancia de la clase Persona\n",
    "persona1 = Persona(\"Juan\", 30)\n",
    "\n",
    "# Acceder a los atributos\n",
    "print(\"Nombre:\", persona1.nombre)\n",
    "print(\"Edad:\", persona1.edad)\n",
    "\n",
    "# Modificar un atributo\n",
    "persona1.edad = 31\n",
    "print(\"Nueva Edad:\", persona1.edad)"
   ]
  },
  {
   "cell_type": "markdown",
   "id": "5957eef0",
   "metadata": {
    "id": "Drdvb2pf03WF"
   },
   "source": [
    "En este ejemplo, la clase Persona tiene dos atributos: nombre y edad. Cuando creamos una instancia de la clase (*persona1*), le asignamos valores específicos a estos atributos. Luego, podemos acceder a ellos o modificarlos directamente desde la instancia del objeto. Los atributos son esenciales para modelar y representar datos en objetos en Python.\n",
    "\n",
    "Ahora vamos a regresar a nuestro arreglo de numpy y veremos algunos de sus atributos. Por ejemplo, podemos saber el tamaño del arreglo a través del atributo **.shape**.\n"
   ]
  },
  {
   "cell_type": "code",
   "execution_count": 7,
   "id": "148c711f",
   "metadata": {},
   "outputs": [
    {
     "data": {
      "text/plain": [
       "(3,)"
      ]
     },
     "execution_count": 7,
     "metadata": {},
     "output_type": "execute_result"
    }
   ],
   "source": [
    "arreglo.shape"
   ]
  },
  {
   "cell_type": "markdown",
   "id": "06e5a822",
   "metadata": {},
   "source": [
    "Ahora podemos hacer un segundo arreglo pero en este caso de 2 dimensiones, una manera de visualizarlo quizás más común a lo que estamos acostumbrados es:\n",
    "\n",
    "$A=\\begin{bmatrix}\n",
    "1 & 2 & 3 \\\\\n",
    "4 & 5 & 6\n",
    "  \\end{bmatrix}\n",
    "$"
   ]
  },
  {
   "cell_type": "code",
   "execution_count": 8,
   "id": "d26eac2f",
   "metadata": {
    "colab": {
     "base_uri": "https://localhost:8080/"
    },
    "id": "aQ999b8SXQlm",
    "outputId": "02671f74-b626-47eb-fc06-863c68a9972a"
   },
   "outputs": [
    {
     "name": "stdout",
     "output_type": "stream",
     "text": [
      "Arreglo 2D\n",
      "[[1 2 3]\n",
      " [4 5 6]]\n",
      "(2, 3) (3,)\n"
     ]
    }
   ],
   "source": [
    "# creamos el arreglo\n",
    "arreglo_2D=np.array([[1,2,3],[4,5,6]])\n",
    "# imprimimos el arreglo\n",
    "print('Arreglo 2D')\n",
    "print(arreglo_2D)\n",
    "# aqui imprimimos las formas del arreglo 1 y el 2\n",
    "print(arreglo_2D.shape,arreglo.shape)"
   ]
  },
  {
   "cell_type": "markdown",
   "id": "6122a84b",
   "metadata": {
    "id": "Y9K7wnrl6gnM"
   },
   "source": [
    "También podemos ver el tamaño total de un arreglo a través del atributo **.size** que mide el número total de elementos dentro de nuestro arreglo"
   ]
  },
  {
   "cell_type": "code",
   "execution_count": 9,
   "id": "7d94f20d",
   "metadata": {
    "colab": {
     "base_uri": "https://localhost:8080/"
    },
    "id": "9TAVZ2HP6nko",
    "outputId": "6e949dd8-45d4-476b-adca-75e8be5c6e7e"
   },
   "outputs": [
    {
     "data": {
      "text/plain": [
       "6"
      ]
     },
     "execution_count": 9,
     "metadata": {},
     "output_type": "execute_result"
    }
   ],
   "source": [
    "arreglo_2D.size"
   ]
  },
  {
   "cell_type": "markdown",
   "id": "ca9e82d2",
   "metadata": {
    "id": "jMvIEJukJq8z"
   },
   "source": [
    "---\n",
    "<a name='ej-1'></a>\n",
    "#### **<font color=\"DodgerBlue\">Ejercicio 1 - Tamaño de arreglo.</font>**\n",
    "\n",
    "<font color=\"DarkBlue\"> Genere un arreglo de numpy con 5 elementos aleatorios y compruebe que su tamaño es de 5 elementos.\n",
    "\n",
    "---\n",
    "\n",
    "```python\n",
    "# Arreglo\n",
    "arreglo_ej1 = ...\n",
    "# print tamaño\n",
    "print()\n",
    "```\n",
    "\n",
    "---"
   ]
  },
  {
   "cell_type": "code",
   "execution_count": null,
   "id": "f2078aca",
   "metadata": {
    "id": "Y5x6Xiq1Jqfk"
   },
   "outputs": [],
   "source": []
  },
  {
   "cell_type": "markdown",
   "id": "62029016",
   "metadata": {
    "id": "LCL_oMBA6tWf"
   },
   "source": [
    "### Slicing\n",
    "\n",
    "En Python, para \"seleccionar\" o realizar \"*slicing*\" en un arreglo de NumPy de N dimensiones, se utiliza la notación de corchetes. Es importante tener en cuenta que Python utiliza indexación basada en cero, lo que significa que el primer elemento de un arreglo tiene índice 0. El slicing se realiza especificando rangos de índices dentro de los corchetes. La sintaxis general es `[inicio:fin:paso]`, donde inicio es el índice del primer elemento incluido, fin es el índice del primer elemento excluido y paso es el número de elementos que se salta en cada paso.\n",
    "\n"
   ]
  },
  {
   "cell_type": "code",
   "execution_count": 10,
   "id": "74ddc26a",
   "metadata": {
    "colab": {
     "base_uri": "https://localhost:8080/"
    },
    "id": "nhq3uGzI8l4M",
    "outputId": "a49928f2-49d9-433d-a640-a9b354894cc5"
   },
   "outputs": [
    {
     "name": "stdout",
     "output_type": "stream",
     "text": [
      "Matriz\n",
      "[[1 2 3]\n",
      " [4 5 6]\n",
      " [7 8 9]]\n",
      "Primera fila: [1 2 3]\n",
      "Segunda columna: [2 5 8]\n",
      "Submatriz:\n",
      "[[4 5]\n",
      " [7 8]]\n"
     ]
    }
   ],
   "source": [
    "# Crear un arreglo bidimensional (matriz)\n",
    "matriz = np.array([[1, 2, 3], [4, 5, 6], [7, 8, 9]])\n",
    "\n",
    "print('Matriz')\n",
    "print(matriz)\n",
    "\n",
    "# Seleccionar la primera fila (índice 0)\n",
    "primera_fila = matriz[0, :]\n",
    "\n",
    "# Seleccionar la segunda columna (índice 1)\n",
    "segunda_columna = matriz[:, 1]\n",
    "\n",
    "# Seleccionar un subconjunto de la matriz\n",
    "submatriz = matriz[1:3, 0:2]\n",
    "\n",
    "print(\"Primera fila:\", primera_fila)\n",
    "print(\"Segunda columna:\", segunda_columna)\n",
    "print(\"Submatriz:\")\n",
    "print(submatriz)"
   ]
  },
  {
   "cell_type": "markdown",
   "id": "06c14442",
   "metadata": {
    "id": "UdbT_3u-8p7l"
   },
   "source": [
    "En este ejemplo, se utiliza el slicing para seleccionar la primera fila, la segunda columna y un subconjunto de la matriz bidimensional. El resultado ilustra cómo la notación de corchetes y la indexación basada en cero facilitan la manipulación eficiente de arreglos NumPy en Python.\n",
    "\n",
    "Por ejemplo, si regresamos a nuestro arreglo 2D original, podemos seleccionar la segunda fila, tercer columna a través del índice [1,2]."
   ]
  },
  {
   "cell_type": "code",
   "execution_count": 11,
   "id": "e88ab291",
   "metadata": {
    "colab": {
     "base_uri": "https://localhost:8080/"
    },
    "id": "K-BuOXkejd6A",
    "outputId": "af5e7c6a-d8bc-4a2d-8c44-d604e501903d"
   },
   "outputs": [
    {
     "name": "stdout",
     "output_type": "stream",
     "text": [
      "6\n"
     ]
    }
   ],
   "source": [
    "print(arreglo_2D[1,2])\n"
   ]
  },
  {
   "cell_type": "markdown",
   "id": "41652c3b",
   "metadata": {
    "id": "nfynRh0J9q-3"
   },
   "source": [
    "\n",
    "---\n",
    "<a name='ej-1'></a>\n",
    "#### **<font color=\"DodgerBlue\">Ejercicio 2 - Arreglo 2D </font>**\n",
    "\n",
    "<font color=\"DarkBlue\"> 1. Genere un arreglo de numpy de 3 dimensiones de la forma (3,2).\n",
    "\n",
    "<font color=\"DarkBlue\"> 2. Luego obtenga a través de un slice, o una submatriz, el elemento que se encuentra en la segunda fila primer columna.\n",
    "\n",
    "---\n"
   ]
  },
  {
   "cell_type": "code",
   "execution_count": null,
   "id": "48f87be3",
   "metadata": {
    "id": "yaPyB7nF-9LC"
   },
   "outputs": [],
   "source": []
  },
  {
   "cell_type": "markdown",
   "id": "c15cab39",
   "metadata": {
    "id": "8Q5Aan6TD-oX"
   },
   "source": [
    "### Operaciones básicas con arreglos\n",
    "\n",
    "NumPy proporciona una amplia variedad de operaciones básicas que simplifican y aceleran el procesamiento de arreglos. Una de las características más destacadas es la vectorización, que permite realizar operaciones de manera eficiente en arreglos completos sin la necesidad de bucles explícitos. El uso del operador `*` realiza multiplicación elemento a elemento, mientras que `+`, `-`, y `/` realizan las operaciones aritméticas correspondientes. Estas operaciones están diseñadas para manejar arreglos de diferentes formas y dimensiones, lo que facilita el trabajo con datos multidimensionales de manera concisa y eficiente.\n",
    "\n",
    "Un arreglo también puede ser multiplicado por un escalar o cada elemento puede ser elevada a una cierta potencia utilizando `**`\n",
    "\n"
   ]
  },
  {
   "cell_type": "code",
   "execution_count": 22,
   "id": "54a16ea0",
   "metadata": {
    "colab": {
     "base_uri": "https://localhost:8080/"
    },
    "id": "Ej8rkLQFPl8F",
    "outputId": "394bbe92-6f82-42d3-f892-3cc0bb78c7a4"
   },
   "outputs": [
    {
     "name": "stdout",
     "output_type": "stream",
     "text": [
      "[[1 2 3]\n",
      " [4 5 6]]\n",
      "[[ 7  8  9]\n",
      " [10 11 12]]\n"
     ]
    }
   ],
   "source": [
    "# Crear dos arreglos\n",
    "arr1 = np.array([[1, 2, 3], [4, 5, 6]])\n",
    "arr2 = np.array([[7, 8, 9], [10, 11, 12]])\n",
    "\n",
    "print(arr1)\n",
    "print(arr2)\n"
   ]
  },
  {
   "cell_type": "code",
   "execution_count": 23,
   "id": "35f6c3bd",
   "metadata": {},
   "outputs": [
    {
     "name": "stdout",
     "output_type": "stream",
     "text": [
      "Multiplicación Elemento a Elemento:\n",
      "[[ 7 16 27]\n",
      " [40 55 72]]\n",
      "\n",
      "Suma de Arreglos:\n",
      "[[ 8 10 12]\n",
      " [14 16 18]]\n"
     ]
    }
   ],
   "source": [
    "# Multiplicación elemento a elemento\n",
    "multiplicacion_elemento_a_elemento = arr1 * arr2\n",
    "print(\"Multiplicación Elemento a Elemento:\")\n",
    "print(multiplicacion_elemento_a_elemento)\n",
    "\n",
    "# Suma de arreglos\n",
    "suma_arreglos = arr1 + arr2\n",
    "print(\"\\nSuma de Arreglos:\")\n",
    "print(suma_arreglos)\n"
   ]
  },
  {
   "cell_type": "code",
   "execution_count": 13,
   "id": "4bfcdce9",
   "metadata": {},
   "outputs": [
    {
     "name": "stdout",
     "output_type": "stream",
     "text": [
      "\n",
      "Resta de Arreglos:\n",
      "[[6 6 6]\n",
      " [6 6 6]]\n",
      "\n",
      "División Elemento a Elemento:\n",
      "[[7.  4.  3. ]\n",
      " [2.5 2.2 2. ]]\n"
     ]
    }
   ],
   "source": [
    "# Resta de arreglos\n",
    "resta_arreglos = arr2 - arr1\n",
    "print(\"\\nResta de Arreglos:\")\n",
    "print(resta_arreglos)\n",
    "\n",
    "# División elemento a elemento\n",
    "division_elemento_a_elemento = arr2 / arr1\n",
    "print(\"\\nDivisión Elemento a Elemento:\")\n",
    "print(division_elemento_a_elemento)"
   ]
  },
  {
   "cell_type": "markdown",
   "id": "eb87d264",
   "metadata": {
    "id": "QclkwBaAF4sb"
   },
   "source": [
    "La operación anterior mantiene la forma de los vectores. De hecho podríamos comprobarlo con una impresión las formas de cada objeto.\n",
    "\n",
    "El producto  de un escalar $\\lambda$ por un vector $x \\in\n",
    "\\Bbb{R}^n$ se define como:\n",
    "\n",
    "\\begin{align} \\lambda x  =\n",
    "\\left(\n",
    "  \\begin{matrix}\n",
    "  \\lambda  x_1      \\\\\n",
    "  \\lambda x_2 \\\\\n",
    "  \\vdots \\\\\n",
    "   \\lambda x_n\n",
    "  \\end{matrix}\n",
    "  \\right)\n",
    "\\end{align}\n"
   ]
  },
  {
   "cell_type": "code",
   "execution_count": 14,
   "id": "61b415fd",
   "metadata": {
    "colab": {
     "base_uri": "https://localhost:8080/"
    },
    "id": "ne7SwC_7XqfR",
    "outputId": "34fc387e-f05c-438d-cb6a-4a124710c698"
   },
   "outputs": [
    {
     "name": "stdout",
     "output_type": "stream",
     "text": [
      "[2 4 6]\n",
      "lambda 1 [1 2 3]\n",
      "lambda 2 [2 4 6]\n",
      "lambda 3 [3 6 9]\n",
      "lambda 4 [ 4  8 12]\n"
     ]
    }
   ],
   "source": [
    "print(2*arreglo)\n",
    "for lambda_int in [1,2,3,4]:\n",
    "    print('lambda',lambda_int,lambda_int*arreglo)"
   ]
  },
  {
   "cell_type": "markdown",
   "id": "090eeee4",
   "metadata": {
    "id": "j3RHmtoNQsgd"
   },
   "source": [
    "\n",
    "---\n",
    "<a name='ej-1'></a>\n",
    "#### **<font color=\"DodgerBlue\">Ejercicio 3 - Operaciones con arreglos </font>**\n",
    "\n",
    "<font color=\"DarkBlue\"> Genere dos vectores $\\vec{x}$ y $\\vec{y}$, uno con valores aleatorios del 1 al 10 y otro con valores del 1 al 20. Luego calcule el vector  $\\vec{z}$ si $\\vec{z}=2\\vec{x}+\\vec{y}$.\n",
    "\n",
    "```python\n",
    "# Arreglo\n",
    "y = ...\n",
    "x = ...\n",
    "z = ...\n",
    "# print tamaño\n",
    "print()\n",
    "```\n",
    "\n",
    "---"
   ]
  },
  {
   "cell_type": "code",
   "execution_count": null,
   "id": "4d181196",
   "metadata": {},
   "outputs": [],
   "source": []
  },
  {
   "cell_type": "markdown",
   "id": "b218cc3d",
   "metadata": {
    "id": "V8csOYRXQVKA"
   },
   "source": [
    "Ahora bien, si tenemos vectores, matrices y demás, podríamos en principio operar con ellas. Las operaciones básicas con arreglos de NumPy, especialmente las operaciones *vector-matriz* y los *productos punto*, son fundamentales en el ámbito de la computación científica y el análisis de datos. NumPy aprovecha la vectorización para realizar estas operaciones de manera eficiente, permitiendo que las funciones se apliquen elemento a elemento sin la necesidad de bucles explícitos en el código."
   ]
  },
  {
   "cell_type": "markdown",
   "id": "1e3ad761",
   "metadata": {
    "id": "ZJ2PE2WO_bX2"
   },
   "source": [
    "## Operaciones vector-matriz. \n",
    "\n",
    "Sea $\\textbf{A}$ una matriz de dimensiones $m \\times n$ y $\\vec{x}$ un vector de dimensión $n$, la multiplicación de $\\textbf{A}$ por $\\vec{x}$ se realiza multiplicando cada fila de $\\textbf{A}$  por el vector $\\vec{x}$ y sumando los resultados. El resultado es un nuevo vector $\\vec{y}$ de dimensión $m$, y la operación se expresa como:\n",
    "\n",
    "\\begin{align}\n",
    "y = \\textbf{A}\\vec{x}\n",
    "\\end{align}\n",
    "\n",
    "Donde $y_i = \\sum_{j=1}^{n} A_{ij} \\cdot x_j$  para $i = 1, 2, ..., m$\n",
    "\n",
    "Es importante destacar que la dimensión de la matriz $\\textbf{A}$  debe ser compatible con la dimensión del vector $\\vec{x}$. Es decir, el número de columnas de $\\textbf{A}$ debe ser igual al número de elementos en $\\vec{x}$.\n",
    "\n",
    "Por ejemplo, dada una matriz $\\textbf{A}$ y un vector $\\vec{x}$:\n",
    "\n",
    "$A=\\begin{bmatrix}\n",
    "2 & 7 & 4 \\\\\n",
    "3 & 1 & 0\n",
    "  \\end{bmatrix}\n",
    "$\n",
    "\n",
    "$\\vec{x}=\\begin{pmatrix}\n",
    "1  \\\\\n",
    "2 \\\\\n",
    "3\n",
    "  \\end{pmatrix}\n",
    "$\n",
    " podemos calcular el resultado de la multiplicación\n",
    "\n",
    " \\begin{align}\n",
    "y = \\textbf{A}\\vec{x}=\\begin{bmatrix}\n",
    "2\\cdot 1 +  7\\cdot2 +3\\cdot3 \\\\\n",
    "3\\cdot 1 +  1\\cdot2 +0\\cdot3\n",
    "  \\end{bmatrix}=\n",
    "  \\begin{bmatrix}\n",
    "25 \\\\\n",
    "5\n",
    "  \\end{bmatrix}\n",
    "\\end{align}\n",
    "\n",
    "Y ahora podemos comprobar esto en Python: primero podemos mostrar que la multiplicación de nuestras variables `arreglo` y `arreglo_2D` es posible ya que las columnas del vector 2D corresponden al número de elementos en el arreglo original."
   ]
  },
  {
   "cell_type": "code",
   "execution_count": 15,
   "id": "e686a473",
   "metadata": {
    "colab": {
     "base_uri": "https://localhost:8080/"
    },
    "id": "mld8-fEKGh9D",
    "outputId": "e1789f18-fd76-453e-eddb-06db214c9aca"
   },
   "outputs": [
    {
     "name": "stdout",
     "output_type": "stream",
     "text": [
      "[[ 1  4  9]\n",
      " [ 4 10 18]]\n"
     ]
    }
   ],
   "source": [
    "print(arreglo_2D*arreglo)"
   ]
  },
  {
   "cell_type": "markdown",
   "id": "5b23da13",
   "metadata": {
    "id": "Pj1iflcmQAzv"
   },
   "source": [
    "\n",
    "\n",
    "---\n",
    "<a name='ej-1'></a>\n",
    "#### **<font color=\"DodgerBlue\">Ejercicio 4 - Operación Matriz vector </font>**\n",
    "\n",
    "<font color=\"DarkBlue\"> Compruebe usando Python y NumPy que las operaciones de la celda de texto anterior donde se definieron $\\textbf{A}$, $\\vec{x}$ y $\\vec{y}$ son correctas. Para esto genere las variables nuevas necesarias y  realice la operación para obtener $\\vec{y}$ e imprima el resultado.\n",
    "\n",
    "```python\n",
    "# Arreglo\n",
    "A = ...\n",
    "x = ...\n",
    "operacion = ...\n",
    "# print tamaño\n",
    "print()\n",
    "```\n",
    "\n",
    "---"
   ]
  },
  {
   "cell_type": "code",
   "execution_count": null,
   "id": "c57df9dc",
   "metadata": {
    "id": "YVlt5dLzD7A4"
   },
   "outputs": [],
   "source": []
  },
  {
   "cell_type": "markdown",
   "id": "9ed9416c",
   "metadata": {
    "id": "eS-pwpPXQldq"
   },
   "source": [
    "También podemos hacer una suma de matrices, que es mientras tengan la misma forma, es decir, que sus dimensiones sean iguales $m \\times n$, entonces podemos operarlars. Veamos un ejemplo:"
   ]
  },
  {
   "cell_type": "code",
   "execution_count": 16,
   "id": "7ac80451",
   "metadata": {
    "colab": {
     "base_uri": "https://localhost:8080/"
    },
    "id": "kTo7TZp0Rj8e",
    "outputId": "5203ad92-ed7f-4268-e082-aaa8d437f255"
   },
   "outputs": [
    {
     "name": "stdout",
     "output_type": "stream",
     "text": [
      "Matriz A:\n",
      "[[1 2 3]\n",
      " [4 5 6]\n",
      " [7 8 9]]\n",
      "\n",
      "Matriz B:\n",
      "[[9 8 7]\n",
      " [6 5 4]\n",
      " [3 2 1]]\n",
      "\n",
      "Resultado de la suma:\n",
      "[[10 10 10]\n",
      " [10 10 10]\n",
      " [10 10 10]]\n",
      "\n",
      "---\n"
     ]
    }
   ],
   "source": [
    "# Ejemplo: Suma de matrices\n",
    "matriz_a = np.array([[1, 2, 3], [4, 5, 6], [7, 8, 9]])\n",
    "matriz_b = np.array([[9, 8, 7], [6, 5, 4], [3, 2, 1]])\n",
    "\n",
    "# Realizamos la suma de las matrices\n",
    "resultado_suma = matriz_a + matriz_b\n",
    "\n",
    "# Imprimimos el resultado\n",
    "print(\"Matriz A:\")\n",
    "print(matriz_a)\n",
    "\n",
    "print(\"\\nMatriz B:\")\n",
    "print(matriz_b)\n",
    "\n",
    "print(\"\\nResultado de la suma:\")\n",
    "print(resultado_suma)\n",
    "print(\"\\n---\")\n"
   ]
  },
  {
   "cell_type": "markdown",
   "id": "c1edd47f",
   "metadata": {
    "id": "0dpxVYsHSOdt"
   },
   "source": [
    "Otra operación muy importante es el producto punto $\\mathbf{\\vec{a}}\\cdot\\mathbf{\\vec{b}}$, que se define para dos vectores de misma longitud como:\n",
    "\n",
    "\\begin{align}\n",
    "\\mathbf{\\vec{a}}\\cdot\\mathbf{\\vec{b}} = \\sum_{i=0}^N a_ib_i\n",
    "\\end{align}\n",
    "\n",
    "El producto punto entre dos arreglos se realiza mediante la función `numpy.dot()` o el operador `@`. En el caso de operaciones *vector-matriz*, NumPy facilita la multiplicación de matrices mediante `numpy.matmul()` o simplemente el operador `@`. Estas operaciones ofrecen una forma rápida y optimizada de realizar cálculos lineales y algebraicos en grandes conjuntos de datos, lo que contribuye a la eficiencia y legibilidad del código en entornos científicos y de análisis de datos.\n"
   ]
  },
  {
   "cell_type": "code",
   "execution_count": 17,
   "id": "097d7073",
   "metadata": {
    "colab": {
     "base_uri": "https://localhost:8080/"
    },
    "id": "VMz0ksMjSQo6",
    "outputId": "affc71dd-1146-4fff-b6ce-7617eac6cc37"
   },
   "outputs": [
    {
     "name": "stdout",
     "output_type": "stream",
     "text": [
      "Vector A: [1 2 3]\n",
      "Vector B: [4 5 6]\n",
      "Resultado del producto punto: 32\n",
      "\n",
      "---\n"
     ]
    }
   ],
   "source": [
    "# Ejemplo: Producto punto de vectores\n",
    "vector_a = np.array([1, 2, 3])\n",
    "vector_b = np.array([4, 5, 6])\n",
    "\n",
    "# Calculamos el producto punto de los vectores\n",
    "resultado_producto_punto = np.dot(vector_a, vector_b)\n",
    "\n",
    "# Imprimimos el resultado\n",
    "print(\"Vector A:\", vector_a)\n",
    "print(\"Vector B:\", vector_b)\n",
    "print(\"Resultado del producto punto:\", resultado_producto_punto)\n",
    "print(\"\\n---\")"
   ]
  },
  {
   "cell_type": "markdown",
   "id": "270730a4",
   "metadata": {
    "id": "HLroouUvM_Br"
   },
   "source": [
    "En NumPy, las funciones `np.linspace` y `np.arange` son herramientas esenciales para la generación de secuencias de números, pero difieren en su enfoque y aplicación. `np.linspace` se utiliza para crear un array de números espaciados uniformemente en un rango dado, especificando el número total de elementos deseados, mientras que `np.arange` genera una secuencia con un paso específico entre los valores dentro de un rango. La principal diferencia radica en la inclusión o exclusión del valor final del rango: `np.linspace` incluye el valor final, mientras que `np.arange` lo excluye.\n",
    "\n",
    "A continuación, se presenta un ejemplo de ambas funciones:"
   ]
  },
  {
   "cell_type": "code",
   "execution_count": 18,
   "id": "6b9b9c1c",
   "metadata": {
    "colab": {
     "base_uri": "https://localhost:8080/"
    },
    "id": "j_kw2J5_N8Jd",
    "outputId": "4b21717b-55e9-48f1-b5b6-8758546e3ef4"
   },
   "outputs": [
    {
     "name": "stdout",
     "output_type": "stream",
     "text": [
      "np.linspace: [0.   0.25 0.5  0.75 1.  ]\n",
      "np.arange: [0.   0.25 0.5  0.75]\n"
     ]
    }
   ],
   "source": [
    "# Ejemplo de np.linspace: Generar 5 puntos entre 0 y 1 (inclusivo)\n",
    "linspace_resultado = np.linspace(0, 1, 5)\n",
    "print(\"np.linspace:\", linspace_resultado)\n",
    "\n",
    "# Ejemplo de np.arange: Generar valores del 0 al 1 con paso de 0.25 (exclusivo)\n",
    "arange_resultado = np.arange(0, 1, 0.25)\n",
    "print(\"np.arange:\", arange_resultado)"
   ]
  },
  {
   "cell_type": "code",
   "execution_count": 19,
   "id": "8486d255",
   "metadata": {
    "colab": {
     "base_uri": "https://localhost:8080/"
    },
    "id": "2nfFGLUceePt",
    "outputId": "2836cf0f-0b38-4830-b275-10941e1ef1bf"
   },
   "outputs": [
    {
     "name": "stdout",
     "output_type": "stream",
     "text": [
      "[ 0.          0.1010101   0.2020202   0.3030303   0.4040404   0.50505051\n",
      "  0.60606061  0.70707071  0.80808081  0.90909091  1.01010101  1.11111111\n",
      "  1.21212121  1.31313131  1.41414141  1.51515152  1.61616162  1.71717172\n",
      "  1.81818182  1.91919192  2.02020202  2.12121212  2.22222222  2.32323232\n",
      "  2.42424242  2.52525253  2.62626263  2.72727273  2.82828283  2.92929293\n",
      "  3.03030303  3.13131313  3.23232323  3.33333333  3.43434343  3.53535354\n",
      "  3.63636364  3.73737374  3.83838384  3.93939394  4.04040404  4.14141414\n",
      "  4.24242424  4.34343434  4.44444444  4.54545455  4.64646465  4.74747475\n",
      "  4.84848485  4.94949495  5.05050505  5.15151515  5.25252525  5.35353535\n",
      "  5.45454545  5.55555556  5.65656566  5.75757576  5.85858586  5.95959596\n",
      "  6.06060606  6.16161616  6.26262626  6.36363636  6.46464646  6.56565657\n",
      "  6.66666667  6.76767677  6.86868687  6.96969697  7.07070707  7.17171717\n",
      "  7.27272727  7.37373737  7.47474747  7.57575758  7.67676768  7.77777778\n",
      "  7.87878788  7.97979798  8.08080808  8.18181818  8.28282828  8.38383838\n",
      "  8.48484848  8.58585859  8.68686869  8.78787879  8.88888889  8.98989899\n",
      "  9.09090909  9.19191919  9.29292929  9.39393939  9.49494949  9.5959596\n",
      "  9.6969697   9.7979798   9.8989899  10.        ]\n",
      "[ 0 10 20 30 40 50 60 70 80 90]\n"
     ]
    }
   ],
   "source": [
    "array_linspace=np.linspace(0,10,100)\n",
    "array_arange=np.arange(0,100,10)\n",
    "print(array_linspace)\n",
    "print(array_arange)"
   ]
  },
  {
   "cell_type": "markdown",
   "id": "8fc96779",
   "metadata": {
    "id": "Kjs5-ie6SS2V"
   },
   "source": [
    "NumPy incluye una variedad de funciones que facilitan el análisis de datos en arreglos. Algunas de estas funciones son np.mean para calcular el promedio, `np.min` para encontrar el valor mínimo, `np.max` para obtener el valor máximo, y `np.sum` para sumar todos los elementos. Estas funciones pueden aplicarse a lo largo de un eje específico utilizando el parámetro axis. A continuación, se presenta un ejemplo:"
   ]
  },
  {
   "cell_type": "code",
   "execution_count": 20,
   "id": "7c5efd44",
   "metadata": {
    "colab": {
     "base_uri": "https://localhost:8080/"
    },
    "id": "2mzZtKGvXy8M",
    "outputId": "dad38159-243c-4459-e728-9aab60cc54dc"
   },
   "outputs": [
    {
     "name": "stdout",
     "output_type": "stream",
     "text": [
      "[[1 2 3]\n",
      " [4 5 6]]\n",
      "3.5\n",
      "[2.5 3.5 4.5]\n",
      "1\n"
     ]
    }
   ],
   "source": [
    "# Recordemos como se ve nuestro arreglo de 2D\n",
    "print(arreglo_2D)\n",
    "\n",
    "# Calculamos el promedio de nuestro arreglo de 2D\n",
    "print(np.mean(arreglo_2D))\n",
    "\n",
    "# Calculamos el promedio de nuestro arreglo de 2D pero solo en la dimension 0, \n",
    "#o sea para cada columna, calculamos el promedio de todas las filas en esa columna\n",
    "print(np.mean(arreglo_2D,axis=0))\n",
    "\n",
    "# Tambien podemos obtener el minimo de todo el arreglo en un 1 solo valor\n",
    "print(np.min(arreglo_2D))"
   ]
  },
  {
   "cell_type": "markdown",
   "id": "0a38bbd7",
   "metadata": {
    "id": "3aCMmHiYPlKN"
   },
   "source": [
    "---\n",
    "<a name='ej-1'></a>\n",
    "#### **<font color=\"DodgerBlue\">Ejercicio 5 - Calculos de Numpy </font>**\n",
    "\n",
    "<font color=\"DarkBlue\"> Considerando el arreglo 2D visto anteriormente, calcule lo siguiente:\n",
    "\n",
    "1. Suma de todo el arreglo\n",
    "2. Suma por columna\n",
    "3. Suma por fila\n",
    "4. Evalúe cual de todos estos valores obtenidos es el valor máximo.\n",
    "\n",
    "\n",
    "\n",
    "---"
   ]
  },
  {
   "cell_type": "code",
   "execution_count": null,
   "id": "46bba80c",
   "metadata": {},
   "outputs": [],
   "source": []
  },
  {
   "cell_type": "markdown",
   "id": "d8e401ea",
   "metadata": {
    "id": "3aCMmHiYPlKN"
   },
   "source": [
    "---\n",
    "<a name='ej-1'></a>\n",
    "#### **<font color=\"DodgerBlue\">Ejercicio 6 - Los números perfectos </font>**\n",
    "\n",
    "<font color=\"DarkBlue\"> Los números perfectos son aquellos que son iguales a la suma de sus divisores propios (todos sus\n",
    "divisores a excepción del número en cuestión). \n",
    "    \n",
    "<font color=\"OrangeRed\"> 1. Cree un arreglo de numpy con 5 números aleatorios.\n",
    "    \n",
    "<font color=\"OrangeRed\"> 2. Evalúe cada número para ver si es perfecto. Si lo es, imprimalo en pantalla. Si no, imprima \"este número como el profe, no es perfecto.\"\n",
    "\n",
    "\n",
    "---"
   ]
  },
  {
   "cell_type": "code",
   "execution_count": null,
   "id": "f3b22b3e",
   "metadata": {},
   "outputs": [],
   "source": []
  },
  {
   "cell_type": "markdown",
   "id": "2ca02aa7",
   "metadata": {
    "id": "NSDv6bCPUVpz"
   },
   "source": [
    "### Funciones trigonométricas\n",
    "\n",
    "NumPy proporciona un conjunto completo de funciones matemáticas, incluyendo funciones trigonométricas y funciones básicas, que son esenciales en diversas disciplinas científicas y de ingeniería. Las funciones trigonométricas, como seno, coseno y tangente, se utilizan comúnmente en geometría, física y procesamiento de señales. NumPy proporciona versiones vectorizadas de estas funciones, permitiendo su aplicación eficiente a arreglos completos de datos. Por ejemplo:\n",
    "\n",
    "\n",
    "$f(x)=cos(x)$ -> ```np.cos()```\n",
    "\n",
    "$f(x)=sen(x)$ -> ```np.sin()```\n",
    "\n",
    "$f(x)=e^{x}$ -> ```np.exp()```\n",
    "\n",
    "$f(x)=log(x)$ -> ```np.log()``` (logaritmo natural)"
   ]
  },
  {
   "cell_type": "code",
   "execution_count": 21,
   "id": "37c811c3",
   "metadata": {
    "colab": {
     "base_uri": "https://localhost:8080/"
    },
    "id": "gbwiep62U6Wp",
    "outputId": "2c10405b-0208-410f-f950-e1cee6f7cae7"
   },
   "outputs": [
    {
     "name": "stdout",
     "output_type": "stream",
     "text": [
      "[-1.         -0.99980001 -0.99920011 -0.99820054 -0.99680171 -0.99500417\n",
      " -0.99280864 -0.990216   -0.98722728 -0.98384369]\n",
      "[0.04321392 0.0440869  0.04497751 0.04588612 0.04681308 0.04775877\n",
      " 0.04872356 0.04970784 0.050712   0.05173645]\n"
     ]
    }
   ],
   "source": [
    "x=np.arange(-np.pi,np.pi,0.02)\n",
    "print(np.cos(x)[0:10])\n",
    "print(np.exp(x)[0:10])"
   ]
  },
  {
   "cell_type": "markdown",
   "id": "d9acc3ef",
   "metadata": {},
   "source": [
    "Pero todo esto ¿cómo rayos lo vemos? "
   ]
  },
  {
   "cell_type": "code",
   "execution_count": null,
   "id": "09c042d3",
   "metadata": {},
   "outputs": [],
   "source": []
  }
 ],
 "metadata": {
  "kernelspec": {
   "display_name": "Python 3 (ipykernel)",
   "language": "python",
   "name": "python3"
  },
  "language_info": {
   "codemirror_mode": {
    "name": "ipython",
    "version": 3
   },
   "file_extension": ".py",
   "mimetype": "text/x-python",
   "name": "python",
   "nbconvert_exporter": "python",
   "pygments_lexer": "ipython3",
   "version": "3.10.9"
  }
 },
 "nbformat": 4,
 "nbformat_minor": 5
}
