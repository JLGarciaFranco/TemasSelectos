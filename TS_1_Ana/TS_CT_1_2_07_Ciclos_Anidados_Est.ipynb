{
  "nbformat": 4,
  "nbformat_minor": 0,
  "metadata": {
    "colab": {
      "provenance": []
    },
    "kernelspec": {
      "name": "python3",
      "display_name": "Python 3"
    },
    "language_info": {
      "name": "python"
    }
  },
  "cells": [
    {
      "cell_type": "markdown",
      "source": [
        "#**Ciclos Anidados**\n",
        "\n",
        "Un ciclo anidado básciamente es un ciclo dentro de otro ciclo. El ciclo interno o externo pueden ser de cualquier tipo, es decir puede ser un ciclo while o un ciclo for.\n",
        "\n",
        "El ciclo externo puede tener más de un ciclo interno, en realidad no hay límite en la cantidad de ciclos que pueden ir dentro de otro.\n",
        "\n",
        "Cabe mencionar, que en los ciclos anidados el número de iteraciones va a ser igual al número de iteraciones en el ciclo interior multiplicado por las iteraciones del ciclo exterior.\n",
        "\n",
        "En cada iteración del ciclo externo, el ciclo interno va a hacer toda su iteración.\n",
        "Por cada iteración del ciclo externo el ciclo interso se reinicia y termina antes de que el ciclo externo cambie a la siguiente iteración\n",
        "\n",
        "Normalmente los ciclos anidados se usan cuando usamos datos multidimensionales, como por ejemplo matrices, arrays o listas dentro de listas.\n",
        "\n"
      ],
      "metadata": {
        "id": "i6iFp4u73c_c"
      }
    },
    {
      "cell_type": "code",
      "source": [
        "# No hay nada mejor que verlo en un ejemplo\n",
        "\n",
        "# Tenemos estos dos ciclos\n",
        "# Qué resultado vamos a obtener con cada uno???\n",
        "\n",
        "for ii in range(2):\n",
        "  print(ii)\n",
        "\n",
        "for jj in range(10,13):\n",
        "  print(jj)"
      ],
      "metadata": {
        "id": "_8YPFKzWL9oM"
      },
      "execution_count": null,
      "outputs": []
    },
    {
      "cell_type": "code",
      "source": [
        "# Ahora vamos a anidarlos\n",
        "\n",
        "for ii in range(2):\n",
        "  print(\"__________________________________________________________\")\n",
        "  print(ii)\n",
        "  print(\"__________________________________________________________\")\n",
        "\n",
        "  for jj in range(10,13):\n",
        "    print(jj)\n",
        "\n",
        "# Tengan mucho ojo con la identación"
      ],
      "metadata": {
        "id": "tdlk-aXeMSsu"
      },
      "execution_count": null,
      "outputs": []
    },
    {
      "cell_type": "code",
      "source": [
        "# Cuando trabajen con print, para determinar si lo que está haciendo el ciclo está bien\n",
        "# Deben tener cuidado en dónde ponen esos print\n",
        "\n",
        "for ii in range(2):\n",
        "  print(\"__________________________________________________________\")\n",
        "\n",
        "  for jj in range(10,13):\n",
        "\n",
        "    print(jj)\n",
        "\n",
        "  print(ii)\n"
      ],
      "metadata": {
        "id": "0KN8Xse0M3bV"
      },
      "execution_count": null,
      "outputs": []
    },
    {
      "cell_type": "code",
      "source": [
        "# Otro ejemplo\n",
        "\n",
        "for ii in range(2):\n",
        "  print(\"__________________________________________________________\")\n",
        "\n",
        "  for jj in range(10,13):\n",
        "\n",
        "    print(jj)\n",
        "\n",
        "    print(ii)\n"
      ],
      "metadata": {
        "id": "4l-4fQdaNxqR"
      },
      "execution_count": null,
      "outputs": []
    },
    {
      "cell_type": "markdown",
      "source": [
        "Podemos también  hacer loops anidados con listas"
      ],
      "metadata": {
        "id": "u2i2cu8UN_lP"
      }
    },
    {
      "cell_type": "code",
      "source": [
        "x = [1, 2,3]\n",
        "y = [\"cielo\", \"suelo\", \"mar\"]\n",
        "\n",
        "for ii in x:\n",
        "  for jj in y:\n",
        "    print(ii, jj)"
      ],
      "metadata": {
        "id": "vOVTCJD2OtRq"
      },
      "execution_count": null,
      "outputs": []
    },
    {
      "cell_type": "markdown",
      "source": [
        "Y así podría ser un ejemplo de anidar un ciclo con un while"
      ],
      "metadata": {
        "id": "gL8DaSTDPaOk"
      }
    },
    {
      "cell_type": "code",
      "source": [
        "# Supongamos que queremos repetir 5 veces\n",
        "# cada uno de los nombres de una lista\n",
        "\n",
        "\n",
        "nombres = [\"Edward\", \"Bella\", \"Jacob\"]\n",
        "\n",
        "\n",
        "# ciclo externo\n",
        "# Queremos iterar cada uno de los nombres\n",
        "for nombre in nombres:\n",
        "\n",
        "    # ciclo while interno\n",
        "    contar = 0\n",
        "    while contar < 5:\n",
        "        print(nombre, end=' ')\n",
        "        # Acuérdense de aumentar el contador\n",
        "        contar = contar + 1\n",
        "    print()\n",
        "\n",
        "# Aquí pasaron muchas cosas y hay que entenderlas"
      ],
      "metadata": {
        "id": "nv_9HGguPigB"
      },
      "execution_count": null,
      "outputs": []
    },
    {
      "cell_type": "code",
      "source": [
        "# Por default, python termina cada print con un espacio hacia abajo\n",
        "# Pero qué pasa si ustedes no quieren eso??\n",
        "# Para eso sirve \"end\", el cual indica cómo quieres que termine ese print\n",
        "\n",
        "print('Algo', end = '****')"
      ],
      "metadata": {
        "id": "8rNLXBTFRNud"
      },
      "execution_count": null,
      "outputs": []
    },
    {
      "cell_type": "code",
      "source": [
        "# Se nota más en los loops\n",
        "\n",
        "for ii in range(5):\n",
        "  print('Algo')"
      ],
      "metadata": {
        "id": "eND8bgYySUh8"
      },
      "execution_count": null,
      "outputs": []
    },
    {
      "cell_type": "code",
      "source": [
        "# Ahora utilicemos end\n",
        "\n",
        "for ii in range(5):\n",
        "  print('Algo', end = \"***\")"
      ],
      "metadata": {
        "id": "QLuPS531SbXU"
      },
      "execution_count": null,
      "outputs": []
    },
    {
      "cell_type": "code",
      "source": [
        "# Añadir un print() así sin nada\n",
        "# Básicamente lo que hace es poner un espacio hacia abajo\n",
        "\n",
        "\n",
        "for ii in range(5):\n",
        "  print('Algo', end = \"***\")\n",
        "  print()\n",
        "\n",
        "# Es lo mismo que si no usaramos el end, pero la idea es usarlos en los\n",
        "# ciclos anidados."
      ],
      "metadata": {
        "id": "QoRsatWTTTYt"
      },
      "execution_count": null,
      "outputs": []
    },
    {
      "cell_type": "code",
      "source": [
        "# Regresando al ejemplo\n",
        "# Analicemos cómo es que afecta cada print\n",
        "\n",
        "nombres = [\"Edward\", \"Bella\", \"Jacob\"]\n",
        "\n",
        "# ciclo externo\n",
        "# Queremos iterar cada uno de los nombres\n",
        "for nombre in nombres:\n",
        "\n",
        "    # ciclo while interno\n",
        "    contar = 0\n",
        "    while contar < 5:\n",
        "        print(nombre, end=' ')\n",
        "        # Acuérdense de aumentar el contador\n",
        "        contar = contar + 1\n",
        "    print()"
      ],
      "metadata": {
        "id": "1mRqyS3mTwpt"
      },
      "execution_count": null,
      "outputs": []
    },
    {
      "cell_type": "code",
      "source": [
        "# Un Ejercicio\n",
        "\n",
        "# Hagan un código que muestra las tablas del 2 y 3"
      ],
      "metadata": {
        "id": "qNuxB4Ca47iJ"
      },
      "execution_count": null,
      "outputs": []
    },
    {
      "cell_type": "code",
      "source": [
        "# Hacer un rectangulo de n x m\n",
        "# donde n son las columnas y m las filas\n",
        "# Hagan un programa que solicite al usuario un número de filas y columnas\n",
        "# Y hagan un rectángulo con esas dimensiones\n"
      ],
      "metadata": {
        "id": "M4m2zScX3fNe"
      },
      "execution_count": null,
      "outputs": []
    },
    {
      "cell_type": "markdown",
      "source": [
        "# **Break y Continue**\n",
        "\n",
        "**Break**\n",
        "\n",
        "El término break, sive de manera de control del ciclo, el break se usa\n",
        "para salir del ciclo.\n",
        "\n",
        "Cuando usamos un break lo que ocurre es que se salta el resto de la iteración y termina el ciclo."
      ],
      "metadata": {
        "id": "q2ao670p9zu4"
      }
    },
    {
      "cell_type": "code",
      "source": [
        "# Veamos un ejemplo\n",
        "\n",
        "# Este es el código que hace las tabals de multiplicar\n",
        "# Veamos qué es lo que hace break\n",
        "\n",
        "for i in range(2, 4):\n",
        "\n",
        "    for j in range(1, 11):\n",
        "      if i==j:\n",
        "        break\n",
        "\n",
        "      print(i, \"*\", j, \"=\", i*j)\n",
        "\n",
        "    print()"
      ],
      "metadata": {
        "id": "vvyWvYRi-TyP"
      },
      "execution_count": null,
      "outputs": []
    },
    {
      "cell_type": "markdown",
      "source": [
        "Analicemos qué es lo que está ocurriendo en el ciclo.\n",
        "\n",
        "El condicional nos dice que cuando `i = j` se use el `break`.\n",
        "Comienza el loop con `i = 2`, y después vamos a iterar del 1 al 10 (la variable j).\n",
        "\n",
        "Cuando en el segundo loop j sea igual a i, entonces se termina todo el ciclo y se salta al siguiente.\n",
        "\n",
        "Es decir que nos estamos saltando la iteración de j del 2 al 10 y proseguimos al siguiente ciclo en i.\n",
        "\n",
        "Ahora `i = 3`, nuevamente cuando j sea igual a i el ciclo se detiene. Por lo tanto sólo se van a imprimir los valores de 1 a 2, porque apartir del tres se aplica el break.\n",
        "\n",
        "\n",
        "\n"
      ],
      "metadata": {
        "id": "EEtWXq-e_CTD"
      }
    },
    {
      "cell_type": "code",
      "source": [
        "# Otro ejemplo de cómo puede usarse el break\n",
        "\n",
        "while True:\n",
        "    out = input('Presiona q para salir del loop: ')\n",
        "    if out == 'q':\n",
        "        break\n",
        "print('Salida del loop')"
      ],
      "metadata": {
        "id": "QCtm5OqyJDIF"
      },
      "execution_count": null,
      "outputs": []
    },
    {
      "cell_type": "markdown",
      "source": [
        "\n",
        "**Continue**\n",
        "\n",
        "Otro statement común en ciclos anidados es `continue`, el cual, lo que hace es que se salta la iteración actual y se salta a la siguiente.\n"
      ],
      "metadata": {
        "id": "zdYwRmXgJkeA"
      }
    },
    {
      "cell_type": "code",
      "source": [
        "# Ejemplo del uso de continue\n",
        "\n",
        "lista_1 = [2, 4, 6]\n",
        "lista_2= [2, 4, 6, 8]\n",
        "\n",
        "for i in lista_1:\n",
        "    for j in lista_2:\n",
        "        if i == j:\n",
        "            continue\n",
        "        print(i, '*', j, '= ', i * j)"
      ],
      "metadata": {
        "id": "81zk624GMygb"
      },
      "execution_count": null,
      "outputs": []
    },
    {
      "cell_type": "markdown",
      "source": [
        "El uso de `continue` y `break`, dependerá de qué es lo que quieran hacer.\n",
        "Algunas personas lo utilizan para probar algún cálculo y así evitar que el programa se detenga o marque algún error.\n",
        "\n",
        "Los ciclos anidados son de mucha ayuda, pero recuerden siempre que están añadiendo un grado de complejidad al programa y deben asegurarse que realmente esté haciendo lo que ustedes desean.\n",
        "\n",
        "Así que practiquemos los ciclos anidados (más)\n"
      ],
      "metadata": {
        "id": "_Mv9bzzrNf4H"
      }
    },
    {
      "cell_type": "code",
      "source": [
        "# Supongamos que tienen datos del 2020 al 2024\n",
        "# son 12 archivos (correspondientes a cada mes) por cada año\n",
        "# Su trabajo consiste en leer todos los archivos por mes y por año\n",
        "# pero al llegar al 2024 no leer ninguno.\n",
        "\n",
        "# Nota, el formato de los meses debe de ser '01', '02' ..... '10', '11', '12'\n",
        "# también se le conoce como \"leading zero\" averiguen cómo se utiliza"
      ],
      "metadata": {
        "id": "Xvum-oo7N_VO"
      },
      "execution_count": null,
      "outputs": []
    },
    {
      "cell_type": "code",
      "source": [
        "# Ahora supongamos que únicamente quieren los datos del verano (JJA)\n",
        "# modifiquen su código para únicamente leer esos archivos\n",
        "# Utilicen continue y break"
      ],
      "metadata": {
        "id": "5BplWsRhPOH7"
      },
      "execution_count": null,
      "outputs": []
    },
    {
      "cell_type": "code",
      "source": [
        "# Ahora supongamos que por alguna razón para la primavera (MAM)\n",
        "# si el año que van a analizar resulta ser bisiesto, ese año no lo lean"
      ],
      "metadata": {
        "id": "T-BvEkYRQhNO"
      },
      "execution_count": null,
      "outputs": []
    }
  ]
}