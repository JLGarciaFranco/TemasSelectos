{
  "nbformat": 4,
  "nbformat_minor": 0,
  "metadata": {
    "colab": {
      "provenance": []
    },
    "kernelspec": {
      "name": "python3",
      "display_name": "Python 3"
    },
    "language_info": {
      "name": "python"
    }
  },
  "cells": [
    {
      "cell_type": "markdown",
      "source": [
        "#Estructuras Condicionales\n",
        "\n",
        "**¿Qué son las condicionales en programación?**\n",
        "\n",
        "Las estructuras condicionales son básicamente las directrices que van a guiar el flujo del programa. Es decir, las condiciones son como bifurcaciones en el código. Dependiendo de si cierta condición se cumple o no entonces se sigue determinado camino. En inglés se conocen como \"if statements\"\n",
        "\n",
        "En diferentes lenguajes de programación hay una sintaxis básica, que es la de \"si-entonces\".\n",
        "\n",
        "Esa suposición la vamos a comparar con condiciones lógicas ¿Cuáles son? Pues las comunes como:\n",
        "\n",
        "\n",
        "*   Igual: a == b\n",
        "*   No igual: a != b\n",
        "* Menor a: a < b\n",
        "* Menor o igual a: a <= b\n",
        "* Mayor a: a > b\n",
        "* Mayor o igual a: a >= b\n",
        "\n",
        "En Python ¿Cómo se ven los if estatements?\n",
        "\n",
        "```\n",
        " Si se cumple esta condición:\n",
        "   Haz esto\n",
        "```\n",
        "\n"
      ],
      "metadata": {
        "id": "RxZoGNCiLZ7V"
      }
    },
    {
      "cell_type": "code",
      "source": [
        "# La forma más sencilla de ver un if statement\n",
        "a = 33\n",
        "b = 200\n",
        "if b > a:\n",
        "  print(\"b es mayor a: a\")\n",
        "\n",
        "\n",
        "# Modifiquen el texto para que b sea diferente de a y se imprima que no son iguales"
      ],
      "metadata": {
        "id": "PW-Y7WXzNsPJ",
        "colab": {
          "base_uri": "https://localhost:8080/"
        },
        "outputId": "e739a947-6b48-49b5-8021-a7171e4e0b53"
      },
      "execution_count": null,
      "outputs": [
        {
          "output_type": "stream",
          "name": "stdout",
          "text": [
            "b es mayor a: a\n"
          ]
        }
      ]
    },
    {
      "cell_type": "code",
      "source": [
        "# @title\n",
        "if b != a:\n",
        "    print(\"b no es igual a: a\")"
      ],
      "metadata": {
        "id": "Fb3fyGzMskli",
        "colab": {
          "base_uri": "https://localhost:8080/"
        },
        "outputId": "f7623ec3-66c2-4607-c87c-80d44fd06586"
      },
      "execution_count": null,
      "outputs": [
        {
          "output_type": "stream",
          "name": "stdout",
          "text": [
            "b no es igual a: a\n"
          ]
        }
      ]
    },
    {
      "cell_type": "code",
      "source": [
        "#Qué ocurriría si tratamos de usar b == a? Qué clase de error esperan que aparezca?\n",
        "if b == a:\n",
        "  print(\"b es igual a: a\")\n",
        "  print()\n",
        "  print()\n",
        "  print()\n"
      ],
      "metadata": {
        "id": "t-N7FTv1srE8"
      },
      "execution_count": null,
      "outputs": []
    },
    {
      "cell_type": "markdown",
      "source": [
        "\n",
        "\n",
        "---\n",
        "\n",
        "\n",
        "Antes de seguir. Python es un lenguaje que depende de la **identación** que es básicamente un espacio en blanco antes de la línea de código. Esta identación ayuda a definir el *scope* del código.\n",
        "Qué es el scope? Es una colección de variables y reglas de cómo se accede a esas variables. Sólo el código dentro de esa función puede a acceder a esas variables.\n",
        "\n",
        "El scope es básicamente el contexto que pertenece a un nombre dentro de un programa, o sea en qué partes del programa una entidad puede ser usada.\n",
        "\n",
        "Python usa la identación, pero otros lenguajes usan llaves `{}`\n",
        "Si ustedes no identan sus programas correctamente el código no va a funcionar.\n"
      ],
      "metadata": {
        "id": "q-Kyl0z-Ot2P"
      }
    },
    {
      "cell_type": "code",
      "source": [
        "# Utilizando las variables de antes\n",
        "\n",
        "if b > a:\n",
        "  print(\"b es mayor a: a\")\n",
        "print()\n",
        "\n",
        "# normalmente Python es muy amable y te dice que tienes un error, pero cuando empiezan\n",
        "# usar ciclos anidados, la indentación se vuelve más complicada"
      ],
      "metadata": {
        "id": "6ShmKEzyQQrD"
      },
      "execution_count": null,
      "outputs": []
    },
    {
      "cell_type": "markdown",
      "source": [
        "\n",
        "\n",
        "---\n",
        "\n",
        "\n",
        "**Elif**\n",
        "\n",
        "Bueno vimos la estructura básica, pero obviamente hay más variaciones,\n",
        "qué pasa si no se trata de una decisión de \"sí o no\" si no que hay otra opción,\n",
        "es ahi donde entra la opción del `elif`\n",
        "\n",
        "Básicamente la función del elif es \"si está opción que te di no se cumple (no es verdadera), entonces intenta esta\"\n",
        "\n"
      ],
      "metadata": {
        "id": "kFArwLgARdzv"
      }
    },
    {
      "cell_type": "code",
      "source": [
        "# La estructura va a ser más o menos así\n",
        "\n",
        "a = 33\n",
        "b = 33\n",
        "c = 32\n",
        "\n",
        "if b > a:\n",
        "  print(\"b is greater than a\")\n",
        "elif a == b:\n",
        "  print(\"a and b are equal\")\n",
        "\n",
        "print('****************************')"
      ],
      "metadata": {
        "id": "1IqTmD_7SEEh",
        "colab": {
          "base_uri": "https://localhost:8080/"
        },
        "outputId": "25866c9c-3b57-4151-f80d-c77ad72be53e"
      },
      "execution_count": null,
      "outputs": [
        {
          "output_type": "stream",
          "name": "stdout",
          "text": [
            "a and b are equal\n",
            "****************************\n"
          ]
        }
      ]
    },
    {
      "cell_type": "code",
      "source": [
        "# OJO, si llegan a poner dos condiciones correctas\n",
        "# lo que se va a ejecutar es lo que esté en la primera que se cumpla\n",
        "\n",
        "if c < a:\n",
        "  print('c es menor')\n",
        "  if a == b:\n",
        "      print('son iguales')"
      ],
      "metadata": {
        "id": "rZnE_wBduV3y",
        "colab": {
          "base_uri": "https://localhost:8080/"
        },
        "outputId": "5d0c8706-fe02-4f48-e7c0-7900ff3e8fc7"
      },
      "execution_count": null,
      "outputs": [
        {
          "output_type": "stream",
          "name": "stdout",
          "text": [
            "c es menor\n",
            "son iguales\n"
          ]
        }
      ]
    },
    {
      "cell_type": "markdown",
      "source": [
        "\n",
        "\n",
        "---\n",
        "\n",
        "\n",
        "**Else**\n",
        "\n",
        "El else entra cuando ninguna de las otras condiciones se cumple."
      ],
      "metadata": {
        "id": "3OE9XbEcYSsy"
      }
    },
    {
      "cell_type": "code",
      "source": [
        "# Usar un else statemente se vería así\n",
        "\n",
        "a = 200\n",
        "b = 33\n",
        "\n",
        "if b > a:\n",
        "  print(\"b es mayor a: a\")\n",
        "elif a == b:\n",
        "  print(\"a es mayor a: b\")\n",
        "else:\n",
        "  print(\"xx\")"
      ],
      "metadata": {
        "id": "hPeyePfEYmXo"
      },
      "execution_count": null,
      "outputs": []
    },
    {
      "cell_type": "code",
      "source": [
        "# El else no se tiene que usar a fuerzas pero puede usarse para encontrar errores de flujo\n",
        "# y de hecho pueden usar un else sin necesariamente usar un elif\n",
        "\n",
        "print('*************************************************************')\n",
        "if b > a:\n",
        "  print(\"b es mayor a: a\")\n",
        "else:\n",
        "  print(\"a es mayor a: b\")\n"
      ],
      "metadata": {
        "id": "lExLBHTHurAj",
        "colab": {
          "base_uri": "https://localhost:8080/"
        },
        "outputId": "6e540891-d041-42b5-a608-92d6e8303fa8"
      },
      "execution_count": null,
      "outputs": [
        {
          "output_type": "stream",
          "name": "stdout",
          "text": [
            "*************************************************************\n",
            "a es mayor a: b\n"
          ]
        }
      ]
    },
    {
      "cell_type": "markdown",
      "source": [
        "\n",
        "\n",
        "---\n",
        "\n",
        "\n",
        "#Operadores\n",
        "\n",
        "Muchas veces van a querer que se cumplan multiples condiciones para que el programa siga cierto camino, para eso están los operadores `AND` y `OR`\n",
        "\n",
        "**AND**\n",
        "\n",
        "Es un operador  lógico que se usa para combinar condiciones, de manera que ambas condicones se deben de cumplir.\n"
      ],
      "metadata": {
        "id": "dv1mD_qeZkEC"
      }
    },
    {
      "cell_type": "code",
      "source": [
        "# En este ejemplo queremos que se cumplan dos condiciones\n",
        "\n",
        "a = 200\n",
        "b = 33\n",
        "c = 500\n",
        "if a > b and c > a and c == a:\n",
        "  print(\"Ambas condiciones son ciertas\")\n",
        "\n",
        "#las condiciones que se cumplen es que a > b y c > a"
      ],
      "metadata": {
        "id": "24xTWyg8Zw9p"
      },
      "execution_count": null,
      "outputs": []
    },
    {
      "cell_type": "markdown",
      "source": [
        "\n",
        "\n",
        "---\n",
        "\n",
        "\n",
        "**OR**\n",
        "\n",
        "Or también es un operador lógico y también combina condiciones, pero aquí con que una de las condiciones se cumpla el código tomará esa ruta."
      ],
      "metadata": {
        "id": "e4K49rAdcTta"
      }
    },
    {
      "cell_type": "code",
      "source": [
        "# Aquí con que una de las condiciones se cumpla, el código va a imprimit\n",
        "\n",
        "a = 200\n",
        "b = 33\n",
        "c = 500\n",
        "if a > b or a > c:\n",
        "  print(\"Al menos una condición es verdadera\")\n"
      ],
      "metadata": {
        "id": "yy81fH3jaemd",
        "colab": {
          "base_uri": "https://localhost:8080/"
        },
        "outputId": "08d906e4-0241-4da1-f0d9-c8250bb740a2"
      },
      "execution_count": null,
      "outputs": [
        {
          "output_type": "stream",
          "name": "stdout",
          "text": [
            "Al menos una condición es verdadera\n"
          ]
        }
      ]
    },
    {
      "cell_type": "markdown",
      "source": [
        "\n",
        "\n",
        "---\n",
        "\n",
        "\n",
        "**NOT**\n",
        "\n",
        "La palabra NOT también es un operador lógico y se usa para revertir el resultado de una condición.\n"
      ],
      "metadata": {
        "id": "8hT8LeXIc21M"
      }
    },
    {
      "cell_type": "code",
      "source": [
        "# A diferencia de los ejercicios pasados aquí lo que queremos es ver\n",
        "# que a NO sea mayor que b\n",
        "\n",
        "a = 33\n",
        "b = 200\n",
        "\n",
        "if not a > b:\n",
        "  print(\"a no es mayor b\")"
      ],
      "metadata": {
        "id": "73TDGyHkeLVq",
        "colab": {
          "base_uri": "https://localhost:8080/"
        },
        "outputId": "5c43d4ca-dfd2-46a7-8e14-65c029b9b1ae"
      },
      "execution_count": null,
      "outputs": [
        {
          "output_type": "stream",
          "name": "stdout",
          "text": [
            "a no es mayor b\n"
          ]
        }
      ]
    },
    {
      "cell_type": "markdown",
      "source": [
        "\n",
        "\n",
        "---\n",
        "\n",
        "\n",
        "**IN y NOT IN**\n",
        "\n",
        "Hay más operadores, pero este será el último que veamos por ahora.\n",
        "Este operador es de pertenencia y se usa mucho para ver si un valor pertenece a algún operador.\n",
        "Aquí no se comparan los valores como en los otros."
      ],
      "metadata": {
        "id": "MGtrxrZ7jSub"
      }
    },
    {
      "cell_type": "code",
      "source": [
        "# Veamos el ejemplo\n",
        "\n",
        "# Recuerdan las listas?\n",
        "x = [\"manzana\", \"fresa\"]\n",
        "\n",
        "if \"manzana\" in x:\n",
        "  print(\"Manzana está en la lista x\")"
      ],
      "metadata": {
        "id": "fyWPqu2OjkhQ",
        "colab": {
          "base_uri": "https://localhost:8080/"
        },
        "outputId": "e45eab40-5704-43ed-b191-ad793e2a9487"
      },
      "execution_count": null,
      "outputs": [
        {
          "output_type": "stream",
          "name": "stdout",
          "text": [
            "Manzana está en la lista x\n"
          ]
        }
      ]
    },
    {
      "cell_type": "code",
      "source": [
        "if 'mango' not in x:\n",
        "  print('Mango no está en la lista x')\n",
        "\n",
        "\n",
        "cadena = ['abcdf', 'efgh']\n",
        "\n",
        "if 'a' in cadena:\n",
        "  print('sí, a está en la cadena')"
      ],
      "metadata": {
        "id": "6V4W0WIkvGKy"
      },
      "execution_count": null,
      "outputs": []
    },
    {
      "cell_type": "markdown",
      "source": [
        "Con la práctica irán viendo la utilidad de los condicionales.Y hablando de práctica, es su momento de brillar. 😸"
      ],
      "metadata": {
        "id": "EB0Pjv7nSTns"
      }
    },
    {
      "cell_type": "code",
      "source": [
        "# Hagamos un ejercicio :D\n",
        "\n",
        "# El siguiente código tendrá que decir si un número es par o impar\n",
        "# El truco está en que ustedes deben de hacer una variable con cualquier formato\n",
        "# es decir una palabra,un número o booleano.\n",
        "# El programa debe de funcionar únicamente para números y después decir si ese número es\n",
        "# par o impar\n",
        "\n",
        "\n",
        "# Hint: Recuerden el módulo\n",
        "# Hint: Recuerden type()\n",
        "\n",
        "par_impar = 10\n"
      ],
      "metadata": {
        "id": "jlM5gZkrsFLD"
      },
      "execution_count": null,
      "outputs": []
    },
    {
      "cell_type": "code",
      "source": [
        "# @title\n",
        "\n",
        "if type(par_impar) == int and par_impar % 2 == 0:\n",
        "  print('El número es par')\n",
        "elif type(par_impar) == int and par_impar % 2 != 0:\n",
        "  print('El número NO es par')\n",
        "else:\n",
        "  print(\"Este es un formato no valido\")\n"
      ],
      "metadata": {
        "id": "p2tyKOonvhUP"
      },
      "execution_count": null,
      "outputs": []
    },
    {
      "cell_type": "code",
      "source": [
        "# Ejercicio Frío/Caliente.\n",
        "\n",
        "# Haz un código que genere aleatoriamente un número entre el 1 y 10\n",
        "# el usuario tiene que introducir un número, si el número que ingresó el usuario\n",
        "# es mayor/menor por hasta dos digitos la consola debe de decir: caliente\n",
        "\n",
        "# Si el número es mayor/menor por más de dos digitos la consola debe de decir:\n",
        "# frío\n",
        "\n",
        "# Si el usuario ingresó correctamente el número la consola debe decir: Correcto\n",
        "\n",
        "# Si el usuario ingresa un número que no está dentro del rango permitido, la consola\n",
        "# debe de decir: Error\n",
        "\n",
        "# Al final la consola debe de indicar cual es el número aleatorio, el número\n",
        "# Que escogió el usuario y si está frío o caliente\n",
        "\n",
        "\n",
        "# Hints:\n",
        "# Para generar números aleatorios puedes usar\n",
        "\n",
        "import random\n",
        "\n",
        "random.randint(a,b)\n",
        "random.randrange(a, b, c)\n",
        "# Averigua cómo es que se utilizan estas funciones\n",
        "\n",
        "# Para que un usuario tenga que ingresar un dato puedes usar la función:\n",
        "input()\n",
        "# Averigua cómo usarlo."
      ],
      "metadata": {
        "id": "SFh2VRmXTCWw"
      },
      "execution_count": null,
      "outputs": []
    },
    {
      "cell_type": "code",
      "source": [
        "# @title\n",
        "\n",
        "numero_aleat = 5 #random.randint(1,10)\n",
        "numero_usuario = 5 #input(\"Ingrese el número que cree es el que se generó \")\n",
        "print(\"*_*_*_*_*_*_*_*_*_*_*_*_*_*_*_*_*_*_*_*_*_*_*_*_*_*_*_*_*_*_*_*_*_*_*_*_*_*_*_\")\n",
        "\n",
        "print('El número aleatorio es:' + str(numero_aleat))\n",
        "print('El número que escogió el usuario es:' + str(numero_usuario))\n",
        "\n",
        "if int(numero_usuario) == numero_aleat:\n",
        "  print(\"Por lo tanto estás en lo Correcto!\")\n",
        "elif int(numero_usuario) not in [1,2,3,4,5,6,7,8,9,10]:\n",
        "  print(\"Error.\")\n",
        "elif int(numero_usuario) - numero_aleat <= 2 and  numero_aleat - int(numero_usuario) <= 2:\n",
        "  print(\"Por lo tanto estás Caliente\")\n",
        "elif int(numero_usuario) - numero_aleat > 2 or numero_aleat - int(numero_usuario) > 2:\n",
        "  print(\"Por lo tanto estás Frío\")\n"
      ],
      "metadata": {
        "id": "nnISzkMMwMgW"
      },
      "execution_count": null,
      "outputs": []
    },
    {
      "cell_type": "markdown",
      "source": [
        "Durante la clase surgieron algunas dudas sobretodo con el uso de if y elif"
      ],
      "metadata": {
        "id": "YVF5c4wqjVPf"
      }
    },
    {
      "cell_type": "code",
      "source": [
        "def analyzeAge( age ):\n",
        "   if age < 18:\n",
        "       print (\"Aún eres menor de edad\")\n",
        "   if age >= 18:\n",
        "       print (\"Eres mayor de edad\")\n",
        "   else:   # Por si hay edades negativas\n",
        "       print (\"La edad debe de ser un entero positivo\")\n",
        "\n",
        "#analyzeAge(18)\n",
        "\n",
        "\n",
        "def analyzeAge_2( age ):\n",
        "   if age < 18:\n",
        "       print (\"Aún eres menor de edad\")\n",
        "   elif age >= 18:\n",
        "       print (\"Eres mayor de edad\")\n",
        "   else:   # Por si hay edades negativas\n",
        "       print (\"La edad debe de ser un entero positivo\")\n",
        "\n",
        "#analyzeAge_2(18)\n",
        "\n"
      ],
      "metadata": {
        "id": "BBpokbgJjTRZ"
      },
      "execution_count": null,
      "outputs": []
    },
    {
      "cell_type": "markdown",
      "source": [],
      "metadata": {
        "id": "aoUV6FnOwQkV"
      }
    },
    {
      "cell_type": "markdown",
      "source": [],
      "metadata": {
        "id": "2unrujWAl_f6"
      }
    }
  ]
}