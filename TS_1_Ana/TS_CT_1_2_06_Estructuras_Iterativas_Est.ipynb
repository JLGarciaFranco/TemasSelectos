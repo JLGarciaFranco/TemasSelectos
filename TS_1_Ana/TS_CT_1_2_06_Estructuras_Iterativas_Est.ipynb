{
  "nbformat": 4,
  "nbformat_minor": 0,
  "metadata": {
    "colab": {
      "provenance": []
    },
    "kernelspec": {
      "name": "python3",
      "display_name": "Python 3"
    },
    "language_info": {
      "name": "python"
    }
  },
  "cells": [
    {
      "cell_type": "markdown",
      "source": [
        "#**Estructuras iterativas**\n",
        "\n",
        "\n",
        "A este tipo de estructuras, también se les denomina reiterativa, cíclica, repetitiva o bucle (loop).\n",
        "\n",
        "Permiten ejecutar un conjunto de código u órdenes de forma repetida. Esas sentencias se van a repetir:\n",
        "\n",
        "*   Mientras determinada condición lógica se cumpla o,\n",
        "*   Un número determinado de veces.\n",
        "\n",
        "\n",
        "En general hay dos tipos de bucles: Los ciclos **while** y los ciclos **for**.\n",
        "\n",
        "\n",
        "---\n",
        "\n",
        "\n",
        "\n",
        "\n",
        "\n"
      ],
      "metadata": {
        "id": "5tv74r-Jw_ey"
      }
    },
    {
      "cell_type": "markdown",
      "source": [
        "##Ciclo While\n",
        "\n",
        "Los ciclos while van a realizar una repetición de código específico mientras cierta condición que se haya especificado se este cumpliendo. Una vez que dicha condición ya no se cumpla entonces el bucle finaliza su ejecución y procede a la siguiente órden.\n",
        "\n",
        "La sintáxis del ciclo while es bastante sencilla\n",
        "\n",
        "```\n",
        "while condición:\n",
        "    orden\n",
        "```"
      ],
      "metadata": {
        "id": "pEsdVlbY-cZj"
      }
    },
    {
      "cell_type": "code",
      "source": [
        "# Ahora corramos ya un código\n",
        "\n",
        "contador = 1\n",
        "while contador <= 10:\n",
        "    print(\"Paso: \",str(contador))\n",
        "    contador +=1\n",
        "\n",
        "# Qué esperan que se imprima?\n",
        "# Paso: 1,2,3,4,5,6,7,8,9,10\n",
        "# Paso: 10,9,8,7,6,5,4,3,2,1\n",
        "\n"
      ],
      "metadata": {
        "id": "54n1vav_0wfZ"
      },
      "execution_count": null,
      "outputs": []
    },
    {
      "cell_type": "markdown",
      "source": [
        "Todo muy bonito, pero hay que entender cómo es que los ciclos while funcionan.\n",
        "\n",
        "¿Qué hizo ese código?\n",
        "\n",
        "1.   Tenemos un contador con un valor de 1 y va a entrar al ciclo while\n",
        "2.   Una vez que entra al ciclo comprueba la condición, en este caso iniciamos en 1, el 1 es menor o igual que 10? Sí, entonces el ciclo sigue.\n",
        "3.   Al seguir el ciclo entonces se encuentra con el operador `+=` que básicamente aumenta el valor el contador en uno\n",
        "4.   El contador ahora vale 2 y se vuelve a evaluar y así sucesivamente hasta llegar a 10.\n",
        "\n",
        "\n",
        "**OJO**: Es importante que pongan atención cuando trabajen con incrementos o decrementos, porque si no lo ponen pueden terminar con un while infinito y básicamente su compu truena :) (veamos)\n"
      ],
      "metadata": {
        "id": "je8HFtn5Abzu"
      }
    },
    {
      "cell_type": "code",
      "source": [
        "# Esto es un ciclo infinito\n",
        "# Si lo corren a veces tendrán que reiniciar todo el notebook\n",
        "# Si trabajan en terminal reinicien el kernel así\n",
        "# que trabajando con ciclos guarden su código antes\n",
        "\n",
        "contador = 1\n",
        "while contador <= 10:\n",
        "    print(\"Paso: \",str(contador))\n",
        "    contador =1\n"
      ],
      "metadata": {
        "id": "YVHSvczeDikG"
      },
      "execution_count": null,
      "outputs": []
    },
    {
      "cell_type": "code",
      "source": [
        "# Ahora van ustedes.\n",
        "# Hagan un ciclo while que haga una cuenta regresiva\n",
        "# de 10 a 1"
      ],
      "metadata": {
        "id": "3PEkreb1HfJ_"
      },
      "execution_count": null,
      "outputs": []
    },
    {
      "cell_type": "code",
      "source": [
        "# @title\n",
        "# Aquí va\n",
        "contador = 10\n",
        "while contador >= 1:\n",
        "    print(\"Paso: \",str(contador))\n",
        "    contador -= 1"
      ],
      "metadata": {
        "cellView": "form",
        "id": "SCCmoub2wug9"
      },
      "execution_count": null,
      "outputs": []
    },
    {
      "cell_type": "code",
      "source": [
        "# Veamos una posible aplicación de un ciclo while\n",
        "# Vamos a asegurarnos de que el mes que ingrese el usuario está entre 1 y 12\n",
        "\n",
        "mes = int(input(\"Introduzca un número de mes (entre 1 y 12): \"))\n",
        "\n",
        "while mes > 12 or mes < 1:\n",
        "    print(\"Mes introducido incorrecto. Inténtelo de nuevo.\")\n",
        "    mes = int(input(\"Introduzca el mes del año (entre 1 y 12):\"))\n",
        "\n",
        "print(f'El mes {mes} es válido.')\n",
        "\n",
        "# Aquí el bucle se repite hasta que el usuario introduzca un mes que cumpla\n",
        "# Con la condición"
      ],
      "metadata": {
        "colab": {
          "base_uri": "https://localhost:8080/"
        },
        "id": "vkqpFQfeDu8c",
        "outputId": "58d46071-c5e0-40b8-911f-f32c4b79a5a8"
      },
      "execution_count": null,
      "outputs": [
        {
          "output_type": "stream",
          "name": "stdout",
          "text": [
            "Introduzca un número de mes (entre 1 y 12): 15\n",
            "Mes introducido incorrecto. Inténtelo de nuevo.\n",
            "Introduzca el mes del año (entre 1 y 12):85\n",
            "Mes introducido incorrecto. Inténtelo de nuevo.\n",
            "Introduzca el mes del año (entre 1 y 12):5\n",
            "El mes 5 es válido.\n"
          ]
        }
      ]
    },
    {
      "cell_type": "code",
      "source": [
        "# Recuerden que no hay una sola manera de escribir un ciclo\n",
        "# ni ninguna estructura condicional. En esta otra versión\n",
        "# Estamos basándonos en valores booleanos\n",
        "\n",
        "mes_correcto = False\n",
        "while not mes_correcto:\n",
        "    mes = int(input(\"Introduzca un número de mes (entre 1 y 12): \"))\n",
        "    if mes > 12 or mes < 1:\n",
        "        print(\"Mes introducido incorrecto. Inténtelo de nuevo\")\n",
        "    else:\n",
        "        mes_correcto = True\n",
        "\n",
        "print(f'El mes {mes} es válido.')"
      ],
      "metadata": {
        "colab": {
          "base_uri": "https://localhost:8080/",
          "height": 356
        },
        "id": "mP5StfU2S4DG",
        "outputId": "8c714c82-7b92-4324-920c-53101bc210ad"
      },
      "execution_count": null,
      "outputs": [
        {
          "output_type": "error",
          "ename": "KeyboardInterrupt",
          "evalue": "Interrupted by user",
          "traceback": [
            "\u001b[0;31m---------------------------------------------------------------------------\u001b[0m",
            "\u001b[0;31mKeyboardInterrupt\u001b[0m                         Traceback (most recent call last)",
            "\u001b[0;32m<ipython-input-1-43eab4a63f7a>\u001b[0m in \u001b[0;36m<cell line: 6>\u001b[0;34m()\u001b[0m\n\u001b[1;32m      5\u001b[0m \u001b[0mmes_correcto\u001b[0m \u001b[0;34m=\u001b[0m \u001b[0;32mFalse\u001b[0m\u001b[0;34m\u001b[0m\u001b[0;34m\u001b[0m\u001b[0m\n\u001b[1;32m      6\u001b[0m \u001b[0;32mwhile\u001b[0m \u001b[0;32mnot\u001b[0m \u001b[0mmes_correcto\u001b[0m\u001b[0;34m:\u001b[0m\u001b[0;34m\u001b[0m\u001b[0;34m\u001b[0m\u001b[0m\n\u001b[0;32m----> 7\u001b[0;31m     \u001b[0mmes\u001b[0m \u001b[0;34m=\u001b[0m \u001b[0mint\u001b[0m\u001b[0;34m(\u001b[0m\u001b[0minput\u001b[0m\u001b[0;34m(\u001b[0m\u001b[0;34m\"Introduzca un número de mes (entre 1 y 12): \"\u001b[0m\u001b[0;34m)\u001b[0m\u001b[0;34m)\u001b[0m\u001b[0;34m\u001b[0m\u001b[0;34m\u001b[0m\u001b[0m\n\u001b[0m\u001b[1;32m      8\u001b[0m     \u001b[0;32mif\u001b[0m \u001b[0mmes\u001b[0m \u001b[0;34m>\u001b[0m \u001b[0;36m12\u001b[0m \u001b[0;32mor\u001b[0m \u001b[0mmes\u001b[0m \u001b[0;34m<\u001b[0m \u001b[0;36m1\u001b[0m\u001b[0;34m:\u001b[0m\u001b[0;34m\u001b[0m\u001b[0;34m\u001b[0m\u001b[0m\n\u001b[1;32m      9\u001b[0m         \u001b[0mprint\u001b[0m\u001b[0;34m(\u001b[0m\u001b[0;34m\"Mes introducido incorrecto. Inténtelo de nuevo\"\u001b[0m\u001b[0;34m)\u001b[0m\u001b[0;34m\u001b[0m\u001b[0;34m\u001b[0m\u001b[0m\n",
            "\u001b[0;32m/usr/local/lib/python3.10/dist-packages/ipykernel/kernelbase.py\u001b[0m in \u001b[0;36mraw_input\u001b[0;34m(self, prompt)\u001b[0m\n\u001b[1;32m    849\u001b[0m                 \u001b[0;34m\"raw_input was called, but this frontend does not support input requests.\"\u001b[0m\u001b[0;34m\u001b[0m\u001b[0;34m\u001b[0m\u001b[0m\n\u001b[1;32m    850\u001b[0m             )\n\u001b[0;32m--> 851\u001b[0;31m         return self._input_request(str(prompt),\n\u001b[0m\u001b[1;32m    852\u001b[0m             \u001b[0mself\u001b[0m\u001b[0;34m.\u001b[0m\u001b[0m_parent_ident\u001b[0m\u001b[0;34m,\u001b[0m\u001b[0;34m\u001b[0m\u001b[0;34m\u001b[0m\u001b[0m\n\u001b[1;32m    853\u001b[0m             \u001b[0mself\u001b[0m\u001b[0;34m.\u001b[0m\u001b[0m_parent_header\u001b[0m\u001b[0;34m,\u001b[0m\u001b[0;34m\u001b[0m\u001b[0;34m\u001b[0m\u001b[0m\n",
            "\u001b[0;32m/usr/local/lib/python3.10/dist-packages/ipykernel/kernelbase.py\u001b[0m in \u001b[0;36m_input_request\u001b[0;34m(self, prompt, ident, parent, password)\u001b[0m\n\u001b[1;32m    893\u001b[0m             \u001b[0;32mexcept\u001b[0m \u001b[0mKeyboardInterrupt\u001b[0m\u001b[0;34m:\u001b[0m\u001b[0;34m\u001b[0m\u001b[0;34m\u001b[0m\u001b[0m\n\u001b[1;32m    894\u001b[0m                 \u001b[0;31m# re-raise KeyboardInterrupt, to truncate traceback\u001b[0m\u001b[0;34m\u001b[0m\u001b[0;34m\u001b[0m\u001b[0m\n\u001b[0;32m--> 895\u001b[0;31m                 \u001b[0;32mraise\u001b[0m \u001b[0mKeyboardInterrupt\u001b[0m\u001b[0;34m(\u001b[0m\u001b[0;34m\"Interrupted by user\"\u001b[0m\u001b[0;34m)\u001b[0m \u001b[0;32mfrom\u001b[0m \u001b[0;32mNone\u001b[0m\u001b[0;34m\u001b[0m\u001b[0;34m\u001b[0m\u001b[0m\n\u001b[0m\u001b[1;32m    896\u001b[0m             \u001b[0;32mexcept\u001b[0m \u001b[0mException\u001b[0m \u001b[0;32mas\u001b[0m \u001b[0me\u001b[0m\u001b[0;34m:\u001b[0m\u001b[0;34m\u001b[0m\u001b[0;34m\u001b[0m\u001b[0m\n\u001b[1;32m    897\u001b[0m                 \u001b[0mself\u001b[0m\u001b[0;34m.\u001b[0m\u001b[0mlog\u001b[0m\u001b[0;34m.\u001b[0m\u001b[0mwarning\u001b[0m\u001b[0;34m(\u001b[0m\u001b[0;34m\"Invalid Message:\"\u001b[0m\u001b[0;34m,\u001b[0m \u001b[0mexc_info\u001b[0m\u001b[0;34m=\u001b[0m\u001b[0;32mTrue\u001b[0m\u001b[0;34m)\u001b[0m\u001b[0;34m\u001b[0m\u001b[0;34m\u001b[0m\u001b[0m\n",
            "\u001b[0;31mKeyboardInterrupt\u001b[0m: Interrupted by user"
          ]
        }
      ]
    },
    {
      "cell_type": "markdown",
      "source": [
        "#Ciclo For\n",
        "\n",
        "La otra estructura iterativa son los ciclos for, usualmente se utilizan para recorrer variables, listas, tuplas etc.\n",
        "\n",
        "Algunas personas consideran que los ciclos for son más sencillos que los while, principalmente porque nosotros especificamos una variable contador así como la lista o tupla que queremos recorrer, y el ciclo lo hace automáticamente.\n",
        "\n",
        "\n",
        "La sintaxis es la siguiente:\n",
        "\n",
        "```\n",
        "for variable in Lista:\n",
        "    Haz esto\n",
        "```\n",
        "\n"
      ],
      "metadata": {
        "id": "9Ut4o-E0RgOE"
      }
    },
    {
      "cell_type": "code",
      "source": [
        "# Vamos a utilizar ciclos for en diferentes tipos de variable\n",
        "\n",
        "lista_rocas = ['sedimentaria', 'ígena', 'metamórfica']\n",
        "\n",
        "for roca in lista_rocas:\n",
        "  print(roca)\n",
        "\n",
        "print(\"*_*_*_*_*_*_*_*_*_*_*_*_*_*_*_*_*_*_*_*_*_*_*_*_*_*_\")"
      ],
      "metadata": {
        "id": "qH53nhUmV4yy"
      },
      "execution_count": null,
      "outputs": []
    },
    {
      "cell_type": "code",
      "source": [
        "tupla_cc = ('Acuerdo de París', 'Protocolo de Kioto', 'Protocolo de Montreal')\n",
        "\n",
        "for tratado in tupla_cc:\n",
        "  print(tratado)\n",
        "\n",
        "print(\"*_*_*_*_*_*_*_*_*_*_*_*_*_*_*_*_*_*_*_*_*_*_*_*_*_*_\")"
      ],
      "metadata": {
        "id": "INUblZeljOJm"
      },
      "execution_count": null,
      "outputs": []
    },
    {
      "cell_type": "code",
      "source": [
        "# NOTA: el contador puede ser nombrado como una variable\n",
        "# pero procuren no nombrarlo como otra variable en su código\n",
        "\n",
        "\n",
        "# Ahora veamos con algo muy usado, un rango de números\n",
        "# Para eso se utiliza la función range()\n",
        "\n",
        "\n",
        "for ii in range(1,15):\n",
        "  print(ii)\n"
      ],
      "metadata": {
        "id": "3dG7fyVWjSgL"
      },
      "execution_count": null,
      "outputs": []
    },
    {
      "cell_type": "code",
      "source": [
        "# Noten que el valor que se imprime va del 1 al 14\n",
        "# Es decir que incluye todos los números menos el último\n",
        "\n",
        "print(\"*_*_*_*_*_*_*_*_*_*_*_*_*_*_*_*_*_*_*_*_*_*_*_*_*_*_\")\n",
        "\n",
        "anioini = 2010\n",
        "aniofin = 2020\n",
        "\n",
        "for year in range(anioini, aniofin + 1 ):\n",
        "  print(f'Ruta de lectura de archivo/Archivo_{year}')"
      ],
      "metadata": {
        "id": "hTF3ZXPujeeD"
      },
      "execution_count": null,
      "outputs": []
    },
    {
      "cell_type": "code",
      "source": [
        "# range() también sirve para repetir n veces alguna acción\n",
        "# Por ejemplo\n",
        "\n",
        "for jj in range(10):\n",
        "  print('Hola')"
      ],
      "metadata": {
        "id": "CGeizcpSGQVB"
      },
      "execution_count": null,
      "outputs": []
    },
    {
      "cell_type": "code",
      "source": [
        "# Su turno :)\n",
        "\n",
        "# Hagan un código en donde dado un rango de números\n",
        "# imprima únicamente los números impares\n",
        "# Ustedes ingresen el rango de números"
      ],
      "metadata": {
        "id": "n0z3_93id1Ft"
      },
      "execution_count": null,
      "outputs": []
    },
    {
      "cell_type": "code",
      "source": [
        "# @title\n",
        "num1 = int(input('Ingrese el límite inferior: '))\n",
        "num2 = int(input('Ingrese el límite superior: '))\n",
        "\n",
        "for ii in range(num1,num2 + 1):\n",
        "  if ii % 2 != 0:\n",
        "    print(ii)"
      ],
      "metadata": {
        "cellView": "form",
        "id": "ytCVuXc_xM6H"
      },
      "execution_count": null,
      "outputs": []
    },
    {
      "cell_type": "markdown",
      "source": [
        "# El Acumulador\n",
        "\n",
        "El concepto de acumulador es una idea que es muy útil al momento de programar.\n",
        "\n",
        "Supongamos que quieren realizar una operación, por ejemplo una suma, en un conjunto de operandos. La idea es que se dedique una variable (el acumulador) que contenga los resultados de la operación.\n",
        "\n",
        "OJO, cuando usen variables del tipo acumulador, la deben de inicializar **antes** de entrar al ciclo y debe de tener un valor neutro respecto a la operación que quieran hacer (por ejemplo si es una suma pues el 0). Conforme se repita el ciclo, la variable va ir siendo actualizada.\n",
        "\n",
        "Veamos un ejemplo"
      ],
      "metadata": {
        "id": "nEVYZmUwkENh"
      }
    },
    {
      "cell_type": "code",
      "source": [
        "# Los contadores se pueden escribir de muchas maneras\n",
        "# Pero la idea es la misma\n",
        "\n",
        "contador = 0 # Inicializar el contador\n",
        "\n",
        "for ii in range(0, 12):\n",
        "\n",
        "    contador = contador + ii # Aumentar el contador\n",
        "\n",
        "    print(ii, contador) # Imprimir para ver qué hace"
      ],
      "metadata": {
        "id": "F13tNs1q7Kwm"
      },
      "execution_count": null,
      "outputs": []
    },
    {
      "cell_type": "code",
      "source": [
        "# Qué pasa si sólo quieren que aumente por una unidad?\n"
      ],
      "metadata": {
        "id": "vpvdnQfX7t2h"
      },
      "execution_count": null,
      "outputs": []
    },
    {
      "cell_type": "code",
      "source": [
        "# Cuál será el primer valor del contador?? 1 o 0??\n",
        "\n",
        "contador = 0 # Inicializar el contador\n",
        "\n",
        "for ii in range(0, 12):\n",
        "\n",
        "    contador = contador + 1 # Aumentar el contador\n",
        "\n",
        "    print(ii, contador) # Imprimir para ver qué hace"
      ],
      "metadata": {
        "id": "75tVQn7X8J2B"
      },
      "execution_count": null,
      "outputs": []
    },
    {
      "cell_type": "code",
      "source": [
        "# Otra manera de escribir el mismo código\n",
        "# El signo + = es lo mismo que agregar \"ii\" al contador\n",
        "\n",
        "contador = 0\n",
        "\n",
        "for ii in range(0, 12):\n",
        "    contador +=  ii\n",
        "    print(ii, contador)"
      ],
      "metadata": {
        "id": "pPqwRS0w8V3g"
      },
      "execution_count": null,
      "outputs": []
    },
    {
      "cell_type": "code",
      "source": [
        "# También se puede restar -=\n",
        "\n",
        "contador = 0\n",
        "\n",
        "for ii in range(0, 12):\n",
        "    contador -=  ii\n",
        "    print(ii, contador)"
      ],
      "metadata": {
        "id": "Lvp1pUdK8pYG"
      },
      "execution_count": null,
      "outputs": []
    },
    {
      "cell_type": "code",
      "source": [
        "# Multiplicar también *=\n",
        "\n",
        "# Ajusten el código anterior para que multiplique los números ii veces cada ciclo"
      ],
      "metadata": {
        "id": "QmB9psOw88Zl"
      },
      "execution_count": null,
      "outputs": []
    },
    {
      "cell_type": "code",
      "source": [
        "# @title\n",
        "contador = 1\n",
        "\n",
        "for ii in range(1, 12):\n",
        "    contador *=  ii\n",
        "    print(ii, contador)"
      ],
      "metadata": {
        "cellView": "form",
        "id": "o_tZ-PWtAus9"
      },
      "execution_count": null,
      "outputs": []
    },
    {
      "cell_type": "code",
      "source": [
        "# También se puede dividir\n",
        "# Recuerden que no se puede dividir entre 0\n",
        "\n",
        "contador = 1\n",
        "\n",
        "for ii in range(1, 12):\n",
        "    contador /=  ii\n",
        "    print(ii, contador)\n"
      ],
      "metadata": {
        "id": "NGH0H3KFBKBU"
      },
      "execution_count": null,
      "outputs": []
    },
    {
      "cell_type": "markdown",
      "source": [
        "Rellenar un diccionario.\n",
        "\n",
        "\n",
        "Un uso común de los ciclos for es el de rellenar diccionarios. Sobretodo porque a veces trabajarán con dos listas y quieren juntarlas en un diccionario y hay que automatizar el código."
      ],
      "metadata": {
        "id": "xBoCOIXDnUJq"
      }
    },
    {
      "cell_type": "code",
      "source": [
        "# Forma básica de rellenar un diccionario\n",
        "\n",
        "# Primero se hace un diccionario vacío\n",
        "yourdict = {}\n",
        "\n",
        "# Luego tenemos dos listas\n",
        "keys = [\"One\", \"Two\", \"Three\", \"Four\"]\n",
        "values = [1,2,3,4]\n",
        "\n",
        "# Usamos un contador\n",
        "i=0;\n",
        "\n",
        "for key in keys: #iteran en la lista que quieren que sean los keys\n",
        "        yourdict[key] = values[i] # se rellena con los valores\n",
        "        i=i+1\n",
        "\n",
        "print(yourdict)\n",
        "\n",
        "# Fácil no? :)"
      ],
      "metadata": {
        "id": "0TEeIamKnU64"
      },
      "execution_count": null,
      "outputs": []
    },
    {
      "cell_type": "code",
      "source": [
        "# Ejercicio! Hagan un diccionario que tenga 5 keys\n",
        "# que tenga que ver con su área de conocimiento\n"
      ],
      "metadata": {
        "id": "Cs6uBIvStxMO"
      },
      "execution_count": null,
      "outputs": []
    },
    {
      "cell_type": "markdown",
      "source": [
        "Los usos de los ciclos siempre van a aparecer conforme se encuentren con diferentes desafíos u objetivos que tengan.\n",
        "Bueno no hay mejor manera de aprender cosas que practicando, así que van."
      ],
      "metadata": {
        "id": "bgCK2mu6KJoz"
      }
    },
    {
      "cell_type": "code",
      "source": [
        "# Hagan un programa que haga lo siguiente:\n",
        "# Dada una lista que contenga sólo números creen un código que\n",
        "# sume todos los elementos que están dentro de la lista\n",
        "\n",
        "# Por ejemplo, tenemos la lista\n",
        "\n",
        "lista_ej = [1, 2, 3, 4, 5]\n",
        "\n",
        "# El resultado debería ser 15"
      ],
      "metadata": {
        "id": "5XP9p_h6J5x8"
      },
      "execution_count": null,
      "outputs": []
    },
    {
      "cell_type": "code",
      "source": [
        "# Utilizando el código anterior, en vez de regresar un sólo número\n",
        "# impriman ahora la lista de números que se van generando al sumar los elementos\n",
        "# Hint: pueden appendear valores a una lista vacía así:\n",
        "\n",
        "\n",
        "lista_vacia = []\n",
        "\n",
        "for ii in range(0,10):\n",
        "  lista_vacia.append(ii)\n",
        "\n",
        "print(lista_vacia)"
      ],
      "metadata": {
        "id": "nnXS-fNZHZvG"
      },
      "execution_count": null,
      "outputs": []
    },
    {
      "cell_type": "code",
      "source": [],
      "metadata": {
        "id": "izhApeCzpBol"
      },
      "execution_count": null,
      "outputs": []
    },
    {
      "cell_type": "code",
      "source": [],
      "metadata": {
        "id": "SPpWAPR67Jm0"
      },
      "execution_count": null,
      "outputs": []
    },
    {
      "cell_type": "code",
      "source": [],
      "metadata": {
        "id": "RPVTaWEbWcKt"
      },
      "execution_count": null,
      "outputs": []
    }
  ]
}