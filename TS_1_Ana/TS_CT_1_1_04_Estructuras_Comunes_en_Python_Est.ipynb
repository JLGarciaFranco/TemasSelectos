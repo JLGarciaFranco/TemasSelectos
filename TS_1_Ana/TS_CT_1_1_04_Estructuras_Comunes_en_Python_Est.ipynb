{
  "nbformat": 4,
  "nbformat_minor": 0,
  "metadata": {
    "colab": {
      "provenance": []
    },
    "kernelspec": {
      "name": "python3",
      "display_name": "Python 3"
    },
    "language_info": {
      "name": "python"
    }
  },
  "cells": [
    {
      "cell_type": "markdown",
      "source": [
        "#Lista, Tupla y Diccionario\n",
        "\n",
        "En Python nos vamos a encontrar con diferentes estructuras de datos.\n",
        "De las más populares con las listas, las tuplas y los diccionarios. Cada una funciona y se manipula de manera diferente.\n"
      ],
      "metadata": {
        "id": "zR7U2uYTmXpB"
      }
    },
    {
      "cell_type": "markdown",
      "source": [
        "\n",
        "#Listas\n",
        "\n",
        "Las listas se consideran un tipo de datos para guardar colecciones de información.\n",
        "\n",
        "\n",
        "Una lista en Python es:\n",
        "\n",
        "1. **Ordenada**: esto quiere decir que los elementos dentro de ella están indexados y se accede a ellos a través de una locación indexada.\n",
        "\n",
        "2. **Editable**: los elementos dentro de una lista pueden editarse, añadir nuevos o eliminar los que ya tiene.\n",
        "\n",
        "3. **Dinámica**: las listas pueden contener diferentes tipos de datos y hasta de objetos. Por ejemplo int, float, str y no hay problema.\n",
        "\n",
        "4. **No única**: la lista puede contener elementos duplicados sin que arroje un error.\n",
        "\n",
        "**Cómo hacer una lista**\n",
        "\n",
        "Muy fácil, para hacerla se usan los paréntesis cuadrados `[]`"
      ],
      "metadata": {
        "id": "luux6zk8-7xs"
      }
    },
    {
      "cell_type": "code",
      "source": [
        "# Crear una lista\n",
        "\n",
        "mi_lista = [5,6,7,8,\"hola\", \"buen\", \"día\"]\n",
        "print(mi_lista)\n",
        "print(\"*_*_*_*_*_*_*_*_*_*_*_*_*_*_*_*_*_*_*_*_*_*_*_*_*_*_*_*_*_*_*_*_*_*_*_\")\n"
      ],
      "metadata": {
        "id": "4xMv9iWkpH5T",
        "colab": {
          "base_uri": "https://localhost:8080/"
        },
        "outputId": "f185e277-a56a-41f1-fcba-d2ad2d919523"
      },
      "execution_count": null,
      "outputs": [
        {
          "output_type": "stream",
          "name": "stdout",
          "text": [
            "[5, 6, 7, 8, 'hola', 'buen', 'día']\n",
            "*_*_*_*_*_*_*_*_*_*_*_*_*_*_*_*_*_*_*_*_*_*_*_*_*_*_*_*_*_*_*_*_*_*_*_\n"
          ]
        }
      ]
    },
    {
      "cell_type": "code",
      "source": [
        "# Pero bueno esto es ciencias de la tierra así que usemos cosas que sabemos\n",
        "\n",
        "minerales = [\"Talco\", \"Yeso\", \"Calcita\", \"Fluorita\", \"Apatito\", \"Ortoclasa\", \"Cuarzo\", \"Topacio\", \"Corindón\", \"Diamante\"]\n",
        "\n",
        "print(minerales)"
      ],
      "metadata": {
        "id": "tL8NrV_s0tP6",
        "colab": {
          "base_uri": "https://localhost:8080/"
        },
        "outputId": "3b4e4be2-7aa6-40cd-b0de-8944e1656e05"
      },
      "execution_count": null,
      "outputs": [
        {
          "output_type": "stream",
          "name": "stdout",
          "text": [
            "['Talco', 'Yeso', 'Calcita', 'Fluorita', 'Apatito', 'Ortoclasa', 'Cuarzo', 'Topacio', 'Corindón', 'Diamante']\n"
          ]
        }
      ]
    },
    {
      "cell_type": "markdown",
      "source": [
        "**Funciones comunes que se usan con las listas**\n",
        "\n",
        "Las dos funciones que es más probable lleguen a usar son **len()** y **type()**\n"
      ],
      "metadata": {
        "id": "yjU2KecMqsca"
      }
    },
    {
      "cell_type": "code",
      "source": [
        "# uso de len()\n",
        "\n",
        "print(mi_lista)\n",
        "print(len(mi_lista))\n",
        "\n",
        "print(\"__________________________________\")\n",
        "\n",
        "print(len(minerales))\n",
        "\n",
        "# len te indica el número de elementos que  hay dentro de la lista"
      ],
      "metadata": {
        "id": "W7WEpcPMq9eA",
        "colab": {
          "base_uri": "https://localhost:8080/"
        },
        "outputId": "4fb31aa5-645a-4c34-cf85-2a0c7b11397b"
      },
      "execution_count": null,
      "outputs": [
        {
          "output_type": "stream",
          "name": "stdout",
          "text": [
            "__________________________________\n",
            "10\n"
          ]
        }
      ]
    },
    {
      "cell_type": "code",
      "source": [
        "# Uso de type()\n",
        "\n",
        "print(type(minerales))\n",
        "\n",
        "print(type(mi_lista))\n",
        "# Igual y suena a que no sirve de mucho pero verificar que lo que estamos analizando\n",
        "# es verdaderamente una lista sirve mucho"
      ],
      "metadata": {
        "id": "GZLaPbgNrQZW",
        "colab": {
          "base_uri": "https://localhost:8080/"
        },
        "outputId": "89455e3e-8ba9-4a1a-f784-47df70f20af7"
      },
      "execution_count": null,
      "outputs": [
        {
          "output_type": "stream",
          "name": "stdout",
          "text": [
            "<class 'list'>\n"
          ]
        }
      ]
    },
    {
      "cell_type": "code",
      "source": [
        "# Pero qué pasaría si quisieramos saber qué tipo de elemento hay dentro de una lista?\n",
        "\n",
        "print(\"_______________________________________________\")\n",
        "print(type(minerales[1]))"
      ],
      "metadata": {
        "id": "4Up-YwqnHNyL",
        "colab": {
          "base_uri": "https://localhost:8080/"
        },
        "outputId": "f8df7b43-f7d6-4639-fe80-aa4a33cb7dd8"
      },
      "execution_count": null,
      "outputs": [
        {
          "output_type": "stream",
          "name": "stdout",
          "text": [
            "_______________________________________________\n",
            "<class 'str'>\n"
          ]
        }
      ]
    },
    {
      "cell_type": "code",
      "source": [
        "# Se usan índices, recuerden que Python es cero indexado es decir empieza a contar\n",
        "# Desde el 0.\n",
        "print(\"_______________________________________________\")\n",
        "print(minerales)\n",
        "print(\"_______________________________________________\")"
      ],
      "metadata": {
        "id": "yyW7v9sAHdfw",
        "colab": {
          "base_uri": "https://localhost:8080/"
        },
        "outputId": "1dd2b779-1ca9-480b-d895-bdf58ce065be"
      },
      "execution_count": null,
      "outputs": [
        {
          "output_type": "stream",
          "name": "stdout",
          "text": [
            "_______________________________________________\n",
            "['Talco', 'Yeso', 'Calcita', 'Fluorita', 'Apatito', 'Ortoclasa', 'Cuarzo', 'Topacio', 'Corindón', 'Diamante']\n",
            "_______________________________________________\n"
          ]
        }
      ]
    },
    {
      "cell_type": "code",
      "source": [
        "# Cómo harían para seleccionar a la Ortoclasa?"
      ],
      "metadata": {
        "id": "jKv7fWpxHmzg"
      },
      "execution_count": null,
      "outputs": []
    },
    {
      "cell_type": "code",
      "source": [
        "# @title\n",
        "print(minerales[5])\n",
        "\n",
        "\n",
        "prueba = [\"uno\", \"dos\", \"tres\"]\n",
        "\n"
      ],
      "metadata": {
        "id": "Vxc4OSt45__8",
        "colab": {
          "base_uri": "https://localhost:8080/"
        },
        "outputId": "db1bc9f6-f63a-4b3b-e522-8eae743aced0"
      },
      "execution_count": null,
      "outputs": [
        {
          "output_type": "stream",
          "name": "stdout",
          "text": [
            "Ortoclasa\n"
          ]
        }
      ]
    },
    {
      "cell_type": "code",
      "source": [
        "print(\"_______________________________________________\")\n",
        "# Pero ahi no termina, cómo harían para seleccionar la \"O\" de Ortoclasa?"
      ],
      "metadata": {
        "id": "Oj18AvEFHqo1"
      },
      "execution_count": null,
      "outputs": []
    },
    {
      "cell_type": "code",
      "source": [
        "# @title\n",
        "print(minerales)\n",
        "print(minerales[8][6])"
      ],
      "metadata": {
        "id": "EKzMg06u6FEv",
        "colab": {
          "base_uri": "https://localhost:8080/"
        },
        "outputId": "a4b30b96-c5a1-42b6-bab5-0b24ac19a955"
      },
      "execution_count": null,
      "outputs": [
        {
          "output_type": "stream",
          "name": "stdout",
          "text": [
            "ó\n"
          ]
        }
      ]
    },
    {
      "cell_type": "code",
      "source": [
        "print(\"_______________________________________________\")\n",
        "# Y los índices también sirven para seleccionar varios elementos, pero OJO\n",
        "print(minerales)\n",
        "print(minerales[8:])"
      ],
      "metadata": {
        "id": "S8ZTMbpNHwWT",
        "colab": {
          "base_uri": "https://localhost:8080/"
        },
        "outputId": "9eeaec0f-4c7d-4df1-a455-479be1bf4b22"
      },
      "execution_count": null,
      "outputs": [
        {
          "output_type": "stream",
          "name": "stdout",
          "text": [
            "['Talco', 'Yeso', 'Calcita', 'Fluorita', 'Apatito', 'Ortoclasa', 'Cuarzo', 'Topacio', 'Corindón', 'Diamante']\n",
            "['Corindón', 'Diamante']\n"
          ]
        }
      ]
    },
    {
      "cell_type": "markdown",
      "source": [
        "**El método append()**\n",
        "\n",
        "El método `.append()` básicamente lo que hace es agregar elementos a una lista"
      ],
      "metadata": {
        "id": "ler-MXbHIWQw"
      }
    },
    {
      "cell_type": "code",
      "source": [
        "a = [\"manzana\", \"pera\", \"kiwi\"]\n",
        "\n",
        "a.append('piña')\n",
        "print(a)"
      ],
      "metadata": {
        "id": "GuJtPClCIjFh",
        "colab": {
          "base_uri": "https://localhost:8080/"
        },
        "outputId": "4e0f80b3-9bfc-4889-d2e9-f08c4c3423fb"
      },
      "execution_count": null,
      "outputs": [
        {
          "output_type": "stream",
          "name": "stdout",
          "text": [
            "['manzana', 'pera', 'kiwi', 'piña']\n"
          ]
        }
      ]
    },
    {
      "cell_type": "code",
      "source": [
        "#También se pueden agregar otras listas\n",
        "b = [\"Ford\", \"BMW\", \"Volvo\"]\n",
        "\n",
        "a.append(b)\n",
        "\n",
        "print(a)\n",
        "print((a[4][0]))"
      ],
      "metadata": {
        "id": "6oVYPhvVI2yk",
        "colab": {
          "base_uri": "https://localhost:8080/"
        },
        "outputId": "4ec4e7b0-a78c-4fb4-e9f2-cc19ab388720"
      },
      "execution_count": null,
      "outputs": [
        {
          "output_type": "stream",
          "name": "stdout",
          "text": [
            "Ford\n"
          ]
        }
      ]
    },
    {
      "cell_type": "markdown",
      "source": [
        "\n",
        "\n",
        "---\n",
        "\n",
        "\n",
        "#**Tuplas**\n",
        "\n",
        "Las Tuplas son una colección de objetas que se separan por comas. Son similares a las listas en el sentido de índices, objetos dentro de otros y repetición, pero una tupla es **inmutable** es decir que una vez que la creas no puedes modificarla.\n",
        "\n",
        "¿Entonces para qué se usa?\n",
        "\n",
        "Un uso por ejemplo para las tuplas es para guardar registros mediante un query o consulta de SQL, en donde no quieres que los datos registrados se cambien.\n",
        "\n",
        "**¿Cómo hacer una tupla?**\n",
        "\n",
        "Igual que una lista, sólo que se usan paréntesis normales `()`\n"
      ],
      "metadata": {
        "id": "8FhOOEMV87Lm"
      }
    },
    {
      "cell_type": "code",
      "source": [
        "# Crear una tupla\n",
        "\n",
        "mi_tupla = ('a','b',10,30,14,7)\n",
        "\n",
        "\n",
        "print(mi_tupla)\n",
        "print('_____________________________________________________________')"
      ],
      "metadata": {
        "id": "rVUusCASAQqX",
        "colab": {
          "base_uri": "https://localhost:8080/"
        },
        "outputId": "aba2abd4-1f14-4f65-e189-bd59f951acbf"
      },
      "execution_count": null,
      "outputs": [
        {
          "output_type": "stream",
          "name": "stdout",
          "text": [
            "('a', 'b', 10, 30, 14, 7)\n",
            "_____________________________________________________________\n"
          ]
        }
      ]
    },
    {
      "cell_type": "code",
      "source": [
        "print(type(mi_tupla))\n",
        "print('_____________________________________________________________')"
      ],
      "metadata": {
        "id": "yiBvGjuzH6Tl"
      },
      "execution_count": null,
      "outputs": []
    },
    {
      "cell_type": "code",
      "source": [
        "print(type(mi_tupla[0]))\n",
        "\n",
        "print('_____________________________________________________________')\n",
        "\n",
        "print(len(mi_tupla))"
      ],
      "metadata": {
        "id": "JepJ26ZMH8ap",
        "colab": {
          "base_uri": "https://localhost:8080/"
        },
        "outputId": "e42ffa0b-7053-4bf7-c51d-ba248d72a4cb"
      },
      "execution_count": null,
      "outputs": [
        {
          "output_type": "stream",
          "name": "stdout",
          "text": [
            "_____________________________________________________________\n",
            "6\n"
          ]
        }
      ]
    },
    {
      "cell_type": "code",
      "source": [
        "# Modificar una lista vs modificar una tupla\n",
        "\n",
        "# Tenemos la lista: mi_lista\n",
        "# Y la tupla: mi_tupla\n",
        "\n",
        "# Supongamos que quieren cambiar \"buen\" \"día\" por \"Buenas\" \"Tardes\"\n",
        "\n",
        "mi_lista[5] = \"Buenas\"\n",
        "\n",
        "print(mi_lista)"
      ],
      "metadata": {
        "id": "D0wz63J2A_X4",
        "colab": {
          "base_uri": "https://localhost:8080/"
        },
        "outputId": "2785e6ac-04f7-49df-a3f9-8f439ed11a15"
      },
      "execution_count": null,
      "outputs": [
        {
          "output_type": "stream",
          "name": "stdout",
          "text": [
            "[5, 6, 7, 8, 'hola', 'Buenas', 'día']\n"
          ]
        }
      ]
    },
    {
      "cell_type": "code",
      "source": [
        "mi_lista[6] = \"Tardes\"\n",
        "\n",
        "print(mi_lista)\n",
        "\n",
        "\n",
        "\n",
        "print(mi_tupla)\n",
        "print(mi_tupla[1])"
      ],
      "metadata": {
        "id": "Q3-AKLGQIMB0",
        "colab": {
          "base_uri": "https://localhost:8080/"
        },
        "outputId": "9b4f2fca-c750-4036-ad40-4fcded4b5c52"
      },
      "execution_count": null,
      "outputs": [
        {
          "output_type": "stream",
          "name": "stdout",
          "text": [
            "('a', 'b', 10, 30, 14, 7)\n",
            "b\n"
          ]
        }
      ]
    },
    {
      "cell_type": "code",
      "source": [
        "# Veamos si queremos hacer esto con una tupla\n",
        "mi_tupla[5] = \"Cambio\""
      ],
      "metadata": {
        "id": "2BKy9lj0IPXw"
      },
      "execution_count": null,
      "outputs": []
    },
    {
      "cell_type": "code",
      "source": [
        "#Cambiar de tupla a lista\n",
        "cambio_t_l = list(mi_tupla)\n",
        "\n",
        "print((cambio_t_l))"
      ],
      "metadata": {
        "id": "HQvrk3n2NEKh",
        "colab": {
          "base_uri": "https://localhost:8080/"
        },
        "outputId": "730e539b-ba7d-474a-867c-5e51abb385b8"
      },
      "execution_count": null,
      "outputs": [
        {
          "output_type": "stream",
          "name": "stdout",
          "text": [
            "['a', 'b', 10, 30, 14, 7]\n"
          ]
        }
      ]
    },
    {
      "cell_type": "code",
      "source": [
        "# Ahora sí ya se puede editar\n",
        "cambio_t_l[5] = \"Cambio\"\n",
        "print(cambio_t_l)"
      ],
      "metadata": {
        "id": "czysZOTqNLnR",
        "colab": {
          "base_uri": "https://localhost:8080/"
        },
        "outputId": "78c2aa51-cb4f-47d4-8d71-db928c5d174d"
      },
      "execution_count": null,
      "outputs": [
        {
          "output_type": "stream",
          "name": "stdout",
          "text": [
            "['a', 'b', 10, 30, 14, 'Cambio']\n"
          ]
        }
      ]
    },
    {
      "cell_type": "code",
      "source": [
        "# Cambiar de lista a tupla\n",
        "\n",
        "nueva_tupla = tuple(cambio_t_l)\n",
        "print(type(nueva_tupla))"
      ],
      "metadata": {
        "id": "7owd8V54NPS0",
        "colab": {
          "base_uri": "https://localhost:8080/"
        },
        "outputId": "8dec6608-f719-4010-c504-d435619c099c"
      },
      "execution_count": null,
      "outputs": [
        {
          "output_type": "stream",
          "name": "stdout",
          "text": [
            "<class 'tuple'>\n"
          ]
        }
      ]
    },
    {
      "cell_type": "markdown",
      "source": [
        "\n",
        "\n",
        "---\n",
        "\n",
        "\n",
        "#**Diccionarios**\n",
        "\n",
        "Los diccionarios son una colección de valores ordenada, que se usa para guardar datos. Pero aquí viene la diferencia, los diccionarios van a tener un formato así: **key:valor**.\n",
        "\n",
        "Y en los diccionarios, para accesar a los datos lo haces mediante el key, mientras que en otros se usan los índices. Las keys deben ser únicas, pero los valores no necesariamente\n",
        "\n",
        "¿Cómo hacer un diccionario?\n",
        "Se usan las llaves `{}` y tienen el siguiente formato\n",
        "\n"
      ],
      "metadata": {
        "id": "0cyy0LILDrgx"
      }
    },
    {
      "cell_type": "code",
      "source": [
        "# Haciendo un diccionario\n",
        "\n",
        "DD = {'a':10,'b':20,'c':30}\n",
        "print(DD)\n",
        "print(type(DD))"
      ],
      "metadata": {
        "id": "AFUUn6X1H4ph",
        "colab": {
          "base_uri": "https://localhost:8080/"
        },
        "outputId": "bb680d71-1b30-46a8-e780-1870170e90ff"
      },
      "execution_count": null,
      "outputs": [
        {
          "output_type": "stream",
          "name": "stdout",
          "text": [
            "{'a': 10, 'b': 20, 'c': 30}\n"
          ]
        }
      ]
    },
    {
      "cell_type": "code",
      "source": [
        "# Ya con un poco más de uso\n",
        "mis_datos = {'nombre': 'Ana', 'Edad': 25, 'Ubicación': 'CDMX'}\n",
        "print(mis_datos)\n",
        "\n",
        "# Este ejemplo tiene tres pares datos ordenados\n",
        "# OJO las llaves en los diccionario sólo pueden ser inmutables\n",
        "# Es decir pueden ser: integers, strings, tuplas, floats, y Booleanos\n",
        "# No pueden ser listas\n"
      ],
      "metadata": {
        "id": "IetewW_yOTh2",
        "colab": {
          "base_uri": "https://localhost:8080/"
        },
        "outputId": "e6ceba29-11e7-46bc-bafe-1c0438a5ebe4"
      },
      "execution_count": null,
      "outputs": [
        {
          "output_type": "stream",
          "name": "stdout",
          "text": [
            "{'nombre': 'Ana', 'Edad': 25, 'Ubicación': 'CDMX'}\n"
          ]
        }
      ]
    },
    {
      "cell_type": "code",
      "source": [
        "print(\"______________________________________________________________________________\")\n",
        "my_dictionary = {True: \"True\",  1: 1,  1.1: 1.1, \"one\": 1, \"languages\": [\"Python\"]}\n",
        "print(my_dictionary) # Esto sí se puede"
      ],
      "metadata": {
        "id": "61cIsVsKmqwb",
        "colab": {
          "base_uri": "https://localhost:8080/"
        },
        "outputId": "60eaf446-8ba5-40be-aa66-67b666d1e61e"
      },
      "execution_count": null,
      "outputs": [
        {
          "output_type": "stream",
          "name": "stdout",
          "text": [
            "______________________________________________________________________________\n",
            "{True: 1, 1.1: 1.1, 'one': 1, 'languages': ['Python']}\n"
          ]
        }
      ]
    },
    {
      "cell_type": "code",
      "source": [
        "print(\"______________________________________________________________________________\")\n",
        "my_dictionary2 = {True: \"True\",  1: 1,  1.1: 1.1, \"one\": 1, [\"Python\"]:\"language\"}\n",
        "print(my_dictionary2) # Esto no se puede"
      ],
      "metadata": {
        "id": "axw3f15GmlVT"
      },
      "execution_count": null,
      "outputs": []
    },
    {
      "cell_type": "code",
      "source": [
        "# Hagamos otro ejemplo y veamos cómo encontrar elementos en los diccionarios\n",
        "\n",
        "nubes = {\"Cirrus\": \"Alta\", \"Altocumulus\": \"Media\", \"Cirrostratus\": \"Alta\", \"Cumulus\":\"Baja\", \"Nimbostratus\":\"Baja\", \"Altostratus\": \"Media\"}\n",
        "print(nubes)"
      ],
      "metadata": {
        "id": "wifo4t3OK-0Z",
        "colab": {
          "base_uri": "https://localhost:8080/"
        },
        "outputId": "ad871f5f-0073-4575-bdbb-adac71251530"
      },
      "execution_count": null,
      "outputs": [
        {
          "output_type": "stream",
          "name": "stdout",
          "text": [
            "{'Cirrus': 'Alta', 'Altocumulus': 'Media', 'Cirrostratus': 'Alta', 'Cumulus': 'Baja', 'Nimbostratus': 'Baja', 'Altostratus': 'Media'}\n"
          ]
        }
      ]
    },
    {
      "cell_type": "code",
      "source": [
        "# Encontrar el número de parejas en un diccionario\n",
        "print(len(nubes))"
      ],
      "metadata": {
        "id": "GdZ8uMX3mxYZ",
        "colab": {
          "base_uri": "https://localhost:8080/"
        },
        "outputId": "70bcace7-de69-474d-9bc4-73c1083e7248"
      },
      "execution_count": null,
      "outputs": [
        {
          "output_type": "stream",
          "name": "stdout",
          "text": [
            "6\n"
          ]
        }
      ]
    },
    {
      "cell_type": "code",
      "source": [
        "# Cómo ver todas las parejas en el diccionario\n",
        "print(nubes.items()) #es una lista de tuplas"
      ],
      "metadata": {
        "id": "T5--Mhi6m8w0"
      },
      "execution_count": null,
      "outputs": []
    },
    {
      "cell_type": "code",
      "source": [
        "# Como ver todas las keys de un diccionario\n",
        "print(nubes.keys())"
      ],
      "metadata": {
        "id": "AjXGKBVLpPT1"
      },
      "execution_count": null,
      "outputs": []
    },
    {
      "cell_type": "code",
      "source": [
        "# Cómo ver todos los valores de un diccionario\n",
        "print(nubes.values())"
      ],
      "metadata": {
        "id": "oq9LPzktpTH7"
      },
      "execution_count": null,
      "outputs": []
    },
    {
      "cell_type": "code",
      "source": [
        "# cómo ves un valor en específico\n",
        "print(nubes['Altocumulus'])"
      ],
      "metadata": {
        "id": "um_hlWy3pWEy"
      },
      "execution_count": null,
      "outputs": []
    },
    {
      "cell_type": "code",
      "source": [
        "# Pero tengan cuidado\n",
        "print(nubes['cirrus']) #no encuentra esa key"
      ],
      "metadata": {
        "id": "Rvv3PWAxpYZe"
      },
      "execution_count": null,
      "outputs": []
    },
    {
      "cell_type": "code",
      "source": [
        "# Usando .get\n",
        "print(nubes.get('cirrus', 'Esta key no existe'))"
      ],
      "metadata": {
        "id": "uZg9DAHJpbQI"
      },
      "execution_count": null,
      "outputs": []
    },
    {
      "cell_type": "code",
      "source": [
        "# Agregando elementos al diccionario\n",
        "nubes['Cumulonimbus'] = \"Extraña\"\n",
        "print(nubes.items())"
      ],
      "metadata": {
        "id": "OwUOnNMzpd8z"
      },
      "execution_count": null,
      "outputs": []
    },
    {
      "cell_type": "code",
      "source": [
        "# Cambiar un valor\n",
        "nubes['Cumulonimbus'] = \"Peculiar\"\n",
        "print(nubes.items())"
      ],
      "metadata": {
        "id": "ItoNuKXZphgE"
      },
      "execution_count": null,
      "outputs": []
    },
    {
      "cell_type": "code",
      "source": [
        "# Actualizar varios valores\n",
        "print(mis_datos)\n",
        "mis_datos.update(nombre= 'Juan', Edad = 38, Ocupación = \"Influencer\")\n",
        "\n",
        "print(mis_datos)"
      ],
      "metadata": {
        "id": "4v8jRqEKpj8m",
        "colab": {
          "base_uri": "https://localhost:8080/"
        },
        "outputId": "53a0997e-fd7b-49bb-ef17-7bf4c64e9023"
      },
      "execution_count": null,
      "outputs": [
        {
          "output_type": "stream",
          "name": "stdout",
          "text": [
            "{'nombre': 'Ana', 'Edad': 25, 'Ubicación': 'CDMX'}\n",
            "{'nombre': 'Juan', 'Edad': 38, 'Ubicación': 'CDMX', 'Ocupación': 'Influencer'}\n"
          ]
        }
      ]
    },
    {
      "cell_type": "code",
      "source": [
        "# Borrar elementos\n",
        "del mis_datos[\"Edad\"]\n",
        "print(mis_datos)"
      ],
      "metadata": {
        "id": "duboq9-Spnj9",
        "colab": {
          "base_uri": "https://localhost:8080/"
        },
        "outputId": "54458bcb-cfcb-4c49-c540-5c98155e6d19"
      },
      "execution_count": null,
      "outputs": [
        {
          "output_type": "stream",
          "name": "stdout",
          "text": [
            "{'nombre': 'Juan', 'Ubicación': 'CDMX'}\n"
          ]
        }
      ]
    },
    {
      "cell_type": "markdown",
      "source": [
        "#Ejercicios\n"
      ],
      "metadata": {
        "id": "DRMwnrLBZoeU"
      }
    },
    {
      "cell_type": "code",
      "source": [
        "# Dado el siguiente diccionario, qué código escribirían para\n",
        "# imprimir la edad de Emma?\n",
        "student = {1: {'name': 'Emma', 'age': '27', 'sex': 'Female'},\n",
        "           2: {'name': 'Mike', 'age': '22', 'sex': 'Male'}}\n"
      ],
      "metadata": {
        "id": "MLIFXo4-T4sK"
      },
      "execution_count": null,
      "outputs": []
    },
    {
      "cell_type": "code",
      "source": [
        "# @title\n",
        "print(student[1][\"age\"])"
      ],
      "metadata": {
        "id": "a9CKFTqPp_tC"
      },
      "execution_count": null,
      "outputs": []
    },
    {
      "cell_type": "markdown",
      "source": [
        "\n",
        "Con todo lo que han aprendido hagan lo siguiente\n",
        "\n",
        "\n",
        "\n",
        "*   Mediante un diccionario reproduzcan la siguiente tabla\n",
        "\n",
        "| Nombre del Banco | Años 1 y 2 | Más de 3 años|\n",
        "| --- | --- |--- |\n",
        "| ANZ | 2.3% |4.1% |\n",
        "| BBVA | 1.8% |5.7% |\n",
        "| Santander | 1.1% |2.1% |\n",
        "| NU | 4.8% |1.1% |\n",
        "\n",
        "\n",
        "*   Imprime las parejas de keys y values que hay\n",
        "*   Cambia el nombre del banco ANZ por UALA\n",
        "\n",
        "\n",
        "\n"
      ],
      "metadata": {
        "id": "d2aQZ3DCqJXp"
      }
    },
    {
      "cell_type": "code",
      "source": [
        "# @title\n",
        "test = {'Nombre del Banco': [\"ANZ\", \"BBVA\", \"Santander\", \"NU\"],\n",
        "        'Años 1 y 2': [\"2.3%\", \"1.8%\", \"1.1%\", \"4.8%\"],\n",
        "        'Más de 3 años': [\"4.1%\", \"5.7%\", \"2.1%\", \"1.1%\"]}\n",
        "\n",
        "\n",
        "print(test.items())"
      ],
      "metadata": {
        "id": "83vY_fn7QH95"
      },
      "execution_count": null,
      "outputs": []
    },
    {
      "cell_type": "code",
      "source": [
        "# @title\n",
        "\n",
        "test['Nombre del Banco'] = \"UALA\", \"BBVA\", \"Santander\", \"NU\"\n",
        "print(test.items())"
      ],
      "metadata": {
        "id": "Keyx4tGM3QSA"
      },
      "execution_count": null,
      "outputs": []
    },
    {
      "cell_type": "code",
      "source": [
        "#Tenemos el siguiente directorio\n",
        "\n",
        "Ejercicio_dict = {\n",
        "   \"class\":{\n",
        "      \"student\":{\n",
        "         \"name\":\"Mike\",\n",
        "         \"marks\":{\n",
        "            \"physics\":70,\n",
        "            \"history\":80\n",
        "         }\n",
        "      }\n",
        "   }\n",
        "}\n",
        "\n",
        "print(Ejercicio_dict.items())\n",
        "#Cómo le harían para obtener la calificación que obtuvo en historia??"
      ],
      "metadata": {
        "id": "igKvkBv9BN9A",
        "colab": {
          "base_uri": "https://localhost:8080/"
        },
        "outputId": "6e88f93d-f7f1-4151-8e77-2840114fadc6"
      },
      "execution_count": null,
      "outputs": [
        {
          "output_type": "stream",
          "name": "stdout",
          "text": [
            "dict_items([('class', {'student': {'name': 'Mike', 'marks': {'physics': 70, 'history': 80}}})])\n"
          ]
        }
      ]
    },
    {
      "cell_type": "code",
      "source": [
        "# @title\n",
        "\n",
        "print(Ejercicio_dict['class']['student']['marks']['history'])\n"
      ],
      "metadata": {
        "id": "UgHmqGeaqTU3"
      },
      "execution_count": null,
      "outputs": []
    },
    {
      "cell_type": "markdown",
      "source": [
        "Resolviendo algunas dudas"
      ],
      "metadata": {
        "id": "bAHsb8b48BHA"
      }
    },
    {
      "cell_type": "code",
      "source": [
        "print(nubes)\n",
        "\n",
        "print(list(nubes.keys())[list(nubes.values()).index('Alta')])  #\n",
        "\n",
        "\n",
        "search_heigth = input(\"Provide Altura: \")\n",
        "\n",
        "for name, heigth in nubes.items():  # for name, age in dictionary.iteritems():  (for Python 2.x)\n",
        "    if heigth == search_heigth:\n",
        "        print(name)"
      ],
      "metadata": {
        "colab": {
          "base_uri": "https://localhost:8080/"
        },
        "id": "aY14dzVb66n8",
        "outputId": "2b11beb1-1ac1-45d5-8c4c-93ddf4ad02e8"
      },
      "execution_count": null,
      "outputs": [
        {
          "output_type": "stream",
          "name": "stdout",
          "text": [
            "{'Cirrus': 'Alta', 'Altocumulus': 'Media', 'Cirrostratus': 'Alta', 'Cumulus': 'Baja', 'Nimbostratus': 'Baja', 'Altostratus': 'Media'}\n"
          ]
        }
      ]
    },
    {
      "cell_type": "markdown",
      "source": [
        "https://stackoverflow.com/questions/8023306/get-key-by-value-in-dictionary"
      ],
      "metadata": {
        "id": "XZW5FuR55mno"
      }
    }
  ]
}