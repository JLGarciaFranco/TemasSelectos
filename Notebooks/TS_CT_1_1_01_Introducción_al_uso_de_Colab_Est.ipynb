{
 "cells": [
  {
   "cell_type": "markdown",
   "metadata": {
    "id": "WZ_tRN4zdXMN"
   },
   "source": [
    "# **Google Colab**\n",
    "\n",
    "Es un servicio gratuito en la nube, básicamente permite tanto escribir como ejectuar código en Python. Tiene varias ventajas como por ejemplo:\n",
    "\n",
    "- **No requiere configuración**: Puedes escribir y ejecutar un script de Python sin preocuparte por instalar Python o cualquier biblioteca en tu sistema.\n",
    "También ayuda porque así aseguramos que todos estamos usando la misma versión.\n",
    "\n",
    "- **Colaboración y Compartir**: Al igual que Google Docs, Google Colab te permite compartir tus cuadernos y colaborar con otros en tiempo real.\n",
    "\n",
    "- **Entorno de Codificación Interactivo**: Google Colab es similar a Jupyter Notebook, donde puedes escribir código y ver la salida, escribir textopara documentación y visualizar datos.\n",
    "\n",
    "\n",
    "- **Control de versiones**: Al igual que otros documentos de Google Drive, Google Colab te permite tener control de versiones\n",
    "\n",
    "\n",
    "Hay básicamente dos tipos de celda: De **Código** y de **Texto**\n",
    "\n",
    "La forma de editar es bastante amigable. Podemos poner en **negritas** o *itálicas*.\n",
    "\n",
    "Conforme esriban su código se daran cuenta que en la parte de la derecha es el código en \"crudo\" y a la derecha aparece ya el código de cómo se vería. No obstante cuando dejen de editar la celda, ahi sólo aparecerá el código ya interpretado.\n",
    "\n",
    "\n",
    "---\n",
    "\n",
    "En la edición de textos también podemos incluir código pero no se interpreta. Esto lo pueden utilizar para indicar alguna función o estructura que sólo quieren que se observa. Por ejemplo.\n",
    "\n",
    "\"Se utilizó el siguiente código para obtener todas las longitudes de un NetCDF: `ty = wrf_d.variables['XLAT'][0,:,0]`\"\n",
    "\n",
    "También pueden incluir hipervínculos: [Haz click aquí](https://www.youtube.com/watch?v=dQw4w9WgXcQ). Sí pueden poner el link solito pero deben de comenzar a hacer reportes más \"estéticos\".\n",
    "\n",
    "\n",
    "\n",
    "---\n",
    "\n"
   ]
  },
  {
   "cell_type": "markdown",
   "metadata": {
    "id": "Y6JVbtIy-jmh"
   },
   "source": [
    "# Tipos de Celdas\n",
    "\n",
    "Primero las de código:\n"
   ]
  },
  {
   "cell_type": "code",
   "execution_count": null,
   "metadata": {
    "colab": {
     "base_uri": "https://localhost:8080/"
    },
    "id": "dYyz818j-ss8",
    "outputId": "f010e3ae-4662-44aa-d3a6-1d6ca97dda0a"
   },
   "outputs": [
    {
     "data": {
      "text/plain": [
       "14"
      ]
     },
     "execution_count": 3,
     "metadata": {},
     "output_type": "execute_result"
    }
   ],
   "source": [
    "#Así se ven las celdas de código\n",
    "#Se diferencían porque el fondo lo tiene gris\n",
    "#Hay un botón de Play a la izquierda\n",
    "#Y aquí es donde vamos a ejecutar el código y obtendremos los resultados\n",
    "\n",
    "a = 5+9\n",
    "b = 98 + 12\n",
    "\n",
    "b\n",
    "a\n",
    "\n",
    "#En la configuración vamos a poder ver que nos dan más o menos unos 12 Gb de RAM\n",
    "#Lo cual a veces es superior a la capacidad de algunas computadoras regulares que suelen tener 8."
   ]
  },
  {
   "cell_type": "markdown",
   "metadata": {
    "id": "YVhzIyaE_UO2"
   },
   "source": [
    "En las celdas de texto\n",
    "\n",
    "Pues es muy intuitivo, en la parte superior verán opciones para editar\n",
    "como si fuera un texto normal de Word.\n",
    "\n",
    "* **Este texto está en negrita**\n",
    "* *Este texto está en cursiva*\n",
    "\n",
    "También pueden poner tablas, pero ese no viene en las opciones de edición\n",
    "\n",
    "| Encabezado A | Encabezado B |\n",
    "| --- | --- |\n",
    "| Dato A | Dato B |\n",
    "| Dato A | Dato B |\n",
    "\n",
    "---\n",
    "# Comparación entre Jupyter Notebook y Google Colab\n",
    "\n",
    "Algunas otras diferencias con Jyputer\n",
    "\n",
    "- **Entorno Local vs. Nube**: Jupyter Notebook es un entorno local que necesita ser configurado en tu propio sistema, o sea cada quien lo instala en su computadora, mientras que Google Colab es un entorno basado en la nube accesible a través de un navegador web.\n",
    "\n",
    "- **Gestión de Paquetes y Bibliotecas**: Jupyter Notebook requiere que gestiones tus propios paquetes y bibliotecas (a veces incluso las versionas), mientras que Google Colab viene pre-cargado con muchas bibliotecas populares utilizadas tanto en ciencia de datos como en aprendizaje automático.\n",
    "\n",
    "- **Colaboración y Compartir**: Google Colab permite la colaboración en tiempo real y compartir, similar a Google Docs, mientras que para colaborar con  Jupyter Notebook generalmente se requiere herramientas adicionales como GitHub.\n",
    "\n",
    "\n",
    "---\n",
    "\n",
    "Nota, recuerden que el código y el texto plano funcionan diferente, si ustedes ponen:\n",
    "\n",
    "print(\"Hola mundo\") en texto, no habrá ningún tipo de salida.\n",
    "O por ejemplo el signo \"#\", en una celda de tipo texto sirve para agregar una nueva sección, mientras que en una celda de código sirve para comentar.\n",
    "\n",
    "\n",
    "\n",
    "---\n",
    "\n",
    "**Bueno pues ya, hagamos su propio cuaderno :)**\n",
    "\n",
    "\n",
    "\n",
    "\n",
    "\n",
    "\n"
   ]
  }
 ],
 "metadata": {
  "colab": {
   "provenance": []
  },
  "kernelspec": {
   "display_name": "Python 3 (ipykernel)",
   "language": "python",
   "name": "python3"
  },
  "language_info": {
   "codemirror_mode": {
    "name": "ipython",
    "version": 3
   },
   "file_extension": ".py",
   "mimetype": "text/x-python",
   "name": "python",
   "nbconvert_exporter": "python",
   "pygments_lexer": "ipython3",
   "version": "3.11.6"
  }
 },
 "nbformat": 4,
 "nbformat_minor": 4
}
