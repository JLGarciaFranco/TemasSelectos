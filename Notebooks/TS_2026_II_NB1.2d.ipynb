{
 "cells": [
  {
   "attachments": {
    "LOGO_ENCIT.png": {
     "image/png": "[encoded data removed]"
    }
   },
   "cell_type": "markdown",
   "id": "5e597bf5",
   "metadata": {},
   "source": [
    "<p align=\"center\">\n",
    "  <span style=\"color:Navy; font-size:200%; font-weight:bold; vertical-align:middle;\">\n",
    "    Temas Selectos: Python para Ciencias de la Tierra\n",
    "  </span>\n",
    "  <img src=\"attachment:LOGO_ENCIT.png\" alt=\"ENCiT\" width=\"120\" style=\"vertical-align:middle; margin-left:20px;\"/>\n",
    "</p>\n",
    "\n",
    "<p align=\"center\" style=\"line-height:1.2;\">\n",
    "  <span style=\"color:RoyalBlue; font-size:150%;\">Tema 1: Introducción</span><br/>\n",
    "  <span style=\"color:DodgerBlue; font-size:130%;\">Notebook 1: Estructuras de datos</span><br/>\n",
    "  <span style=\"font-size:100%;\"> Escuela Nacional de Ciencias de la Tierra  |  Semestre 2024-II</span>\n",
    "</p>\n",
    "\n",
    "---\n",
    "\n",
    "### **<font color=\"ForestGreen\"> ¿Qué es una estructura de datos? </font>**\n",
    "\n",
    "Una **estructura de datos** es una forma de **organizar, almacenar y manipular información** dentro de un programa. En Python, existen distintos tipos de estructuras que nos permiten **manejar colecciones de datos** de forma eficiente, según el tipo de análisis que queremos realizar. Por ejemplo, una lista permite guardar una serie de valores ordenados como temperaturas diarias, mientras que un diccionario nos deja asociar etiquetas como `\"temperatura\"` o `\"humedad\"` a valores numéricos. Elegir la estructura adecuada es clave para **trabajar con datos científicos** de manera clara, reproducible y eficiente.\n"
   ]
  },
  {
   "cell_type": "code",
   "execution_count": 3,
   "id": "20814c6a",
   "metadata": {},
   "outputs": [],
   "source": [
    "#estructuras basicas\n",
    "tupla = 12345, 54321, 'hola!'\n",
    "lista = [12345,54321,'hola']"
   ]
  },
  {
   "cell_type": "code",
   "execution_count": 4,
   "id": "2b45cf22",
   "metadata": {},
   "outputs": [
    {
     "name": "stdout",
     "output_type": "stream",
     "text": [
      "(12345, 54321, 'hola!')\n",
      "[12345, 54321, 'hola']\n"
     ]
    }
   ],
   "source": [
    "print(tupla)\n",
    "print(lista)"
   ]
  },
  {
   "cell_type": "markdown",
   "id": "caceab57",
   "metadata": {},
   "source": [
    "### **<font color=\"ForestGreen\"> ¿Por qué es importante saber qué objeto usamos? </font>**\n",
    "\n",
    "Cuando manipulamos datos —temperaturas, estaciones, coordenadas— en Python, conocer el **tipo de estructura** nos ayuda a aplicar métodos correctos, evitar errores y optimizar el rendimiento. Algunas estructuras son **mutables** (se pueden modificar), otras no; unas están **ordenadas**, otras no. Elegir la más adecuada facilita el análisis científico y la reproducibilidad. Muchas veces también es cuestión de gustos, puedes elegir una u otra estructura según tus preferencias, o habilidades previas. \n",
    "\n",
    "---\n",
    "\n",
    "### **<font color=\"RoyalBlue\"> Tipos principales en Python </font>**\n",
    "\n",
    "### 1. **Listas (`list`)**   \n",
    "\n",
    "Las **listas** son colecciones **ordenadas** y **mutables**, definidas con corchetes `[]`. Permiten almacenar elementos heterogéneos, acceder por índice y modificar su contenido dinámicamente.\n",
    "\n",
    "   ```temperaturas = [22.5, 23.1, 21.8, 24.0] ```\n"
   ]
  },
  {
   "cell_type": "code",
   "execution_count": 5,
   "id": "d32c6816",
   "metadata": {},
   "outputs": [
    {
     "name": "stdout",
     "output_type": "stream",
     "text": [
      "Planetas: ['Mercurio', 'Venus', 'Tierra', 'Marte', 'Júpiter']\n"
     ]
    }
   ],
   "source": [
    "# Lista de planetas del Sistema Solar (5 primeros)\n",
    "planetas = [\"Mercurio\", \"Venus\", \"Tierra\", \"Marte\", \"Júpiter\"]\n",
    "print(\"Planetas:\", planetas)"
   ]
  },
  {
   "cell_type": "code",
   "execution_count": 6,
   "id": "d6147991",
   "metadata": {},
   "outputs": [
    {
     "name": "stdout",
     "output_type": "stream",
     "text": [
      "Minerales: ['Cuarzo', 'Feldespato', 'Calcita', 'Yeso', 'Hematita', 'Magnetita', 'Pirita']\n"
     ]
    }
   ],
   "source": [
    "# Lista de minerales comunes en Ciencias de la Tierra (7 elementos)\n",
    "minerales = [\"Cuarzo\", \"Feldespato\", \"Calcita\", \"Yeso\", \"Hematita\", \"Magnetita\", \"Pirita\"]\n",
    "print(\"Minerales:\", minerales)"
   ]
  },
  {
   "cell_type": "markdown",
   "id": "607e3917",
   "metadata": {},
   "source": [
    "#### **<font color=\"RoyalBlue\">  **Funciones integradas y métodos en Python** </font>**\n",
    "\n",
    "Existen diferentes operaciones o cálculos que podemos hacer con un objeto. Algunas de estas operaciones tienen nombres diferentes como funciones, métodos o atributos. Veamos unos casos. \n",
    "\n",
    "Las operaciones como `len()` o `type()` se conocen como **funciones integradas** (built-in functions): están disponibles directamente en el lenguaje sin necesidad de importar nada. En cambio, las operaciones invocadas con punto (por ejemplo, `mi_lista.append(...)`) son **métodos** del objeto.\n",
    "\n",
    "**Métodos más populares para listas**:\n",
    "\n",
    "1. `append(x)`  \n",
    "   Agrega el elemento `x` al final de la lista.\n",
    "\n",
    "2. `pop([i])`  \n",
    "   Elimina y devuelve el elemento en la posición `i` (por defecto el último).\n",
    "\n",
    "Para obtener la longitud de una lista, usamos `len(mi_lista)`."
   ]
  },
  {
   "cell_type": "code",
   "execution_count": 7,
   "id": "8b2001c0",
   "metadata": {},
   "outputs": [
    {
     "name": "stdout",
     "output_type": "stream",
     "text": [
      "Longitud: 3\n",
      "Después de append: [10, 20, 30, 40]\n",
      "Elemento extraído: 40\n",
      "Lista final: [10, 20, 30]\n"
     ]
    }
   ],
   "source": [
    "# Ejemplo de uso de len(), append() y pop()\n",
    "\n",
    "mi_lista = [10, 20, 30]\n",
    "\n",
    "# 1. len: obtener longitud\n",
    "print(\"Longitud:\", len(mi_lista))  \n",
    "\n",
    "# 2. append: añadir un elemento al final\n",
    "mi_lista.append(40)\n",
    "print(\"Después de append:\", mi_lista)  \n",
    "\n",
    "# 3. pop: extraer y devolver el último elemento\n",
    "valor = mi_lista.pop()\n",
    "print(\"Elemento extraído:\", valor)  \n",
    "print(\"Lista final:\", mi_lista)  \n"
   ]
  },
  {
   "cell_type": "markdown",
   "id": "05a34e0a",
   "metadata": {},
   "source": [
    "---\n",
    "<a name='ej-1'></a>\n",
    "### **<font color=\"OrangeRed\">Ejemplo: Evaluar listas de minerales y planetas </font>**\n",
    "\n",
    "<font color=\"DarkRed\"> Tenemos dos listas pre-existentes con minerales y planetas. ¿Qué podemos hacer con ellas?\n",
    "    \n",
    "<font color=\"DarkRed\"> 1. Calcule la longitud de cada lista.   \n",
    "    \n",
    "<font color=\"DarkRed\">   2. Remueva dos elementos de la lista más larga, o bien, añada dos elementos a la lista más corta, hasta hacer las dos listas del mismo tamaño. \n",
    "\n",
    "---"
   ]
  },
  {
   "cell_type": "code",
   "execution_count": null,
   "id": "9bedfd94",
   "metadata": {},
   "outputs": [],
   "source": []
  },
  {
   "cell_type": "markdown",
   "id": "060bde8f",
   "metadata": {},
   "source": [
    "### **<font color=\"ForestGreen\"> ¿Qué es una tupla? </font>**\n",
    "\n",
    "Una **tupla** es una colección de elementos agrupados en un único objeto, donde cada elemento mantiene una posición fija y no puede modificarse después de creada. Se define usando paréntesis y separando valores con comas:\n",
    "\n",
    "```python\n",
    "mi_tupla = (elemento1, elemento2, elemento3)\n"
   ]
  },
  {
   "cell_type": "code",
   "execution_count": 8,
   "id": "6ffc6bcd",
   "metadata": {},
   "outputs": [],
   "source": [
    "# coordenadas de un crater\n",
    "crater_coords = (46.199, -122.188)"
   ]
  },
  {
   "cell_type": "markdown",
   "id": "cfcb16ac",
   "metadata": {},
   "source": [
    "### **<font color=\"RoyalBlue\"> Listas: tu caja de herramientas flexible </font>**\n",
    "\n",
    "- **Mutables y dinámicas**: agrega ✅, elimina ❌ o cambia 🔄 elementos cuando quieras.  \n",
    "- **Ordenadas**: cada elemento tiene su lugar (índice 0, 1, 2…), como alumnos en fila.  \n",
    "- **Mezclables**: guarda números, texto ¡o incluso otras listas!  \n",
    "- **Útiles en Tierra**: perfectas para series de temperaturas, rutas de estaciones o secuencias de datos.\n",
    "\n",
    "---\n",
    "\n",
    "### **<font color=\"ForestGreen\"> Tuplas: el cofre sellado </font>**\n",
    "\n",
    "- **Ordenadas** como las listas, pero **inmutables**.  \n",
    "- **Inmutable** significa que **no cambia nada solo**, es un cofre sellado:  \n",
    "  > Puedes confiar en que lo que pongas ahí **permanecerá intacto**.  \n",
    "- Ideales para datos que no deben moverse por accidente, como coordenadas geográficas o parámetros fijos"
   ]
  },
  {
   "cell_type": "code",
   "execution_count": 9,
   "id": "b449984a",
   "metadata": {},
   "outputs": [],
   "source": [
    "# Definición de tupla con tipos de roca\n",
    "mi_tupla = ('roca', 'arena', 'arcilla', 'grava', 'limonita')"
   ]
  },
  {
   "cell_type": "code",
   "execution_count": 10,
   "id": "6a36b08d",
   "metadata": {},
   "outputs": [
    {
     "name": "stdout",
     "output_type": "stream",
     "text": [
      "count('roca'): 1\n"
     ]
    }
   ],
   "source": [
    "# 1. count(x): contar apariciones de 'roca'\n",
    "print(\"count('roca'):\", mi_tupla.count('roca'))"
   ]
  },
  {
   "cell_type": "code",
   "execution_count": 11,
   "id": "18abc64a",
   "metadata": {},
   "outputs": [
    {
     "name": "stdout",
     "output_type": "stream",
     "text": [
      "index('arcilla'): 2\n"
     ]
    }
   ],
   "source": [
    "# 2. index(x): índice de 'arcilla'\n",
    "print(\"index('arcilla'):\", mi_tupla.index('arcilla'))"
   ]
  },
  {
   "cell_type": "code",
   "execution_count": 13,
   "id": "d1e0a561",
   "metadata": {},
   "outputs": [
    {
     "name": "stdout",
     "output_type": "stream",
     "text": [
      "Elemento en posición 2: arcilla\n"
     ]
    }
   ],
   "source": [
    "# 3. Acceso por índice\n",
    "print(\"Elemento en posición 2:\", mi_tupla[2])"
   ]
  },
  {
   "cell_type": "code",
   "execution_count": 14,
   "id": "dd0b32d6",
   "metadata": {},
   "outputs": [
    {
     "name": "stdout",
     "output_type": "stream",
     "text": [
      "Tupla modificada: ('roca', 'arena', 'arcilla', 'grava', 'limonita', 'caliza')\n"
     ]
    }
   ],
   "source": [
    "# 4. Conversión a lista y de vuelta a tupla\n",
    "lista = list(mi_tupla)\n",
    "lista.append('caliza')\n",
    "nueva_tupla = tuple(lista)\n",
    "print(\"Tupla modificada:\", nueva_tupla)"
   ]
  },
  {
   "cell_type": "markdown",
   "id": "0572dedc",
   "metadata": {},
   "source": [
    "### **<font color=\"Purple\"> ¿Qué es un diccionario? </font>**\n",
    "\n",
    "Un **diccionario** en Python es un **mapa** de pares **clave:valor**, definido con llaves `{}` y dos puntos `:`. A diferencia de las listas, el acceso no se hace por posición numérica, sino mediante una **clave** única. Los valores pueden repetirse, pero cada clave debe ser distinta. Esta estructura es ideal para representar registros o datos etiquetados, por ejemplo:\n",
    "\n",
    "```\n",
    "estacion = {\n",
    "    \"nombre\": \"Tacubaya\",\n",
    "    \"altitud\": 2240,\n",
    "    \"temperatura\": 18.3\n",
    "}```\n",
    "\n",
    "La estructura básica es un la siguiente `{key:value}`"
   ]
  },
  {
   "cell_type": "code",
   "execution_count": 15,
   "id": "eb25a8e7",
   "metadata": {},
   "outputs": [
    {
     "name": "stdout",
     "output_type": "stream",
     "text": [
      "{'a': 10, 'b': 20, 'c': 30}\n",
      "<class 'dict'>\n"
     ]
    }
   ],
   "source": [
    "# Haciendo un diccionario\n",
    "\n",
    "DD = {'a':10,'b':20,'c':30}\n",
    "print(DD)\n",
    "print(type(DD))"
   ]
  },
  {
   "cell_type": "code",
   "execution_count": 16,
   "id": "749bf54f",
   "metadata": {},
   "outputs": [
    {
     "name": "stdout",
     "output_type": "stream",
     "text": [
      "{'Cirrus': 'Alta', 'Altocumulus': 'Media', 'Cirrostratus': 'Alta', 'Cumulus': 'Baja', 'Nimbostratus': 'Baja', 'Altostratus': 'Media'}\n"
     ]
    }
   ],
   "source": [
    "# nubes\n",
    "nubes = {\"Cirrus\": \"Alta\", \"Altocumulus\": \"Media\", \"Cirrostratus\": \"Alta\", \"Cumulus\":\"Baja\", \"Nimbostratus\":\"Baja\", \"Altostratus\": \"Media\"}\n",
    "print(nubes)"
   ]
  },
  {
   "cell_type": "code",
   "execution_count": 17,
   "id": "79f90ee7",
   "metadata": {},
   "outputs": [
    {
     "name": "stdout",
     "output_type": "stream",
     "text": [
      "dict_items([('Cirrus', 'Alta'), ('Altocumulus', 'Media'), ('Cirrostratus', 'Alta'), ('Cumulus', 'Baja'), ('Nimbostratus', 'Baja'), ('Altostratus', 'Media')])\n"
     ]
    }
   ],
   "source": [
    "# Cómo ver todas las parejas en el diccionario\n",
    "print(nubes.items()) #es una lista de tuplas"
   ]
  },
  {
   "cell_type": "code",
   "execution_count": 18,
   "id": "eaf26dbf",
   "metadata": {},
   "outputs": [
    {
     "name": "stdout",
     "output_type": "stream",
     "text": [
      "6\n"
     ]
    }
   ],
   "source": [
    "# Encontrar el número de parejas en un diccionario\n",
    "print(len(nubes))"
   ]
  },
  {
   "cell_type": "code",
   "execution_count": 19,
   "id": "6413e6aa",
   "metadata": {},
   "outputs": [
    {
     "name": "stdout",
     "output_type": "stream",
     "text": [
      "Media\n"
     ]
    }
   ],
   "source": [
    "# cómo ves un valor en específico\n",
    "print(nubes['Altocumulus'])"
   ]
  },
  {
   "cell_type": "code",
   "execution_count": 20,
   "id": "01e3493b",
   "metadata": {},
   "outputs": [
    {
     "name": "stdout",
     "output_type": "stream",
     "text": [
      "dict_keys(['Cirrus', 'Altocumulus', 'Cirrostratus', 'Cumulus', 'Nimbostratus', 'Altostratus'])\n"
     ]
    }
   ],
   "source": [
    "# Como ver todas las keys de un diccionario\n",
    "print(nubes.keys())"
   ]
  },
  {
   "cell_type": "code",
   "execution_count": 21,
   "id": "a0108fb4",
   "metadata": {},
   "outputs": [
    {
     "name": "stdout",
     "output_type": "stream",
     "text": [
      "dict_items([('Cirrus', 'Alta'), ('Altocumulus', 'Media'), ('Cirrostratus', 'Alta'), ('Cumulus', 'Baja'), ('Nimbostratus', 'Baja'), ('Altostratus', 'Media'), ('Cumulonimbus', 'Convectiva')])\n"
     ]
    }
   ],
   "source": [
    "# Cambiar un valor\n",
    "nubes['Cumulonimbus'] = \"Convectiva\"\n",
    "print(nubes.items())   "
   ]
  },
  {
   "cell_type": "markdown",
   "id": "6d64b036",
   "metadata": {},
   "source": [
    "---\n",
    "<a name='ej-1'></a>\n",
    "### **<font color=\"OrangeRed\">Ejemplo: Haz un diccionario de las personas en el curso </font>**\n",
    "\n",
    "<font color=\"DarkRed\"> El diccionario debe incluir su información principal como edad, orientación de CT, y nivel de Python.\n",
    "    \n",
    "<font color=\"DarkRed\"> 1. Genere el diccionario.\n",
    "    \n",
    "<font color=\"DarkRed\">   2. Dado el diccionario, cómo imprimirían la edad de la segunda persona que aparece en el diccionario.\n",
    "\n",
    "---"
   ]
  },
  {
   "cell_type": "code",
   "execution_count": null,
   "id": "e82cf2f3",
   "metadata": {},
   "outputs": [],
   "source": []
  },
  {
   "cell_type": "markdown",
   "id": "9bb5cf26",
   "metadata": {},
   "source": [
    "### **<font color=\"SlateBlue\"> Comparativa: Listas, Tuplas y Diccionarios </font>**\n",
    "\n",
    "| Estructura      | Símbolos       | Mutabilidad | Índices | Uso típico                                              |\n",
    "|-----------------|----------------|-------------|---------|---------------------------------------------------------|\n",
    "| **Lista**       | `[ ... ]`      | Sí          | Sí      | Series de datos dinámicos (temperaturas, rutas, muestras) |\n",
    "| **Tupla**       | `( ... )`      | No          | Sí      | Valores fijos (coordenadas, parámetros de configuración) |\n",
    "| **Diccionario** | `{ clave:valor }` | Sí       | No      | Mapas clave→valor (datos etiquetados como estaciones)   |\n"
   ]
  },
  {
   "cell_type": "markdown",
   "id": "f08fc13a",
   "metadata": {},
   "source": [
    "<a name='ej-1'></a>\n",
    "### <font color=\"DodgerBlue\">Ejercicio 1 – Listas y diccionarios</font>\n",
    "\n",
    "1. Crea un diccionario `datos_ambientales` con estas dos claves:  \n",
    "   - estaciones: una lista de 5 nombres de estaciones (por ejemplo Tacubaya, Coyoacán, Xochimilco…)  \n",
    "   - coordenadas: una tupla con latitud y longitud de una de esas estaciones  \n",
    "\n",
    "2. Dentro de `datos_ambientales`, añade una clave `muestras` cuyo valor sea otro diccionario que contenga:  \n",
    "   - temperatura, niveles de ozono, humedad y precipitación como claves  \n",
    "   - cada clave apunta a una lista con al menos tres valores de mediciones (reales o simuladas)  \n",
    "3. Reemplaza, remueve o añade un valor de alguna de las mediciones de una de las estaciones. "
   ]
  },
  {
   "cell_type": "code",
   "execution_count": null,
   "id": "bc02e3ff",
   "metadata": {},
   "outputs": [],
   "source": []
  }
 ],
 "metadata": {
  "kernelspec": {
   "display_name": "Python 3 (ipykernel)",
   "language": "python",
   "name": "python3"
  },
  "language_info": {
   "codemirror_mode": {
    "name": "ipython",
    "version": 3
   },
   "file_extension": ".py",
   "mimetype": "text/x-python",
   "name": "python",
   "nbconvert_exporter": "python",
   "pygments_lexer": "ipython3",
   "version": "3.11.9"
  }
 },
 "nbformat": 4,
 "nbformat_minor": 5
}
