{
 "cells": [
  {
   "attachments": {
    "LOGO_ENCIT.png": {
     "image/png": "[encoded data removed]"
    }
   },
   "cell_type": "markdown",
   "id": "9946a5e5",
   "metadata": {},
   "source": [
    "<p align=\"center\">\n",
    "  <span style=\"color:Navy; font-size:200%; font-weight:bold; vertical-align:middle;\">\n",
    "    Temas Selectos: Python para Ciencias de la Tierra\n",
    "  </span>\n",
    "  <img src=\"attachment:LOGO_ENCIT.png\" alt=\"ENCiT\" width=\"150\" style=\"vertical-align:middle; margin-left:20px;\"/>\n",
    "</p>\n",
    "<p align=\"center\" style=\"line-height:1.2;\">\n",
    "  <span style=\"color:RoyalBlue; font-size:160%;\">Tema 2: Manejo de datos</span><br/>\n",
    "  <span style=\"color:DodgerBlue; font-size:140%;\">Análisis exploratorio de datos </span><br/>\n",
    "  <span style=\"font-size:100%;color:forestgreen\"> Escuela Nacional de Ciencias de la Tierra  |  Semestre 2026-I</span>\n",
    "</p>\n",
    "\n",
    "---\n",
    "\n",
    "\n",
    "# **<font color=\"ForestGreen\">  Análisis exploratorio de datos </font>**\n",
    "\n",
    "El análisis exploratorio de datos (AED), o EDA por sus siglas en inglés, es una fase inicial en el análisis de datos que utiliza visualizaciones y estadísticas para investigar y comprender las características principales de un conjunto de datos, buscando patrones, valores atípicos y relaciones entre variables. Su objetivo es explorar la estructura de los datos, la calidad y la presencia de anomalías, no confirmar una hipótesis estadística preexistente. Es un proceso creativo y de descubrimiento que sirve como paso previo esencial antes de realizar un análisis estadístico o creación de modelos más complejos. \n",
    "\n",
    "## **<font color=\"SeaGreen\"> Variables Hidrogeoquímicas de Pozos de Agua </font>**\n",
    "\n",
    "El agua subterránea es un recurso vital que soporta tanto los ecosistemas naturales como el desarrollo humano. La calidad del agua subterránea es influenciada por procesos hidrogeoquímicos que ocurren en el subsuelo, lo que afecta su composición química y, por ende, su uso para consumo humano, agrícola e industrial. La evaluación detallada de las características hidrogeoquímicas del agua subterránea es esencial para su gestión sostenible y protección. Este proyecto se enfoca en analizar las variables hidrogeoquímicas de pozos de agua, incluyendo temperatura '$T$', '$pH$', potencial de óxido-reducción ('$Eh$'), y concentraciones de iones como '$Na^+$', '$K^+$', '$Ca_2^+$', '$HCO_3^-$', '$SO_4^{2-}$', '$Cl^-$' y '$SiO_2$'.\n",
    "\n",
    "El objetivo es llevar a cabo un análisis exploratorio de datos (AED) para entender las relaciones entre estas variables y cómo podrían influir en la calidad del agua subterránea.\n"
   ]
  },
  {
   "cell_type": "code",
   "execution_count": null,
   "id": "8711b324",
   "metadata": {},
   "outputs": [],
   "source": [
    "import pandas as pd\n",
    "import seaborn as sns\n",
    "import matplotlib.pyplot as plt\n",
    "import numpy as np\n",
    "# Para calcular la distancia de Mahalanobis\n",
    "import matplotlib.gridspec as gridspec"
   ]
  },
  {
   "cell_type": "code",
   "execution_count": null,
   "id": "7ed13db0",
   "metadata": {},
   "outputs": [],
   "source": [
    "# carga de archivo csv\n",
    "df=pd.read_csv('Datos_Jaral_PreFinal.csv')\n",
    "df.head()"
   ]
  },
  {
   "cell_type": "code",
   "execution_count": null,
   "id": "256122d1-d2be-40b3-9330-882e70c7b153",
   "metadata": {},
   "outputs": [],
   "source": [
    "df.columns"
   ]
  },
  {
   "cell_type": "code",
   "execution_count": null,
   "id": "682fd26b-7fd4-4236-acc3-3d23861c418f",
   "metadata": {},
   "outputs": [],
   "source": [
    "df.info()"
   ]
  },
  {
   "cell_type": "markdown",
   "id": "21c759cc",
   "metadata": {},
   "source": [
    "### **<font color=\"SeaGreen\"> Organizacion y limpieza de datos </font>**\n",
    "\n",
    "Los datos completos tienen una dimensión de **127 filas** y **14 columnas**. Dentro de los cuales hay registro de 126 informacion de cuerpos de agua. Las columnas tienen una estructura de:\n",
    "**Columnas**:\n",
    "- **Localidad** nombre de la ubicación del cuerpo de agua\n",
    "- El **Tipo** de cuerpo de agua entre pozos, manatiales, norias, presas.\n",
    "- La **Clase de Temp** variable categorica que define el grado de la temperatura del agua en baja, media y alta\n",
    "- **T** = Valor de la Temperatura (°$C$)\n",
    "- **pH** = Valor de la concentración de potencial de hidrogeno, medida de la acidez o alcalinidad de una solución acuosa\n",
    "- **Eh** = potencial de óxido-reducción\n",
    "- **Na+** = Concentración del ión sodio ($mg/L$)\n",
    "- **K+** =  Concentración del ión potasio ($mg/L$)\n",
    "- **Ca2** =  Concentración del ión calcio ($mg/L$)\n",
    "- **HC03** = Concentración del ión bicarbonato ($mg/L$)\n",
    "- **SO42-** = Concentración del ión Sulfato ($mg/L$)\n",
    "- **Cl-** = Concentración del ión Cloro ($mg/L$)\n",
    "- **SiO2** = Concentración del ión Silice ($mg/L$)\n",
    "\n",
    "**Limpieza y transformación de datos**\n",
    "\n",
    "1. Es necesario hacer la limpieza de la primera fila de datos con índice 0 que contiene unidades de las variables.\n",
    "2. Las columnas necesitan limpieza dado que tienen espacios extras\n",
    "3. Es importante definir previamente los tipos de datos para cada variable colocando valores de tipo float, int y string respectivamene\n",
    "\n"
   ]
  },
  {
   "cell_type": "code",
   "execution_count": null,
   "id": "d3c2f671-d7d4-4381-8084-72a87e68f009",
   "metadata": {},
   "outputs": [],
   "source": [
    "# 1. Limpieza del indice 0 por no contener información de pozo\n",
    "df = df[1:].reset_index(drop=True)\n",
    "\n",
    "# 2. Strip del nombre las columnas\n",
    "df.columns = [col.strip() for col in df.columns]\n",
    "print(f'Nombre de columnas limpias: {df.columns.to_list()}')\n",
    "df.rename(columns ={'HCO3 lab':'HCO3-'}, inplace= True)"
   ]
  },
  {
   "cell_type": "code",
   "execution_count": null,
   "id": "7ea7ed77-7b47-4ac6-8066-72a36878c9e2",
   "metadata": {},
   "outputs": [],
   "source": [
    "for i in df:\n",
    "    print(df[i].unique())"
   ]
  },
  {
   "cell_type": "code",
   "execution_count": null,
   "id": "a5a479af-5496-4905-a0b3-0fc28c5f44b7",
   "metadata": {},
   "outputs": [],
   "source": [
    "# 3. Actualizar solo las filas donde la primera letra esté en mayúscula\n",
    "df.loc[df['Tipo'].str.istitle(), 'Tipo'] = df['Tipo'].str.lower()"
   ]
  },
  {
   "cell_type": "code",
   "execution_count": null,
   "id": "5088fdbb-59d5-49a8-bafd-6f6fea6a7154",
   "metadata": {},
   "outputs": [],
   "source": [
    "# 4. Conversipn del tipo de dato\n",
    "conversiones = {\n",
    "    'No': 'int',\n",
    "    'T': 'float64',\n",
    "    'pH': 'float64',\n",
    "    'Eh': 'float64',\n",
    "    'Na+': 'float64',\n",
    "    'K+': 'float64',\n",
    "    'Ca2+': 'float64',\n",
    "    'HCO3-': 'float64',\n",
    "    'SO42-': 'float64',\n",
    "    'Cl-': 'float64',\n",
    "    'SiO2': 'float64',\n",
    "    'Clase Temp': 'category',\n",
    "    'Tipo':'category'\n",
    "}\n",
    "# Aplicando la conversión de tipos de acuerdo al diccionario\n",
    "df = df.astype(conversiones)\n",
    "df.head()"
   ]
  },
  {
   "cell_type": "code",
   "execution_count": null,
   "id": "74c9c9a1-bfab-4a8d-8bb0-f3238424734e",
   "metadata": {},
   "outputs": [],
   "source": [
    "df.info()"
   ]
  },
  {
   "cell_type": "markdown",
   "id": "2b2a559c-7b7a-4818-bf49-874246c4e82b",
   "metadata": {},
   "source": [
    "### **<font color=\"SeaGreen\"> Análisis estadístico básico </font>**\n",
    "#### ¿Qué hacen las estadísticas descriptivas?\n",
    "\n",
    "* Organizar y resumir: Transforman datos crudos en información comprensible. \n",
    "* Presentar información: Utilizan tablas, gráficos, diagramas y valores clave como promedios y porcentajes para resumir las características de un conjunto de datos. \n",
    "* Describir características: Muestran dónde se ubica el \"centro\" de los datos y cómo se distribuyen o varían los valores. \n",
    "\n",
    "#### **<font color=\"blue\"> Medidas de tendencia central: Indican la ubicación central de los datos. </font>** \n",
    "1.  **Media**: El promedio aritmético de un conjunto de datos. \n",
    "2.  **Mediana**: El valor medio cuando los datos están ordenados. \n",
    "3.  **Moda**: El valor que aparece con más frecuencia en los datos.\n",
    "4.  **Cuartiles**: Dividen al conjunto de datos en partes iguales.\n",
    "       * $q_{25}$: Valor por debajo del cual esta el 25% de los datos.\n",
    "       * $q_{50}$: Mediana\n",
    "       * $q_{75}$: Valor por debajo del cual esta el 25% de los datos.\n",
    "5. **Simetría o sesgo**: si la media, moda y mediana de una distribución de datos coinciden, entonces es simétrica. De lo contrario podemos tener:\n",
    "     * Sesgo positivo: Media > Mediana > Moda\n",
    "     * Sesgo negativo: Media < Mediana < Moda\n",
    "\n",
    "#### **<font color=\"blue\"> Medidas de dispersión: Muestran la variabilidad o la dispersión de los datos. </font>** \n",
    "\n",
    "1.  **Rango**: La diferencia entre el valor máximo y mínimo. \n",
    "2.  **Desviación estándar**: Mide cuánto se alejan los datos del promedio.  \n",
    "3.  **Varianza**: Representa el promedio de las distancias al cuadrado entre los datos y su media.\n",
    "4.  **Rango intercuartil (IQR)**: $q_{75}-q_{25}$\n",
    " \n"
   ]
  },
  {
   "cell_type": "code",
   "execution_count": null,
   "id": "3db35e35-bb0e-469f-8e42-ff019ad77145",
   "metadata": {},
   "outputs": [],
   "source": [
    "# Definir variables de las cuales se hará el AED.\n",
    "VariablesNumAnalis = ['T', 'pH', 'Eh', 'Na+', 'K+', 'Ca2+', 'HCO3-', 'SO42-', 'Cl-', 'SiO2']\n",
    "\n",
    "for i in VariablesNumAnalis:\n",
    "    print(i , 'promedio =' ,df[i].mean())"
   ]
  },
  {
   "cell_type": "code",
   "execution_count": null,
   "id": "e046e2c4-d7e9-4585-854f-48d3158794ea",
   "metadata": {},
   "outputs": [],
   "source": [
    "for i in VariablesNumAnalis:\n",
    "    print(i , 'moda =' ,df[i].mode())"
   ]
  },
  {
   "cell_type": "code",
   "execution_count": null,
   "id": "ab27d66a-5f2b-41c5-8878-f9441ab97e06",
   "metadata": {},
   "outputs": [],
   "source": [
    "for i in VariablesNumAnalis:\n",
    "    print(i , 'mediana =' ,df[i].median())"
   ]
  },
  {
   "cell_type": "markdown",
   "id": "a2a428cf-5341-4f19-bd94-88d5179475ce",
   "metadata": {},
   "source": [
    "\n",
    "<div class=\"alert alert-block alert-info\">\n",
    "<b>Nota:</b> Pandas tiene la funcion describe(), pero no contiene todos los estadisticos.\n",
    "</div>\n"
   ]
  },
  {
   "cell_type": "code",
   "execution_count": null,
   "id": "b2c23259-98c6-4374-b15d-b48dc41b6cb3",
   "metadata": {},
   "outputs": [],
   "source": [
    "df[VariablesNumAnalis].describe()"
   ]
  },
  {
   "cell_type": "code",
   "execution_count": null,
   "id": "b7f8a06d-9633-406a-91de-6743772177ce",
   "metadata": {},
   "outputs": [],
   "source": [
    "df['Clase Temp'].describe()"
   ]
  },
  {
   "cell_type": "markdown",
   "id": "c0f3e1e0-2bb7-4ef4-85d4-8c3650392bb0",
   "metadata": {},
   "source": [
    "##### Para obtener un resumen estadístico más completo, podemos definir la siguiente función."
   ]
  },
  {
   "cell_type": "code",
   "execution_count": null,
   "id": "31463dbc-6a26-4efe-92b8-b93c4981f8ed",
   "metadata": {},
   "outputs": [],
   "source": [
    "def estadigrafos(df, VariableName):\n",
    "    \"\"\"\n",
    "    Calcula estadísticas descriptivas básicas para una columna específica de un DataFrame.\n",
    "\n",
    "    Parámetros:\n",
    "    - df (pandas.DataFrame): DataFrame que contiene los datos.\n",
    "    - VariableName (str): Nombre de la columna para la cual calcular las estadísticas.\n",
    "\n",
    "    Retorna:\n",
    "    - pandas.DataFrame: DataFrame con las estadísticas de la columna especificada.\n",
    "    \"\"\"\n",
    "    # Calcula las estadísticas deseadas\n",
    "    minim = df[VariableName].min()\n",
    "    Q1 = df[VariableName].quantile(0.25)\n",
    "    prome = df[VariableName].mean()\n",
    "    Q2 = df[VariableName].median()\n",
    "    Q3 = df[VariableName].quantile(0.75)\n",
    "    maxim = df[VariableName].max()\n",
    "    varia = df[VariableName].var()\n",
    "    desvi = df[VariableName].std()\n",
    "    rango = maxim - minim\n",
    "    IQR = Q3 - Q1\n",
    "    coefv = desvi / prome if prome != 0 else np.nan  # Previene división por cero\n",
    "    simetria = df[VariableName].skew()\n",
    "    curtosis = df[VariableName].kurtosis()\n",
    "\n",
    "    # Crea un DataFrame con los resultados\n",
    "    estadisticas = pd.DataFrame({\n",
    "        VariableName: [minim, Q1, prome, Q2, Q3, maxim, varia, desvi, rango, IQR, coefv, simetria, curtosis]\n",
    "    }, index=['Mínimo', 'Primer Cuartil', 'Promedio', 'Mediana', 'Tercer Cuartil', 'Máximo', 'Varianza', 'Desviación Estandar', 'Rango', 'IQR', 'Coeficiente de variación', 'Simetria', 'Curtosis'])\n",
    "\n",
    "    return estadisticas.round(2)"
   ]
  },
  {
   "cell_type": "code",
   "execution_count": null,
   "id": "faa080d3-38c8-4a97-a965-cc63071d3648",
   "metadata": {},
   "outputs": [],
   "source": [
    "VariablesNumAnalis = ['T', 'pH', 'Eh', 'Na+', 'K+', 'Ca2+', 'HCO3-', 'SO42-', 'Cl-', 'SiO2']\n",
    "\n",
    "estadisticas = pd.DataFrame()\n",
    "for variable in VariablesNumAnalis:\n",
    "    df_est = estadigrafos(df, variable)\n",
    "    estadisticas = pd.concat([estadisticas, df_est], axis = 1)\n",
    "\n",
    "estadisticas"
   ]
  },
  {
   "cell_type": "markdown",
   "id": "e7c659fd-9f47-47b2-99a2-7132bfae1f51",
   "metadata": {},
   "source": [
    "#### **<font color=\"blue\"> Histogramas y digrama de caja y bigotes (boxplots) </font>** \n",
    "\n",
    "\n",
    "![his-box.png](his-box.png)\n",
    "\n",
    "**Histogramas** o gráficos de barras: Son una representación gráfica de la distribución de frecuencias de un conjunto de valores numéricos. \n",
    "\n",
    "De un histograma podemos obtener:\n",
    "* Rangos de valores\n",
    "* Asimetría o sesgo\n",
    "* Intervalos de valores con frecuencias máximas\n",
    "* Datos atípicos (es atípico si $dato<q_{0.25}-1.5*IQR$ o si $dato>q_{0.75}+1.5*IQR$)\n",
    "* Dispersión"
   ]
  },
  {
   "cell_type": "code",
   "execution_count": null,
   "id": "1f293c90-6ce9-4b21-a244-3ce00cc86f58",
   "metadata": {},
   "outputs": [],
   "source": [
    "def HistBox(variables, df):\n",
    "    plt.figure(figsize=(20, 20))\n",
    "    outer_grid = gridspec.GridSpec(6, 2, wspace=0.2, hspace=0.4)\n",
    "    custom_params = {\"axes.spines.right\": True, \"axes.spines.top\": True, \"axes.spines.left\": True}\n",
    "    sns.set_theme(style='whitegrid', context=\"talk\", rc=custom_params, color_codes = True)\n",
    "    sns.set_style(\"ticks\", {\"axes.grid\": True, \"grid.linestyle\": \"--\"})\n",
    "\n",
    "    for i, variable in enumerate(variables):\n",
    "        inner_grid = gridspec.GridSpecFromSubplotSpec(2, 1,\n",
    "                                                      subplot_spec=outer_grid[i],\n",
    "                                                      height_ratios=[4, 1],\n",
    "                                                      hspace=0.02)  # Ajustado para minimizar el espacio entre histogramas y boxplots\n",
    "\n",
    "        # Histograma\n",
    "        ax_hist = plt.Subplot(plt.gcf(), inner_grid[0])\n",
    "        sns.histplot(df[variable], kde=True, stat='density', color='yellowgreen', ax=ax_hist)\n",
    "        ax_hist.set_title(variable)\n",
    "        ax_hist.set_xlabel('')  # Mantener esto para limpieza\n",
    "        plt.gcf().add_subplot(ax_hist)\n",
    "        ax_hist.tick_params(axis='x',          # Cambios para ocultar solo los ticks (no las etiquetas, que ya están ocultas)\n",
    "                            which='both',      # Afecta a ticks mayores y menores\n",
    "                            bottom=False,      # Oculta ticks inferiores\n",
    "                            top=False,         # Oculta ticks superiores (si estuvieran visibles)\n",
    "                            labelbottom=False) # Oculta las etiquetas de los ticks inferiores\n",
    "        # Calcula y anota estadísticas\n",
    "        mean = df[variable].mean()\n",
    "        median = df[variable].median()\n",
    "        mode = df[variable].mode()[0]  # Moda\n",
    "        max_value = df[variable].max()\n",
    "        min_value = df[variable].min()\n",
    "\n",
    "        # Agrega líneas verticales para cada estadística\n",
    "        lines = [\n",
    "            ax_hist.axvline(mean, color='red', linestyle='dashed', linewidth=2),\n",
    "            ax_hist.axvline(median, color='green', linestyle='dashed', linewidth=2)#,\n",
    "        ]\n",
    "\n",
    "        ax_hist.grid(True)\n",
    "\n",
    "        # Boxplot\n",
    "        ax_box = plt.Subplot(plt.gcf(), inner_grid[1], sharex=ax_hist)\n",
    "        sns.boxplot(x=df[variable], ax=ax_box, color='lightgreen', showmeans=True,\n",
    "                    meanprops={\"marker\":\"o\", \"markerfacecolor\":'red',\n",
    "                               \"markeredgecolor\":\"gray\", \"markersize\":\"10\"})\n",
    "        ax_box.set_xlabel('')\n",
    "        ax_box.tick_params(axis='x',          # Cambios para ocultar solo los ticks (no las etiquetas, que ya están ocultas)\n",
    "                            which='both',      # Afecta a ticks mayores y menores\n",
    "                            bottom=True,      # Oculta ticks inferiores\n",
    "                            top=True,         # Oculta ticks superiores (si estuvieran visibles)\n",
    "                            labelbottom=True)\n",
    "        plt.gcf().add_subplot(ax_box)"
   ]
  },
  {
   "cell_type": "code",
   "execution_count": null,
   "id": "7f2c8d77-3cef-41d8-98af-7702e9c7f5c4",
   "metadata": {},
   "outputs": [],
   "source": [
    "HistBox(VariablesNumAnalis, df)"
   ]
  },
  {
   "cell_type": "markdown",
   "id": "aff49f0f-98a8-4666-b9e8-88fce52da605",
   "metadata": {},
   "source": [
    "#### **<font color=\"blue\"> AED para variable categóricas </font>** \n",
    "\n",
    "Para las variables contínuas se pueden obtener varias medidas que describan los datos, para el caso de variables categóricas la cosa cambia un poco."
   ]
  },
  {
   "cell_type": "markdown",
   "id": "fe7a7f09-bd2e-4ad8-9486-dc298001049a",
   "metadata": {},
   "source": [
    "\n",
    "<div class=\"alert alert-block alert-info\">\n",
    "<b>Nota:</b> Para hacer el AED, deben separar las variables numéricas contínuas de las variables categóricas.\n",
    "</div>\n"
   ]
  },
  {
   "cell_type": "code",
   "execution_count": null,
   "id": "5bab9557-1374-4975-9a0c-264e13a6e445",
   "metadata": {},
   "outputs": [],
   "source": [
    "df.describe()"
   ]
  },
  {
   "cell_type": "code",
   "execution_count": null,
   "id": "0a04113e-8376-408e-b257-3e8981d8e10c",
   "metadata": {},
   "outputs": [],
   "source": [
    "df.columns"
   ]
  },
  {
   "cell_type": "code",
   "execution_count": null,
   "id": "77bbd96e-641f-43f7-b6a3-4f506aef9d20",
   "metadata": {},
   "outputs": [],
   "source": [
    "VariablesCatAnalis = ['Tipo', 'Clase Temp']"
   ]
  },
  {
   "cell_type": "code",
   "execution_count": null,
   "id": "ff7450cb-c093-4057-b8aa-73f62a957dc0",
   "metadata": {},
   "outputs": [],
   "source": [
    "df[VariablesCatAnalis].describe()"
   ]
  },
  {
   "cell_type": "code",
   "execution_count": null,
   "id": "b435a1c0-3cdb-4284-af1e-6b7c02aedbe2",
   "metadata": {},
   "outputs": [],
   "source": [
    "for i in VariablesCatAnalis:\n",
    "    plt.figure(figsize=(10, 6))\n",
    "    conteo = df[i].value_counts()\n",
    "    plt.bar(conteo.index, conteo.values, color='skyblue')\n",
    "    plt.ylabel('Frecuencia absoluta')\n",
    "    plt.title('Gráfico de barras de ' + i)\n",
    "    plt.xticks(rotation=45)  # opcional, mejora la legibilidad\n",
    "    plt.show()"
   ]
  },
  {
   "cell_type": "code",
   "execution_count": null,
   "id": "6050af0c-6c3c-4136-85a5-001cb82c2c52",
   "metadata": {},
   "outputs": [],
   "source": [
    "for i in VariablesCatAnalis:\n",
    "    plt.figure(figsize=(10, 6))\n",
    "    frecuencia_relativa = df[i].value_counts(normalize=True)\n",
    "    plt.bar(frecuencia_relativa.index, frecuencia_relativa.values, color='skyblue')\n",
    "    plt.ylabel('Frecuencia relativa')\n",
    "    plt.title('Gráfico de barras de ' + i)\n",
    "    plt.xticks(rotation=45)  # Mejora la legibilidad si hay muchas categorías\n",
    "    plt.show()"
   ]
  },
  {
   "cell_type": "markdown",
   "id": "eb24199b",
   "metadata": {},
   "source": [
    "---\n",
    "<a name='ej-1'></a>\n",
    "### **<font color=\"DodgerBlue\"> Ejercicio </font>**\n",
    "\n",
    "<font color=\"DarkBlue\"> 1. Crear un DataFrame con los datos de la siguiente liga \"https://corgis-edu.github.io/corgis/datasets/csv/earthquakes/earthquakes.csv\"\n",
    " \n",
    "Para mas informacion sobre la base de datos : https://corgis-edu.github.io/corgis/csv/earthquakes/\n",
    "    \n",
    "<font color=\"DarkBlue\"> 2. Realizar la limpieza y organizacion de los datos.\n",
    "    \n",
    "<font color=\"DarkBlue\"> 3. Elijan 3 o 4 variables contínuas y 1 o 2 variables categóricas para hacer el AED.\n",
    "    \n",
    "---"
   ]
  },
  {
   "cell_type": "code",
   "execution_count": null,
   "id": "e2664d28",
   "metadata": {},
   "outputs": [],
   "source": []
  }
 ],
 "metadata": {
  "kernelspec": {
   "display_name": "Python 3 (ipykernel)",
   "language": "python",
   "name": "python3"
  },
  "language_info": {
   "codemirror_mode": {
    "name": "ipython",
    "version": 3
   },
   "file_extension": ".py",
   "mimetype": "text/x-python",
   "name": "python",
   "nbconvert_exporter": "python",
   "pygments_lexer": "ipython3",
   "version": "3.11.6"
  }
 },
 "nbformat": 4,
 "nbformat_minor": 5
}
