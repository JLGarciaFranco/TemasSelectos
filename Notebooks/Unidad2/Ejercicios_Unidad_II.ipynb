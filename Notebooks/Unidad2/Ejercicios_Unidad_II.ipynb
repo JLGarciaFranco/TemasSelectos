{
  "nbformat": 4,
  "nbformat_minor": 0,
  "metadata": {
    "colab": {
      "provenance": []
    },
    "kernelspec": {
      "name": "python3",
      "display_name": "Python 3"
    },
    "language_info": {
      "name": "python"
    }
  },
  "cells": [
    {
      "cell_type": "markdown",
      "source": [
        "<p align=\"center\">\n",
        "  <span style=\"color:Navy; font-size:200%; font-weight:bold; vertical-align:middle;\">\n",
        "    Temas Selectos: Python para Ciencias de la Tierra\n",
        "  </span>\n",
        "  <img src=\"attachment:LOGO_ENCIT.png\" alt=\"ENCiT\" width=\"120\" style=\"vertical-align:middle; margin-left:20px;\"/>\n",
        "</p>\n",
        "\n",
        "<p align=\"center\" style=\"line-height:1.2;\">\n",
        "  <span style=\"color:RoyalBlue; font-size:150%;\">Tema 2: Manejo de Archivos y Visualización de Datos\n",
        "</span><br/>\n",
        "  <span style=\"color:DodgerBlue; font-size:130%;\">Notebook: Ejercicios en Clase</span><br/>\n",
        "  <span style=\"font-size:100%;color:forestgreen\"> Escuela Nacional de Ciencias de la Tierra  |  Semestre 2026-I</span>\n",
        "</p>\n",
        "\n",
        "---"
      ],
      "metadata": {
        "id": "qUAoDjy6RR68"
      }
    },
    {
      "cell_type": "markdown",
      "source": [],
      "metadata": {
        "id": "W0Tqoro5R0lR"
      }
    },
    {
      "cell_type": "code",
      "execution_count": null,
      "metadata": {
        "id": "pjjszZyJRCff"
      },
      "outputs": [],
      "source": []
    },
    {
      "cell_type": "markdown",
      "source": [
        "## Emisiones de CO2 del Volcán Mauna Loa\n",
        "\n",
        "Los datos provienen del Observatorio de Mauna Loa, ubicado en la isla de Hawái. Este observatorio proporciona información sobre las concentraciones de CO2 en la atmósfera desde 1958 y pueden ser descargados en el siguiente enlace:\n",
        "https://gml.noaa.gov/webdata/ccgg/trends/co2/co2_mm_mlo.txt\n",
        "\n",
        "Y para más información, visítese:\n",
        "https://gml.noaa.gov/ccgg/trends/data.html\n",
        "\n",
        "*   Contenido:  La base de datos incluye mediciones mensuales de la concentración de CO2 en partes por millón (ppm).\n",
        "\n",
        "## Ejercicio:\n",
        "1. Realicen el análisis exploratorio de datos.\n",
        "2. Obtengan el gráfico de línea y/o dispersión de los datos históricos.\n",
        "3. Comparen cómo han sido las emisiones históricas por mes (Obtengan los histogramas y boxplots para cada mes).\n",
        "4. Comparen cómo han sido las emisiones históricas por año.\n",
        "5. Ajusten una regresión lineal a los datos históricos."
      ],
      "metadata": {
        "id": "teQvmFH3R1dK"
      }
    },
    {
      "cell_type": "code",
      "source": [],
      "metadata": {
        "id": "LXaTNExzRzHU"
      },
      "execution_count": null,
      "outputs": []
    },
    {
      "cell_type": "markdown",
      "source": [
        "# Temperatura superficial del mar\n",
        "\n",
        "Utilizando los datos de temperatura superficial del mar (HadSST) vistos en clase, realice los siguientes cálculos.\n",
        "\n",
        "1. Estime el promedio de temperatura en la región del [Niño 3.4:](https://www-ncei-noaa-gov.translate.goog/access/monitoring/enso/sst?_x_tr_sl=en&_x_tr_tl=es&_x_tr_hl=es&_x_tr_pto=tc).\n",
        "2. Grafique la serie de tiempo de los datos en frecuencia anual (años versus SST).\n",
        "3. Calcule la tendencia temporal (regresión lineal usando los años como variable en el eje x). Determine la magnitud del cambio de la temperatura en unidades de grados Celsius por década.\n",
        "\n"
      ],
      "metadata": {
        "id": "PeZxk5Lj63d4"
      }
    },
    {
      "cell_type": "code",
      "source": [],
      "metadata": {
        "id": "HOVWouZA9NAz"
      },
      "execution_count": null,
      "outputs": []
    },
    {
      "cell_type": "markdown",
      "source": [
        "# Ozono.\n",
        "\n",
        "Realice el siguiente análisis de los datos de ozono, por estación.\n",
        "\n",
        "1. Calcule el ciclo anual de las concentraciones de ozono para 5 estaciones y grafique cada una como una línea individual en la misma gráfica. Recuerde que un ciclo es una gráfica donde se muestre en el eje x los meses (12) y en el eje y el promedio por mes. Comente si se observa el mismo ciclo en todas las estaciones.\n",
        "2. Encuentre una estación con datos faltantes a través de gráficas de series de tiempo por estación.\n",
        "3. Para una estación de su elección con muchos datos faltantes, rellene algunos datos faltantes utilizando las funciones de interpolación (escoja la que más le acomode) vistas en clase.\n",
        "4. Grafique la serie de tiempo con huecos y la serie de tiempo rellenada."
      ],
      "metadata": {
        "id": "uXZUgpVn9Kv_"
      }
    },
    {
      "cell_type": "code",
      "source": [],
      "metadata": {
        "id": "dK01jdXX9Ln9"
      },
      "execution_count": null,
      "outputs": []
    },
    {
      "cell_type": "markdown",
      "source": [
        "---\n",
        "<a name='ej-ans-1'></a>\n",
        "### <font color=\"DodgerBlue\">Ejercicio – Regresión lineal con Anscombe</font>\n",
        "\n",
        "Usa el conjunto **Anscombe** (cárgalo con `seaborn.load_dataset(\"anscombe\")`).\n",
        "\n",
        "1) Para cada grupo (`I`, `II`, `III`, `IV`):\n",
        "   - Haz un gráfico de dispersión `x` vs `y`.\n",
        "   - Ajusta una **regresión lineal** (`y ~ x`) y dibuja la recta estimada.\n",
        "   - Reporta pendiente, intercepto y R².\n",
        "2) Compara visualmente los cuatro casos y responde en 2–3 líneas:\n",
        "   - ¿La misma recta explica bien a todos?  \n",
        "   - ¿Qué patrones de la dispersión de los datos no capta el ajuste lineal?\n",
        "\n",
        "3) Extra (+8 puntos) Usando únicamente el grupo II, realiza el mismo procedimiento que en 1) pero utilizando regresión logarítimica y polinomial para determinar si alguna de estas regresiones se ajusta mejor, o no, a la regresión lineal simple.\n",
        "\n"
      ],
      "metadata": {
        "id": "9rddTOat-7Bs"
      }
    },
    {
      "cell_type": "code",
      "source": [],
      "metadata": {
        "id": "EwHlYPW8BRrt"
      },
      "execution_count": null,
      "outputs": []
    }
  ]
}