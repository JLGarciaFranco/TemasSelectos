{
 "cells": [
  {
   "cell_type": "markdown",
   "metadata": {
    "id": "7M_V4HNO5mz7"
   },
   "source": [
    "#Tipos de Variables\n",
    "\n",
    "#Entero o Integer\n",
    "\n",
    "Un entero es un número completo (sin un punto decimal). Puede ser positivo o negativo. Por ejemplo:"
   ]
  },
  {
   "cell_type": "code",
   "execution_count": null,
   "metadata": {
    "id": "_ACF7xqv6CDN"
   },
   "outputs": [],
   "source": [
    "integer_positivo = 5\n",
    "integer_negativo = -3\n",
    "\n",
    "#Qué va a salir en la consola si corremos esta celda?"
   ]
  },
  {
   "cell_type": "markdown",
   "metadata": {
    "id": "JMtOIxtF8Met"
   },
   "source": [
    "\n",
    "\n",
    "---\n",
    "\n",
    "\n",
    "## Flotante\n",
    "Un flotante es un número que incluye un punto decimal. Puede ser positivo o negativo. Por ejemplo:"
   ]
  },
  {
   "cell_type": "code",
   "execution_count": null,
   "metadata": {
    "colab": {
     "base_uri": "https://localhost:8080/"
    },
    "id": "ekdq4-gr8Uy_",
    "outputId": "1e08110a-7c44-435c-be3b-e4b915e035b1"
   },
   "outputs": [
    {
     "data": {
      "text/plain": [
       "3.14"
      ]
     },
     "execution_count": 2,
     "metadata": {},
     "output_type": "execute_result"
    }
   ],
   "source": [
    "float_positivo = 3.14\n",
    "float_negativo = -0.01\n",
    "\n",
    "float_positivo"
   ]
  },
  {
   "cell_type": "markdown",
   "metadata": {
    "id": "xUY_e1L08g0h"
   },
   "source": [
    "\n",
    "\n",
    "---\n",
    "\n",
    "\n",
    "## Cadena o String\n",
    "Una cadena es una secuencia de caracteres. En Python, se puede escribir la cadena encerrando caracteres entre comillas simples (') o comillas dobles (\"). Por ejemplo:"
   ]
  },
  {
   "cell_type": "code",
   "execution_count": null,
   "metadata": {
    "id": "eIMRkbEY8unL"
   },
   "outputs": [],
   "source": [
    "cadena_1 = '¡Hola, mundo!'\n",
    "cadena_2 = \"¡Ola k ase!\""
   ]
  },
  {
   "cell_type": "markdown",
   "metadata": {
    "id": "qbcMr7A79Dvd"
   },
   "source": [
    "\n",
    "\n",
    "---\n",
    "\n",
    "\n",
    "## Booleano\n",
    "Un booleano es un tipo que solo puede tener uno de dos valores: Verdadero o Falso.\n",
    "Normalmente los booleanos se usan en condiciones (`if` statements)\n"
   ]
  },
  {
   "cell_type": "code",
   "execution_count": null,
   "metadata": {
    "colab": {
     "base_uri": "https://localhost:8080/"
    },
    "id": "7agqiWWP9nco",
    "outputId": "ecb82e60-7c9e-4163-cfbd-416e5a43a590"
   },
   "outputs": [
    {
     "data": {
      "text/plain": [
       "True"
      ]
     },
     "execution_count": 3,
     "metadata": {},
     "output_type": "execute_result"
    }
   ],
   "source": [
    "true_statement = True\n",
    "false_statement = False\n",
    "\n",
    "true_statement\n",
    "\n",
    "\n",
    "#Ojo, que en Python los booleanos van con mayúsculas, por ejemplo en JS\n",
    "#Se escribe con minúsculas.\n"
   ]
  },
  {
   "cell_type": "markdown",
   "metadata": {
    "id": "eAxxjqmCDjqA"
   },
   "source": [
    "\n",
    "\n",
    "---\n",
    "\n",
    "\n",
    "#Buenas prácticas en las variables\n",
    "\n",
    "Hasta ahora se habrán dado cuenta de que las variables se han escrito con cierto\n",
    "formato, a la hora de programar es recomendable nombrar las variables usando buenas prácticas.\n",
    "\n",
    "¿Qué son esas buenas prácticas?\n",
    "\n",
    "\n",
    "\n",
    "*   Utilizar nombres fáciles de leer para humanos (human-readable). Por ejemplo: `userName`, `personAge` etc.\n",
    "*   No usen abreviaciones o nombres cortos como `a`,`b`,`c`, `xxx`, `wwwwww`, `nanomp`, `rstlo`.\n",
    "*   Sean concisos en el nombre de la variable. Es decir que se entienda de qué se trata. Usar nombres como: `key, number, array`. Son malos nombres\n",
    "*   Los nombres de variables compuestos deben de poder leerse de manera natural. Se recomienda que usen ya sea \"camel case\" (`userName`)o \"snake case\" (`user_name`).\n",
    "*   No utilicen una misma variable para distintos propósitos en una misma sección. Es decir no repitan las variables.\n",
    "*   No usen caracteres que no sean alfanuméricos como `&,?,#` etc.\n",
    "*   Procuren que el nombre tenga entre 2 a 4 palabras o bien, entre 8 y 20 caracteres `datos_de_practica_de_campo_segunda_region` no es buen nombre.\n",
    "*   Sean consistentes con el nombre de las variables.\n",
    "\n"
   ]
  },
  {
   "cell_type": "markdown",
   "metadata": {
    "id": "aGH0JzVWGeET"
   },
   "source": [
    "Bueno después del breviario cultural sigamos\n",
    "\n",
    "\n",
    "---\n",
    "\n",
    "\n",
    "## Convirtiendo Entre Tipos\n",
    "\n",
    "En Python, se pueden convertir valores entre diferentes tipos utilizando funciones como `int(), float(), y str()`. Pero, no todas las conversiones están permitidas, por ejemplo, no pueden convertir el string \"hola\" a un entero.\n"
   ]
  },
  {
   "cell_type": "code",
   "execution_count": null,
   "metadata": {
    "colab": {
     "base_uri": "https://localhost:8080/"
    },
    "id": "SDwSwXXeHJZC",
    "outputId": "53be0e81-c008-4ee3-c19e-1ba000bab028"
   },
   "outputs": [
    {
     "name": "stdout",
     "output_type": "stream",
     "text": [
      "3\n"
     ]
    }
   ],
   "source": [
    "#Convertir flotante a entero\n",
    "\n",
    "my_float = 3.14\n",
    "my_integer = int(my_float)\n",
    "print(my_integer)"
   ]
  },
  {
   "cell_type": "code",
   "execution_count": null,
   "metadata": {
    "colab": {
     "base_uri": "https://localhost:8080/"
    },
    "id": "DwpZQonK9B4p",
    "outputId": "1f0d1896-7649-498d-da8c-fbf1e51afd23"
   },
   "outputs": [
    {
     "name": "stdout",
     "output_type": "stream",
     "text": [
      "4\n"
     ]
    }
   ],
   "source": [
    "#OJO Cuando convierten un flotante a un entero en Python, no redondea al número entero más cercano, siempre trunca.\n",
    "my_float2 = 4.9\n",
    "my_integer2 = int(my_float2)\n",
    "print(my_integer2)"
   ]
  },
  {
   "cell_type": "code",
   "execution_count": null,
   "metadata": {
    "colab": {
     "base_uri": "https://localhost:8080/"
    },
    "id": "vrWZBe_l9FSB",
    "outputId": "fba54073-5938-4b41-97b3-cbe2e67fef07"
   },
   "outputs": [
    {
     "name": "stdout",
     "output_type": "stream",
     "text": [
      "10.0\n"
     ]
    }
   ],
   "source": [
    "#Convertir de entero a flotante\n",
    "a_integer = 10\n",
    "a_float = float(a_integer)\n",
    "print(a_float)"
   ]
  },
  {
   "cell_type": "code",
   "execution_count": null,
   "metadata": {
    "colab": {
     "base_uri": "https://localhost:8080/"
    },
    "id": "UNwOlBmq9IPS",
    "outputId": "7f307dda-6ba3-4eb1-92ca-ab1e0a770737"
   },
   "outputs": [
    {
     "name": "stdout",
     "output_type": "stream",
     "text": [
      "10\n",
      "10.0\n"
     ]
    }
   ],
   "source": [
    "#Puede que aquí la diferencia no sea tan notable pero observen:\n",
    "print(a_integer)\n",
    "print(a_float)"
   ]
  },
  {
   "cell_type": "code",
   "execution_count": null,
   "metadata": {
    "colab": {
     "base_uri": "https://localhost:8080/"
    },
    "id": "-At1vxgv9TLk",
    "outputId": "706f2298-96e2-4d43-d4c6-c9e102aacf73"
   },
   "outputs": [
    {
     "name": "stdout",
     "output_type": "stream",
     "text": [
      "5.0\n"
     ]
    }
   ],
   "source": [
    "#Era cierto lo de las strings o les mentí?\n",
    "a_string = \"5\"\n",
    "a_string_to_integer = float(a_string)\n",
    "\n",
    "print(a_string_to_integer)"
   ]
  },
  {
   "cell_type": "code",
   "execution_count": null,
   "metadata": {
    "colab": {
     "base_uri": "https://localhost:8080/",
     "height": 36
    },
    "id": "WWbgqxyc9YnB",
    "outputId": "45ea9ce5-69d2-4dd2-e2ca-3309883d20a9"
   },
   "outputs": [
    {
     "data": {
      "application/vnd.google.colaboratory.intrinsic+json": {
       "type": "string"
      },
      "text/plain": [
       "'10'"
      ]
     },
     "execution_count": 13,
     "metadata": {},
     "output_type": "execute_result"
    }
   ],
   "source": [
    "#Y al revés?? de integer o float a string?\n",
    "\n",
    "a_float_to_str = str(a_integer)\n",
    "a_integer_to_str = str(a_float)\n",
    "a_float_to_str"
   ]
  },
  {
   "cell_type": "markdown",
   "metadata": {
    "id": "dI9C6OE0LUfV"
   },
   "source": [
    "\n",
    "\n",
    "---\n",
    "\n",
    "\n",
    "#Obteniendo el tipo de las variables\n",
    "\n",
    "A veces no estamos seguros del tipo de alguna variable, así que a veces vamos a querer verificar de qué se trata. Para eso, se puede utilzar la función `type()`. Que básicamente les va a indicar el tipo de variable que pasemos como argumento."
   ]
  },
  {
   "cell_type": "code",
   "execution_count": null,
   "metadata": {
    "colab": {
     "base_uri": "https://localhost:8080/"
    },
    "id": "PTCTmiy_Lq3P",
    "outputId": "ba0e8e3b-9daf-4869-9408-7f82661b6346"
   },
   "outputs": [
    {
     "name": "stdout",
     "output_type": "stream",
     "text": [
      "<class 'str'>\n",
      "<class 'int'>\n",
      "<class 'float'>\n"
     ]
    }
   ],
   "source": [
    "myString = \"Buenos días, tardes ya\"\n",
    "print(type(myString))\n",
    "\n",
    "print(type(my_integer2))\n",
    "\n",
    "print(type(my_float2))"
   ]
  },
  {
   "cell_type": "markdown",
   "metadata": {
    "id": "kfkMDvG7MpEx"
   },
   "source": [
    "#Operaciones matemáticas\n",
    "\n",
    "Pues básicamente las que ya deben de conocer\n",
    "\n",
    "\n",
    "*   Suma (+)\n",
    "*   Resta (-)\n",
    "*   Multiplicación (*)\n",
    "*   División (/)\n",
    "*   Módulo (%) Este igual y no es tan famoso, pero básicamente te da el residuo de una división. Por ejemplo 10 % 3 = 1\n",
    "*   Exponenciación (**). También pueden usar `pow()`\n"
   ]
  },
  {
   "cell_type": "markdown",
   "metadata": {
    "id": "egy4av0LNrpN"
   },
   "source": [
    "Y qué pasa con las cadenas?\n",
    "\n",
    "Como tal, la única oepración que se puede hacer entre cadenas\n",
    "es concatenarlas. Es decir, unir varias cadenas\n",
    "\n",
    "Esto es súper útil para automatizar y poder mejorar poner títulos o nombres de archivos."
   ]
  },
  {
   "cell_type": "code",
   "execution_count": null,
   "metadata": {
    "colab": {
     "base_uri": "https://localhost:8080/"
    },
    "id": "ikfH9y0KPjCN",
    "outputId": "f827d359-2d0d-40c1-ed78-8676473313de"
   },
   "outputs": [
    {
     "name": "stdout",
     "output_type": "stream",
     "text": [
      "hola grupo ¿Cómo están?\n"
     ]
    }
   ],
   "source": [
    "cadena_1 = 'hola'\n",
    "cadena_2 = 'grupo'\n",
    "print(cadena_1 + cadena_2)\n",
    "\n",
    "\n",
    "#Esto está bien, pero podría estar mejor, falta un espacio, entonces lo concatenamos\n",
    "print( cadena_1 + ' ' + cadena_2 + ' ¿Cómo están?')\n",
    "\n",
    "print(cadena_1 * 3)\n"
   ]
  },
  {
   "cell_type": "markdown",
   "metadata": {
    "id": "PufI9DARSsxv"
   },
   "source": [
    "\n",
    "\n",
    "---\n",
    "\n",
    "\n",
    "Vimos un modo de concatenar que es utilizando el signo '+', pero hay otros\n",
    "3 métodos. Pueden usar el que más les guste.\n",
    "\n",
    "**Segunda Forma:** Utilizando **%s**:\n"
   ]
  },
  {
   "cell_type": "code",
   "execution_count": null,
   "metadata": {
    "colab": {
     "base_uri": "https://localhost:8080/"
    },
    "id": "8E3v4rBzTMJK",
    "outputId": "a639a7de-1701-40a4-cd4c-d1014c393d83"
   },
   "outputs": [
    {
     "name": "stdout",
     "output_type": "stream",
     "text": [
      "hola grupo ¿Cómo están?\n"
     ]
    }
   ],
   "source": [
    "print('%s %s ¿Cómo están?' % (cadena_1, cadena_2)) #la s viene de String\n"
   ]
  },
  {
   "cell_type": "markdown",
   "metadata": {
    "id": "UulQPZ-zS5jL"
   },
   "source": [
    "\n",
    "\n",
    "---\n",
    "\n",
    "\n",
    "**Tercera Forma:** Utilizando **.format**\n",
    "\n"
   ]
  },
  {
   "cell_type": "code",
   "execution_count": null,
   "metadata": {
    "colab": {
     "base_uri": "https://localhost:8080/"
    },
    "id": "fFS3AWhqUZ56",
    "outputId": "43634d31-e1d4-427c-a6dd-f2ece0ea185c"
   },
   "outputs": [
    {
     "name": "stdout",
     "output_type": "stream",
     "text": [
      "Hola Grupo ¿Cómo están?\n"
     ]
    }
   ],
   "source": [
    "#print('{} {} ¿Cómo están?'.format(cadena_1, cadena_2))\n",
    "\n",
    "#Este formato luego es útil cuando queremos usar diccionarios.\n",
    "\n",
    "\n",
    "data = {\n",
    "    'var1': 'Hola',\n",
    "    'var2': 'Grupo'\n",
    "}\n",
    "\n",
    "print('{var1} {var2} ¿Cómo están?'.format(**data))\n"
   ]
  },
  {
   "cell_type": "markdown",
   "metadata": {
    "id": "t8vc0wXAVQfp"
   },
   "source": [
    "\n",
    "\n",
    "---\n",
    "\n",
    "\n",
    "**Cuarta Forma:** Utilizando **f-Strings** (es más moderna, salió en la versión 3.6)"
   ]
  },
  {
   "cell_type": "code",
   "execution_count": null,
   "metadata": {
    "colab": {
     "base_uri": "https://localhost:8080/"
    },
    "id": "DcLVKYKfVfGz",
    "outputId": "7b89fc70-4fb2-443c-bf44-540c7997b218"
   },
   "outputs": [
    {
     "name": "stdout",
     "output_type": "stream",
     "text": [
      "hola grupo ¿Cómo están?\n"
     ]
    }
   ],
   "source": [
    "print(f'{cadena_1} {cadena_2} ¿Cómo están?')"
   ]
  },
  {
   "cell_type": "code",
   "execution_count": null,
   "metadata": {
    "colab": {
     "base_uri": "https://localhost:8080/"
    },
    "id": "vtpcwTXxN1Ws",
    "outputId": "d6e6c344-36c5-417b-8eec-c0ac9e8db688"
   },
   "outputs": [
    {
     "name": "stdout",
     "output_type": "stream",
     "text": [
      "El año 2020.0 es bisiesto dado que 2020%4 es: 0.0\n",
      "El año 2020.0 es bisiesto dado que 2020%4 es: 0.0\n",
      "El año 2020.0 es bisiesto dado que 2020%4 es: 0.0\n",
      "El año 2020.0 es bisiesto dado que 2020%4 es: 0.0\n"
     ]
    }
   ],
   "source": [
    "# Ejercicio para ustedes\n",
    "# Dado el siguiente año\n",
    "\n",
    "anio = 2020\n",
    "\n",
    "\n",
    "# Utilizando el módulo, comprobar que el año es bisiesto\n",
    "# Utilizando al menos dos métodos diferentes para concatenar obtengan la siguiente oración\n",
    "\n",
    "\n",
    "# El año 2020.0 es bisiesto dado que 2020%???  es ???\n",
    "\n",
    "result = 2020%4\n",
    "\n",
    "# Metodo 1\n",
    "print('El año ' + str(float(anio)) + ' es bisiesto dado que ' + str(anio) + '%4 es: ' + str(float(result)) )\n",
    "\n",
    "# Metodo 2\n",
    "print(f'El año {float(anio)} es bisiesto dado que {anio}%4 es: {float(result)}')\n",
    "\n",
    "# Metodo 3\n",
    "data = {\n",
    "    'var1': anio,\n",
    "    'var2': float(result),\n",
    "    'var3': float(anio)\n",
    "}\n",
    "\n",
    "print('El año {var3} es bisiesto dado que {var1}%4 es: {var2}'.format(**data))\n",
    "\n",
    "# Metodo 4\n",
    "percent = \"%\"\n",
    "print('El año %s es bisiesto dado que %s%s4 es: %s' % (float(anio), anio, percent, float(result)) )\n"
   ]
  }
 ],
 "metadata": {
  "colab": {
   "provenance": []
  },
  "kernelspec": {
   "display_name": "Python 3 (ipykernel)",
   "language": "python",
   "name": "python3"
  },
  "language_info": {
   "codemirror_mode": {
    "name": "ipython",
    "version": 3
   },
   "file_extension": ".py",
   "mimetype": "text/x-python",
   "name": "python",
   "nbconvert_exporter": "python",
   "pygments_lexer": "ipython3",
   "version": "3.11.6"
  }
 },
 "nbformat": 4,
 "nbformat_minor": 4
}
