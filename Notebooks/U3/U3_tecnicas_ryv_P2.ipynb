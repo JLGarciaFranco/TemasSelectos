{
 "cells": [
  {
   "attachments": {
    "LOGO_ENCIT.png": {
     "image/png": "[encoded data removed]"
    }
   },
   "cell_type": "markdown",
   "id": "9946a5e5",
   "metadata": {},
   "source": [
    "<p align=\"center\">\n",
    "  <span style=\"color:Navy; font-size:200%; font-weight:bold; vertical-align:middle;\">\n",
    "    Temas Selectos: Python para Ciencias de la Tierra\n",
    "  </span>\n",
    "  <img src=\"attachment:LOGO_ENCIT.png\" alt=\"ENCiT\" width=\"150\" style=\"vertical-align:middle; margin-left:20px;\"/>\n",
    "</p>\n",
    "<p align=\"center\" style=\"line-height:1.2;\">\n",
    "  <span style=\"color:RoyalBlue; font-size:160%;\">Tema 3: MAnálisis Geoespacial de Datos</span><br/>\n",
    "  <span style=\"color:DodgerBlue; font-size:140%;\"> Técnicas de análisis raster y vectorial </span><br/>\n",
    "  <span style=\"font-size:100%;color:forestgreen\"> Escuela Nacional de Ciencias de la Tierra  |  Semestre 2026-I</span>\n",
    "</p>\n",
    "\n",
    "---\n",
    "\n",
    "\n",
    "# **<font color=\"ForestGreen\"> Coordinate Reference sustem (CRS) </font>**\n",
    "\n",
    "## **<font color=\"SeaGreen\"> Coordenadas geográficas </font>**\n",
    "\n",
    "> Definimos una posición en el planeata en grados de latitud y longitud, relativos al ecuador y al primer meridiano. Con este sistema podemos especificar cualquier ubicación en el planeta.\n",
    "\n",
    "\n",
    "\n",
    "<div class=\"alert alert-block alert-info\">\n",
    "<b>Nota:</b> Cuidado, en python se usa el orden (longitud, latitud). Además la longitud está en un grando de -180 a 180 grados, y la latitud en un rango de 90 a -90 grados.\n",
    "</div>\n",
    "\n",
    "## **<font color=\"SeaGreen\"> Coordenadas proyectadas </font>**\n",
    "> Usualmente proyectamos el planeata en 2D para poder expresar ubicaciones en cooredenadas cartesianas x y y. \n",
    "\n",
    "Para minimizar el error de la proyección, existen distintas proyecciones: \n",
    "- Proyección de área iguales de Albert\n",
    "- La proyección Mercator\n",
    "\n",
    "\n",
    "Una representación es la `proj4` string, en python es representada como un diccionario. \n",
    "Por ejemplo: \n",
    "\n",
    "`+proj = lonlat +datum=WGS84 +nodefs`\n",
    "\n",
    "`{'proj': 'latlon','datum':'WGS84','no_defs':True}`\n",
    "\n",
    "\n",
    "La mayoría de los datos están representados en el sistema EPSG\n",
    "`+EPSG:4326` = WGS84 CRS geográfico (longitud,latitud)\n",
    "\n",
    "En GeoPandas, la información del CRS se guarda en el atributo `crs`, lo que regresa es la proyección en un string o diccionario.\n",
    "\n",
    "`geo_df = geopandas.read_file(\"archivo.shp\")`\n",
    "\n",
    "`+print(geo_df.crs)`\n",
    "imprime\n",
    "\n",
    "`{'init':'epsg:4326'}`\n",
    "\n"
   ]
  },
  {
   "cell_type": "code",
   "execution_count": null,
   "id": "90990626-7cd6-4ced-b106-049516ccedd9",
   "metadata": {},
   "outputs": [],
   "source": [
    "!pip install contextily\n",
    "!pip install mapclassify\n",
    "!pip install folium\n",
    "!pip install fiona"
   ]
  },
  {
   "cell_type": "code",
   "execution_count": null,
   "id": "8711b324",
   "metadata": {},
   "outputs": [],
   "source": [
    "import pandas as pd\n",
    "import seaborn as sns\n",
    "import matplotlib.pyplot as plt\n",
    "import numpy as np\n",
    "import matplotlib.gridspec as gridspec\n",
    "import contextily\n",
    "import geopandas\n",
    "\n",
    "from shapely.geometry import Point\n",
    "import mapclassify"
   ]
  },
  {
   "cell_type": "code",
   "execution_count": null,
   "id": "7f31c18c-84ab-4fb9-853f-5accad0dec2a",
   "metadata": {},
   "outputs": [],
   "source": [
    "# Importen el archivo paris_districts_utm.geojson\n",
    "districts = ____________\n",
    "\n",
    "# Impriman la información del CRS\n",
    "print(____)\n",
    "\n",
    "# Impriman las primeras filas del GeoDataFrame\n",
    "print(____)"
   ]
  },
  {
   "cell_type": "markdown",
   "id": "3567f895-a7fe-4fc6-aba6-75ab6382f2d9",
   "metadata": {},
   "source": [
    "## **<font color=\"SeaGreen\"> Datos ráster vs datos vectoriales </font>**\n",
    "\n",
    "Si no hay información sobre el tipo de CRS, se puede poner manualmante con el método `to_crs`.\n",
    "Por ejemplo: \n",
    "\n",
    "`geo_df2 = geo_df.to_crs({'proj':'lonlat','datum':'WGS84','no_defs':True})` \n",
    "\n",
    "o \n",
    "\n",
    "`geo_df2 = geo_df.to_crs(epsg=4326)`\n",
    "\n",
    "Recuerden que pueden usar el CRS de otro GeoDataFrame para llevar sus datos al mismo CRS\n",
    "\n",
    "`geo_df2 = geo_df2.to_crs(geo_df1.crs)`\n",
    "\n",
    "\n",
    "Recuerden que la elección del CRS depende del objetivo de su análisis. \n",
    "\n",
    "\n",
    "Sitios de interés:\n",
    "https://spatialreference.org/\n",
    "https://epsg.io/\n"
   ]
  },
  {
   "cell_type": "code",
   "execution_count": null,
   "id": "e7cbda51-4a88-49d7-827b-2dc41140fa24",
   "metadata": {},
   "outputs": [],
   "source": [
    "# Creen el GeoDataFrame districts_lonlat usando el EPSG 4326\n",
    "\n",
    "districts_lonlat = _________________\n",
    "\n",
    "#impriman el CRS\n",
    "________________________"
   ]
  },
  {
   "cell_type": "markdown",
   "id": "e9995f13-9648-4eef-9090-2d6a559f58c8",
   "metadata": {},
   "source": [
    "Vamos a ver la diferencia entre tres proyecciones:\n",
    "\n",
    "1. Impriman el CRS de districts, y districts_lonlat\n",
    "2. Muestren un mapa de districts\n",
    "3. Conviertan districts a otra proyección CRS (EPSG:2154), este nuevo dataset se llamará districts_RGF93.\n",
    "4. Creen un mapa para districts_RGF93.\n",
    "5. Creen un mapa para districts_lonlat.\n",
    "\n",
    "¿Ven alguna diferencia?\n"
   ]
  },
  {
   "cell_type": "code",
   "execution_count": null,
   "id": "0e00ca74-05b3-492e-bba1-c97e29f2e927",
   "metadata": {},
   "outputs": [],
   "source": [
    "# Impriman el CRS de districts\n",
    "print(districts.crs)\n",
    "\n",
    "# Muestren el mapa\n",
    "____\n",
    "plt.show()\n",
    "\n",
    "# Conviertan districts al CRS RGF93\n",
    "districts_RGF93 = districts.____\n",
    "\n",
    "# Muestren el mapa de districts_RGF93\n",
    "districts_RGF93.____\n",
    "plt.show()\n",
    "\n",
    "# Muestren el mapa de districts_lonlat\n",
    "_________\n",
    "_______"
   ]
  },
  {
   "cell_type": "markdown",
   "id": "ac5811d8-ab35-4bfb-8629-a0817b74c5dc",
   "metadata": {},
   "source": [
    "## **<font color=\"SeaGreen\"> Proyectando un punto. </font>**\n",
    "\n",
    "En el notebook anterior, trabajamos con la ubicación de la Torre Eiffel. Nuevamente, proporcionamos las coordenadas en un sistema de coordenadas proyectadas para que, por ejemplo, se puedan calcular distancias. Volvamos a este emblemático monumento y expresemos su ubicación en coordenadas geográficas: 48°51′29.6″N, 2°17′40.2″E. O, en decimales: latitud 48.8584 y longitud 2.2945.\n",
    "\n",
    "Los objetos geométricos Shapely no tienen noción de CRS y, por lo tanto, no se pueden convertir directamente a otro CRS. Por lo tanto, usaremos GeoPandas para transformar la ubicación del punto de la Torre Eiffel en un CRS alternativo. Introduciremos el punto en una GeoSeries, usaremos el método `to_crs()` y extraeremos el punto de nuevo.\n",
    "\n",
    "\n",
    "* Creen un objeto POINT en shapely con las coordenadas de la Torre Eiffel y asígnelo a una variable llamada eiffel_tower.\n",
    "* Creen una GeoSeries (llamada s_eiffel_tower) con la Torre Eiffel como único elemento y especifique el CRS EPSG:4326.\n",
    "* Conviertan s_eiffel_tower a EPSG:2154 y llamen al resultado s_eiffel_tower_projected.\n"
   ]
  },
  {
   "cell_type": "code",
   "execution_count": null,
   "id": "39d03fc2-8bd8-4782-8653-859ca6e23f4e",
   "metadata": {},
   "outputs": [],
   "source": [
    "# Construyan un punto para la Torre Eiffel\n",
    "eiffel_tower = ____\n",
    "\n",
    "# Conviertan el punto en una GeoSeries con el CRS correcto\n",
    "s_eiffel_tower = geopandas.GeoSeries([____], crs='____')\n",
    "\n",
    "# Conviertan el punto a un CRS EPSG 2154\n",
    "s_eiffel_tower_projected = s_eiffel_tower.____\n",
    "\n",
    "# Impriman el punto\n",
    "print(s_eiffel_tower_projected)"
   ]
  },
  {
   "cell_type": "markdown",
   "id": "1f6f1159-5627-4725-a275-3b0d37fee551",
   "metadata": {},
   "source": [
    "## **<font color=\"SeaGreen\"> Cálculo de la distancia en un sistema de coordenadas proyectado </font>**\n",
    "\n",
    "\n",
    "\n",
    "Ahora que tenemos la ubicación de la Torre Eiffel en un sistema de coordenadas proyectado, podemos calcular la distancia a otros puntos.\n",
    "\n",
    "Usaremos el último objeto `s_eiffel_tower_projected` del ejercicio anterior, que contiene el punto proyectado, y extraemos el punto único en la variable `eiffel_tower`. Además, también usaremos el dataframe de restaurantes (utilizando coordenadas WGS84).\n",
    "\n",
    "1. Sube el archivo \"paris_restaurants.csv\" y conviértelo a un GeoDataFrame.\n",
    "2. Convierte el GeoDataFrame al mismo CRS que el punto de la Torre Eiffel. Para este ejercicio, no especifiques la palabra clave epsg, sino el atributo .crs.\n",
    "3. Calcula la distancia de todos los restaurantes a la Torre Eiffel.\n",
    "4. Imprime la distancia más pequeña."
   ]
  },
  {
   "cell_type": "code",
   "execution_count": null,
   "id": "b47ad741-6f57-4622-b3ed-5f9c98638d32",
   "metadata": {},
   "outputs": [],
   "source": [
    "# Leemos el archivo csv\n",
    "df =___________________________\n",
    "\n",
    "# Convertir df a un GeoDataFrame\n",
    "restaurants = geopandas.GeoDataFrame( df, geometry=geopandas.points_from_xy(df['x'], df['y']), crs=\"EPSG:4326\"   # WGS84 (lat/lon)\n",
    "                                        )\n",
    "# muestren las primeras 5 filas. \n",
    "\n",
    "#Conviertan el CRS del punto s_eiffel_tower al mismo que restaurants \n",
    "s_eiffel_tower_projected = __________________.to_crs(__________.crs)\n",
    "eiffel_tower = _______________________.iloc[0]\n",
    "\n",
    "#Calculen la distancia de cada restaurante al torre Eiffel\n",
    "dist_eiffel = _________________.distance(__________)\n",
    "#Impriman las distancias\n",
    "_______________________________\n",
    "\n",
    "# Impriman la distancia mínima\n",
    "________________________________"
   ]
  },
  {
   "cell_type": "markdown",
   "id": "21c759cc",
   "metadata": {},
   "source": [
    "### **<font color=\"SeaGreen\"> Operaciones espaciales: creación de nuevas geometrías </font>**\n",
    "\n",
    "De manera similar a la clase pasada, podemos hacer ciertas operaciones con poligonos, por ejemplo:\n",
    "\n",
    "\n",
    "**1. Obtener intersecciones de poligonos:**\n",
    "\n",
    "![intersec](intersection.png)\n",
    "\n",
    "\n",
    "**2. Obtener uniones y**\n",
    "\n",
    "![union](union.png)\n",
    "\n",
    "\n",
    "**3. Obtener diferencias.**\n",
    "\n",
    "![dif](dif.png)"
   ]
  },
  {
   "cell_type": "markdown",
   "id": "50ea85d5-5cbb-423b-a9d1-558f8cf69d12",
   "metadata": {},
   "source": [
    "### **<font color=\"SeaGreen\"> Datos de uso del suelo </font>**\n",
    "\n",
    "Para los siguientes ejercicios, primero presentamos un nuevo conjunto de datos: un conjunto de datos sobre el uso del suelo de París. El uso del suelo indica para qué tipo de actividad se utiliza una zona determinada, como residencial o recreativa. Se trata de un conjunto de datos multipoligonal, con una etiqueta que representa la clase de uso del suelo para las diferentes zonas de París.\n",
    "\n",
    "En este ejercicio, leeremos los datos, los exploraremos visualmente y calcularemos la superficie total de las diferentes clases de uso del suelo en la zona de París.\n",
    "\n",
    "Esta base de datos viene de: https://land.copernicus.eu/en/products/urban-atlas\n",
    "\n",
    "* Lea el archivo 'FR001L1_PARIS_UA2012_revised_v021.gpkg' y asigne el resultado a la variable land_use.\n",
    "* Genere un gráfico de land_use, usando la columna 'class_2012' para colorear los polígonos. También agregamos una leyenda. \n",
    ">Nota: El gráfico puede tardar unos segundos en generarse debido a la gran cantidad de polígonos.\n",
    "\n",
    "* Agregue una nueva columna 'area' con el área de cada polígono.\n",
    "* Calcule el área total en km² para cada 'class_2012' usando el método groupby() e imprima el resultado."
   ]
  },
  {
   "cell_type": "code",
   "execution_count": null,
   "id": "085751e9-fa24-494e-988d-87fe7bff4e7d",
   "metadata": {},
   "outputs": [],
   "source": [
    "import zipfile\n",
    "import os\n",
    "\n",
    "zip_path = '22178.zip'  # Cambia esto por la ruta real\n",
    "extract_to = '/home/'  # Carpeta donde se extraerán los archivos\n",
    "\n",
    "with zipfile.ZipFile(zip_path, 'r') as zip_ref:\n",
    "    zip_ref.extractall(extract_to)"
   ]
  },
  {
   "cell_type": "code",
   "execution_count": null,
   "id": "dd5952fa-581e-4631-8225-7baad8708865",
   "metadata": {},
   "outputs": [],
   "source": [
    "directorio_interno = '/home/.../Results/'\n",
    "\n",
    "if zip_interno:\n",
    "    with zipfile.ZipFile(zip_interno, 'r') as zip_ref:\n",
    "        zip_ref.extractall(directorio_interno)\n",
    "else:\n",
    "    print('No se encontró un archivo ZIP interno.')"
   ]
  },
  {
   "cell_type": "code",
   "execution_count": null,
   "id": "c677d076-5b00-4212-bf34-93bdbb137283",
   "metadata": {},
   "outputs": [],
   "source": [
    "import fiona\n",
    "# Antes de abrir su archivo, tiene que saber que, aveces las bases de datos vienen en capas, \n",
    "# para ver las capa que contiene nuestra bes podemos usar la siguiente libreria y funcion\n",
    "\n",
    "layers = fiona.listlayers('/home/jovyan/Unidad_3/Results/FR001L1_PARIS_UA2012_revised_v021/Data/FR001L1_PARIS_UA2012_revised_v021.gpkg')\n",
    "print(layers)\n"
   ]
  },
  {
   "cell_type": "code",
   "execution_count": null,
   "id": "02ecd01a-fbd1-44ea-bd16-f33970b5d76e",
   "metadata": {},
   "outputs": [],
   "source": [
    "#import geopandas as gpd\n",
    "\n",
    "# Para leer la capa principal\n",
    "land_use = geopandas.read_file('FR001L1_PARIS_UA2012_revised_v021.gpkg', layer='FR001L1_PARIS_UA2012_revised')\n",
    "\n",
    "# Para leer la capa de límites\n",
    "boundary = geopandas.read_file('FR001L1_PARIS_UA2012_revised_v021.gpkg', layer='FR001L1_PARIS_UA2012_revised_Boundary')\n",
    "\n",
    "# Para leer la capa del núcleo urbano\n",
    "urban_core = geopandas.read_file('FR001L1_PARIS_UA2012_revised_v021.gpkg', layer='FR001L1_PARIS_UA2012_revised_UrbanCore')"
   ]
  },
  {
   "cell_type": "code",
   "execution_count": null,
   "id": "d1edf52f-b50f-4a9b-92b5-64e8a61ed25a",
   "metadata": {},
   "outputs": [],
   "source": [
    "#import geopandas as gpd\n",
    "\n",
    "# Para leer la capa principal\n",
    "land_use = geopandas.read_file('/home/jovyan/Unidad_3/Results/FR001L1_PARIS_UA2012_revised_v021/Data/FR001L1_PARIS_UA2012_revised_v021.gpkg', layer='FR001L1_PARIS_UA2012_revised')\n",
    "\n",
    "# Para leer la capa de límites\n",
    "boundary = geopandas.read_file('/home/jovyan/Unidad_3/Results/FR001L1_PARIS_UA2012_revised_v021/Data/FR001L1_PARIS_UA2012_revised_v021.gpkg', layer='FR001L1_PARIS_UA2012_revised_Boundary')\n",
    "\n",
    "# Para leer la capa del núcleo urbano\n",
    "urban_core = geopandas.read_file('/home/jovyan/Unidad_3/Results/FR001L1_PARIS_UA2012_revised_v021/Data/FR001L1_PARIS_UA2012_revised_v021.gpkg', layer='FR001L1_PARIS_UA2012_revised_UrbanCore')"
   ]
  },
  {
   "cell_type": "code",
   "execution_count": null,
   "id": "b1e2366e-8162-43f5-814e-df24a9d17814",
   "metadata": {},
   "outputs": [],
   "source": [
    "land_use.head()"
   ]
  },
  {
   "cell_type": "code",
   "execution_count": null,
   "id": "803163a3-e020-4383-911e-6316dc329776",
   "metadata": {},
   "outputs": [],
   "source": [
    "#Creen un mapa para land_use de modo se coloree considerando el tipo de uso de suelo ('class_2012')\n",
    "________________________________________________\n",
    "plt.show()"
   ]
  },
  {
   "cell_type": "code",
   "execution_count": null,
   "id": "f2db3f6c-ec84-45a9-98ac-88d677489bb2",
   "metadata": {},
   "outputs": [],
   "source": [
    "#Creen otra columna donde midan el area de cada geometria\n",
    "_______________________________"
   ]
  },
  {
   "cell_type": "code",
   "execution_count": null,
   "id": "6b2f6567-cf6d-4f2e-870d-1b5838873f43",
   "metadata": {},
   "outputs": [],
   "source": [
    "# Agrupen land_use considerando el tipo de uso y calculen el area de cada clase en km2.\n",
    "total_area = \n",
    "total_area"
   ]
  },
  {
   "cell_type": "markdown",
   "id": "50c6573c-ca8d-4162-9fd6-85c08db6d296",
   "metadata": {},
   "source": [
    "### **<font color=\"SeaGreen\"> Intersección de dos polígonos </font>**\n",
    "\n",
    "\n",
    "Para este ejercicio, utilizaremos dos polígonos individuales: el distrito de Muette, que extraeremos del conjunto de datos `\"districts\"`, y un parque público al oeste de París, que extraeremos del conjunto de datos `\"land_use\"`.\n",
    "\n"
   ]
  },
  {
   "cell_type": "code",
   "execution_count": null,
   "id": "63b72b1f-665b-4885-a5d7-0a8abe5e18b4",
   "metadata": {},
   "outputs": [],
   "source": [
    "# Primero extrae el distrito 'Muette' de districts\n",
    "muette =__________________________________________________\n",
    "muette"
   ]
  },
  {
   "cell_type": "code",
   "execution_count": null,
   "id": "b4dc9230-7b4a-4c93-a14d-f2f6ffebc783",
   "metadata": {},
   "outputs": [],
   "source": [
    "# Ahora van a extraer las areas verdes urbanas 'Green urban areas' de land_use \n",
    "green_areas = ___________________________________________________________\n",
    "#green_areas"
   ]
  },
  {
   "cell_type": "code",
   "execution_count": null,
   "id": "6522fa71-9c45-4466-a695-0c1b9f8d138d",
   "metadata": {},
   "outputs": [],
   "source": [
    "# Si quisieran explorar todas las areas verdes de Paris, recuerden esta herramienta\n",
    "#green_areas.explore() "
   ]
  },
  {
   "cell_type": "code",
   "execution_count": null,
   "id": "40fdf610-1649-46ca-a675-bd188cd81f22",
   "metadata": {},
   "outputs": [],
   "source": [
    "# No queremos trabajar con todas las areas, asi que extraeremos un parque de green_areas\n",
    "# Extraigan el dato cuyo identificador es '149138-FR001L1'\n",
    "parque =___________________________________________\n",
    "parque"
   ]
  },
  {
   "cell_type": "code",
   "execution_count": null,
   "id": "41459eaf-3de8-4236-a173-f6fbcf4f9a32",
   "metadata": {},
   "outputs": [],
   "source": [
    "## Antes de hacer cualquier cosa, debemos asegurarnos que ambos poligonos tengan el mismo crs\n",
    "print(__________)\n",
    "print(__________)"
   ]
  },
  {
   "cell_type": "code",
   "execution_count": null,
   "id": "2838216d-6406-4ec1-855b-f4d16146e7d9",
   "metadata": {},
   "outputs": [],
   "source": [
    "# Si no es el mismo, conviertan el crs de muette para que tenga el crs de parque\n",
    "muette = ________________________"
   ]
  },
  {
   "cell_type": "markdown",
   "id": "4c8fc198-0a82-4fa9-a66e-130006ec9518",
   "metadata": {},
   "source": [
    "##### **Ya tenemos los dos sitios que queremos estudiar**\n",
    "\n",
    "Ahora, vamos a:\n",
    "* Trazar los dos polígonos en un solo mapa para examinar visualmente el grado de superposición.\n",
    "* Calcular la intersección de los polígonos del parque y del distrito Muette.\n",
    "* Carlular la proporción del área del distrito que ocupa el parque.\n",
    "\n",
    "> NOTA: parque es un multipoligono y muette es un poligono, esto nos puede causar problemas para poder visualizarlo y hacer operaciones.\n",
    "> Siempre deben verificar el tipo de geometrias que tienen sus objetos. "
   ]
  },
  {
   "cell_type": "code",
   "execution_count": null,
   "id": "0d9361a3-84a3-4d0d-a293-4278eec3c80d",
   "metadata": {},
   "outputs": [],
   "source": [
    "muette.geometry"
   ]
  },
  {
   "cell_type": "code",
   "execution_count": null,
   "id": "36abc7b9-3837-41d3-bef4-4c56ef578bce",
   "metadata": {},
   "outputs": [],
   "source": [
    "parque.geometry"
   ]
  },
  {
   "cell_type": "code",
   "execution_count": null,
   "id": "5986514d-904a-47d7-be34-ef4b60d10290",
   "metadata": {},
   "outputs": [],
   "source": [
    "# Como parque es un multipoligono y muette un poligono, debemos llevar a parque a la misma geometria que muette.\n",
    "parque_union = parque.union_all()\n",
    "parque_union"
   ]
  },
  {
   "cell_type": "code",
   "execution_count": null,
   "id": "b0271fb1-c7ad-4a5d-9793-4a9d10b52eb8",
   "metadata": {},
   "outputs": [],
   "source": [
    "# Si tenemos dudas de si hemos hecho algo mal en la extraccion de informacion, podemos usar esto\n",
    "print(parque.geometry.is_empty.any())\n",
    "print(muette.geometry.is_empty.any())"
   ]
  },
  {
   "cell_type": "markdown",
   "id": "46b18939-688a-4702-ae9b-8dc0d49718f1",
   "metadata": {},
   "source": [
    "Ahora, visualicemos los dos polígonos.\n",
    "\n",
    "\n",
    "Tenemos dos formas de hacerlo.\n",
    "\n",
    "Verán que se superponen.\n",
    "\n"
   ]
  },
  {
   "cell_type": "code",
   "execution_count": null,
   "id": "473b6ccb-4ead-4b70-9ea2-306f003f97b9",
   "metadata": {},
   "outputs": [],
   "source": [
    "parque_geom = parque.geometry.iloc[0]\n",
    "muette_geom = muette.geometry.iloc[0]\n",
    "\n",
    "geopandas.GeoSeries([parque_geom, muette_geom]).plot(alpha=0.5, color='blue')\n",
    "plt.show()\n"
   ]
  },
  {
   "cell_type": "code",
   "execution_count": null,
   "id": "ee527104-8096-4771-ba61-676996aba9c8",
   "metadata": {},
   "outputs": [],
   "source": [
    "parque_geom = parque.union_all()\n",
    "muette_geom = muette.union_all()\n",
    "\n",
    "geopandas.GeoSeries([parque_geom, muette_geom]).plot(alpha=0.5, color= 'blue')\n",
    "plt.show()\n"
   ]
  },
  {
   "cell_type": "code",
   "execution_count": null,
   "id": "08dc1283-faeb-455e-b31d-c090c4f7e04f",
   "metadata": {},
   "outputs": [],
   "source": [
    "# Ahora, calcularemos la interseccion de estos poligonos. \n",
    "# En este caso, tenemos que usar las geometrias \n",
    "\n",
    "intersection = parque_geom.intersection(muette_geom)\n",
    "\n",
    "# Ahora, grafiquen la interseccion \n",
    "geopandas.GeoSeries(________________).plot()\n",
    "plt.show()\n",
    "\n",
    "# Calculen la proporcion del area del distrito que esta ocupada por el parque\n",
    "print(_____________________ / _____________________ )"
   ]
  },
  {
   "cell_type": "markdown",
   "id": "c98efc16-1f67-41da-8eb3-f2f3c4123793",
   "metadata": {},
   "source": [
    "Tal vez ahora no parezca de mucha utilidad calcular la interseccion, pero si el parque estuviera en dos distritos diferentes, nos daria una idea de cual distrito tiene mas area de parque. \n",
    "\n",
    "Otra forma de ver el area que ocupa el parque es graficando la diferencia. "
   ]
  },
  {
   "cell_type": "code",
   "execution_count": null,
   "id": "af8eedab-49c0-4536-933a-fd2feae9cae0",
   "metadata": {},
   "outputs": [],
   "source": [
    "# Ahora, quiten el area del parque al distrito muette.\n",
    "\n",
    "difer = ___________.difference(___________)\n",
    "\n",
    "# Ahora, grafiquen el resultado \n",
    "geopandas.GeoSeries(_______).plot()\n",
    "plt.show()\n"
   ]
  },
  {
   "cell_type": "markdown",
   "id": "2b2a559c-7b7a-4818-bf49-874246c4e82b",
   "metadata": {},
   "source": [
    "---\n",
    "### **<font color=\"SeaGreen\"> Intersección de un GeoDataFrame con un polígono </font>**\n",
    "\n",
    "Al combinar los conjuntos de datos de uso del suelo y de distritos, podemos investigar el uso del suelo en un distrito determinado.\n",
    "\n",
    "Para ello, primero debemos determinar la intersección de los conjuntos de datos de uso del suelo con un distrito determinado. Tomemos como ejemplo el distrito de Muette.\n",
    "\n",
    "1. Calcula la intersección de los polígonos land_use con el polígono muette. Llama al resultado land_use_muette.\n",
    "2. Gráfica rápidamente esta intersección y pasa edgecolor='black' para ver con mayor claridad los límites de los diferentes polígonos.\n",
    "3. Imprime las primeras cinco filas de land_use_muette.\n",
    "\n"
   ]
  },
  {
   "cell_type": "code",
   "execution_count": null,
   "id": "8eb4b829-35ea-4099-9b47-a60977ef1ec8",
   "metadata": {},
   "outputs": [],
   "source": [
    "# Si quisieran explorar todas las areas verdes de Paris, recuerden esta herramienta\n",
    "#green_areas.explore() "
   ]
  },
  {
   "cell_type": "code",
   "execution_count": null,
   "id": "bbcba9af-7835-484c-8790-43e027d4be81",
   "metadata": {},
   "outputs": [],
   "source": [
    "# Antes de hacer la interseccion, debemos asegurarnos que ambos GeoDataFrames tengan el mismo CRS\n",
    "#Imprime los CRS de cada GeoDataFrame\n",
    "_____________\n",
    "_____________\n",
    "\n",
    "#Si no coinciden, haz que muette tenga el mismo CRS que land_use\n",
    "______________________"
   ]
  },
  {
   "cell_type": "code",
   "execution_count": null,
   "id": "33377404-cb43-4894-8a24-dcfb74b5ab36",
   "metadata": {},
   "outputs": [],
   "source": [
    "# Para hacer la interseccion de los dos GeoDataFrames usaremos una nueva funcion de geopandas\n",
    "# Esta nos permitira crear un nuevo GeoDataFrame a partir de dos, pueden usar  ‘intersection’, ‘union’, ‘identity’, ‘symmetric_difference’ or ‘difference’.\n",
    "# Recuerden que sjoin tambien puede ayudar\n",
    "land_use_muette =  geopandas.overlay(land_use, muette, how='intersection')\n",
    "\n",
    "#impriman las primeras filas de land_use_muette"
   ]
  },
  {
   "cell_type": "code",
   "execution_count": null,
   "id": "16fe3414-4719-4f38-a48c-eacdec77b5ab",
   "metadata": {},
   "outputs": [],
   "source": [
    "# Gráfica esta intersección y pasa edgecolor='black' para ver con mayor claridad los límites de los diferentes polígonos.\n",
    "______________________________"
   ]
  },
  {
   "cell_type": "code",
   "execution_count": null,
   "id": "ad922c70-17dc-4bb1-861f-2a30d7306b99",
   "metadata": {},
   "outputs": [],
   "source": [
    "# Gráfica esta intersección, ahora que se coloree por tipo de uso y pasa edgecolor='black' para ver con mayor claridad los límites de los diferentes polígonos.\n",
    "______________________________"
   ]
  },
  {
   "cell_type": "markdown",
   "id": "18a753c2-f832-4212-a43e-6e2cd65437c4",
   "metadata": {},
   "source": [
    "### **<font color=\"SeaGreen\"> Mineria en el congo </font>** \n",
    "\n",
    "En este ejercicio, comenzaremos leyendo y explorando dos nuevos conjuntos de datos:\n",
    "\n",
    "Primero, un conjunto de datos sobre yacimientos de minería artesanal en el este del Congo (adaptado de los datos abiertos de IPIS).\n",
    "https://ipisresearch.be/wp-content/uploads/2018/03/Open_Data_Tutorial.html\n",
    "Segundo, un conjunto de datos sobre los parques nacionales del Congo (del Instituto de Recursos Mundiales).\n",
    "https://cod-data.forest-atlas.org/\n",
    "\n",
    "Para cada uno de estos conjuntos de datos, leen los datos con geopandas.read_file(), inspeccionen las primeras 5 filas y el Sistema de Referencia de Coordenadas (SRC) de los datos, y realicen una visualización rápida.\n",
    "\n",
    "1. Extraigan los datos de Protected_areas.zip\n",
    "2. Lean y exploren los datos del sitio minero (\"ipis_cod_mines.geojson\"), asignándolos a una variable llamada mining_sites.\n",
    "3. Lean y exploren los datos de las área protegidas (\"Protected_areas.shp\") y asígnelo a national_parks"
   ]
  },
  {
   "cell_type": "code",
   "execution_count": null,
   "id": "6f25ef84-495a-4a5f-9bcc-19728b27a514",
   "metadata": {},
   "outputs": [],
   "source": [
    "#zip_path = '/home/.../Protected_areas.zip'  \n",
    "#extract_to = '/home/.../Unidad_3/' \n",
    "#with zipfile.ZipFile(zip_path, 'r') as zip_ref:\n",
    "#    zip_ref.extractall(extract_to)"
   ]
  },
  {
   "cell_type": "code",
   "execution_count": null,
   "id": "1f38a2b3-5c6b-41eb-957d-ff6edf8fc7a6",
   "metadata": {},
   "outputs": [],
   "source": [
    "# Lean las bases de datos\n",
    "mining_sites = ___________________________\n",
    "national_parks = _____________________________\n",
    "# Impriman las primeras filas y el CRS de cada GeoDataFrame\n",
    "print(____)\n",
    "print(____)\n",
    "\n",
    "# Creen un mapa rápido.\n",
    "____\n",
    "plt.show()"
   ]
  },
  {
   "cell_type": "markdown",
   "id": "e7c5c6ef-531f-41a8-a743-ce37628588fd",
   "metadata": {},
   "source": [
    "### **<font color=\"SeaGreen\"> Convertir a un SRC común y guardarlo en un archivo </font>** \n",
    "\n",
    "Como vimos en los ejercicios anteriores, ambos conjuntos de datos utilizan un Sistema de Referencia de Coordenadas (SRC) diferente. Esto también se ilustra en los primeros gráficos. Ambos conjuntos de datos se refieren a la misma región, por lo que normalmente deberían superponerse en sus coordenadas; pero no es así.\n",
    "\n",
    "Para realizar los análisis, convertiremos ambos conjuntos de datos al mismo SRC y los guardaremos en un nuevo archivo. Para garantizar que podamos realizar cálculos basados en la distancia, los convertiremos a un SRC proyectado: la zona UTM local 35, identificada por EPSG:32735 (https://epsg.io/32735).\n",
    "Entonces:\n",
    "1. Convierta ambos conjuntos de datos (mining_sites y national_parks) a EPSG:32735.Asigne a los resultados el nombre mining_sites_utm y national_parks_utm.\n",
    "2. Intente visualizar de nuevo ambos conjuntos de datos en un solo mapa. ¿Se superponen ahora ambos conjuntos de datos?"
   ]
  },
  {
   "cell_type": "code",
   "execution_count": null,
   "id": "d95be2e6-9556-49ba-9223-83de7120e1af",
   "metadata": {},
   "outputs": [],
   "source": [
    "# Convertir ambos GeoDataFrames al mismo CRS \n",
    "mining_sites_utm = ____\n",
    "national_parks_utm = ____\n",
    "\n",
    "# Mostrar el mapa de los datos con la proyección \n",
    "ax = national_parks_utm.plot()\n",
    "mining_sites_utm.plot(ax=ax, color='red')\n",
    "plt.show()"
   ]
  },
  {
   "cell_type": "markdown",
   "id": "dff0a916-adef-40f3-8a37-7096639ecfae",
   "metadata": {},
   "source": [
    "## **Generar un archivo**\n",
    "\n",
    "Escriba mining_sites_utm en un archivo GeoPackage llamado \"ipis_cod_mines_utm.gpkg\" y escriba national_parks_utm en un Shapefile ESRI llamado \"cod_conservation_utm.shp\".\n",
    "\n",
    "Para esto, usamos la función .to_file(\"archivo_nuevo.tipo\", driver=\"driver\")\n",
    "\n",
    "Para archivos .gpkg, driver='GPKG'\n",
    "Para archivos .shp, driver='ESRI Shapefile'"
   ]
  },
  {
   "cell_type": "code",
   "execution_count": null,
   "id": "77925c21-52bc-47e1-b2a0-9a0e41276ea8",
   "metadata": {},
   "outputs": [],
   "source": [
    "# Write converted data to a file\n",
    "mining_sites_utm.to_file(\"ipis_cod_mines_utm.gpkg\", driver='GPKG')\n",
    "national_parks_utm.to_file(\"cod_conservation_utm.shp\", driver='ESRI Shapefile')"
   ]
  },
  {
   "cell_type": "markdown",
   "id": "5a7fd12c-1a0a-4acf-8ae4-14080a47335d",
   "metadata": {},
   "source": [
    "### **<font color=\"SeaGreen\"> Diseño de un gráfico multicapa </font>**  \n",
    "\n",
    "Ahora que hemos convertido ambos conjuntos de datos al mismo Sistema de Referencia de Coordenadas (SRC), vamos a crear un gráfico más atractivo combinando ambos.\n",
    "Usando los datos convertidos, edite el código para trazar los parques nacionales como polígonos verdes y los sitios mineros como pequeños puntos (un tamaño de marcador de 5)."
   ]
  },
  {
   "cell_type": "code",
   "execution_count": null,
   "id": "24841d91-9e20-4991-8a4f-b0a1db4dd5fc",
   "metadata": {},
   "outputs": [],
   "source": [
    "# Mapa de los parque y sitios de minería\n",
    "ax = _________________.plot(color='green')\n",
    "________________________.plot(ax=ax, markersize=_______)\n",
    "plt.show()"
   ]
  },
  {
   "cell_type": "code",
   "execution_count": null,
   "id": "fc9a6a0a-f173-41ac-a71f-16e33991743f",
   "metadata": {},
   "outputs": [],
   "source": [
    "# Mapa de los parque y sitios de minería ahora usando  alpha=0.5 para que los puntos de mining_site se grafiquen por tamaños\n",
    "ax = _________________.plot(color='green')\n",
    "________________________.plot(ax=ax, markersize=_______)\n",
    "plt.show()"
   ]
  },
  {
   "cell_type": "code",
   "execution_count": null,
   "id": "bc08c46e-c20e-4a1c-adfb-81780096ab47",
   "metadata": {},
   "outputs": [],
   "source": [
    "#Mapa de los parque y sitios de minería ahora pidiendo que mining_sites se coloree por tipo de mineral \n",
    "ax = _________________.plot(color='green')\n",
    "________________________.plot(ax=ax, markersize=_______, __________, _____________)\n",
    "plt.show()"
   ]
  },
  {
   "cell_type": "markdown",
   "id": "98f71d6c-8f8f-4491-ba38-6c9e2cd81c8a",
   "metadata": {},
   "source": [
    "### **<font color=\"SeaGreen\"> Buffers, Zona de influencia alrededor de un punto</font>**  \n",
    "\n",
    "\n",
    "Considere la ciudad de Goma, capital de la provincia de Kivu del Norte del Congo, cerca de la frontera con Ruanda. Sus coordenadas son 1,66°S 29,22°E (el punto ya se proporciona en coordenadas UTM como la variable goma).\n",
    "\n",
    "¿Cuántos yacimientos mineros se encuentran a menos de 50 km de Goma? ¿Y qué extensión tiene el parque nacional? Determinémoslo mediante la operación de zona de influencia. Recuerde que las distancias deben expresarse en la unidad del CRS (es decir, en metros en este caso).\n",
    "\n",
    "Nota: Si tiene una serie booleana (por ejemplo, como resultado de un método de relación espacial), puede calcular cuántos valores verdaderos (es decir, cuántas geometrías pasaron la comprobación) sumando esos valores booleanos, ya que, en ese caso, los valores verdaderos y falsos se verán como unos y ceros.\n",
    "\n",
    "* Crea una zona de influencia de 50 km alrededor de goma y asígnala a la variable goma_buffer.\n",
    "* Comprueba cuáles de los puntos de mining_sites se encuentran dentro de esta zona de influencia (y llámala máscara). Cuenta esos sitios sumando la máscara booleana e imprime el resultado.\n",
    "* Calcula las intersecciones de los parques nacionales con la zona de influencia. Suma el área de esas intersecciones e imprime el resultado en km²."
   ]
  },
  {
   "cell_type": "code",
   "execution_count": null,
   "id": "e692ef10-fb42-4901-b157-2d79c6791c8c",
   "metadata": {},
   "outputs": [],
   "source": [
    "#Ciudad de Goma\n",
    "goma = geopandas.GeoSeries([Point(746989.5594829298, 9816380.942287602)],crs='EPSG:32735')\n",
    "# Goma es un punto para esto usar punto.buffer(tamaño del area)\n",
    "print(type(goma))\n",
    "\n",
    "# Crear un buffer de 50km al rededor de Goma\n",
    "goma_buffer = ____\n",
    "\n",
    "# El buffer es un poligono\n",
    "print(type(goma_buffer))\n",
    "\n",
    "# Cuenten cuántas zonas mineras están cerca de goma\n",
    "mask = ____\n",
    "print(____)\n",
    "\n",
    "# Calculen el área de los parques naciones que están en goma \n",
    "print(national_parks.____ / (1000**2))"
   ]
  },
  {
   "cell_type": "markdown",
   "id": "537cfa96-a26f-4e7a-89d3-579efac8fb8b",
   "metadata": {},
   "source": [
    "### **<font color=\"SeaGreen\">Sitios mineros dentro de parques nacionales </font>**  \n",
    "\n",
    "Para este ejercicio, comencemos con uno de los parques nacionales, el Parque Nacional Kahuzi-Biega (que se extrajo del conjunto de datos national_parks y se proporciona como la variable kahuzi).\n",
    "\n",
    "¿Cuáles de los sitios mineros se encuentran dentro de este parque nacional?\n",
    "Y como segundo paso: ¿podemos determinar todos los sitios mineros que se encuentran dentro de uno de los parques nacionales y en qué parque?\n",
    "\n",
    "\n",
    "1. Utilice el método within() para crear un subconjunto de los sitios mineros (mining_sites) ubicados en el parque nacional Kahuzi. Llame al resultado \"sites_kahuzi\".\n",
    "2. Determine para cada sitio minero si se encuentra en un parque nacional y en qué parque nacional. Esto creará un GeoDataFrame similar a \"mining_sites\", pero con una columna adicional con el nombre del parque nacional. Llame a este resultado \"sites_within_park\".\n",
    "4. Cuente el número de sitios en cada parque utilizando el método value_counts() en la columna \"Nombre\" de \"sites_within_park\"."
   ]
  },
  {
   "cell_type": "code",
   "execution_count": null,
   "id": "91528d58-988b-4e49-8587-0edb8c4ef509",
   "metadata": {},
   "outputs": [],
   "source": [
    "# Creamos el Kahuzi-Biega National park\n",
    "kahuzi = national_parks_utm[national_parks_utm['nom_ap'] == \"Kahuzi-Biega National park\"].geometry.squeeze()\n",
    "\n",
    "# Crea un subset de los sitioss mineros ubicados en (within) Kahuzi\n",
    "mask = mining_sites_utm.geometry.apply(lambda geom: geom.within(kahuzi))\n",
    "sites_kahuzi = ____\n",
    "print(sites_kahuzi)\n",
    "\n",
    "# Determina en qué parques nacionales se encuentran los mining sites.\n",
    "sites_within_park = geopandas.sjoin(____, ____, predicate=____, how='inner')\n",
    "print(sites_within_park.head())\n",
    "\n",
    "# El número de sitios mineraos en cada parque nacional.\n",
    "print(sites_within_park[____].____())"
   ]
  },
  {
   "cell_type": "markdown",
   "id": "d7df97e2-d9f6-46cb-a164-c257fa286b77",
   "metadata": {},
   "source": [
    "Aplicación de una operación personalizada a cada geometría\n",
    "Ahora que sabemos cómo obtener el parque nacional más cercano para un punto, haremos lo mismo para todos los puntos. Para ello, primero escribiremos una función que tome un punto como argumento y devuelva el resultado deseado. Después, podemos usar esta función para aplicarla a todos los puntos.\n",
    "\n",
    "* Crea una función closer_national_park() que realice el análisis del ejercicio anterior: dado un único punto y todos los parques nacionales, devuelve el nombre del parque nacional más cercano.\n",
    "* Como prueba, llama a esta función en el punto único (single_mine) e imprime el resultado. ¿Es igual que antes («Parque Nacional Virunga»)?\n",
    "* Aplica esta función a todos los puntos de mining_sites y asigna el resultado a la columna «closest_park»."
   ]
  },
  {
   "cell_type": "code",
   "execution_count": null,
   "id": "4e9e8fa2-8f22-4d82-b077-9a61d3c0da91",
   "metadata": {},
   "outputs": [],
   "source": [
    "# definimos la geometría de la primera fila\n",
    "single_mine = mining_sites_utm.geometry[0]\n",
    "# Creamos una funcion que regrese el parque más cercano\n",
    "def closest_national_park(geom, national_parks_utm):\n",
    "    dist = national_parks_utm.distance(geom)\n",
    "    idx = dist.idxmin()\n",
    "    closest_park =  national_parks_utm.loc[idx, 'nom_ap']\n",
    "    return closest_park\n",
    "\n",
    "# usamos la función considerando la geometía que definimos inicialmente y los parques \n",
    "print(closest_national_park(single_mine, national_parks_utm))\n",
    "\n",
    "# Aplicamos la función a todos los sitios de minería y creamos una nueva columna en  mining_sites_utm\n",
    "mining_sites_utm['closest_park'] = mining_sites_utm.geometry.apply(closest_national_park, national_parks_utm=national_parks_utm)\n",
    "print(mining_sites.head())"
   ]
  },
  {
   "cell_type": "markdown",
   "id": "eb24199b",
   "metadata": {},
   "source": [
    "---\n",
    "<a name='ej-1'></a>\n",
    "### **<font color=\"DodgerBlue\"> Ejercicio 1: En que distrito esta la reserva de verrieres </font>**\n",
    "\n",
    "La reserva ecologica de verrieres tiene el identificador '147979-FR001L1' y esta en el GeoDataFrame land_use y green_areas. \n",
    "Usando el GeoDataFrame districts, encontrar en que distrito se encuentra.\n",
    "    "
   ]
  },
  {
   "cell_type": "code",
   "execution_count": null,
   "id": "72627f30-7b57-4237-81ad-771079fe13f9",
   "metadata": {},
   "outputs": [],
   "source": [
    "Verrieres = green_areas[green_areas['identifier']== '147979-FR001L1']\n",
    "Verrieres.plot()"
   ]
  },
  {
   "cell_type": "code",
   "execution_count": null,
   "id": "85496e1a-7dda-4d8b-bfc5-74d7abebc6ab",
   "metadata": {},
   "outputs": [],
   "source": [
    "## ESte no me salio\n",
    "#Verrieres = Verrieres.to_crs(districts.crs)\n",
    "#verrieres_union = Verrieres.union_all()\n",
    "\n",
    "# En cual distrito esta la reserva de verrieres?\n",
    "#mask = districts.contains(verrieres_union)\n",
    "#districts[mask]"
   ]
  },
  {
   "cell_type": "markdown",
   "id": "d3335100-40e3-45bb-9035-b9bb1e198e3f",
   "metadata": {},
   "source": [
    "### **<font color=\"DodgerBlue\"> Ejercicio 2: ¿Qué tan verde es el distrito de Muette? </font>**\n",
    "<font color=\"DarkBlue\"> 1. Creen un GeoDataFrame con la intersección del distrito de Muette y la información sobre las áreas verdes.\n",
    "\n",
    "<font color=\"DarkBlue\"> 2. Calculen la proporción de área que ocupan las áreas verdes en el distrito.\n",
    "\n",
    "<font color=\"DarkBlue\"> 3. Muestren un mapa de las áreas verdes de Muette."
   ]
  },
  {
   "cell_type": "code",
   "execution_count": null,
   "id": "dc475413-bcf7-4fed-8999-18b1abbe8d7d",
   "metadata": {},
   "outputs": [],
   "source": [
    "\n",
    "green_areas_muette =  geopandas.overlay(green_areas, muette, how='intersection')\n",
    "green_areas_muette.head()"
   ]
  },
  {
   "cell_type": "code",
   "execution_count": null,
   "id": "54f2887f-7c30-4ebf-805f-c1be7793e439",
   "metadata": {},
   "outputs": [],
   "source": [
    "green_areas_muette.plot(column='class_2012', legend = True)\n"
   ]
  }
 ],
 "metadata": {
  "kernelspec": {
   "display_name": "Python 3 (ipykernel)",
   "language": "python",
   "name": "python3"
  },
  "language_info": {
   "codemirror_mode": {
    "name": "ipython",
    "version": 3
   },
   "file_extension": ".py",
   "mimetype": "text/x-python",
   "name": "python",
   "nbconvert_exporter": "python",
   "pygments_lexer": "ipython3",
   "version": "3.11.6"
  }
 },
 "nbformat": 4,
 "nbformat_minor": 5
}
