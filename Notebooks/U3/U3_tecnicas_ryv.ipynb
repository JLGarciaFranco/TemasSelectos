{
 "cells": [
  {
   "attachments": {
    "LOGO_ENCIT.png": {
     "image/png": "[encoded data removed]"
    }
   },
   "cell_type": "markdown",
   "id": "9946a5e5",
   "metadata": {},
   "source": [
    "<p align=\"center\">\n",
    "  <span style=\"color:Navy; font-size:200%; font-weight:bold; vertical-align:middle;\">\n",
    "    Temas Selectos: Python para Ciencias de la Tierra\n",
    "  </span>\n",
    "  <img src=\"attachment:LOGO_ENCIT.png\" alt=\"ENCiT\" width=\"150\" style=\"vertical-align:middle; margin-left:20px;\"/>\n",
    "</p>\n",
    "<p align=\"center\" style=\"line-height:1.2;\">\n",
    "  <span style=\"color:RoyalBlue; font-size:160%;\">Tema 3: MAnálisis Geoespacial de Datos</span><br/>\n",
    "  <span style=\"color:DodgerBlue; font-size:140%;\"> Técnicas de análisis raster y vectorial </span><br/>\n",
    "  <span style=\"font-size:100%;color:forestgreen\"> Escuela Nacional de Ciencias de la Tierra  |  Semestre 2026-I</span>\n",
    "</p>\n",
    "\n",
    "---\n",
    "\n",
    "\n",
    "# **<font color=\"ForestGreen\">  Técnicas de análisis raster y vectorial </font>**\n",
    "\n",
    "## **<font color=\"SeaGreen\"> ¿Qué son los datos geoespaciales? </font>**\n",
    "\n",
    "> Los datos geoespaciales son datos con informacion de ubicaciones especificas asociadas a cada dato. \n",
    "> Primero que nada, son datos y se pueden hacer muchas operaciones similares a aquellas que no tienen informacion espacial.\n",
    "\n",
    "Con datos geoespaciales, cada observación tiene una ubicación que puede ser \"colocada\" en un mapa. Esto nos permite encontrar relaciones espaciales entre los datos.\n",
    "\n",
    "El verdadero poder de los datos geoespaciales es la habilidad de combinar tanto los datos como su ubicación, desbloqueando varias oportunidades para análisis más sofisticados. \n",
    "\n",
    "## **<font color=\"SeaGreen\"> Datos espaciales </font>**\n",
    "\n",
    "> Los datos espaciales vienen es todas formas y tamaños. Un ejemplo típico de datos geoespaciales tradicionales son los datos de los censos guvernamentales. Sin embargo, hoy en día tenemos muchas mas fuentes de datos espaciales; como monitorear una corrida en bici con un smartphone.\n",
    "\n",
    "En las ciencias de información geográfica, existen dos modelos de datos para describir \"el mundo\": \n",
    "* El primero, es un modelo de ráster, que codifica al mundo como una superficie contínua representada por mallas, o pixeles. Algunos ejemplos son los datos de latitud-longitud o imagenes satelitales.\n",
    "* El segundo, es un modelo de datos vectoriales en el que se representa \"el mundo\" como una colección de objetos discretos usando puntos, líneas y polígonos.\n",
    "\n",
    "![Raster and Vector](ras_vec.png)"
   ]
  },
  {
   "cell_type": "markdown",
   "id": "3567f895-a7fe-4fc6-aba6-75ab6382f2d9",
   "metadata": {},
   "source": [
    "## **<font color=\"SeaGreen\"> Datos ráster vs datos vectoriales </font>**\n",
    "\n",
    "Aquí hay un ejemplo de los dos tipos de datos para una misma area. En la izquierda, hay una imagen satelital térmica mostrando la perdida de calor de edificios.\n",
    "\n",
    "En la derecha, hay una representacion de datos vectoriales de la misma área: características discretas donde los edificios son representados como polígonos, y los caminos como líneas.\n",
    "\n",
    "En este notebook (y el siguiente), nos enfocaremos en los **datos vectoriales**. \n",
    "\n",
    "![Raster vs Vector](ras_vs_vec.png)\n"
   ]
  },
  {
   "cell_type": "markdown",
   "id": "ac5811d8-ab35-4bfb-8629-a0817b74c5dc",
   "metadata": {},
   "source": [
    "## **<font color=\"SeaGreen\"> Caracteristicas de datos vectoriales. </font>**\n",
    "\n",
    "Las \"características vectoriales\" se componen de tres tipos diferentes de geometrías: \n",
    "* para comenzar tenemos una geometría de punto: una única ubicación con coordenadas X e Y.\n",
    "\n",
    "* una línea es un grupo de puntos conectados. En el código, observarás que se denomina cadena lineal.\n",
    "\n",
    "* un polígono se forma mediante una línea cerrada que rodea un área. Además, una figura también puede constar de múltiples geometrías, como un multipolígono.\n",
    "\n",
    "![punto linea poligono](punto_linea_poli.png)\n"
   ]
  },
  {
   "cell_type": "markdown",
   "id": "1f6f1159-5627-4725-a275-3b0d37fee551",
   "metadata": {},
   "source": [
    "## **<font color=\"SeaGreen\"> Un ejemplo </font>**\n",
    "\n",
    "**Podemos representar los países como polígonos, como se muestra a continuación.**\n",
    "\n",
    "![paises](countries.png)\n",
    "\n",
    "**Ahora agregamos la ubicación de las megaciudades como puntos.**\n",
    "\n",
    "![paises y megaciudades](countries_and_megacities.png)\n",
    "\n",
    "**Finalmente, agregamos algunos de los ríos mas grandes del mundo como líneas.**\n",
    "\n",
    "\n",
    "![paises megaciudades y rios](countries_megacities_and_rivers.png)\n",
    "\n",
    "\n",
    "\n",
    "Otro concepto importante son los atributos de las características:\n",
    "> Normalmente, tendremos información sobre nuestras características vectoriales. Usando los polígonos de los paises como ejemplo, podríamos tener información sobre el nombre del pais, su capital, número de población, etc. Cuando tenemos una colección de dichas características, por ejemplo, todos los paises del mundo, combinada con sus atributos, obtenemos una tabla.\n"
   ]
  },
  {
   "cell_type": "code",
   "execution_count": null,
   "id": "90990626-7cd6-4ced-b106-049516ccedd9",
   "metadata": {},
   "outputs": [],
   "source": [
    "!pip install contextily\n",
    "!pip install mapclassify\n"
   ]
  },
  {
   "cell_type": "markdown",
   "id": "21c759cc",
   "metadata": {},
   "source": [
    "### **<font color=\"SeaGreen\"> Restaurantes en París </font>**\n",
    "\n",
    "A lo largo de los ejercicios, trabajaremos con varios conjuntos de datos sobre la ciudad de París.\n",
    "\n",
    "En este ejercicio, comenzaremos explorando un conjunto de datos sobre los restaurantes del centro de París (compilado a partir de un conjunto de datos abierto de Paris Data). Los datos contienen las coordenadas de las ubicaciones de los restaurantes y una descripción del tipo de restaurante.\n",
    "\n",
    "Aquí, usaremos `Pandas` para leer el archivo CSV proporcionado y luego usaremos `Matplotlib` para visualizar los puntos. \n",
    "Con `Matplotlib`, primero creamos una figura y un objeto de ejes con `fig, ax = plt.subplots()`, y luego usamos este objeto de ejes (`ax`) para crear el gráfico."
   ]
  },
  {
   "cell_type": "code",
   "execution_count": null,
   "id": "8711b324",
   "metadata": {},
   "outputs": [],
   "source": [
    "import pandas as pd\n",
    "import seaborn as sns\n",
    "import matplotlib.pyplot as plt\n",
    "import numpy as np\n",
    "import matplotlib.gridspec as gridspec\n",
    "import contextily\n",
    "import geopandas\n",
    "\n",
    "from shapely.geometry import Point\n",
    "import mapclassify"
   ]
  },
  {
   "cell_type": "code",
   "execution_count": null,
   "id": "629490b9-157f-4579-a194-ad726608d50b",
   "metadata": {},
   "outputs": [],
   "source": [
    "# Leemos el archivo csv\n",
    "restaurants = pd.read_csv(\"paris_restaurants.csv\")\n",
    "\n",
    "# Inspeccionamos las primeras filas del dataframe restaurants\n",
    "print(restaurants.head())"
   ]
  },
  {
   "cell_type": "code",
   "execution_count": null,
   "id": "a53b3df8-432b-477d-9ecb-f03b4c75abb3",
   "metadata": {},
   "outputs": [],
   "source": [
    "# Hacer un grafico con todos los puntos\n",
    "fig, ax = plt.subplots()\n",
    "ax.plot(_____________, _____________, 'o')\n",
    "plt.show()"
   ]
  },
  {
   "cell_type": "markdown",
   "id": "2b2a559c-7b7a-4818-bf49-874246c4e82b",
   "metadata": {},
   "source": [
    "### **<font color=\"SeaGreen\"> Añadir un mapa de fondo </font>**\n",
    "\n",
    "Un gráfico con solo algunos puntos puede ser difícil de interpretar sin contexto espacial. Por lo tanto, en este ejercicio aprenderemos a añadir un mapa de fondo.\n",
    "\n",
    "Utilizaremos el paquete `contextily`. La función `add_basemap()` de este paquete facilita la adición de un mapa web de fondo a nuestro gráfico. Empezamos trazando los datos y luego pasamos el objeto axes de matplotlib a la función `add_basemap()`. `contextily` descargará los mosaicos web necesarios para la extensión geográfica del gráfico.\n",
    "\n",
    "Para establecer el tamaño de los puntos trazados, podemos usar la palabra clave `markersize` del método `plot()`.\n",
    "\n"
   ]
  },
  {
   "cell_type": "code",
   "execution_count": null,
   "id": "4bec4517-a947-4f0b-9093-5913d04bcf62",
   "metadata": {},
   "outputs": [],
   "source": [
    "# Figura de todos los restaurantes con el background\n",
    "fig, ax = plt.subplots()\n",
    "ax.plot(___________,___________, 'o', markersize = 1)\n",
    "contextily.add_basemap(ax)\n",
    "plt.show()"
   ]
  },
  {
   "cell_type": "markdown",
   "id": "a2a428cf-5341-4f19-bd94-88d5179475ce",
   "metadata": {},
   "source": [
    "\n",
    "<div class=\"alert alert-block alert-info\">\n",
    "<b>Nota:</b> El archivo csv contine datos de puntos de coordenadas; sin embargo, la los datos espaciales tambien pueden ser poligonos o lineas. Cada objeto consiste de muchos puntos, y por lo tanto es posible representarlos bien en un CSV. Por lo tanto, continuaremos usando archivos con formatos especificos para datos geoespaciales, como GeoJSON, GeoPackage o shapefiles. Estos estan diseniados especialmente para almacenar datos espaciales, ademas de tabulares.  Para leear y trabajar con estos archivos en python, usaremos GeoPandas.\n",
    "</div>\n"
   ]
  },
  {
   "cell_type": "markdown",
   "id": "e7c659fd-9f47-47b2-99a2-7132bfae1f51",
   "metadata": {},
   "source": [
    "#### **<font color=\"blue\"> Distritos administrativos de París </font>** \n",
    "\n",
    "\n",
    "En este ejercicio, presentamos el siguiente conjunto de datos sobre París: los distritos administrativos de París (compilados a partir de un conjunto de datos abierto de Paris Data https://opendata.paris.fr/explore/dataset/quartier_paris/ ).\n",
    "\n",
    "El conjunto de datos está disponible como archivo GeoPackage, un formato especializado para almacenar datos vectoriales geoespaciales, y GeoPandas puede leer dicho archivo mediante la función `geopandas.read_file()`.\n",
    "\n",
    "Para obtener una primera idea del conjunto de datos, podemos inspeccionar las primeras filas con `head()` y realizar una visualización rápida con `plot()`. La información de los atributos sobre los distritos incluidos en el conjunto de datos es el nombre del distrito y la población (número total de habitantes de cada distrito)."
   ]
  },
  {
   "cell_type": "code",
   "execution_count": null,
   "id": "68990383-1e30-4b60-889b-28e7fb15bf4a",
   "metadata": {},
   "outputs": [],
   "source": [
    "# Leer los datos del 'paris_districts_utm.geojson'\n",
    "districts = geopandas.____(____)\n",
    "\n",
    "# Inspeccionar las primeras filas\n",
    "print(districts.____)\n",
    "\n",
    "# Hacer una pequeña y rápida gráfica\n",
    "districts.____\n",
    "plt.show()"
   ]
  },
  {
   "cell_type": "markdown",
   "id": "e95ce76f-724b-404c-bc52-9bf60b723bc8",
   "metadata": {},
   "source": [
    "En el ejercicio anterior, utilizamos el método `plot()` personalizado del GeoDataFrame, que genera una visualización sencilla de las geometrías del conjunto de datos. Los objetos GeoDataFrame y GeoSeries pueden considerarse objetos DataFrame y Series con capacidad espacial y, en comparación con sus homólogos de Pandas, exponen métodos y atributos espaciales adicionales.\n",
    "\n",
    "El atributo `.geometry` de un GeoDataFrame siempre devuelve la columna con los objetos geométricos como una GeoSeries, independientemente del nombre real de la columna (en el caso predeterminado, también se llamará \"geometry\").\n",
    "\n",
    "Otro ejemplo de función espacial adicional es el atributo `area`, que proporciona el área de los polígonos.\n"
   ]
  },
  {
   "cell_type": "code",
   "execution_count": null,
   "id": "cbd3fe49-9255-4cf9-8dcb-86cea1377161",
   "metadata": {},
   "outputs": [],
   "source": [
    "# Checar qué tipo de objeto es districts\n",
    "print(type(____))\n",
    "\n",
    "# Checar el tipo de geometría de districts \n",
    "print(____)\n",
    "\n",
    "# Inspeccionar las primeras filas de las geometrías\n",
    "print(districts.____)\n",
    "\n",
    "# Inspeccionar el área de los distritos\n",
    "print(districts.____)"
   ]
  },
  {
   "cell_type": "markdown",
   "id": "6ca14e54-22db-4116-9bdb-02182bf4d5e3",
   "metadata": {},
   "source": [
    "#### **<font color=\"blue\"> Los restaurantes de París como un GeoDataFrame </font>** \n",
    "\n",
    "En el primer ejercicio, importamos las ubicaciones de los restaurantes de París desde un archivo CSV. Para habilitar las funciones geoespaciales de GeoPandas, queremos convertir el DataFrame de Pandas en un GeoDataFrame. Esto se puede hacer con el constructor `GeoDataFrame()` y la función `geopandas.points_from_xy()`.\n",
    "\n",
    "Ahora que tenemos un GeoDataFrame, todas las funciones espaciales están disponibles, como el trazado de las geometrías. En este ejercicio, crearemos la misma figura que en el primer ejercicio con el conjunto de datos de restaurantes, pero ahora utilizando el método `plot()` del GeoDataFrame."
   ]
  },
  {
   "cell_type": "code",
   "execution_count": null,
   "id": "1bcb36ba-e6aa-4abf-ad52-b4508720b891",
   "metadata": {},
   "outputs": [],
   "source": [
    "# leer el csv de \"paris_restaurants.csv\"\n",
    "df = _______________________\n",
    "\n",
    "# Convertir df a un GeoDataFrame\n",
    "restaurants = geopandas.GeoDataFrame(df, geometry=geopandas.points_from_xy(df.x, df.y))\n",
    "\n",
    "# Inspeccionar las primeras filas del GeoDataFrame restaurants\n",
    "print(restaurants.____)\n",
    "\n",
    "# Hacer un mapa de los restaurants\n",
    "ax = restaurants.____\n",
    "import contextily\n",
    "contextily.____(____)\n",
    "plt.show()"
   ]
  },
  {
   "cell_type": "markdown",
   "id": "10bfc335-5b6b-42da-aa4f-610f7584e89a",
   "metadata": {},
   "source": [
    "#### **<font color=\"blue\"> Visualización de la densidad de población </font>** \n",
    "\n",
    "Volvamos al conjunto de datos de distritos. En un ejercicio anterior, visualizamos los distritos con una columna uniforme. Sin embargo, a menudo queremos mostrar la variación espacial de una variable y colorear los polígonos según corresponda.\n",
    "\n",
    "En este ejercicio, visualizaremos la variación espacial de la densidad de población en el centro de París. Para ello, primero calcularemos la densidad de población dividiendo el número de población por el área y la añadiremos como una nueva columna al DataFrame.\n"
   ]
  },
  {
   "cell_type": "code",
   "execution_count": null,
   "id": "4239e8be-dd28-4029-973f-bf0b15911008",
   "metadata": {},
   "outputs": [],
   "source": [
    "# Inspeccionar las primeras filas de districts\n",
    "print(districts.head())\n"
   ]
  },
  {
   "cell_type": "code",
   "execution_count": null,
   "id": "c35ac4d6-c526-40e2-a833-8612a3e1d874",
   "metadata": {},
   "outputs": [],
   "source": [
    "# Inspeccionar el área de districts\n",
    "print(districts.____)"
   ]
  },
  {
   "cell_type": "code",
   "execution_count": null,
   "id": "e7c11f39-bd17-4ce7-b39c-667258d4c28f",
   "metadata": {},
   "outputs": [],
   "source": [
    "\n",
    "# Agregar una columna con la densidad de población\n",
    "#'population_density' representa el número de habitantes por km2\n",
    "# (Nota: El área está dada en metros cuadrados, tienen que multiplicar el resultado por 10**6).\n",
    "districts['population_density'] = ____ / ____ * ____\n",
    "\n",
    "# Hacer un mapa de los distritos coloreados por la densidad de población\n",
    "districts.____(column = 'population_density', legend=True)\n",
    "plt.show()"
   ]
  },
  {
   "cell_type": "markdown",
   "id": "4d4d0b82-0f2f-4fcf-b775-7f9f57b2c2d6",
   "metadata": {},
   "source": [
    "Aunque estas clases se centrarán en la funcionalidad espacial de GeoPandas, recuerden que seguimos utilizando un dataframe y que todas las funciones de Pandas que conoce siguen siendo aplicables.\n",
    "\n",
    "En este ejercicio, repasaremos la operación `groupby`. Se puede utilizar esta operación cuando se tiene una columna que contenga grupos y se desea calcular una estadística para cada grupo. En el método `groupby()`, se pasa la columna que contiene los grupos. En el objeto resultante, se puede llamar al método que se desea calcular para cada grupo. En este ejercicio, queremos conocer el tamaño de cada grupo de restaurantes.\n"
   ]
  },
  {
   "cell_type": "code",
   "execution_count": null,
   "id": "8256a2a2-ae80-47df-8d30-0930f6ca1204",
   "metadata": {},
   "outputs": [],
   "source": [
    "restaurants.head()"
   ]
  },
  {
   "cell_type": "code",
   "execution_count": null,
   "id": "4ddb9e09-a317-4aff-b6e9-6b35776be116",
   "metadata": {},
   "outputs": [],
   "source": [
    "#Usaremos el geodataframe  restaurants\n",
    "\n",
    "# Calcular el número de restaurantes de cada tipo\n",
    "type_counts = restaurants.groupby(____).____()\n",
    "\n",
    "# Imprimir el resultado\n",
    "print(____)"
   ]
  },
  {
   "cell_type": "markdown",
   "id": "ff9f1568-e02e-4ea0-bad3-7aeea2aa03c4",
   "metadata": {},
   "source": [
    "#### **<font color=\"blue\"> Trazado de múltiples capas </font>** \n",
    "\n",
    "\n",
    "Otra función típica de Pandas es el filtrado de un dataframe: se toma un subconjunto de las filas según una condición (lo que genera una máscara booleana).\n",
    "\n",
    "En este ejercicio, tomaremos el subconjunto de todos los restaurantes africanos y crearemos un gráfico multicapa. En dicho gráfico, combinamos la visualización de varios GeoDataFrames en una sola figura. Para añadir una capa, podemos usar la palabra clave `ax` del método `plot()` de un GeoDataFrame para pasarle un objeto axes de matplotlib."
   ]
  },
  {
   "cell_type": "markdown",
   "id": "6b5dcae7-505e-44e1-8f25-84c01f22039f",
   "metadata": {},
   "source": [
    "\n",
    "1. Seleccionamos un subconjunto de filas en el que el tipo es 'African restaurant'.\n",
    "2. Hacer un mapa con todos los restaurantes y mostrarlo en color gris. Recuerden pasar el objeto axes, `ax`, por `plot()`.\n",
    "3. Agregar otra capa ahora sólo con los restaurantes africanos, en rojo.\n",
    "4. Remover la caja con ubicaciones usando `set_axis_off()` en el objeto axes de matplotlib.\n"
   ]
  },
  {
   "cell_type": "code",
   "execution_count": null,
   "id": "f4eb2a51-d313-4962-9107-a6112e04b257",
   "metadata": {},
   "outputs": [],
   "source": [
    "# Cargar los datos\n",
    "#restaurants = geopandas.read_file(\"paris_restaurants.geosjon\")\n",
    "\n",
    "# Crear el subconjunto de restaurantes africanos\n",
    "african_restaurants = ____\n",
    "\n",
    "# Hacer el mapa\n",
    "fig, ax = plt.subplots(figsize=(10, 10))\n",
    "restaurants.____\n",
    "african_restaurants.____\n",
    "# Quitar la caja con ubicaciones\n",
    "ax.set_axis_off()\n",
    "plt.show()"
   ]
  },
  {
   "cell_type": "markdown",
   "id": "e8b55db7-e570-4a69-a4d8-22eef0dbedd5",
   "metadata": {},
   "source": [
    "#### **<font color=\"blue\"> Geometrías bien formadas y relaciones espaciales </font>** \n",
    "\n"
   ]
  },
  {
   "cell_type": "markdown",
   "id": "d6155181-1061-4eab-a3b3-c48e64b4aa5f",
   "metadata": {},
   "source": [
    "La Torre Eiffel es una torre de celosía de hierro construida en el siglo XIX y probablemente ofrece la vista más emblemática de París.\n",
    "\n",
    "La ubicación de la Torre Eiffel es: x de 255422.6 e y de 6250868.9. Crearemos una geometría de punto y haremos algunas cuentitas. \n"
   ]
  },
  {
   "cell_type": "code",
   "execution_count": null,
   "id": "e3a06763-7870-4753-9b66-e5744d5b7df3",
   "metadata": {},
   "outputs": [],
   "source": [
    "pip install folium matplotlib mapclassify"
   ]
  },
  {
   "cell_type": "code",
   "execution_count": null,
   "id": "c0d50ff8-3af9-4537-ba75-fb3962c4abb7",
   "metadata": {},
   "outputs": [],
   "source": [
    "districts.explore() "
   ]
  },
  {
   "cell_type": "code",
   "execution_count": null,
   "id": "cefa13bf-2e76-4add-a017-0a271e40a755",
   "metadata": {},
   "outputs": [],
   "source": [
    "print(districts.crs)"
   ]
  },
  {
   "cell_type": "code",
   "execution_count": null,
   "id": "e8a9d083-13eb-4f52-a8bb-1fe5f80eb133",
   "metadata": {},
   "outputs": [],
   "source": [
    "# Latitud y longitud (EPSG:4326)\n",
    "eiffel_tower = gpd.GeoSeries([Point(2.2945, 48.8584)], crs=\"EPSG:4326\")\n",
    "\n",
    "# Transformar al CRS de los distritos\n",
    "eiffel_tower_utm = eiffel_tower.to_crs(districts.crs)\n",
    "eiffel_tower_utm\n"
   ]
  },
  {
   "cell_type": "markdown",
   "id": "9f86a793-87ec-4d74-a3fd-0479bf6f5734",
   "metadata": {},
   "source": [
    "### **<font color=\"blue\"> Métodos espaciales de Shapely </font>** \n",
    "\n",
    "Ahora que tenemos un objeto `Point` de Shapely para la Torre Eiffel, podemos usar los diferentes métodos disponibles en dicho objeto geométrico para realizar operaciones espaciales, como calcular una distancia o comprobar una relación espacial.\n",
    "\n",
    "Usaremos el geodataframe `districts` de nuevo."
   ]
  },
  {
   "cell_type": "markdown",
   "id": "1285f454-1a0e-4e78-b0b2-04e1d8a1d02c",
   "metadata": {},
   "source": [
    "Algunas operaciones que podemos usar son las siguientes:\n",
    "\n",
    "* objeto1.distance(objeto2)\n",
    "* objeto1.area\n",
    "* objeto1.contains(punto)\n",
    "* punto.within(objeto1)\n",
    "* objeto1.touches(objeto2)\n",
    "* objeto1.intersects(objeto2)\n",
    "\n",
    "Para mas operaciones:\n",
    "https://shapely.readthedocs.io/en/stable/measurement.html\n",
    "https://shapely.readthedocs.io/en/stable/constructive.html"
   ]
  },
  {
   "cell_type": "code",
   "execution_count": null,
   "id": "90dfb4d5-f4d4-468a-a8f0-c9d3e4169dd8",
   "metadata": {},
   "outputs": [],
   "source": [
    "# filtramos la geometría del distrito de Montparnasse (Polygon) y la geometría de un restaurante\n",
    "district_montparnasse = districts.loc[52, 'geometry']\n",
    "resto = restaurants.loc[956, 'geometry']\n",
    "\n",
    "# ¿ Se encuentra la Torre Eiffel en el distrito Montparnasse?\n",
    "print(____)\n",
    "\n",
    "# ¿El distrito Montparnasse contiene al restaurante?\n",
    "print(____)\n",
    "\n",
    "# ¿Cuál es la distancia entre la Torre Eiffel y el restaurante?\n",
    "print(____)"
   ]
  },
  {
   "cell_type": "markdown",
   "id": "bd4fc104-9912-44f9-9aec-8e82598f8382",
   "metadata": {},
   "source": [
    "### **<font color=\"blue\"> ¿En qué distrito de la Torre Eiffel se encuentra? </font>** \n",
    "\n",
    "\n",
    "Volvamos al ejemplo de la Torre Eiffel. En ejercicios anteriores, construimos una geometría de punto para su ubicación y comprobamos que no se encontraba en el distrito de Montparnasse. Ahora, determinemos en qué distrito de París se encuentra.\n",
    "\n",
    "* Primero, crearemos una máscara booleana (o filtro) que indique si cada distrito contiene la Torre Eiffel. \n",
    "* Luego, filtraremos el dataframe de `districts` con la máscara booleana."
   ]
  },
  {
   "cell_type": "code",
   "execution_count": null,
   "id": "8b75d274-d8ad-451a-b057-574847a28e8c",
   "metadata": {},
   "outputs": [],
   "source": [
    "# Crear una máscara booleana (Series) aplicando el método contains a todos los distritos.\n",
    "\n",
    "mask = ____.contains(__________.iloc[0])\n"
   ]
  },
  {
   "cell_type": "code",
   "execution_count": null,
   "id": "745dc87e-1901-486e-b551-78b228600af5",
   "metadata": {},
   "outputs": [],
   "source": [
    "# Imprimir la serie booleana \n",
    "print(mask.head())\n",
    "\n",
    "# Filtrar los distritos con la máscara booleana\n",
    "print(____)"
   ]
  },
  {
   "cell_type": "markdown",
   "id": "ab20550c-fbe5-488b-b15b-f1d6f5fb3fd3",
   "metadata": {},
   "source": [
    "### **<font color=\"blue\"> ¿A qué distancia está el restaurante más cercano? </font>** \n",
    "\n",
    "\n",
    "Ahora, podríamos estar interesados en los restaurantes cercanos a la Torre Eiffel. Para explorarlos, visualicemos la Torre Eiffel y los restaurantes en un radio de 1 km.\n",
    "\n",
    "Para ello, podemos calcular la distancia a la Torre Eiffel para cada restaurante. Con base en este resultado, podemos crear una máscara que tome \"Verdadero\" si el restaurante está a menos de 1 km y \"Falso\" en caso contrario, y usarla para filtrar el GeoDataFrame de `restaurants`. Finalmente, visualizamos este subconjunto.\n",
    "\n",
    "En este caso definiremos `eiffel_tower = Point(255422.6, 6250868.9)`\n",
    "\n",
    "1. Calcula la distancia a la Torre Eiffel para cada restaurante y llama al resultado dist_eiffel.\n",
    "2. Imprime la distancia al restaurante más cercano (que es el mínimo de dist_eiffel).\n",
    "3. Selecciona las filas del GeoDataFrame de restaurantes donde la distancia a la Torre Eiffel sea inferior a 1 km (ten en cuenta que la distancia está en metros)."
   ]
  },
  {
   "cell_type": "code",
   "execution_count": null,
   "id": "8ea5c663-35e9-4af7-91fe-39d1c3ed5ccf",
   "metadata": {},
   "outputs": [],
   "source": [
    "eiffel_tower = Point(255422.6, 6250868.9)\n",
    "# Calcular la distancia de cada restaurante a la Torre Eiffel\n",
    "dist_eiffel = ____\n",
    "\n",
    "# Obtenemos la distancia mínima\n",
    "print(dist_eiffel.____)\n",
    "\n",
    "# Filtramos los restaurantes que cuya distancia es menor que 1km (recuerden que estamos trabajando en metros)\n",
    "restaurants_eiffel = ____\n",
    "\n",
    "# Hacemos el mapa de los restaurante más cercanos\n",
    "ax = restaurants_eiffel.plot()\n",
    "geopandas.GeoSeries([eiffel_tower]).plot(ax=ax, color='red')\n",
    "contextily.add_basemap(ax)\n",
    "ax.set_axis_off()\n",
    "plt.show()"
   ]
  },
  {
   "cell_type": "markdown",
   "id": "18a753c2-f832-4212-a43e-6e2cd65437c4",
   "metadata": {},
   "source": [
    "### **<font color=\"blue\"> París: unión espacial de distritos y estaciones de bicicletas </font>** \n",
    "\n",
    "Volvamos a los datos de París sobre distritos y estaciones de bicicletas. Ahora utilizaremos la operación de unión espacial para identificar el distrito donde se ubica cada estación.\n",
    "\n",
    "Utilice la función geopandas.sjoin() para añadir el nombre del distrito donde se ubica cada estación al conjunto de datos de estaciones. Llame al resultado \"joined\".\n",
    "Compruebe el resultado mostrando las primeras cinco filas."
   ]
  },
  {
   "cell_type": "code",
   "execution_count": null,
   "id": "7ecbf249-9651-43e6-b1c1-bcb06657bbdc",
   "metadata": {},
   "outputs": [],
   "source": [
    "#Cargamos los datos de las estaciones\n",
    "stations = geopandas.read_file('paris_sharing_bike_stations_utm.geojson')\n",
    "stations.head()"
   ]
  },
  {
   "cell_type": "code",
   "execution_count": null,
   "id": "8da5e577-0632-43b1-bcc7-388a594fb9a8",
   "metadata": {},
   "outputs": [],
   "source": [
    "districts.head()"
   ]
  },
  {
   "cell_type": "code",
   "execution_count": null,
   "id": "67d457b4-1c5b-4c04-8fef-eb275104afee",
   "metadata": {},
   "outputs": [],
   "source": [
    "# unimos los GeoDataFrames stations y districts\n",
    "joined = geopandas.sjoin(__________, ___________)\n",
    "\n",
    "# Inspeccionamos las primeras filas \n",
    "print(joined.____)"
   ]
  },
  {
   "cell_type": "markdown",
   "id": "eb24199b",
   "metadata": {},
   "source": [
    "---\n",
    "<a name='ej-1'></a>\n",
    "### **<font color=\"DodgerBlue\"> Ejercicio: Mapa de densidad arbórea por distrito </font>**\n",
    "\n",
    "Utilizando un conjunto de datos de todos los árboles en espacios públicos de París, el objetivo es crear un mapa de la densidad arbórea por distrito. Para ello, primero necesitamos determinar cuántos árboles hay en cada distrito, lo cual haremos en este ejercicio. En el siguiente ejercicio, utilizaremos este resultado para calcular la densidad y crear un mapa.\n",
    "\n",
    "Para obtener el recuento de árboles por distrito, primero necesitamos saber en qué distrito se encuentra cada árbol, lo cual podemos hacer mediante una unión espacial. A continuación, con el resultado de la unión espacial, calcularemos el número de árboles ubicados en cada distrito mediante la función de agrupación de Pandas.\n",
    "\n",
    "\n",
    "<font color=\"DarkBlue\"> 1. Importen el conjunto de datos de árboles \"paris_trees.gpkg\" y llámelo `Trees`. Lea también el conjunto de datos de distritos que vimos anteriormente (\"paris_districts_utm.geojson\") y llámelo `districts`.\n",
    "    \n",
    "<font color=\"DarkBlue\"> 2. Imprima las primeras 5 filas de cada geodataframe\n",
    "    "
   ]
  },
  {
   "cell_type": "code",
   "execution_count": null,
   "id": "53206f75-4ef5-4d73-8988-1179e70ce842",
   "metadata": {},
   "outputs": [],
   "source": [
    "# Read the trees and districts data\n",
    "trees = ____\n",
    "districts = ____\n",
    "\n",
    "# The trees dataset with point locations of trees\n",
    "print(trees.head())"
   ]
  },
  {
   "cell_type": "markdown",
   "id": "d3335100-40e3-45bb-9035-b9bb1e198e3f",
   "metadata": {},
   "source": [
    "\n",
    "<font color=\"DarkBlue\"> 3.  Agreguen una columna con el nombre del distrito al conjunto de datos de árboles mediante una unión espacial (usando sjoin). Llame al resultado \"joined\"."
   ]
  },
  {
   "cell_type": "code",
   "execution_count": null,
   "id": "dc475413-bcf7-4fed-8999-18b1abbe8d7d",
   "metadata": {},
   "outputs": [],
   "source": [
    "# Spatial join of the trees and districts datasets\n",
    "joined = ____"
   ]
  },
  {
   "cell_type": "markdown",
   "id": "3d875e51-7f00-4c83-8510-c9d840bdb618",
   "metadata": {},
   "source": [
    "<font color=\"DarkBlue\"> 4. Calcular el número de árboles en cada distrito. Para esto:\n",
    "\n",
    "    * Agrupar el DataFrame unido por la columna \"district_name\" y calcular el tamaño de cada grupo. \n",
    "    * Convertir la serie resultante \"trees_by_district\" en un DataFrame."
   ]
  },
  {
   "cell_type": "code",
   "execution_count": null,
   "id": "456cd9b9-13ca-4052-90d7-fb30d10d96a6",
   "metadata": {},
   "outputs": [],
   "source": [
    "# Calculate the number of trees in each district\n",
    "trees_by_district = joined.____\n",
    "\n",
    "# Convert the series to a DataFrame and specify column name\n",
    "trees_by_district = trees_by_district.to_frame(name='n_trees')\n",
    "\n",
    "# Inspect the result\n",
    "print(trees_by_district.head())"
   ]
  },
  {
   "cell_type": "markdown",
   "id": "28eb3fbc-c16e-4805-a47f-b85004a3b513",
   "metadata": {},
   "source": [
    "<font color=\"DarkBlue\"> 4.Una vez obtenido el número de árboles por distrito, podemos crear el mapa de los distritos coloreado según la densidad arbórea.\n",
    "\n",
    "Para ello, primero debemos fusionar el número de árboles de cada distrito calculado en el paso anterior (`trees_by_district`) con el conjunto de datos de `'districts'`. Utilizaremos la función `pd.merge()` para unir los dos dataframes usando la columna común `'district_name'`.\n",
    "\n",
    "Dado que no todos los distritos tienen el mismo tamaño, es más preciso visualizar la densidad arbórea: el número de árboles en relación con el área.\n",
    "\n",
    "Utilice la función `pd.merge()` para fusionar los DataFrames `'districts'` y `trees_by_district` en la columna `'district_name'`.Llame al resultado `'districts_trees'`."
   ]
  },
  {
   "cell_type": "code",
   "execution_count": null,
   "id": "09a1fc04-a8ae-4053-9a43-d9d745f23e51",
   "metadata": {},
   "outputs": [],
   "source": [
    "# Merge the 'districts' and 'trees_by_district' dataframes\n",
    "districts_trees = pd.merge(____)\n",
    "\n",
    "# Inspect the result\n",
    "print(districts_trees.head())"
   ]
  },
  {
   "cell_type": "markdown",
   "id": "ce102415-c458-499f-8311-fb5203e0ccce",
   "metadata": {},
   "source": [
    "<font color=\"DarkBlue\"> 5. Agregue una columna `'n_trees_per_area'` al DataFrame `'districts_trees'`, esta debe ser la columna `'n_trees'` dividida por el área."
   ]
  },
  {
   "cell_type": "code",
   "execution_count": null,
   "id": "16592cfa-5068-4daf-b371-a7d5724c611b",
   "metadata": {},
   "outputs": [],
   "source": [
    "# Add a column with the tree density\n",
    "districts_trees['n_trees_per_area'] = ____"
   ]
  },
  {
   "cell_type": "markdown",
   "id": "5006d4b0-2c04-4f94-ba7a-323ed544999f",
   "metadata": {},
   "source": [
    "<font color=\"DarkBlue\"> 6. Realice una gráfica/mapa del DataFrame `'districts_trees'`, utilizando la columna `'n_trees_per_area'` para determinar el color de los polígonos."
   ]
  },
  {
   "cell_type": "code",
   "execution_count": null,
   "id": "31337406-be58-44b5-a51b-7da10308b4d2",
   "metadata": {},
   "outputs": [],
   "source": [
    "\n",
    "# Make of map of the districts colored by 'n_trees_per_area'\n",
    "____\n",
    "plt.show()"
   ]
  },
  {
   "cell_type": "markdown",
   "id": "eed840ad-191f-4766-9728-ead6cd13c519",
   "metadata": {},
   "source": [
    "#####  **<font color=\"DodgerBlue\"> Coropleta de intervalos iguales </font>**\n",
    "\n",
    "En el ejercicio anterior, creamos un mapa de la densidad arbórea. Ahora exploraremos esta visualización con más detalle.\n",
    "\n",
    "Primero, visualicemos el efecto de usar solo el número de árboles en comparación con el número de árboles normalizado por el área del distrito (la densidad arbórea). Segundo, crearemos una versión de intervalos iguales de este mapa en lugar de usar una escala de colores continua. Este algoritmo de clasificación dividirá el espacio de valores en contenedores iguales y asignará un color a cada uno.\n",
    "\n",
    "Crea un gráfico usando la variable 'n_trees' para colorear los polígonos. Asegúrate de mostrar también una leyenda usando la palabra clave legend.\n",
    "Repite el mismo proceso con la variable 'n_trees_per_area'. ¿Ves la diferencia?\n",
    "Genera una coropleta con la variable 'n_trees_per_area' usando un esquema de clasificación de intervalos iguales. Nuevamente, asegúrate de agregar una leyenda.\n"
   ]
  },
  {
   "cell_type": "code",
   "execution_count": null,
   "id": "a2b66ce1-a165-40cb-ba5a-44382dff9ee2",
   "metadata": {},
   "outputs": [],
   "source": [
    "# Hacer una choropleth del número de árboles \n",
    "districts_trees.plot(column = 'n_trees', legend=True)\n",
    "plt.show()\n",
    "\n",
    "# Hacer una choropleth del número de árboles por área\n",
    "districts_trees.plot(column = 'n_trees_per_area', legend=True)\n",
    "plt.show()\n",
    "\n",
    "# Hacer una choropleth del número de árboles por área usando intervalos iguales\n",
    "districts_trees.plot(column = 'n_trees_per_area', scheme = 'equal_interval', legend=True, legend_kwds={\n",
    "        'fmt': '{:.8f}'  # Muestra los valores con 2 decimales\n",
    "    })\n",
    "plt.show()"
   ]
  },
  {
   "cell_type": "markdown",
   "id": "4c0dadc3-cb55-46fa-b7b3-d89368b7a578",
   "metadata": {},
   "source": [
    "#####  **<font color=\"DodgerBlue\"> Coropleta de cuantiles </font>**\n",
    "\n",
    "En este ejercicio, crearemos una versión cuantil del mapa de densidad de árboles. Recuerde que el algoritmo cuantil clasifica y divide los valores en grupos con el mismo número de elementos para asignar un color a cada uno. En esta ocasión, crearemos siete grupos que asignan los colores del mapa de colores YlGn a todo el conjunto de valores.\n",
    "\n",
    "Genere una coropleta utilizando la variable 'n_trees_per_area', un esquema de clasificación cuantil con 7 clases y el mapa de color YlGn. Asigne el resultado a la variable ax.\n",
    "Elimine los marcos, las marcas y las etiquetas de las marcas del gráfico para obtener un mapa más limpio mediante el método set_axis_off()."
   ]
  },
  {
   "cell_type": "code",
   "execution_count": null,
   "id": "6c28a02a-d4b4-4aad-91b1-4c8fd2ea3535",
   "metadata": {},
   "outputs": [],
   "source": [
    "# Creamos una choropleth y la guardamos en axis, usamos ahora los cuantiles\n",
    "ax = districts_trees.plot(column='n_trees_per_area', scheme='quantiles',\n",
    "                          k=7, cmap='YlGn', legend=True,  legend_kwds={\n",
    "        'fmt': '{:.8f}'  # Muestra los valores con 2 decimales\n",
    "    })\n",
    "\n",
    "ax.set_axis_off()\n",
    "plt.show()"
   ]
  },
  {
   "cell_type": "markdown",
   "id": "6664d740-1e06-4e61-bd0f-d77f37c45d30",
   "metadata": {},
   "source": [
    "#####  **<font color=\"DodgerBlue\"> Comparación de algoritmos de clasificación </font>** \n",
    "\n",
    "En este ejercicio final, creará una figura multimapa que le permitirá comparar los dos enfoques para las variables de mapa que hemos visto.\n",
    "\n",
    "Se basará en patrones estándar de matplotlib para crear una figura con dos subgráficas (ejes axes[0] y axes[1]) y mostrar en cada una de ellas, respectivamente, una coropleta basada en intervalos iguales y cuantiles. Una vez creadas, compárelas visualmente para explorar las diferencias que el algoritmo de clasificación puede tener en el resultado final.\n",
    "\n",
    "Este ejercicio incluye un objeto GeoDataFrame cargado con el nombre district_trees que incluye la variable n_trees_per_area, que mide la densidad de árboles por distrito.\n",
    "Cree una coropleta para la columna 'n_árboles_por_área' utilizando el esquema de clasificación de intervalos iguales en la primera subgráfica (axes[0]). Recuerde que puede pasar el objeto axes de matplotlib a la palabra clave ax.\n",
    "Haga lo mismo para el esquema de clasificación de cuantiles en la segunda subgráfica (axes[1]). Al igual que en la gráfica anterior, establezca el título y elimine las etiquetas de los cuadros y los ejes para crear una figura más clara."
   ]
  },
  {
   "cell_type": "code",
   "execution_count": null,
   "id": "f2f94453-f22d-4e01-b681-7c76de51dfc3",
   "metadata": {},
   "outputs": [],
   "source": [
    "# creamos la figura y sub mapas \n",
    "fig, axes = plt.subplots(nrows=2) # mapa con intervalos iguales\n",
    "districts_trees.plot(column='n_trees_per_area', scheme ='equal_interval', k=5, legend=True,legend_kwds={ 'fmt': '{:.8f}'}, ax=axes[0]) \n",
    "axes[0].set_title('Equal Interval') \n",
    "axes[0].set_axis_off() \n",
    "#mapa con cuantiles\n",
    "districts_trees.plot(column = 'n_trees_per_area', scheme = 'quantiles', k=5, legend=True, legend_kwds={ 'fmt': '{:.8f}'}, ax=axes[1]) \n",
    "axes[1].set_title('Quantiles') \n",
    "axes[1].set_axis_off() \n",
    "# mostramos mapas\n",
    "plt.show()"
   ]
  },
  {
   "cell_type": "code",
   "execution_count": null,
   "id": "dd2a4cb5-782a-402e-b1ea-6396e466a8f7",
   "metadata": {},
   "outputs": [],
   "source": [
    "# Los mismo pero más bonito \n",
    "\n",
    "# Ajusta el tamaño de la figura. Aumenta la altura para tener más espacio vertical.\n",
    "# Se usa (ancho, alto) en pulgadas. Un valor de (10, 10) o (12, 12) suele ser un buen punto de partida.\n",
    "fig, axes = plt.subplots(nrows=2, figsize=(10, 12))\n",
    "\n",
    "# Plot del mapa con intervalo igual\n",
    "districts_trees.plot(\n",
    "    column='n_trees_per_area',\n",
    "    scheme='equal_interval',\n",
    "    k=5,\n",
    "    legend=True,\n",
    "    legend_kwds={'fmt': '{:.8f}'},\n",
    "    ax=axes[0]\n",
    ")\n",
    "axes[0].set_title('Intervalo Igual')\n",
    "axes[0].set_axis_off()\n",
    "\n",
    "# Plot del mapa con cuantiles\n",
    "districts_trees.plot(\n",
    "    column='n_trees_per_area',\n",
    "    scheme='quantiles',\n",
    "    k=5,\n",
    "    legend=True,\n",
    "    legend_kwds={'fmt': '{:.8f}'},\n",
    "    ax=axes[1]\n",
    ")\n",
    "axes[1].set_title('Cuantiles')\n",
    "axes[1].set_axis_off()\n",
    "\n",
    "# Ajusta el espacio entre subgráficos para evitar solapamientos\n",
    "plt.tight_layout()\n",
    "\n",
    "# Muestra los mapas\n",
    "plt.show()\n"
   ]
  }
 ],
 "metadata": {
  "kernelspec": {
   "display_name": "Python 3 (ipykernel)",
   "language": "python",
   "name": "python3"
  },
  "language_info": {
   "codemirror_mode": {
    "name": "ipython",
    "version": 3
   },
   "file_extension": ".py",
   "mimetype": "text/x-python",
   "name": "python",
   "nbconvert_exporter": "python",
   "pygments_lexer": "ipython3",
   "version": "3.11.6"
  }
 },
 "nbformat": 4,
 "nbformat_minor": 5
}
