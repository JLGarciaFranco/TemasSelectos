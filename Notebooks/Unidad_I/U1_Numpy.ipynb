{
 "cells": [
  {
   "attachments": {
    "image.png": {
     "image/png": "[encoded data removed]"
    }
   },
   "cell_type": "markdown",
   "id": "fabef89a",
   "metadata": {},
   "source": [
    "<p align=\"center\">\n",
    "  <span style=\"color:Navy; font-size:200%; font-weight:bold; vertical-align:middle;\">\n",
    "    Temas Selectos: Python para Ciencias de la Tierra\n",
    "  </span>\n",
    "  <img src=\"attachment:image.png\" alt=\"ENCiT\" width=\"120\" style=\"vertical-align:middle; margin-left:20px;\"/>\n",
    "</p>\n",
    "\n",
    "<p align=\"center\" style=\"line-height:1.2;\">\n",
    "  <span style=\"color:RoyalBlue; font-size:150%;\">Tema 1: Introducción</span><br/>\n",
    "  <span style=\"color:DodgerBlue; font-size:130%;\">Notebook 4: Numpy y arreglos</span><br/>\n",
    "  <span style=\"font-size:100%;color:forestgreen\"> Escuela Nacional de Ciencias de la Tierra  |  Semestre 2026-I</span>\n",
    "</p>\n",
    "\n",
    "---\n",
    "\n",
    "## 1. ¿Qué es NumPy?\n",
    "\n",
    "**NumPy** (*Numerical Python*) es una librería fundamental para el cálculo científico en Python.  \n",
    "Permite trabajar con:\n",
    "- Arreglos multidimensionales (vectores, matrices, cubos de datos).  \n",
    "- Funciones matemáticas eficientes.  \n",
    "- Operaciones rápidas sobre grandes volúmenes de datos.  \n",
    "\n",
    "👉 A diferencia de una lista de Python, un **arreglo de NumPy** (`ndarray`) está optimizado para almacenar datos numéricos y realizar operaciones de manera vectorizada (sin ciclos explícitos).\n",
    "\n",
    "---\n",
    "\n",
    "## 2. Importar NumPy\n",
    "\n",
    "El estándar de la comunidad es importar NumPy como `np`:\n",
    "\n",
    "```python\n",
    "import numpy as np"
   ]
  },
  {
   "cell_type": "code",
   "execution_count": 2,
   "id": "f467b835",
   "metadata": {},
   "outputs": [],
   "source": [
    "import numpy as np"
   ]
  },
  {
   "cell_type": "markdown",
   "id": "5adce390",
   "metadata": {},
   "source": [
    "---\n",
    "\n",
    "Ahora podemos empezar a trabajar con **NumPy**.  \n",
    "En la celda anterior lo importamos, pero cambiamos su nombre: pasó de ser `numpy` a `np`.  \n",
    "👉 Ese alias podría haber sido cualquier cosa, pero por **convención internacional** se usa `np`.\n",
    "\n",
    "---\n",
    "\n",
    "### ¿Qué es un arreglo?\n",
    "\n",
    "🔹 **`np.array()`**  \n",
    "Es la función de NumPy que permite **crear un arreglo** a partir de una lista o lista de listas de Python.  \n",
    "Al usarla, obtenemos un objeto de tipo `np.ndarray`.  \n",
    "\n",
    "🔹 **`np.ndarray`**  \n",
    "Es la **clase fundamental de NumPy**, la que define a los arreglos de **N dimensiones**.  \n",
    "Cada arreglo de NumPy (ya sea vector, matriz o cubo de datos) es en realidad un objeto `ndarray`.  \n",
    "\n",
    "---\n",
    "\n",
    "En resumen:  \n",
    "- Usamos **`np.array()`** para construir arreglos.  \n",
    "- El resultado es un **objeto `np.ndarray`**, que puede tener 1, 2 o más dimensiones.  \n",
    "- Todos los elementos de un arreglo son del **mismo tipo**, lo que hace posible operaciones rápidas y vectorizadas.\n",
    "\n",
    "---\n",
    "\n",
    "#### Vamos a crear nuestro primer arreglo\n"
   ]
  },
  {
   "cell_type": "code",
   "execution_count": 3,
   "id": "b2ed352f",
   "metadata": {},
   "outputs": [
    {
     "name": "stdout",
     "output_type": "stream",
     "text": [
      "[1 2 3]\n",
      "<class 'numpy.ndarray'>\n"
     ]
    }
   ],
   "source": [
    "# Creamos un arreglo de 1 al 3\n",
    "arreglo=np.array([1,2,3])\n",
    "print(arreglo)\n",
    "# funcion type nos dice el tipo de objeto con el que estamos trabajando\n",
    "print(type(arreglo))"
   ]
  },
  {
   "cell_type": "code",
   "execution_count": 4,
   "id": "0273f3a8",
   "metadata": {},
   "outputs": [
    {
     "name": "stdout",
     "output_type": "stream",
     "text": [
      "[1 2 3 4 5]\n"
     ]
    }
   ],
   "source": [
    "# Desde una lista de Python\n",
    "arr1 = np.array([1, 2, 3, 4, 5])\n",
    "print(arr1)\n",
    "\n",
    "# Arreglos con ceros, unos o valores definidos\n",
    "arr2 = np.zeros(5)\n",
    "arr3 = np.ones((2,3))   # matriz 2x3 de unos\n",
    "arr4 = np.full((2,2), 7) # matriz llena con 7\n",
    "arr5 = np.arange(0, 10, 2)  # de 0 a 8 en pasos de 2\n",
    "arr6 = np.linspace(0, 1, 5) # 5 valores entre 0 y 1"
   ]
  },
  {
   "cell_type": "code",
   "execution_count": 5,
   "id": "5666adcc",
   "metadata": {},
   "outputs": [
    {
     "data": {
      "text/plain": [
       "2"
      ]
     },
     "execution_count": 5,
     "metadata": {},
     "output_type": "execute_result"
    }
   ],
   "source": [
    "# seleccionando la posicion 1\n",
    "arreglo[1]"
   ]
  },
  {
   "cell_type": "markdown",
   "id": "4b6a7534",
   "metadata": {},
   "source": [
    "### **<font color=\"DarkOrange\"> Números aleatorios con NumPy (lo básico) </font>**\n",
    "\n",
    "La forma más simple de generar aleatorios en NumPy es usando el módulo `np.random`.  \n",
    "Primero, **fija una semilla** para que los resultados sean reproducibles:\n",
    "\n",
    "```python\n",
    "import numpy as np\n",
    "np.random.seed(0)  # siempre obtendrás los mismos aleatorios al ejecutar este notebook\n",
    "```"
   ]
  },
  {
   "cell_type": "code",
   "execution_count": 6,
   "id": "709eb03c",
   "metadata": {},
   "outputs": [
    {
     "name": "stdout",
     "output_type": "stream",
     "text": [
      "x = 0.06397771332271507\n",
      "v = [0.77317835 0.14763684 0.64612381 0.09210934 0.02320993]\n",
      "M =\n",
      " [[0.41368837 0.23112001 0.25611767]\n",
      " [0.11434251 0.96736329 0.19016373]]\n"
     ]
    }
   ],
   "source": [
    "# Un número aleatorio\n",
    "x = np.random.rand()\n",
    "print(\"x =\", x)\n",
    "\n",
    "# Un vector de 5 aleatorios\n",
    "v = np.random.rand(5)\n",
    "print(\"v =\", v)\n",
    "\n",
    "# Una matriz 2x3 de aleatorios\n",
    "M = np.random.rand(2, 3)\n",
    "print(\"M =\\n\", M)\n"
   ]
  },
  {
   "cell_type": "code",
   "execution_count": 24,
   "id": "b1689c04",
   "metadata": {},
   "outputs": [
    {
     "name": "stdout",
     "output_type": "stream",
     "text": [
      "n = 5\n"
     ]
    }
   ],
   "source": [
    "# Un entero entre 0 y 9 (10 no incluido)\n",
    "n = np.random.randint(0, 10)\n",
    "print(\"n =\", n)"
   ]
  },
  {
   "cell_type": "code",
   "execution_count": 25,
   "id": "2338e6ce",
   "metadata": {},
   "outputs": [
    {
     "name": "stdout",
     "output_type": "stream",
     "text": [
      "n = [7 3 6]\n"
     ]
    }
   ],
   "source": [
    "# 3 enteros entre 0 y 9 (10 no incluido)\n",
    "n = np.random.randint(0, 10,3)\n",
    "print(\"n =\", n)"
   ]
  },
  {
   "cell_type": "markdown",
   "id": "a7fddc55",
   "metadata": {},
   "source": [
    "---\n",
    "\n",
    "##  ¿Qué es un atributo en Python?\n",
    "\n",
    "En Python, los **objetos** (como los arreglos de NumPy) tienen **atributos**:  \n",
    "propiedades o características que describen al objeto.  \n",
    "\n",
    "Ejemplo en la vida diaria:  \n",
    "Un “arreglo de datos” es como una **tabla de Excel**. Sus atributos serían:  \n",
    "- el número de filas y columnas,  \n",
    "- cuántos elementos contiene,  \n",
    "- de qué tipo son los datos.  \n",
    "\n",
    "En **JupyterHub**, puedes explorar los atributos de un objeto escribiendo su nombre y luego dos veces la tecla `TAB`.  \n",
    "Esto muestra la lista de métodos y atributos disponibles.\n",
    "\n",
    "---\n",
    "\n",
    "## Atributos de un arreglo en NumPy\n",
    "\n",
    "Volvamos a nuestro primer arreglo y revisemos algunos de sus atributos:\n",
    "\n",
    "```python\n",
    "import numpy as np\n",
    "\n",
    "arr = np.array([[1, 2, 3], [4, 5, 6]])\n",
    "\n",
    "print(\"Arreglo:\\n\", arr)\n",
    "print(\"Número de dimensiones (ndim):\", arr.ndim)\n",
    "print(\"Forma (shape):\", arr.shape)\n",
    "print(\"Número de elementos (size):\", arr.size)\n",
    "print(\"Tipo de datos (dtype):\", arr.dtype)\n"
   ]
  },
  {
   "cell_type": "code",
   "execution_count": null,
   "id": "de8a73c2",
   "metadata": {},
   "outputs": [],
   "source": []
  },
  {
   "cell_type": "markdown",
   "id": "2a9b4b8f",
   "metadata": {},
   "source": [
    "### <font color=\"DarkOrange\">Creación de arreglos básicos: `linspace` vs `arange`</font>\n",
    "\n",
    "*Idea clave:* ambos generan secuencias numéricas, pero con enfoques distintos.\n",
    "\n",
    "- **`np.linspace(inicio, fin, num)`**  \n",
    "  Eliges **cuántos puntos** quieres. Por defecto son 100 e **incluye** el `fin`.\n",
    "  - Útil para mallas uniformes con un número exacto de muestras (tiempo, profundidad, longitudes).\n",
    "  - Evita errores de redondeo en pasos decimales.\n",
    "\n",
    "- **`np.arange(inicio, fin, paso)`**  \n",
    "  Eliges el **tamaño del paso**. El arreglo es semiabierto: incluye `inicio`, **excluye** `fin`.\n",
    "  - Ideal con pasos enteros (índices, días, conteos).\n",
    "  - Con pasos decimales puede acumular errores de punto flotante.\n",
    "\n",
    "---"
   ]
  },
  {
   "cell_type": "code",
   "execution_count": 28,
   "id": "2db6a957",
   "metadata": {},
   "outputs": [
    {
     "name": "stdout",
     "output_type": "stream",
     "text": [
      "[ 0.          0.20408163  0.40816327  0.6122449   0.81632653  1.02040816\n",
      "  1.2244898   1.42857143  1.63265306  1.83673469  2.04081633  2.24489796\n",
      "  2.44897959  2.65306122  2.85714286  3.06122449  3.26530612  3.46938776\n",
      "  3.67346939  3.87755102  4.08163265  4.28571429  4.48979592  4.69387755\n",
      "  4.89795918  5.10204082  5.30612245  5.51020408  5.71428571  5.91836735\n",
      "  6.12244898  6.32653061  6.53061224  6.73469388  6.93877551  7.14285714\n",
      "  7.34693878  7.55102041  7.75510204  7.95918367  8.16326531  8.36734694\n",
      "  8.57142857  8.7755102   8.97959184  9.18367347  9.3877551   9.59183673\n",
      "  9.79591837 10.        ]\n"
     ]
    }
   ],
   "source": [
    "# inicio,fin = 0,10\n",
    "con_linespace=np.linspace(0,10)\n",
    "print(con_linespace)"
   ]
  },
  {
   "cell_type": "code",
   "execution_count": 30,
   "id": "3d1d7a20",
   "metadata": {},
   "outputs": [
    {
     "name": "stdout",
     "output_type": "stream",
     "text": [
      "[0 1 2 3 4 5 6 7 8 9]\n"
     ]
    }
   ],
   "source": [
    "# inicio,fin = 0,10 pero no incluye el 10\n",
    "con_arange=np.arange(0,10)\n",
    "print(con_arange)"
   ]
  },
  {
   "cell_type": "code",
   "execution_count": 31,
   "id": "5e85532a",
   "metadata": {},
   "outputs": [],
   "source": [
    "# 5 puntos entre 0 y 10 (incluye el 10)\n",
    "x = np.linspace(0, 10, num=5)           # -> [ 0., 2.5, 5., 7.5, 10.]"
   ]
  },
  {
   "cell_type": "code",
   "execution_count": null,
   "id": "5e73a5c9",
   "metadata": {},
   "outputs": [],
   "source": [
    "# Días 1 al 7 (enteros)\n",
    "dias = np.arange(1, 8)  "
   ]
  },
  {
   "cell_type": "markdown",
   "id": "97018d0c",
   "metadata": {},
   "source": [
    "---\n",
    "\n",
    "## Arreglos 2D y nD en NumPy\n",
    "\n",
    "Hasta ahora hemos trabajado principalmente con **arreglos 1D** (vectores).  \n",
    "Sin embargo, la verdadera potencia de NumPy se aprecia al usar **arreglos de dos o más dimensiones**.\n",
    "\n",
    "- Un **arreglo 2D** se puede pensar como una **tabla o matriz**: filas × columnas.  \n",
    "  Ejemplo: datos meteorológicos de varias estaciones a lo largo de varios días.  \n",
    "\n",
    "- Un **arreglo nD** extiende la idea a tres o más dimensiones:  \n",
    "  - 3D: una pila de matrices (ejemplo: mapas de temperatura para diferentes meses).  \n",
    "  - 4D o más: series temporales de datos espaciales y multivariados (ejemplo: temperatura atmosférica en niveles verticales y distintos tiempos).  \n",
    "\n",
    "---\n",
    "\n",
    "### Relevancia en Ciencias de la Tierra\n",
    "Los arreglos multidimensionales son esenciales porque los datos que usamos rara vez son listas simples.  \n",
    "Al contrario, suelen organizarse en **estructuras espaciales y temporales**:\n",
    "\n",
    "- Tablas con estaciones y variables meteorológicas.  \n",
    "- Mapas 2D de precipitación, temperatura o calidad del aire.  \n",
    "- Cubos 3D o 4D que integran espacio (latitud, longitud, altura) y tiempo.  \n",
    "\n",
    "NumPy nos permite **almacenar, manipular y analizar** todos estos datos de manera eficiente.\n",
    "\n",
    "---"
   ]
  },
  {
   "cell_type": "code",
   "execution_count": null,
   "id": "cb2164ee",
   "metadata": {},
   "outputs": [],
   "source": []
  },
  {
   "cell_type": "code",
   "execution_count": 7,
   "id": "0f8aefb2",
   "metadata": {},
   "outputs": [
    {
     "name": "stdout",
     "output_type": "stream",
     "text": [
      "Arreglo 2D\n",
      "[[1 2 3]\n",
      " [4 5 6]]\n",
      "(2, 3) (3,)\n"
     ]
    }
   ],
   "source": [
    "# creamos el arreglo\n",
    "arreglo_2D=np.array([[1,2,3],[4,5,6]])\n",
    "# imprimimos el arreglo\n",
    "print('Arreglo 2D')\n",
    "print(arreglo_2D)\n",
    "# aqui imprimimos las formas del arreglo 1 y el 2\n",
    "print(arreglo_2D.shape,arreglo.shape)"
   ]
  },
  {
   "cell_type": "code",
   "execution_count": 8,
   "id": "f0bf1325",
   "metadata": {},
   "outputs": [
    {
     "data": {
      "text/plain": [
       "6"
      ]
     },
     "execution_count": 8,
     "metadata": {},
     "output_type": "execute_result"
    }
   ],
   "source": [
    "arreglo_2D.size"
   ]
  },
  {
   "cell_type": "markdown",
   "id": "7652cacf",
   "metadata": {},
   "source": [
    "---\n",
    "<a name='ej-1'></a>\n",
    "#### **<font color=\"DodgerBlue\">Ejercicio 7 - *El tamaño sí importa* </font>**\n",
    "\n",
    "<font color=\"DarkBlue\"> Genere un arreglo de numpy con 5 elementos aleatorios, o usando `np.arange` o `np.linspace`  y compruebe que su tamaño es de 5 elementos y que su forma es de (1,5). \n",
    "\n",
    "---\n",
    "\n",
    "```python\n",
    "# Arreglo\n",
    "arreglo_ej1 = ...\n",
    "# print tamaño\n",
    "print()\n",
    "```\n",
    "\n",
    "---"
   ]
  },
  {
   "cell_type": "code",
   "execution_count": null,
   "id": "d8ea45dd",
   "metadata": {},
   "outputs": [],
   "source": []
  },
  {
   "cell_type": "markdown",
   "id": "41d6848d",
   "metadata": {},
   "source": [
    "---\n",
    "\n",
    "### 🔪 Slicing\n",
    "\n",
    "En Python, para **seleccionar elementos** de un arreglo de NumPy (lo que se conoce como *slicing*), se utiliza la **notación de corchetes** `[]`.  \n",
    "\n",
    "Recuerda que **Python usa indexación basada en cero**, es decir, el primer elemento de un arreglo tiene índice `0`.\n",
    "\n",
    "---\n",
    "\n",
    "#### Sintaxis general\n",
    "\n",
    "[inicio:fin:paso]\n",
    "\n",
    "- **inicio** → índice donde comienza el corte (incluido).  \n",
    "- **fin** → índice donde termina el corte (excluido).  \n",
    "- **paso** → cada cuántos elementos se toma uno (opcional).  \n",
    "\n"
   ]
  },
  {
   "cell_type": "code",
   "execution_count": 9,
   "id": "cad16a42",
   "metadata": {},
   "outputs": [],
   "source": [
    "arr = np.array([10, 20, 30, 40, 50])"
   ]
  },
  {
   "cell_type": "code",
   "execution_count": 10,
   "id": "ccec6e33",
   "metadata": {},
   "outputs": [
    {
     "name": "stdout",
     "output_type": "stream",
     "text": [
      "10\n",
      "[20 30 40]\n",
      "[10 30 50]\n"
     ]
    }
   ],
   "source": [
    "print(arr[0])      # primer elemento → 10\n",
    "print(arr[1:4])    # del índice 1 al 3 → [20 30 40]\n",
    "print(arr[::2])    # de inicio a fin, cada 2 → [10 30 50]"
   ]
  },
  {
   "cell_type": "code",
   "execution_count": 11,
   "id": "e0159d59",
   "metadata": {},
   "outputs": [
    {
     "name": "stdout",
     "output_type": "stream",
     "text": [
      "Matriz\n",
      "[[1 2 3]\n",
      " [4 5 6]\n",
      " [7 8 9]]\n"
     ]
    }
   ],
   "source": [
    "# Crear un arreglo bidimensional (matriz)\n",
    "matriz = np.array([[1, 2, 3], [4, 5, 6], [7, 8, 9]])\n",
    "print('Matriz')\n",
    "print(matriz)"
   ]
  },
  {
   "cell_type": "code",
   "execution_count": 12,
   "id": "290665ad",
   "metadata": {},
   "outputs": [],
   "source": [
    "# Seleccionar la primera fila (índice 0)\n",
    "primera_fila = matriz[0, :]"
   ]
  },
  {
   "cell_type": "code",
   "execution_count": 13,
   "id": "b820ead0",
   "metadata": {},
   "outputs": [],
   "source": [
    "# Seleccionar la segunda columna (índice 1)\n",
    "segunda_columna = matriz[:, 1]"
   ]
  },
  {
   "cell_type": "code",
   "execution_count": 14,
   "id": "46245689",
   "metadata": {},
   "outputs": [],
   "source": [
    "# Seleccionar un subconjunto de la matriz\n",
    "submatriz = matriz[1:3, 0:2]"
   ]
  },
  {
   "cell_type": "markdown",
   "id": "0e11ba35",
   "metadata": {},
   "source": [
    "---\n",
    "<a name='ej-1'></a>\n",
    "#### **<font color=\"DodgerBlue\">Ejercicio 8 - *¿En qué dimensión estamos?* </font>**\n",
    "\n",
    "<font color=\"DarkBlue\"> 1. Genere un arreglo de numpy de 3 dimensiones de la forma (3,2).\n",
    "\n",
    "<font color=\"DarkBlue\"> 2. Luego obtenga a través de un slice, o una submatriz, el elemento que se encuentra en la segunda fila primer columna.\n",
    "\n",
    "---\n"
   ]
  },
  {
   "cell_type": "code",
   "execution_count": null,
   "id": "d9fb9210",
   "metadata": {},
   "outputs": [],
   "source": []
  },
  {
   "cell_type": "markdown",
   "id": "6ed8c503",
   "metadata": {},
   "source": [
    "---\n",
    "\n",
    "### Operaciones básicas con arreglos\n",
    "\n",
    "Una de las grandes ventajas de **NumPy** es que permite realizar operaciones directamente sobre arreglos completos, sin necesidad de escribir bucles.  \n",
    "A esto se le llama **vectorización**: aplicar una operación a todos los elementos de un arreglo de manera automática y eficiente.\n",
    "\n",
    "---\n",
    "\n",
    "#### Operaciones elemento a elemento\n",
    "Los operadores aritméticos funcionan de forma natural en arreglos:\n",
    "\n",
    "- `+` → suma  \n",
    "- `-` → resta  \n",
    "- `*` → multiplicación  \n",
    "- `/` → división  \n",
    "- `**` → potencia\n",
    "\n",
    "Ejemplo:\n",
    "\n",
    "```python\n",
    "import numpy as np\n",
    "\n",
    "a = np.array([1, 2, 3, 4])\n",
    "b = np.array([10, 20, 30, 40])\n",
    "\n",
    "print(a + b)   # [11 22 33 44]\n",
    "print(a * b)   # [10 40 90 160]\n",
    "print(a ** 2)  # [ 1  4  9 16]\n"
   ]
  },
  {
   "cell_type": "code",
   "execution_count": 15,
   "id": "0f84b6be",
   "metadata": {},
   "outputs": [],
   "source": [
    "a = np.array([1, 2, 3, 4])\n",
    "b = np.array([10, 20, 30, 40])"
   ]
  },
  {
   "cell_type": "code",
   "execution_count": 16,
   "id": "710696da",
   "metadata": {},
   "outputs": [
    {
     "name": "stdout",
     "output_type": "stream",
     "text": [
      "[11 22 33 44]\n"
     ]
    }
   ],
   "source": [
    "print(a + b)   # []"
   ]
  },
  {
   "cell_type": "code",
   "execution_count": 17,
   "id": "712b35cf",
   "metadata": {},
   "outputs": [
    {
     "name": "stdout",
     "output_type": "stream",
     "text": [
      "[ 10  40  90 160]\n",
      "[ 1  4  9 16]\n"
     ]
    }
   ],
   "source": [
    "print(a * b)   # []\n",
    "print(a ** 2)  # []"
   ]
  },
  {
   "cell_type": "markdown",
   "id": "d4815fb0",
   "metadata": {},
   "source": [
    "---\n",
    "\n",
    "### Operaciones prefabricadas en NumPy\n",
    "\n",
    "Además de las operaciones aritméticas básicas, **NumPy** incluye muchas funciones ya “prefabricadas” para calcular propiedades de los datos de manera rápida y eficiente.  \n",
    "Estas funciones actúan directamente sobre los arreglos, sin necesidad de escribir ciclos.\n",
    "\n",
    "---\n",
    "\n",
    "#### 1. `np.mean()` → promedio\n",
    "Calcula el valor medio de todos los elementos del arreglo.\n",
    "\n",
    "```python\n",
    "arr = np.array([2, 4, 6, 8, 10])\n",
    "print(np.mean(arr))   # 6.0\n"
   ]
  },
  {
   "cell_type": "code",
   "execution_count": null,
   "id": "7a9b0e37",
   "metadata": {},
   "outputs": [],
   "source": []
  },
  {
   "cell_type": "markdown",
   "id": "b18ec90e",
   "metadata": {},
   "source": [
    "#### 2 .`np.sum()` → suma\n",
    "Calcula la suma de todos los elementos del arreglo."
   ]
  },
  {
   "cell_type": "code",
   "execution_count": 18,
   "id": "76de992d",
   "metadata": {},
   "outputs": [
    {
     "name": "stdout",
     "output_type": "stream",
     "text": [
      "150\n"
     ]
    }
   ],
   "source": [
    "print(np.sum(arr)) "
   ]
  },
  {
   "cell_type": "markdown",
   "id": "4d3bbc85",
   "metadata": {},
   "source": [
    "#### 3. `np.max()` → maximo\n",
    "Calcula el máximo valor del arreglo."
   ]
  },
  {
   "cell_type": "code",
   "execution_count": 19,
   "id": "cff0a1fb",
   "metadata": {},
   "outputs": [
    {
     "name": "stdout",
     "output_type": "stream",
     "text": [
      "50\n"
     ]
    }
   ],
   "source": [
    "print(np.max(arr))"
   ]
  },
  {
   "cell_type": "markdown",
   "id": "3d124267",
   "metadata": {},
   "source": [
    "---\n",
    "\n",
    "### Operaciones por *axis* en NumPy\n",
    "\n",
    "Las funciones de NumPy, como `np.mean`, `np.sum` o `np.max`, pueden aplicarse a todo el arreglo **o a lo largo de un eje específico**.  \n",
    "Ese eje se indica con el argumento `axis`.\n",
    "\n",
    "---\n",
    "\n",
    "#### ¿Qué significa `axis`?\n",
    "- En un **arreglo 2D** (matriz):\n",
    "  - `axis=0` → opera **a lo largo de las filas**, es decir, combina los valores **columna por columna**.  \n",
    "  - `axis=1` → opera **a lo largo de las columnas**, es decir, combina los valores **fila por fila**.  \n",
    "\n",
    "En otras palabras:  \n",
    "- `axis=0` → reduce el arreglo verticalmente.  \n",
    "- `axis=1` → reduce el arreglo horizontalmente.  \n",
    "\n",
    "---\n",
    "\n",
    "#### Ejemplo \n",
    "\n",
    "\n",
    "\n"
   ]
  },
  {
   "cell_type": "code",
   "execution_count": 20,
   "id": "4f1c635d",
   "metadata": {},
   "outputs": [
    {
     "name": "stdout",
     "output_type": "stream",
     "text": [
      "Matriz:\n",
      " [[ 1  2  3]\n",
      " [-4  5  6]\n",
      " [ 7  8 -9]]\n"
     ]
    }
   ],
   "source": [
    "mat = np.array([[1, 2, 3],\n",
    "                [-4, 5, 6],\n",
    "                [7, 8, -9]])\n",
    "print(\"Matriz:\\n\", mat)"
   ]
  },
  {
   "cell_type": "code",
   "execution_count": 21,
   "id": "58aefeda",
   "metadata": {},
   "outputs": [
    {
     "name": "stdout",
     "output_type": "stream",
     "text": [
      "Promedio por columna: [1.33333333 5.         0.        ]\n",
      "Promedio por fila: [2.         2.33333333 2.        ]\n"
     ]
    }
   ],
   "source": [
    "# Promedio de cada columna (axis=0)\n",
    "print(\"Promedio por columna:\", np.mean(mat, axis=0))  \n",
    "\n",
    "# Promedio de cada fila (axis=1)\n",
    "print(\"Promedio por fila:\", np.mean(mat, axis=1))  "
   ]
  },
  {
   "cell_type": "code",
   "execution_count": 22,
   "id": "c9e711ff",
   "metadata": {},
   "outputs": [
    {
     "name": "stdout",
     "output_type": "stream",
     "text": [
      "Máximos por columna: [7 8 6]\n",
      "Suma por fila: [6 7 6]\n"
     ]
    }
   ],
   "source": [
    "# Máximo por columna\n",
    "print(\"Máximos por columna:\", np.max(mat, axis=0))\n",
    "\n",
    "# Suma de cada fila\n",
    "print(\"Suma por fila:\", np.sum(mat, axis=1))"
   ]
  },
  {
   "cell_type": "markdown",
   "id": "7e85282a",
   "metadata": {},
   "source": [
    "---\n",
    "<a name='ej-3'></a>\n",
    "#### **<font color=\"DodgerBlue\">Ejercicio 9: *Suma que suma* </font>**\n",
    "\n",
    "<font color=\"DarkBlue\"> Considerando el arreglo 2D visto anteriormente `mat`, calcule lo siguiente:\n",
    "\n",
    "1. Suma de todo el arreglo\n",
    "2. Suma por columna\n",
    "3. Suma por fila\n",
    "4. Evalúe cual de todos estos valores obtenidos es el más grande, o el valor máximo.\n",
    "\n",
    "---"
   ]
  },
  {
   "cell_type": "code",
   "execution_count": null,
   "id": "1e399c18",
   "metadata": {},
   "outputs": [],
   "source": []
  }
 ],
 "metadata": {
  "kernelspec": {
   "display_name": "Python 3 (ipykernel)",
   "language": "python",
   "name": "python3"
  },
  "language_info": {
   "codemirror_mode": {
    "name": "ipython",
    "version": 3
   },
   "file_extension": ".py",
   "mimetype": "text/x-python",
   "name": "python",
   "nbconvert_exporter": "python",
   "pygments_lexer": "ipython3",
   "version": "3.11.9"
  }
 },
 "nbformat": 4,
 "nbformat_minor": 5
}
