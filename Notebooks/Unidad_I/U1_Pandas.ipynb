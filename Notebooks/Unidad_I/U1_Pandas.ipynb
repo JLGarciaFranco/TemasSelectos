{
 "cells": [
  {
   "cell_type": "markdown",
   "id": "8b8aaf67",
   "metadata": {},
   "source": [
    "<p align=\"center\">\n",
    "  <span style=\"color:Navy; font-size:200%; font-weight:bold; vertical-align:middle;\">\n",
    "    Temas Selectos: Python para Ciencias de la Tierra\n",
    "  </span>\n",
    "  <img src=\"attachment:image.png\" alt=\"ENCiT\" width=\"150\" style=\"vertical-align:middle; margin-left:20px;\"/>\n",
    "</p>\n",
    "\n",
    "<p align=\"center\" style=\"line-height:1.2;\">\n",
    "  <span style=\"color:RoyalBlue; font-size:160%;\">Tema 1: Introducción</span><br/>\n",
    "  <span style=\"color:DodgerBlue; font-size:140%;\">Notebook 5: Pandas </span><br/>\n",
    "  <span style=\"font-size:100%;color:forestgreen\"> Escuela Nacional de Ciencias de la Tierra  |  Semestre 2026-I</span>\n",
    "</p>\n",
    "\n",
    "---\n",
    "\n",
    "## **<font color=\"ForestGreen\">  ¿Por qué Pandas? </font>**\n",
    "\n",
    "_Pandas_ es una poderosa biblioteca de Python utilizada principalmente para la manipulación y análisis de datos en el ámbito de la ciencia de datos. Su funcionalidad y utilidad radican en su capacidad para trabajar con conjuntos de datos tabulares de manera eficiente y flexible. Algunas de las características clave de Pandas incluyen:\n",
    "\n",
    "- Estructuras de Datos Flexibles: Pandas proporciona dos estructuras de datos principales: Series y DataFrame. Una Serie es una matriz unidimensional que puede contener datos de cualquier tipo, mientras que un DataFrame es una estructura bidimensional similar a una tabla que organiza los datos en filas y columnas, lo que permite la manipulación de datos tabulares de manera intuitiva.\n",
    "\n",
    "- Manipulación de Datos: Pandas ofrece una amplia gama de funcionalidades para la manipulación de datos, incluyendo la selección, filtrado, agregación, transformación y visualización de datos. Estas operaciones permiten limpiar y preparar los datos para su análisis de manera eficiente.\n",
    "\n",
    "- Integración con otras bibliotecas: Pandas se integra perfectamente con otras bibliotecas populares de Python utilizadas en ciencia de datos, como NumPy, Matplotlib y Scikit-learn, lo que permite un flujo de trabajo completo para el análisis y modelado de datos.\n",
    "\n",
    "En el campo de las *Ciencias de la Tierra*, Pandas se utiliza ampliamente para la manipulación y análisis de datos geoespaciales, así como para la exploración y visualización de datos climáticos, geológicos, hidrológicos y ambientales. Con Pandas, los científicos de la Tierra pueden cargar, limpiar y analizar conjuntos de datos complejos, realizar cálculos estadísticos y crear visualizaciones informativas que ayuden a comprender mejor los fenómenos naturales y los procesos terrestres.\n",
    "\n",
    "En resumen, Pandas es una herramienta fundamental en el arsenal de cualquier científico de datos y profesional en Ciencias de la Tierra, ya que proporciona las herramientas necesarias para explorar y comprender datos tabulares de manera efectiva y eficiente.\n",
    "\n",
    "Para saber más de pandas, revisar: https://aprendeconalf.es/docencia/python/manual/pandas/"
   ]
  },
  {
   "cell_type": "code",
   "execution_count": 1,
   "id": "60a4b8ea",
   "metadata": {},
   "outputs": [],
   "source": [
    "import pandas as pd\n",
    "import matplotlib.pyplot as plt\n",
    "import numpy as np\n",
    "import datetime"
   ]
  },
  {
   "cell_type": "markdown",
   "id": "2f207134",
   "metadata": {},
   "source": [
    "El objeto principal de pandas es un `DataFrame`. Un DataFrame en Pandas es una estructura de datos bidimensional etiquetada y tabular que se utiliza para almacenar y manipular conjuntos de datos de forma similar a una hoja de cálculo o una tabla de base de datos. Esencialmente, un DataFrame consta de **filas y columnas**, donde cada columna puede contener datos de diferentes tipos, como enteros, flotantes, cadenas de caracteres u otros objetos de Python. Por esta razón cuando pensemos en Pandas, frecuentemente pensamos en **tablas**.\n",
    "\n",
    "Pandas trabaja alrededor del objeto DataFrame porque proporciona una manera poderosa y flexible de organizar, analizar y manipular datos tabulares. \n",
    "\n",
    "Existen varias maneras de crear un objeto `DataFrame`, empecemos por las más sencillas y explícitas."
   ]
  },
  {
   "cell_type": "code",
   "execution_count": 3,
   "id": "3ee293c3",
   "metadata": {},
   "outputs": [],
   "source": [
    "# Creación de un DataFrame a partir de un diccionario\n",
    "data = {\n",
    "    'Nombre': ['Juan', 'María', 'Pedro', 'Ana','Jorge','Carlos'],\n",
    "    'Edad': [25, 30, 35, 40,21,20],\n",
    "    'Ciudad': ['Madrid', 'Puebla', 'Xalapa', 'Huatulco','Zitacuaro','Xalapa']\n",
    "}\n",
    "df = pd.DataFrame(data)\n"
   ]
  },
  {
   "cell_type": "code",
   "execution_count": 4,
   "id": "8e97e3ab",
   "metadata": {},
   "outputs": [
    {
     "name": "stdout",
     "output_type": "stream",
     "text": [
      "Primeros registros del DataFrame:\n",
      "  Nombre  Edad     Ciudad\n",
      "0   Juan    25     Madrid\n",
      "1  María    30     Puebla\n",
      "2  Pedro    35     Xalapa\n",
      "3    Ana    40   Huatulco\n",
      "4  Jorge    21  Zitacuaro\n",
      "Ultimos registros del DataFrame:\n",
      "   Nombre  Edad     Ciudad\n",
      "1   María    30     Puebla\n",
      "2   Pedro    35     Xalapa\n",
      "3     Ana    40   Huatulco\n",
      "4   Jorge    21  Zitacuaro\n",
      "5  Carlos    20     Xalapa\n"
     ]
    }
   ],
   "source": [
    "# Mostrar los primeros registros del DataFrame\n",
    "print(\"Primeros registros del DataFrame:\")\n",
    "print(df.head())\n",
    "print(\"Ultimos registros del DataFrame:\")\n",
    "print(df.tail())"
   ]
  },
  {
   "cell_type": "code",
   "execution_count": 5,
   "id": "a7c07416",
   "metadata": {},
   "outputs": [
    {
     "name": "stdout",
     "output_type": "stream",
     "text": [
      "Información del DataFrame:\n",
      "<class 'pandas.core.frame.DataFrame'>\n",
      "RangeIndex: 6 entries, 0 to 5\n",
      "Data columns (total 3 columns):\n",
      " #   Column  Non-Null Count  Dtype \n",
      "---  ------  --------------  ----- \n",
      " 0   Nombre  6 non-null      object\n",
      " 1   Edad    6 non-null      int64 \n",
      " 2   Ciudad  6 non-null      object\n",
      "dtypes: int64(1), object(2)\n",
      "memory usage: 276.0+ bytes\n",
      "None\n"
     ]
    }
   ],
   "source": [
    "# Obtener información sobre el DataFrame\n",
    "print(\"Información del DataFrame:\")\n",
    "print(df.info())"
   ]
  },
  {
   "cell_type": "code",
   "execution_count": 6,
   "id": "388f82f4",
   "metadata": {},
   "outputs": [
    {
     "name": "stdout",
     "output_type": "stream",
     "text": [
      "Selección de columnas:\n",
      "0      Juan\n",
      "1     María\n",
      "2     Pedro\n",
      "3       Ana\n",
      "4     Jorge\n",
      "5    Carlos\n",
      "Name: Nombre, dtype: object\n",
      "   Nombre  Edad\n",
      "0    Juan    25\n",
      "1   María    30\n",
      "2   Pedro    35\n",
      "3     Ana    40\n",
      "4   Jorge    21\n",
      "5  Carlos    20\n"
     ]
    }
   ],
   "source": [
    "# Selección de columnas\n",
    "print(\"Selección de columnas:\")\n",
    "print(df['Nombre'])\n",
    "print(df[['Nombre', 'Edad']])"
   ]
  },
  {
   "cell_type": "markdown",
   "id": "1637e2d5",
   "metadata": {},
   "source": [
    "Las operaciones con columnas en Pandas son muy comunes y útiles para calcular estadísticas resumidas de los datos. Aquí se muestra cómo usar `df.mean()` y `df.sum()` para calcular el promedio y la suma de las columnas de un DataFrame. Noten que a Pandas no le gusta que le pida uno calcular promedios de cosas que no son números como la columna de edad. "
   ]
  },
  {
   "cell_type": "code",
   "execution_count": 7,
   "id": "14daa1f0",
   "metadata": {},
   "outputs": [
    {
     "name": "stdout",
     "output_type": "stream",
     "text": [
      "Operaciones con columnas (promedio) de la columna Edad:\n",
      "28.5\n"
     ]
    }
   ],
   "source": [
    "# Operaciones con columnas\n",
    "print(\"Operaciones con columnas (promedio) de la columna Edad:\")\n",
    "print(df['Edad'].mean())"
   ]
  },
  {
   "cell_type": "code",
   "execution_count": 8,
   "id": "fad8f8d4",
   "metadata": {},
   "outputs": [
    {
     "name": "stdout",
     "output_type": "stream",
     "text": [
      "Operaciones con columnas (suma):\n",
      "171\n"
     ]
    }
   ],
   "source": [
    "# Operaciones con columnas\n",
    "print(\"Operaciones con columnas (suma):\")\n",
    "print(df['Edad'].sum())"
   ]
  },
  {
   "cell_type": "markdown",
   "id": "c4347e9b",
   "metadata": {},
   "source": [
    "### **Filtrado y operaciones con columnas en Pandas**\n",
    "\n",
    "Una de las grandes ventajas de Pandas es la posibilidad de **filtrar datos** fácilmente usando condiciones, así como **crear y manipular columnas** de manera muy flexible.  \n",
    "\n",
    "- **Filtrado:** se pueden aplicar condiciones sobre las columnas y obtener sólo las filas que cumplen con ellas.  \n",
    "- **Operaciones con columnas:** podemos generar nuevas columnas a partir de operaciones con las existentes.  \n",
    "\n",
    "Ejemplos:"
   ]
  },
  {
   "cell_type": "code",
   "execution_count": 9,
   "id": "75680189",
   "metadata": {
    "scrolled": true
   },
   "outputs": [
    {
     "name": "stdout",
     "output_type": "stream",
     "text": [
      "Filtrado de datos:\n",
      "  Nombre  Edad    Ciudad\n",
      "2  Pedro    35    Xalapa\n",
      "3    Ana    40  Huatulco\n"
     ]
    }
   ],
   "source": [
    "# Filtrado de datos para seleccionar solo cuando la edad sea mayor a 30\n",
    "print(\"Filtrado de datos:\")\n",
    "print(df[df['Edad'] > 30])"
   ]
  },
  {
   "cell_type": "code",
   "execution_count": 10,
   "id": "7576c910",
   "metadata": {},
   "outputs": [
    {
     "name": "stdout",
     "output_type": "stream",
     "text": [
      "Manipulación de columnas:\n",
      "   Nombre  Edad     Ciudad  Edad_doble\n",
      "0    Juan    25     Madrid          50\n",
      "1   María    30     Puebla          60\n",
      "2   Pedro    35     Xalapa          70\n",
      "3     Ana    40   Huatulco          80\n",
      "4   Jorge    21  Zitacuaro          42\n",
      "5  Carlos    20     Xalapa          40\n"
     ]
    }
   ],
   "source": [
    "# Manipulación de columnas\n",
    "print(\"Manipulación de columnas:\")\n",
    "# se puede crear una columna nueva\n",
    "df['Edad_doble'] = df['Edad'] * 2\n",
    "print(df)"
   ]
  },
  {
   "cell_type": "markdown",
   "id": "19ae525a",
   "metadata": {},
   "source": [
    "Podemos agregar columnas si queremos, pero **tienen** que tener el número correcto de filas. Es decir, si el dataframe tiene 10 filas, tengo que especificar una columna con ese número de filas. "
   ]
  },
  {
   "cell_type": "code",
   "execution_count": 11,
   "id": "30cbe03c",
   "metadata": {},
   "outputs": [
    {
     "name": "stdout",
     "output_type": "stream",
     "text": [
      "   Nombre  Edad     Ciudad  Edad_doble Pais/Estado\n",
      "0    Juan    25     Madrid          50      España\n",
      "1   María    30     Puebla          60      Puebla\n",
      "2   Pedro    35     Xalapa          70    Veracruz\n",
      "3     Ana    40   Huatulco          80   Michoacan\n",
      "4   Jorge    21  Zitacuaro          42      Oaxaca\n",
      "5  Carlos    20     Xalapa          40    Veracruz\n"
     ]
    }
   ],
   "source": [
    "df['Pais/Estado']=['España','Puebla','Veracruz','Michoacan','Oaxaca','Veracruz']\n",
    "print(df)"
   ]
  },
  {
   "cell_type": "markdown",
   "id": "e67b962c",
   "metadata": {},
   "source": [
    "Si especificamos un número incorrecto de valores en las filas, no se puede agregar una columna adicional"
   ]
  },
  {
   "cell_type": "code",
   "execution_count": 19,
   "id": "34e13531",
   "metadata": {},
   "outputs": [
    {
     "ename": "ValueError",
     "evalue": "Length of values (5) does not match length of index (6)",
     "output_type": "error",
     "traceback": [
      "\u001b[0;31m---------------------------------------------------------------------------\u001b[0m",
      "\u001b[0;31mValueError\u001b[0m                                Traceback (most recent call last)",
      "Cell \u001b[0;32mIn[19], line 1\u001b[0m\n\u001b[0;32m----> 1\u001b[0m \u001b[43mdf\u001b[49m\u001b[43m[\u001b[49m\u001b[38;5;124;43m'\u001b[39;49m\u001b[38;5;124;43mNumeros\u001b[39;49m\u001b[38;5;124;43m'\u001b[39;49m\u001b[43m]\u001b[49m\u001b[38;5;241m=\u001b[39mnp\u001b[38;5;241m.\u001b[39marange(\u001b[38;5;241m1\u001b[39m,\u001b[38;5;241m6\u001b[39m)\n\u001b[1;32m      2\u001b[0m \u001b[38;5;28mprint\u001b[39m(df)\n",
      "File \u001b[0;32m~/anaconda3/lib/python3.11/site-packages/pandas/core/frame.py:4311\u001b[0m, in \u001b[0;36mDataFrame.__setitem__\u001b[0;34m(self, key, value)\u001b[0m\n\u001b[1;32m   4308\u001b[0m     \u001b[38;5;28mself\u001b[39m\u001b[38;5;241m.\u001b[39m_setitem_array([key], value)\n\u001b[1;32m   4309\u001b[0m \u001b[38;5;28;01melse\u001b[39;00m:\n\u001b[1;32m   4310\u001b[0m     \u001b[38;5;66;03m# set column\u001b[39;00m\n\u001b[0;32m-> 4311\u001b[0m     \u001b[38;5;28;43mself\u001b[39;49m\u001b[38;5;241;43m.\u001b[39;49m\u001b[43m_set_item\u001b[49m\u001b[43m(\u001b[49m\u001b[43mkey\u001b[49m\u001b[43m,\u001b[49m\u001b[43m \u001b[49m\u001b[43mvalue\u001b[49m\u001b[43m)\u001b[49m\n",
      "File \u001b[0;32m~/anaconda3/lib/python3.11/site-packages/pandas/core/frame.py:4524\u001b[0m, in \u001b[0;36mDataFrame._set_item\u001b[0;34m(self, key, value)\u001b[0m\n\u001b[1;32m   4514\u001b[0m \u001b[38;5;28;01mdef\u001b[39;00m \u001b[38;5;21m_set_item\u001b[39m(\u001b[38;5;28mself\u001b[39m, key, value) \u001b[38;5;241m-\u001b[39m\u001b[38;5;241m>\u001b[39m \u001b[38;5;28;01mNone\u001b[39;00m:\n\u001b[1;32m   4515\u001b[0m \u001b[38;5;250m    \u001b[39m\u001b[38;5;124;03m\"\"\"\u001b[39;00m\n\u001b[1;32m   4516\u001b[0m \u001b[38;5;124;03m    Add series to DataFrame in specified column.\u001b[39;00m\n\u001b[1;32m   4517\u001b[0m \n\u001b[0;32m   (...)\u001b[0m\n\u001b[1;32m   4522\u001b[0m \u001b[38;5;124;03m    ensure homogeneity.\u001b[39;00m\n\u001b[1;32m   4523\u001b[0m \u001b[38;5;124;03m    \"\"\"\u001b[39;00m\n\u001b[0;32m-> 4524\u001b[0m     value, refs \u001b[38;5;241m=\u001b[39m \u001b[38;5;28;43mself\u001b[39;49m\u001b[38;5;241;43m.\u001b[39;49m\u001b[43m_sanitize_column\u001b[49m\u001b[43m(\u001b[49m\u001b[43mvalue\u001b[49m\u001b[43m)\u001b[49m\n\u001b[1;32m   4526\u001b[0m     \u001b[38;5;28;01mif\u001b[39;00m (\n\u001b[1;32m   4527\u001b[0m         key \u001b[38;5;129;01min\u001b[39;00m \u001b[38;5;28mself\u001b[39m\u001b[38;5;241m.\u001b[39mcolumns\n\u001b[1;32m   4528\u001b[0m         \u001b[38;5;129;01mand\u001b[39;00m value\u001b[38;5;241m.\u001b[39mndim \u001b[38;5;241m==\u001b[39m \u001b[38;5;241m1\u001b[39m\n\u001b[1;32m   4529\u001b[0m         \u001b[38;5;129;01mand\u001b[39;00m \u001b[38;5;129;01mnot\u001b[39;00m \u001b[38;5;28misinstance\u001b[39m(value\u001b[38;5;241m.\u001b[39mdtype, ExtensionDtype)\n\u001b[1;32m   4530\u001b[0m     ):\n\u001b[1;32m   4531\u001b[0m         \u001b[38;5;66;03m# broadcast across multiple columns if necessary\u001b[39;00m\n\u001b[1;32m   4532\u001b[0m         \u001b[38;5;28;01mif\u001b[39;00m \u001b[38;5;129;01mnot\u001b[39;00m \u001b[38;5;28mself\u001b[39m\u001b[38;5;241m.\u001b[39mcolumns\u001b[38;5;241m.\u001b[39mis_unique \u001b[38;5;129;01mor\u001b[39;00m \u001b[38;5;28misinstance\u001b[39m(\u001b[38;5;28mself\u001b[39m\u001b[38;5;241m.\u001b[39mcolumns, MultiIndex):\n",
      "File \u001b[0;32m~/anaconda3/lib/python3.11/site-packages/pandas/core/frame.py:5266\u001b[0m, in \u001b[0;36mDataFrame._sanitize_column\u001b[0;34m(self, value)\u001b[0m\n\u001b[1;32m   5263\u001b[0m     \u001b[38;5;28;01mreturn\u001b[39;00m _reindex_for_setitem(value, \u001b[38;5;28mself\u001b[39m\u001b[38;5;241m.\u001b[39mindex)\n\u001b[1;32m   5265\u001b[0m \u001b[38;5;28;01mif\u001b[39;00m is_list_like(value):\n\u001b[0;32m-> 5266\u001b[0m     \u001b[43mcom\u001b[49m\u001b[38;5;241;43m.\u001b[39;49m\u001b[43mrequire_length_match\u001b[49m\u001b[43m(\u001b[49m\u001b[43mvalue\u001b[49m\u001b[43m,\u001b[49m\u001b[43m \u001b[49m\u001b[38;5;28;43mself\u001b[39;49m\u001b[38;5;241;43m.\u001b[39;49m\u001b[43mindex\u001b[49m\u001b[43m)\u001b[49m\n\u001b[1;32m   5267\u001b[0m arr \u001b[38;5;241m=\u001b[39m sanitize_array(value, \u001b[38;5;28mself\u001b[39m\u001b[38;5;241m.\u001b[39mindex, copy\u001b[38;5;241m=\u001b[39m\u001b[38;5;28;01mTrue\u001b[39;00m, allow_2d\u001b[38;5;241m=\u001b[39m\u001b[38;5;28;01mTrue\u001b[39;00m)\n\u001b[1;32m   5268\u001b[0m \u001b[38;5;28;01mif\u001b[39;00m (\n\u001b[1;32m   5269\u001b[0m     \u001b[38;5;28misinstance\u001b[39m(value, Index)\n\u001b[1;32m   5270\u001b[0m     \u001b[38;5;129;01mand\u001b[39;00m value\u001b[38;5;241m.\u001b[39mdtype \u001b[38;5;241m==\u001b[39m \u001b[38;5;124m\"\u001b[39m\u001b[38;5;124mobject\u001b[39m\u001b[38;5;124m\"\u001b[39m\n\u001b[0;32m   (...)\u001b[0m\n\u001b[1;32m   5273\u001b[0m     \u001b[38;5;66;03m# TODO: Remove kludge in sanitize_array for string mode when enforcing\u001b[39;00m\n\u001b[1;32m   5274\u001b[0m     \u001b[38;5;66;03m# this deprecation\u001b[39;00m\n",
      "File \u001b[0;32m~/anaconda3/lib/python3.11/site-packages/pandas/core/common.py:573\u001b[0m, in \u001b[0;36mrequire_length_match\u001b[0;34m(data, index)\u001b[0m\n\u001b[1;32m    569\u001b[0m \u001b[38;5;250m\u001b[39m\u001b[38;5;124;03m\"\"\"\u001b[39;00m\n\u001b[1;32m    570\u001b[0m \u001b[38;5;124;03mCheck the length of data matches the length of the index.\u001b[39;00m\n\u001b[1;32m    571\u001b[0m \u001b[38;5;124;03m\"\"\"\u001b[39;00m\n\u001b[1;32m    572\u001b[0m \u001b[38;5;28;01mif\u001b[39;00m \u001b[38;5;28mlen\u001b[39m(data) \u001b[38;5;241m!=\u001b[39m \u001b[38;5;28mlen\u001b[39m(index):\n\u001b[0;32m--> 573\u001b[0m     \u001b[38;5;28;01mraise\u001b[39;00m \u001b[38;5;167;01mValueError\u001b[39;00m(\n\u001b[1;32m    574\u001b[0m         \u001b[38;5;124m\"\u001b[39m\u001b[38;5;124mLength of values \u001b[39m\u001b[38;5;124m\"\u001b[39m\n\u001b[1;32m    575\u001b[0m         \u001b[38;5;124mf\u001b[39m\u001b[38;5;124m\"\u001b[39m\u001b[38;5;124m(\u001b[39m\u001b[38;5;132;01m{\u001b[39;00m\u001b[38;5;28mlen\u001b[39m(data)\u001b[38;5;132;01m}\u001b[39;00m\u001b[38;5;124m) \u001b[39m\u001b[38;5;124m\"\u001b[39m\n\u001b[1;32m    576\u001b[0m         \u001b[38;5;124m\"\u001b[39m\u001b[38;5;124mdoes not match length of index \u001b[39m\u001b[38;5;124m\"\u001b[39m\n\u001b[1;32m    577\u001b[0m         \u001b[38;5;124mf\u001b[39m\u001b[38;5;124m\"\u001b[39m\u001b[38;5;124m(\u001b[39m\u001b[38;5;132;01m{\u001b[39;00m\u001b[38;5;28mlen\u001b[39m(index)\u001b[38;5;132;01m}\u001b[39;00m\u001b[38;5;124m)\u001b[39m\u001b[38;5;124m\"\u001b[39m\n\u001b[1;32m    578\u001b[0m     )\n",
      "\u001b[0;31mValueError\u001b[0m: Length of values (5) does not match length of index (6)"
     ]
    }
   ],
   "source": [
    "df['Numeros']=np.arange(1,6)\n",
    "print(df)"
   ]
  },
  {
   "cell_type": "markdown",
   "id": "b85bdf37",
   "metadata": {},
   "source": [
    "Finalmente, podemos hacer cambios directamente en nuestro dataframe, si quisiéramos cambiar algún valor. \n",
    "\n",
    "Una, de varias, maneras de hacer esto es con el atributo `loc`, que se utiliza para hacer cambios específicos en partes. \n",
    "\n",
    "`df.loc[condicion,columna]=nuevo_valor`\n",
    "\n",
    "Por ejemplo, para cambiar los estados de las ciudades de Huatulco y Zitacuaro, podemos hacer:"
   ]
  },
  {
   "cell_type": "code",
   "execution_count": 13,
   "id": "4f5de73e",
   "metadata": {},
   "outputs": [
    {
     "name": "stdout",
     "output_type": "stream",
     "text": [
      "   Nombre  Edad     Ciudad  Edad_doble Pais/Estado\n",
      "0    Juan    25     Madrid          50      España\n",
      "1   María    30     Puebla          60      Puebla\n",
      "2   Pedro    35     Xalapa          70    Veracruz\n",
      "3     Ana    40   Huatulco          80      Oaxaca\n",
      "4   Jorge    21  Zitacuaro          42   Michoacan\n",
      "5  Carlos    20     Xalapa          40    Veracruz\n"
     ]
    }
   ],
   "source": [
    "df.loc[df.Ciudad=='Huatulco','Pais/Estado']='Oaxaca'\n",
    "df.loc[df.Ciudad=='Zitacuaro','Pais/Estado']='Michoacan'\n",
    "print(df)"
   ]
  },
  {
   "cell_type": "markdown",
   "id": "ab9bbdfc",
   "metadata": {},
   "source": [
    "### **<font color=\"ForestGreen\">  Agrupando ando </font>**\n",
    "\n",
    "En la siguiente celda se agrupan los datos por ciudad y se obtiene el promedio de la edad para cada grupo. En nuestro ejemplo sólo Carlos y Pedro son de la misma ciudad. Entonces sólo será el valor de Xalapa el que se verá diferente. \n",
    "\n",
    "Se muestran, además, dos maneras diferentes de hacer lo mismo. \n",
    "\n",
    "La primera utiliza la sintaxis de `df.groupby` y un `.agg` dentro de agg tenemos que señalar primero la columna y luego la operación que queremos hacer. O sea `.agg({Edad:mean})` hace el promedio de la columna edad para el grupo que tengamos. \n",
    "\n",
    "Otra manera, un poco más directa es hacer `df.groupby('Ciudad').mean()`. \n",
    "\n",
    "Es decir, primero con groupby agrupamos los datos por ese valor de esa columna y luego sacamos el promedio. \n"
   ]
  },
  {
   "cell_type": "code",
   "execution_count": 15,
   "id": "a97493ac",
   "metadata": {},
   "outputs": [
    {
     "data": {
      "text/html": [
       "<div>\n",
       "<style scoped>\n",
       "    .dataframe tbody tr th:only-of-type {\n",
       "        vertical-align: middle;\n",
       "    }\n",
       "\n",
       "    .dataframe tbody tr th {\n",
       "        vertical-align: top;\n",
       "    }\n",
       "\n",
       "    .dataframe thead th {\n",
       "        text-align: right;\n",
       "    }\n",
       "</style>\n",
       "<table border=\"1\" class=\"dataframe\">\n",
       "  <thead>\n",
       "    <tr style=\"text-align: right;\">\n",
       "      <th></th>\n",
       "      <th>Nombre</th>\n",
       "      <th>Edad</th>\n",
       "      <th>Ciudad</th>\n",
       "      <th>Edad_doble</th>\n",
       "      <th>Pais/Estado</th>\n",
       "    </tr>\n",
       "  </thead>\n",
       "  <tbody>\n",
       "    <tr>\n",
       "      <th>0</th>\n",
       "      <td>Juan</td>\n",
       "      <td>25</td>\n",
       "      <td>Madrid</td>\n",
       "      <td>50</td>\n",
       "      <td>España</td>\n",
       "    </tr>\n",
       "    <tr>\n",
       "      <th>1</th>\n",
       "      <td>María</td>\n",
       "      <td>30</td>\n",
       "      <td>Puebla</td>\n",
       "      <td>60</td>\n",
       "      <td>Puebla</td>\n",
       "    </tr>\n",
       "    <tr>\n",
       "      <th>2</th>\n",
       "      <td>Pedro</td>\n",
       "      <td>35</td>\n",
       "      <td>Xalapa</td>\n",
       "      <td>70</td>\n",
       "      <td>Veracruz</td>\n",
       "    </tr>\n",
       "    <tr>\n",
       "      <th>3</th>\n",
       "      <td>Ana</td>\n",
       "      <td>40</td>\n",
       "      <td>Huatulco</td>\n",
       "      <td>80</td>\n",
       "      <td>Oaxaca</td>\n",
       "    </tr>\n",
       "    <tr>\n",
       "      <th>4</th>\n",
       "      <td>Jorge</td>\n",
       "      <td>21</td>\n",
       "      <td>Zitacuaro</td>\n",
       "      <td>42</td>\n",
       "      <td>Michoacan</td>\n",
       "    </tr>\n",
       "    <tr>\n",
       "      <th>5</th>\n",
       "      <td>Carlos</td>\n",
       "      <td>20</td>\n",
       "      <td>Xalapa</td>\n",
       "      <td>40</td>\n",
       "      <td>Veracruz</td>\n",
       "    </tr>\n",
       "  </tbody>\n",
       "</table>\n",
       "</div>"
      ],
      "text/plain": [
       "   Nombre  Edad     Ciudad  Edad_doble Pais/Estado\n",
       "0    Juan    25     Madrid          50      España\n",
       "1   María    30     Puebla          60      Puebla\n",
       "2   Pedro    35     Xalapa          70    Veracruz\n",
       "3     Ana    40   Huatulco          80      Oaxaca\n",
       "4   Jorge    21  Zitacuaro          42   Michoacan\n",
       "5  Carlos    20     Xalapa          40    Veracruz"
      ]
     },
     "execution_count": 15,
     "metadata": {},
     "output_type": "execute_result"
    }
   ],
   "source": [
    "df"
   ]
  },
  {
   "cell_type": "code",
   "execution_count": 17,
   "id": "06854193",
   "metadata": {},
   "outputs": [
    {
     "name": "stdout",
     "output_type": "stream",
     "text": [
      " Agrupación y agregación de datos:\n",
      "Ciudad\n",
      "Huatulco     40.0\n",
      "Madrid       25.0\n",
      "Puebla       30.0\n",
      "Xalapa       27.5\n",
      "Zitacuaro    21.0\n",
      "Name: Edad, dtype: float64\n",
      "           Edad\n",
      "Ciudad         \n",
      "Huatulco   40.0\n",
      "Madrid     25.0\n",
      "Puebla     30.0\n",
      "Xalapa     27.5\n",
      "Zitacuaro  21.0\n"
     ]
    }
   ],
   "source": [
    "# Agrupación y agregación de datos\n",
    "print(\" Agrupación y agregación de datos:\")\n",
    "grouped2 = df.groupby('Ciudad')['Edad'].mean()\n",
    "print(grouped2)\n",
    "grouped1 = df.groupby('Ciudad').agg({'Edad': 'mean'})\n",
    "print(grouped1)"
   ]
  },
  {
   "cell_type": "markdown",
   "id": "773b585d",
   "metadata": {},
   "source": [
    "Pandas tiene muchísimas ventajas. Una de ellas es que se pueden acceder a los datos e índices rápidos para hacer gráficas. Por ejemplo, una gráfica de barras se puede ver rápidamente así:"
   ]
  },
  {
   "cell_type": "code",
   "execution_count": 26,
   "id": "273a4596",
   "metadata": {},
   "outputs": [
    {
     "name": "stdout",
     "output_type": "stream",
     "text": [
      "   Nombre  Edad     Ciudad  Edad_doble Pais/Estado\n",
      "5  Carlos    20     Xalapa          40    Veracruz\n",
      "4   Jorge    21  Zitacuaro          42   Michoacan\n",
      "0    Juan    25     Madrid          50      España\n",
      "1   María    30     Puebla          60      Puebla\n",
      "2   Pedro    35     Xalapa          70    Veracruz\n",
      "3     Ana    40   Huatulco          80      Oaxaca\n"
     ]
    }
   ],
   "source": [
    "df_ordenado = df.sort_values(by='Edad')\n",
    "print(df_ordenado)"
   ]
  },
  {
   "cell_type": "markdown",
   "id": "1f3e6340",
   "metadata": {},
   "source": [
    "---\n",
    "<a name='ej-1'></a>\n",
    "### **<font color=\"DodgerBlue\">Ejercicio 9 - *Arriba los jóvenes* </font>**\n",
    "\n",
    "<font color=\"DarkBlue\"> 1. Seleccione del dataframe que hemos utilizado sólo valores donde la edad doble sea menor o igual a 70. </font>\n",
    "    \n",
    "<font color=\"DarkBlue\"> 2. De esos datos restantes, obtenga el promedio de la edad. </font>\n",
    "    \n",
    "---"
   ]
  },
  {
   "cell_type": "code",
   "execution_count": null,
   "id": "3ae74132",
   "metadata": {},
   "outputs": [],
   "source": []
  },
  {
   "attachments": {
    "image.png": {
     "image/png": "[encoded data removed]"
    }
   },
   "cell_type": "markdown",
   "id": "3b2ecf0d",
   "metadata": {},
   "source": [
    "### **<font color=\"ForestGreen\">  La importancia del índice </font>**\n",
    "\n",
    "En la celda anterior vimos que utilizamos algo así como `df.index`, pero qué es esto del índice se preguntarán ustedes. Vamos a verlo con otro dataframe. Uno que podemos imaginar como los datos de un supermercado que ha registrado ciertas compras a diferentes horas del día. \n",
    "\n",
    "![image.png](attachment:image.png)"
   ]
  },
  {
   "cell_type": "code",
   "execution_count": 27,
   "id": "369e9952",
   "metadata": {},
   "outputs": [
    {
     "data": {
      "text/html": [
       "<div>\n",
       "<style scoped>\n",
       "    .dataframe tbody tr th:only-of-type {\n",
       "        vertical-align: middle;\n",
       "    }\n",
       "\n",
       "    .dataframe tbody tr th {\n",
       "        vertical-align: top;\n",
       "    }\n",
       "\n",
       "    .dataframe thead th {\n",
       "        text-align: right;\n",
       "    }\n",
       "</style>\n",
       "<table border=\"1\" class=\"dataframe\">\n",
       "  <thead>\n",
       "    <tr style=\"text-align: right;\">\n",
       "      <th></th>\n",
       "      <th>ID</th>\n",
       "      <th>Nombre</th>\n",
       "      <th>Cantidad</th>\n",
       "      <th>Precio</th>\n",
       "      <th>Fecha</th>\n",
       "    </tr>\n",
       "  </thead>\n",
       "  <tbody>\n",
       "    <tr>\n",
       "      <th>0</th>\n",
       "      <td>1</td>\n",
       "      <td>Producto 1</td>\n",
       "      <td>14</td>\n",
       "      <td>36.199228</td>\n",
       "      <td>2025-08-21 13:04:17.109130</td>\n",
       "    </tr>\n",
       "    <tr>\n",
       "      <th>1</th>\n",
       "      <td>2</td>\n",
       "      <td>Producto 2</td>\n",
       "      <td>57</td>\n",
       "      <td>14.899322</td>\n",
       "      <td>2025-08-20 13:04:17.109143</td>\n",
       "    </tr>\n",
       "    <tr>\n",
       "      <th>2</th>\n",
       "      <td>3</td>\n",
       "      <td>Producto 3</td>\n",
       "      <td>31</td>\n",
       "      <td>88.242695</td>\n",
       "      <td>2025-08-19 13:04:17.109147</td>\n",
       "    </tr>\n",
       "    <tr>\n",
       "      <th>3</th>\n",
       "      <td>4</td>\n",
       "      <td>Producto 4</td>\n",
       "      <td>53</td>\n",
       "      <td>96.930012</td>\n",
       "      <td>2025-08-18 13:04:17.109149</td>\n",
       "    </tr>\n",
       "    <tr>\n",
       "      <th>4</th>\n",
       "      <td>5</td>\n",
       "      <td>Producto 5</td>\n",
       "      <td>43</td>\n",
       "      <td>28.110895</td>\n",
       "      <td>2025-08-17 13:04:17.109151</td>\n",
       "    </tr>\n",
       "    <tr>\n",
       "      <th>5</th>\n",
       "      <td>6</td>\n",
       "      <td>Producto 6</td>\n",
       "      <td>22</td>\n",
       "      <td>78.434033</td>\n",
       "      <td>2025-08-16 13:04:17.109154</td>\n",
       "    </tr>\n",
       "    <tr>\n",
       "      <th>6</th>\n",
       "      <td>7</td>\n",
       "      <td>Producto 7</td>\n",
       "      <td>57</td>\n",
       "      <td>27.051070</td>\n",
       "      <td>2025-08-15 13:04:17.109156</td>\n",
       "    </tr>\n",
       "    <tr>\n",
       "      <th>7</th>\n",
       "      <td>8</td>\n",
       "      <td>Producto 8</td>\n",
       "      <td>19</td>\n",
       "      <td>68.854266</td>\n",
       "      <td>2025-08-14 13:04:17.109161</td>\n",
       "    </tr>\n",
       "    <tr>\n",
       "      <th>8</th>\n",
       "      <td>9</td>\n",
       "      <td>Producto 9</td>\n",
       "      <td>76</td>\n",
       "      <td>40.929554</td>\n",
       "      <td>2025-08-13 13:04:17.109165</td>\n",
       "    </tr>\n",
       "    <tr>\n",
       "      <th>9</th>\n",
       "      <td>10</td>\n",
       "      <td>Producto 10</td>\n",
       "      <td>54</td>\n",
       "      <td>91.105082</td>\n",
       "      <td>2025-08-12 13:04:17.109168</td>\n",
       "    </tr>\n",
       "    <tr>\n",
       "      <th>10</th>\n",
       "      <td>11</td>\n",
       "      <td>Producto 11</td>\n",
       "      <td>48</td>\n",
       "      <td>9.984515</td>\n",
       "      <td>2025-08-11 13:04:17.109170</td>\n",
       "    </tr>\n",
       "    <tr>\n",
       "      <th>11</th>\n",
       "      <td>12</td>\n",
       "      <td>Producto 12</td>\n",
       "      <td>30</td>\n",
       "      <td>79.413948</td>\n",
       "      <td>2025-08-10 13:04:17.109173</td>\n",
       "    </tr>\n",
       "    <tr>\n",
       "      <th>12</th>\n",
       "      <td>13</td>\n",
       "      <td>Producto 13</td>\n",
       "      <td>90</td>\n",
       "      <td>55.956427</td>\n",
       "      <td>2025-08-09 13:04:17.109174</td>\n",
       "    </tr>\n",
       "    <tr>\n",
       "      <th>13</th>\n",
       "      <td>14</td>\n",
       "      <td>Producto 14</td>\n",
       "      <td>11</td>\n",
       "      <td>72.274270</td>\n",
       "      <td>2025-08-08 13:04:17.109176</td>\n",
       "    </tr>\n",
       "    <tr>\n",
       "      <th>14</th>\n",
       "      <td>15</td>\n",
       "      <td>Producto 15</td>\n",
       "      <td>21</td>\n",
       "      <td>77.466426</td>\n",
       "      <td>2025-08-07 13:04:17.109178</td>\n",
       "    </tr>\n",
       "    <tr>\n",
       "      <th>15</th>\n",
       "      <td>16</td>\n",
       "      <td>Producto 16</td>\n",
       "      <td>18</td>\n",
       "      <td>83.056973</td>\n",
       "      <td>2025-08-06 13:04:17.109180</td>\n",
       "    </tr>\n",
       "    <tr>\n",
       "      <th>16</th>\n",
       "      <td>17</td>\n",
       "      <td>Producto 17</td>\n",
       "      <td>13</td>\n",
       "      <td>47.557406</td>\n",
       "      <td>2025-08-05 13:04:17.109182</td>\n",
       "    </tr>\n",
       "    <tr>\n",
       "      <th>17</th>\n",
       "      <td>18</td>\n",
       "      <td>Producto 18</td>\n",
       "      <td>45</td>\n",
       "      <td>2.949950</td>\n",
       "      <td>2025-08-04 13:04:17.109184</td>\n",
       "    </tr>\n",
       "    <tr>\n",
       "      <th>18</th>\n",
       "      <td>19</td>\n",
       "      <td>Producto 19</td>\n",
       "      <td>2</td>\n",
       "      <td>51.753265</td>\n",
       "      <td>2025-08-03 13:04:17.109186</td>\n",
       "    </tr>\n",
       "    <tr>\n",
       "      <th>19</th>\n",
       "      <td>20</td>\n",
       "      <td>Producto 20</td>\n",
       "      <td>53</td>\n",
       "      <td>33.133683</td>\n",
       "      <td>2025-08-02 13:04:17.109188</td>\n",
       "    </tr>\n",
       "    <tr>\n",
       "      <th>20</th>\n",
       "      <td>21</td>\n",
       "      <td>Producto 21</td>\n",
       "      <td>75</td>\n",
       "      <td>48.051577</td>\n",
       "      <td>2025-08-01 13:04:17.109190</td>\n",
       "    </tr>\n",
       "    <tr>\n",
       "      <th>21</th>\n",
       "      <td>22</td>\n",
       "      <td>Producto 22</td>\n",
       "      <td>62</td>\n",
       "      <td>50.300270</td>\n",
       "      <td>2025-07-31 13:04:17.109192</td>\n",
       "    </tr>\n",
       "    <tr>\n",
       "      <th>22</th>\n",
       "      <td>23</td>\n",
       "      <td>Producto 23</td>\n",
       "      <td>91</td>\n",
       "      <td>26.421666</td>\n",
       "      <td>2025-07-30 13:04:17.109194</td>\n",
       "    </tr>\n",
       "    <tr>\n",
       "      <th>23</th>\n",
       "      <td>24</td>\n",
       "      <td>Producto 24</td>\n",
       "      <td>91</td>\n",
       "      <td>38.420980</td>\n",
       "      <td>2025-07-29 13:04:17.109196</td>\n",
       "    </tr>\n",
       "    <tr>\n",
       "      <th>24</th>\n",
       "      <td>25</td>\n",
       "      <td>Producto 25</td>\n",
       "      <td>29</td>\n",
       "      <td>89.253649</td>\n",
       "      <td>2025-07-28 13:04:17.109198</td>\n",
       "    </tr>\n",
       "  </tbody>\n",
       "</table>\n",
       "</div>"
      ],
      "text/plain": [
       "    ID       Nombre  Cantidad     Precio                      Fecha\n",
       "0    1   Producto 1        14  36.199228 2025-08-21 13:04:17.109130\n",
       "1    2   Producto 2        57  14.899322 2025-08-20 13:04:17.109143\n",
       "2    3   Producto 3        31  88.242695 2025-08-19 13:04:17.109147\n",
       "3    4   Producto 4        53  96.930012 2025-08-18 13:04:17.109149\n",
       "4    5   Producto 5        43  28.110895 2025-08-17 13:04:17.109151\n",
       "5    6   Producto 6        22  78.434033 2025-08-16 13:04:17.109154\n",
       "6    7   Producto 7        57  27.051070 2025-08-15 13:04:17.109156\n",
       "7    8   Producto 8        19  68.854266 2025-08-14 13:04:17.109161\n",
       "8    9   Producto 9        76  40.929554 2025-08-13 13:04:17.109165\n",
       "9   10  Producto 10        54  91.105082 2025-08-12 13:04:17.109168\n",
       "10  11  Producto 11        48   9.984515 2025-08-11 13:04:17.109170\n",
       "11  12  Producto 12        30  79.413948 2025-08-10 13:04:17.109173\n",
       "12  13  Producto 13        90  55.956427 2025-08-09 13:04:17.109174\n",
       "13  14  Producto 14        11  72.274270 2025-08-08 13:04:17.109176\n",
       "14  15  Producto 15        21  77.466426 2025-08-07 13:04:17.109178\n",
       "15  16  Producto 16        18  83.056973 2025-08-06 13:04:17.109180\n",
       "16  17  Producto 17        13  47.557406 2025-08-05 13:04:17.109182\n",
       "17  18  Producto 18        45   2.949950 2025-08-04 13:04:17.109184\n",
       "18  19  Producto 19         2  51.753265 2025-08-03 13:04:17.109186\n",
       "19  20  Producto 20        53  33.133683 2025-08-02 13:04:17.109188\n",
       "20  21  Producto 21        75  48.051577 2025-08-01 13:04:17.109190\n",
       "21  22  Producto 22        62  50.300270 2025-07-31 13:04:17.109192\n",
       "22  23  Producto 23        91  26.421666 2025-07-30 13:04:17.109194\n",
       "23  24  Producto 24        91  38.420980 2025-07-29 13:04:17.109196\n",
       "24  25  Producto 25        29  89.253649 2025-07-28 13:04:17.109198"
      ]
     },
     "execution_count": 27,
     "metadata": {},
     "output_type": "execute_result"
    }
   ],
   "source": [
    "# Creamos una lista de fechas\n",
    "fechas = [datetime.datetime.today() - datetime.timedelta(days=x) for x in range(25)]\n",
    "\n",
    "# Creamos un diccionario con datos aleatorios\n",
    "data = {\n",
    "    'ID': range(1, 26),\n",
    "    'Nombre': ['Producto ' + str(i) for i in range(1, 26)],\n",
    "    'Cantidad': np.random.randint(1, 100, size=25),\n",
    "    'Precio': np.random.uniform(1, 100, size=25),\n",
    "    'Fecha': fechas\n",
    "}\n",
    "\n",
    "# Creamos el DataFrame\n",
    "df = pd.DataFrame(data)\n",
    "\n",
    "# Mostramos el DataFrame\n",
    "df"
   ]
  },
  {
   "cell_type": "markdown",
   "id": "1740e58b",
   "metadata": {},
   "source": [
    "El índice en Pandas, `df.index` es una parte fundamental de los DataFrames y Series. Sirve como etiqueta para las filas o elementos de los datos almacenados en estas estructuras de datos. El índice proporciona una identificación única para cada fila y facilita el acceso, la manipulación y la comprensión de los datos almacenados.\n",
    "\n",
    "Utilidad del índice en Pandas:\n",
    "\n",
    "1. **Identificación única de filas**: El índice garantiza que cada fila en un DataFrame o Serie tenga una identificación única. Esto permite acceder a filas específicas utilizando etiquetas de índice o realizar operaciones basadas en la ubicación de las filas.\n",
    "\n",
    "2. **Selección y filtrado de datos**: Pandas permite seleccionar y filtrar datos utilizando etiquetas de índice, lo que facilita la manipulación de conjuntos de datos grandes y complejos. Por ejemplo, puedes seleccionar filas específicas utilizando `df.loc[]` o realizar selecciones basadas en condiciones utilizando operadores de comparación.\n",
    "\n",
    "3. **Alineación de datos**: Pandas realiza alineación automática de datos basada en el índice durante operaciones aritméticas y de combinación de datos. Esto asegura que las operaciones se realicen correctamente incluso cuando los datos no tienen el mismo orden o las mismas etiquetas de índice.\n",
    "\n",
    "4. **Operaciones de conjunto**: El índice facilita la realización de operaciones de conjuntos, como la unión, la intersección y la diferencia, entre conjuntos de datos. Esto es especialmente útil al combinar o comparar datos de diferentes fuentes.\n",
    "\n",
    "5. **Facilita la manipulación de datos temporales**: En el caso de datos temporales, el índice puede representar marcas de tiempo o fechas. Esto permite realizar operaciones de manipulación de series temporales de manera eficiente y realizar análisis basados en el tiempo.\n",
    "\n",
    "En resumen, el índice en Pandas desempeña un papel crucial en la organización, manipulación y análisis de datos. Proporciona una forma eficiente y poderosa de acceder, filtrar y alinear datos, así como realizar operaciones basadas en etiquetas de fila. Comprender y utilizar el índice de manera efectiva es esencial para trabajar con éxito con conjuntos de datos en Pandas.\n",
    "\n",
    "Vamos a ir viendo cada uno de estos por partes. "
   ]
  },
  {
   "cell_type": "code",
   "execution_count": 28,
   "id": "70f075f3",
   "metadata": {},
   "outputs": [
    {
     "name": "stdout",
     "output_type": "stream",
     "text": [
      "   ID      Nombre  Cantidad     Precio                      Fecha\n",
      "0   1  Producto 1        14  36.199228 2025-08-21 13:04:17.109130\n",
      "1   2  Producto 2        57  14.899322 2025-08-20 13:04:17.109143\n",
      "2   3  Producto 3        31  88.242695 2025-08-19 13:04:17.109147\n",
      "3   4  Producto 4        53  96.930012 2025-08-18 13:04:17.109149\n",
      "4   5  Producto 5        43  28.110895 2025-08-17 13:04:17.109151\n",
      "RangeIndex(start=0, stop=5, step=1)\n"
     ]
    }
   ],
   "source": [
    "# funcionalidad 1\n",
    "print(df.head())\n",
    "# solo el indice\n",
    "print(df.head().index)"
   ]
  },
  {
   "cell_type": "code",
   "execution_count": 29,
   "id": "6f90580f",
   "metadata": {},
   "outputs": [
    {
     "name": "stdout",
     "output_type": "stream",
     "text": [
      "ID                                   1\n",
      "Nombre                      Producto 1\n",
      "Cantidad                            14\n",
      "Precio                       36.199228\n",
      "Fecha       2025-08-21 13:04:17.109130\n",
      "Name: 0, dtype: object\n"
     ]
    }
   ],
   "source": [
    "# para ver la primer fila de nuestra base de datos\n",
    "print(df.loc[df.index[0]])"
   ]
  },
  {
   "cell_type": "code",
   "execution_count": 30,
   "id": "f69a0f7d",
   "metadata": {},
   "outputs": [
    {
     "name": "stdout",
     "output_type": "stream",
     "text": [
      "ID                                  25\n",
      "Nombre                     Producto 25\n",
      "Cantidad                            29\n",
      "Precio                       89.253649\n",
      "Fecha       2025-07-28 13:04:17.109198\n",
      "Name: 24, dtype: object\n"
     ]
    }
   ],
   "source": [
    "# ahora la ultima\n",
    "print(df.loc[df.index[-1]])"
   ]
  },
  {
   "cell_type": "code",
   "execution_count": 31,
   "id": "0c28e8b9",
   "metadata": {},
   "outputs": [
    {
     "name": "stdout",
     "output_type": "stream",
     "text": [
      "   ID      Nombre  Cantidad     Precio                      Fecha\n",
      "0   1  Producto 1        14  36.199228 2025-08-21 13:04:17.109130\n",
      "1   2  Producto 2        57  14.899322 2025-08-20 13:04:17.109143\n",
      "2   3  Producto 3        31  88.242695 2025-08-19 13:04:17.109147\n",
      "3   4  Producto 4        53  96.930012 2025-08-18 13:04:17.109149\n",
      "4   5  Producto 5        43  28.110895 2025-08-17 13:04:17.109151\n"
     ]
    }
   ],
   "source": [
    "# slice para los primeros 5 elementos del dataframe\n",
    "print(df.loc[df.index<5])"
   ]
  },
  {
   "cell_type": "markdown",
   "id": "2b66195d",
   "metadata": {},
   "source": [
    "El índice puede ser modificado una vez que ya se hizo el dataframe. Hay dos maneras de hacer esto. Una es redefiniendo el indice y otra con la función `set_index()` que toma como argumento opcional `inplace=True` para decirle que modifique al objeto `df` directamente sin tener que guardarlo en otra variable. Sin `inplace=True`, no se guardaría nuestro resultado."
   ]
  },
  {
   "cell_type": "code",
   "execution_count": 32,
   "id": "742038fa",
   "metadata": {},
   "outputs": [
    {
     "data": {
      "text/html": [
       "<div>\n",
       "<style scoped>\n",
       "    .dataframe tbody tr th:only-of-type {\n",
       "        vertical-align: middle;\n",
       "    }\n",
       "\n",
       "    .dataframe tbody tr th {\n",
       "        vertical-align: top;\n",
       "    }\n",
       "\n",
       "    .dataframe thead th {\n",
       "        text-align: right;\n",
       "    }\n",
       "</style>\n",
       "<table border=\"1\" class=\"dataframe\">\n",
       "  <thead>\n",
       "    <tr style=\"text-align: right;\">\n",
       "      <th></th>\n",
       "      <th>ID</th>\n",
       "      <th>Nombre</th>\n",
       "      <th>Cantidad</th>\n",
       "      <th>Precio</th>\n",
       "      <th>Fecha</th>\n",
       "    </tr>\n",
       "    <tr>\n",
       "      <th>Fecha</th>\n",
       "      <th></th>\n",
       "      <th></th>\n",
       "      <th></th>\n",
       "      <th></th>\n",
       "      <th></th>\n",
       "    </tr>\n",
       "  </thead>\n",
       "  <tbody>\n",
       "    <tr>\n",
       "      <th>2025-08-21 13:04:17.109130</th>\n",
       "      <td>1</td>\n",
       "      <td>Producto 1</td>\n",
       "      <td>14</td>\n",
       "      <td>36.199228</td>\n",
       "      <td>2025-08-21 13:04:17.109130</td>\n",
       "    </tr>\n",
       "    <tr>\n",
       "      <th>2025-08-20 13:04:17.109143</th>\n",
       "      <td>2</td>\n",
       "      <td>Producto 2</td>\n",
       "      <td>57</td>\n",
       "      <td>14.899322</td>\n",
       "      <td>2025-08-20 13:04:17.109143</td>\n",
       "    </tr>\n",
       "    <tr>\n",
       "      <th>2025-08-19 13:04:17.109147</th>\n",
       "      <td>3</td>\n",
       "      <td>Producto 3</td>\n",
       "      <td>31</td>\n",
       "      <td>88.242695</td>\n",
       "      <td>2025-08-19 13:04:17.109147</td>\n",
       "    </tr>\n",
       "    <tr>\n",
       "      <th>2025-08-18 13:04:17.109149</th>\n",
       "      <td>4</td>\n",
       "      <td>Producto 4</td>\n",
       "      <td>53</td>\n",
       "      <td>96.930012</td>\n",
       "      <td>2025-08-18 13:04:17.109149</td>\n",
       "    </tr>\n",
       "    <tr>\n",
       "      <th>2025-08-17 13:04:17.109151</th>\n",
       "      <td>5</td>\n",
       "      <td>Producto 5</td>\n",
       "      <td>43</td>\n",
       "      <td>28.110895</td>\n",
       "      <td>2025-08-17 13:04:17.109151</td>\n",
       "    </tr>\n",
       "  </tbody>\n",
       "</table>\n",
       "</div>"
      ],
      "text/plain": [
       "                            ID      Nombre  Cantidad     Precio  \\\n",
       "Fecha                                                             \n",
       "2025-08-21 13:04:17.109130   1  Producto 1        14  36.199228   \n",
       "2025-08-20 13:04:17.109143   2  Producto 2        57  14.899322   \n",
       "2025-08-19 13:04:17.109147   3  Producto 3        31  88.242695   \n",
       "2025-08-18 13:04:17.109149   4  Producto 4        53  96.930012   \n",
       "2025-08-17 13:04:17.109151   5  Producto 5        43  28.110895   \n",
       "\n",
       "                                                Fecha  \n",
       "Fecha                                                  \n",
       "2025-08-21 13:04:17.109130 2025-08-21 13:04:17.109130  \n",
       "2025-08-20 13:04:17.109143 2025-08-20 13:04:17.109143  \n",
       "2025-08-19 13:04:17.109147 2025-08-19 13:04:17.109147  \n",
       "2025-08-18 13:04:17.109149 2025-08-18 13:04:17.109149  \n",
       "2025-08-17 13:04:17.109151 2025-08-17 13:04:17.109151  "
      ]
     },
     "execution_count": 32,
     "metadata": {},
     "output_type": "execute_result"
    }
   ],
   "source": [
    "# primera manera\n",
    "df.index=df['Fecha']\n",
    "df.head()"
   ]
  },
  {
   "cell_type": "code",
   "execution_count": 33,
   "id": "8411d5dc",
   "metadata": {},
   "outputs": [
    {
     "data": {
      "text/html": [
       "<div>\n",
       "<style scoped>\n",
       "    .dataframe tbody tr th:only-of-type {\n",
       "        vertical-align: middle;\n",
       "    }\n",
       "\n",
       "    .dataframe tbody tr th {\n",
       "        vertical-align: top;\n",
       "    }\n",
       "\n",
       "    .dataframe thead th {\n",
       "        text-align: right;\n",
       "    }\n",
       "</style>\n",
       "<table border=\"1\" class=\"dataframe\">\n",
       "  <thead>\n",
       "    <tr style=\"text-align: right;\">\n",
       "      <th></th>\n",
       "      <th>Nombre</th>\n",
       "      <th>Cantidad</th>\n",
       "      <th>Precio</th>\n",
       "      <th>Fecha</th>\n",
       "    </tr>\n",
       "    <tr>\n",
       "      <th>ID</th>\n",
       "      <th></th>\n",
       "      <th></th>\n",
       "      <th></th>\n",
       "      <th></th>\n",
       "    </tr>\n",
       "  </thead>\n",
       "  <tbody>\n",
       "    <tr>\n",
       "      <th>1</th>\n",
       "      <td>Producto 1</td>\n",
       "      <td>14</td>\n",
       "      <td>36.199228</td>\n",
       "      <td>2025-08-21 13:04:17.109130</td>\n",
       "    </tr>\n",
       "    <tr>\n",
       "      <th>2</th>\n",
       "      <td>Producto 2</td>\n",
       "      <td>57</td>\n",
       "      <td>14.899322</td>\n",
       "      <td>2025-08-20 13:04:17.109143</td>\n",
       "    </tr>\n",
       "    <tr>\n",
       "      <th>3</th>\n",
       "      <td>Producto 3</td>\n",
       "      <td>31</td>\n",
       "      <td>88.242695</td>\n",
       "      <td>2025-08-19 13:04:17.109147</td>\n",
       "    </tr>\n",
       "    <tr>\n",
       "      <th>4</th>\n",
       "      <td>Producto 4</td>\n",
       "      <td>53</td>\n",
       "      <td>96.930012</td>\n",
       "      <td>2025-08-18 13:04:17.109149</td>\n",
       "    </tr>\n",
       "    <tr>\n",
       "      <th>5</th>\n",
       "      <td>Producto 5</td>\n",
       "      <td>43</td>\n",
       "      <td>28.110895</td>\n",
       "      <td>2025-08-17 13:04:17.109151</td>\n",
       "    </tr>\n",
       "  </tbody>\n",
       "</table>\n",
       "</div>"
      ],
      "text/plain": [
       "        Nombre  Cantidad     Precio                      Fecha\n",
       "ID                                                            \n",
       "1   Producto 1        14  36.199228 2025-08-21 13:04:17.109130\n",
       "2   Producto 2        57  14.899322 2025-08-20 13:04:17.109143\n",
       "3   Producto 3        31  88.242695 2025-08-19 13:04:17.109147\n",
       "4   Producto 4        53  96.930012 2025-08-18 13:04:17.109149\n",
       "5   Producto 5        43  28.110895 2025-08-17 13:04:17.109151"
      ]
     },
     "execution_count": 33,
     "metadata": {},
     "output_type": "execute_result"
    }
   ],
   "source": [
    "# primera manera\n",
    "df.set_index('ID',inplace=True)\n",
    "df.head()"
   ]
  },
  {
   "cell_type": "markdown",
   "id": "b0738239",
   "metadata": {},
   "source": [
    "Ahora vamos a hacer otro ejemplo para ver cómo Pandas hace las operaciones con dataframes a partir del índice. Esto es el punto 3 de los 5 de arriba. \n",
    "\n",
    "Si el índice está bien pensado y escrito en Pandas, podemos hacer muchas cosas. En este caso, vamos a hacer dos nuevos dataframes, uno para la cantidad y otro para el precio de los productos anteriores. Sus valores serán aleatorios. Pero si queremos calcular una operación de dos dataframes diferentes, necesitamos del índice.\n"
   ]
  },
  {
   "cell_type": "code",
   "execution_count": 40,
   "id": "bc48de0a",
   "metadata": {},
   "outputs": [
    {
     "name": "stdout",
     "output_type": "stream",
     "text": [
      "Ventas\n",
      "   ID  Cantidad\n",
      "0   1        70\n",
      "1   2        15\n",
      "2   3        53\n",
      "3   4        38\n",
      "4   5        62\n",
      "Precio\n",
      "   ID     Precio\n",
      "0   1  22.067223\n",
      "1   2  98.352603\n",
      "2   3  61.111110\n",
      "3   4   4.397195\n",
      "4   5  94.650464\n"
     ]
    }
   ],
   "source": [
    "# Suponiendo que df1 contiene los datos de ventas y df2 contiene los precios de los productos\n",
    "df_ventas = pd.DataFrame({\n",
    "    'ID': range(1, 26),\n",
    "    'Cantidad': np.random.randint(1, 100, size=25)\n",
    "})\n",
    "\n",
    "df_precios = pd.DataFrame({\n",
    "    'ID': range(1, 26),\n",
    "    'Precio': np.random.uniform(1, 100, size=25)\n",
    "})\n",
    "\n",
    "print('Ventas')\n",
    "print(df_ventas.head())\n",
    "print('Precio')\n",
    "print(df_precios.head())"
   ]
  },
  {
   "cell_type": "code",
   "execution_count": 41,
   "id": "939a379a",
   "metadata": {},
   "outputs": [
    {
     "data": {
      "text/plain": [
       "ID\n",
       "1    1544.705637\n",
       "2    1475.289039\n",
       "3    3238.888846\n",
       "4     167.093410\n",
       "5    5868.328788\n",
       "dtype: float64"
      ]
     },
     "execution_count": 41,
     "metadata": {},
     "output_type": "execute_result"
    }
   ],
   "source": [
    "# Establecemos el índice en ambos DataFrames\n",
    "df_ventas.set_index('ID', inplace=True)\n",
    "df_precios.set_index('ID', inplace=True)\n",
    "\n",
    "# Calculamos el total de ventas multiplicando la cantidad vendida por el precio unitario\n",
    "total_ventas = df_ventas['Cantidad'] * df_precios['Precio']\n",
    "\n",
    "# Mostramos el resultado\n",
    "total_ventas.head()"
   ]
  },
  {
   "cell_type": "markdown",
   "id": "15af1b01",
   "metadata": {},
   "source": [
    "El punto 4. **Operaciones de conjunto**: se refiere a que podemos hacer ciertas operaciones con 2 dataframes que nos permitan unirlos o evaluar cosas en común. \n",
    "\n",
    "Los principales métodos para hacer esto son:\n",
    "\n",
    "- `merge()`:\n",
    "        El método `merge()` se utiliza para combinar dos DataFrames en función de una o más columnas que tengan valores comunes.\n",
    "        Puedes especificar las columnas clave de combinación utilizando los parámetros left_on y right_on si las columnas tienen nombres diferentes en los DataFrames, o usar `left_index=True` y `right_index=True` si deseas combinar en función de los índices.\n",
    "        El método `merge()` es más flexible y poderoso que `join()` y puede manejar casos más complejos de combinación de datos.\n",
    "\n",
    "- `join()`:\n",
    "        El método `join()` es similar a merge(), pero está diseñado para combinar DataFrames en función de sus índices.\n",
    "        Por defecto, `join()` realiza una combinación de tipo \"left join\", donde las filas del DataFrame de la izquierda se conservan y se completan con valores correspondientes del DataFrame de la derecha.\n",
    "        `join()` es conveniente cuando quieres combinar DataFrames en función de sus índices y cuando los DataFrames comparten los mismos nombres de columnas. Join se utiliza de manera diferente a `merge` ya que su sintaxis es del tipo `DataFrame.join(DataFrame2)`.\n",
    "\n",
    "- `concatenate()`:\n",
    "        La función `concatenate()` se utiliza para concatenar DataFrames a lo largo de un eje específico (por defecto, a lo largo del eje 0, es decir, las filas).\n",
    "        Puedes especificar una lista de DataFrames que deseas concatenar y Pandas los combinará a lo largo del eje especificado.\n",
    "        `concatenate()` es útil cuando deseas combinar múltiples DataFrames sin realizar una combinación basada en valores de columna o índice.\n",
    "\n",
    "- `intersection()`:\n",
    "        El método `intersection()` se utiliza para encontrar la intersección de los índices (o columnas) de dos DataFrames o Series.\n",
    "        Puedes usar `intersection()` para encontrar los elementos que son comunes en los índices de los DataFrames.\n",
    "        Esto es útil para identificar los elementos compartidos entre dos conjuntos de datos y puede ser útil al realizar operaciones de conjunto o al comparar datos.\n",
    "\n",
    "En resumen, `merge()`, `join()`, `concatenate()` e `intersection()` son funciones y métodos fundamentales en Pandas que te permiten combinar, unir y manipular DataFrames y Series de manera eficiente y flexible. La elección de cuál utilizar depende de tus necesidades específicas y del tipo de operación que deseas realizar."
   ]
  },
  {
   "cell_type": "code",
   "execution_count": 42,
   "id": "dbe6dc2c",
   "metadata": {},
   "outputs": [
    {
     "name": "stdout",
     "output_type": "stream",
     "text": [
      "Productos en común:\n",
      "Index([ 1,  2,  3,  4,  5,  6,  7,  8,  9, 10, 11, 12, 13, 14, 15, 16, 17, 18,\n",
      "       19, 20, 21, 22, 23, 24, 25],\n",
      "      dtype='int64', name='ID')\n"
     ]
    }
   ],
   "source": [
    "# Encontrar los productos que aparecen en ambos DataFrames\n",
    "productos_en_comun = df_ventas.index.intersection(df_precios.index)\n",
    "\n",
    "# Mostrar los productos en común\n",
    "print(\"Productos en común:\")\n",
    "print(productos_en_comun)\n"
   ]
  },
  {
   "cell_type": "code",
   "execution_count": 36,
   "id": "8f50d4f8",
   "metadata": {},
   "outputs": [
    {
     "data": {
      "text/html": [
       "<div>\n",
       "<style scoped>\n",
       "    .dataframe tbody tr th:only-of-type {\n",
       "        vertical-align: middle;\n",
       "    }\n",
       "\n",
       "    .dataframe tbody tr th {\n",
       "        vertical-align: top;\n",
       "    }\n",
       "\n",
       "    .dataframe thead th {\n",
       "        text-align: right;\n",
       "    }\n",
       "</style>\n",
       "<table border=\"1\" class=\"dataframe\">\n",
       "  <thead>\n",
       "    <tr style=\"text-align: right;\">\n",
       "      <th></th>\n",
       "      <th>Cantidad</th>\n",
       "      <th>Precio</th>\n",
       "    </tr>\n",
       "    <tr>\n",
       "      <th>ID</th>\n",
       "      <th></th>\n",
       "      <th></th>\n",
       "    </tr>\n",
       "  </thead>\n",
       "  <tbody>\n",
       "    <tr>\n",
       "      <th>1</th>\n",
       "      <td>45</td>\n",
       "      <td>56.313615</td>\n",
       "    </tr>\n",
       "    <tr>\n",
       "      <th>2</th>\n",
       "      <td>61</td>\n",
       "      <td>20.725604</td>\n",
       "    </tr>\n",
       "    <tr>\n",
       "      <th>3</th>\n",
       "      <td>91</td>\n",
       "      <td>54.280167</td>\n",
       "    </tr>\n",
       "    <tr>\n",
       "      <th>4</th>\n",
       "      <td>94</td>\n",
       "      <td>71.806123</td>\n",
       "    </tr>\n",
       "    <tr>\n",
       "      <th>5</th>\n",
       "      <td>29</td>\n",
       "      <td>46.802686</td>\n",
       "    </tr>\n",
       "  </tbody>\n",
       "</table>\n",
       "</div>"
      ],
      "text/plain": [
       "    Cantidad     Precio\n",
       "ID                     \n",
       "1         45  56.313615\n",
       "2         61  20.725604\n",
       "3         91  54.280167\n",
       "4         94  71.806123\n",
       "5         29  46.802686"
      ]
     },
     "execution_count": 36,
     "metadata": {},
     "output_type": "execute_result"
    }
   ],
   "source": [
    "# df_ventas y df_precios tienen el mismo índice 'ID' entonces podemos unirlos\n",
    "df_combinado = pd.merge(df_ventas, df_precios, left_index=True, right_index=True)\n",
    "\n",
    "# Mostrar el DataFrame combinado\n",
    "df_combinado.head()"
   ]
  },
  {
   "attachments": {
    "image.png": {
     "image/png": "[encoded data removed]"
    }
   },
   "cell_type": "markdown",
   "id": "09c9b440",
   "metadata": {},
   "source": [
    "---\n",
    "<a name='ej-1'></a>\n",
    "### **<font color=\"DodgerBlue\">Ejercicio 10 - *Jugando con Pandas* </font>**\n",
    "\n",
    "![image.png](attachment:image.png)\n",
    "\n",
    "<font color=\"DarkBlue\"> 1. Utilice el método de join para unir los dataframes `df_ventas` y `df_precios` así como le hicimos con merge. Imprima el resultado.\n",
    "    \n",
    "<font color=\"DarkBlue\"> Extra (2). Utilizando el objeto `df`, repita la operación de calcular el total de ventas como el producto de la columna \"Ventas\" con \"Precio\". Calcula la suma de este resultado y obtenga el total de ventas final. \n",
    "    \n",
    "---"
   ]
  },
  {
   "cell_type": "code",
   "execution_count": null,
   "id": "6a383057",
   "metadata": {},
   "outputs": [],
   "source": []
  },
  {
   "cell_type": "markdown",
   "id": "259e71e5",
   "metadata": {},
   "source": [
    "### **<font color=\"ForestGreen\">  Transformaciones de Pandas </font>**\n",
    "\n",
    "Las funciones `lambda` $\\lambda$ y el método `apply()` son herramientas poderosas en Pandas para realizar operaciones personalizadas en DataFrames: \n",
    "\n",
    "- Una función lambda es una función anónima y pequeña que se define en una sola línea de código.\n",
    "\n",
    "- Se utilizan comúnmente para definir funciones simples y de una sola expresión.\n",
    "\n",
    "- Tienen una sintaxis básica: `lambda` _argumentos_: expresión.\n",
    "\n",
    "- Las funciones lambda son útiles cuando necesitas una función rápida y temporal para realizar una tarea específica.\n",
    "\n",
    "- Se pueden utilizar en combinación con muchas funciones de Python y de Pandas, como map(), filter(), reduce(), y también con el método apply() de Pandas."
   ]
  },
  {
   "cell_type": "code",
   "execution_count": 37,
   "id": "0a37f753",
   "metadata": {},
   "outputs": [
    {
     "data": {
      "text/html": [
       "<div>\n",
       "<style scoped>\n",
       "    .dataframe tbody tr th:only-of-type {\n",
       "        vertical-align: middle;\n",
       "    }\n",
       "\n",
       "    .dataframe tbody tr th {\n",
       "        vertical-align: top;\n",
       "    }\n",
       "\n",
       "    .dataframe thead th {\n",
       "        text-align: right;\n",
       "    }\n",
       "</style>\n",
       "<table border=\"1\" class=\"dataframe\">\n",
       "  <thead>\n",
       "    <tr style=\"text-align: right;\">\n",
       "      <th></th>\n",
       "      <th>Nombre</th>\n",
       "      <th>Cantidad</th>\n",
       "      <th>Precio</th>\n",
       "      <th>Fecha</th>\n",
       "      <th>Precio (EUR)</th>\n",
       "    </tr>\n",
       "    <tr>\n",
       "      <th>ID</th>\n",
       "      <th></th>\n",
       "      <th></th>\n",
       "      <th></th>\n",
       "      <th></th>\n",
       "      <th></th>\n",
       "    </tr>\n",
       "  </thead>\n",
       "  <tbody>\n",
       "    <tr>\n",
       "      <th>1</th>\n",
       "      <td>Producto 1</td>\n",
       "      <td>14</td>\n",
       "      <td>36.199228</td>\n",
       "      <td>2025-08-21 13:04:17.109130</td>\n",
       "      <td>1.962018</td>\n",
       "    </tr>\n",
       "    <tr>\n",
       "      <th>2</th>\n",
       "      <td>Producto 2</td>\n",
       "      <td>57</td>\n",
       "      <td>14.899322</td>\n",
       "      <td>2025-08-20 13:04:17.109143</td>\n",
       "      <td>0.807551</td>\n",
       "    </tr>\n",
       "    <tr>\n",
       "      <th>3</th>\n",
       "      <td>Producto 3</td>\n",
       "      <td>31</td>\n",
       "      <td>88.242695</td>\n",
       "      <td>2025-08-19 13:04:17.109147</td>\n",
       "      <td>4.782802</td>\n",
       "    </tr>\n",
       "    <tr>\n",
       "      <th>4</th>\n",
       "      <td>Producto 4</td>\n",
       "      <td>53</td>\n",
       "      <td>96.930012</td>\n",
       "      <td>2025-08-18 13:04:17.109149</td>\n",
       "      <td>5.253659</td>\n",
       "    </tr>\n",
       "    <tr>\n",
       "      <th>5</th>\n",
       "      <td>Producto 5</td>\n",
       "      <td>43</td>\n",
       "      <td>28.110895</td>\n",
       "      <td>2025-08-17 13:04:17.109151</td>\n",
       "      <td>1.523626</td>\n",
       "    </tr>\n",
       "  </tbody>\n",
       "</table>\n",
       "</div>"
      ],
      "text/plain": [
       "        Nombre  Cantidad     Precio                      Fecha  Precio (EUR)\n",
       "ID                                                                          \n",
       "1   Producto 1        14  36.199228 2025-08-21 13:04:17.109130      1.962018\n",
       "2   Producto 2        57  14.899322 2025-08-20 13:04:17.109143      0.807551\n",
       "3   Producto 3        31  88.242695 2025-08-19 13:04:17.109147      4.782802\n",
       "4   Producto 4        53  96.930012 2025-08-18 13:04:17.109149      5.253659\n",
       "5   Producto 5        43  28.110895 2025-08-17 13:04:17.109151      1.523626"
      ]
     },
     "execution_count": 37,
     "metadata": {},
     "output_type": "execute_result"
    }
   ],
   "source": [
    "# Definir una función lambda para convertir dólares a euros (1 EURO = 18.45 MXN)\n",
    "convertir_a_euros = lambda precio: precio * 1/18.45\n",
    "\n",
    "# Aplicar la transformación a la columna 'Precio (USD)' usando apply y la función lambda\n",
    "df['Precio (EUR)'] = df['Precio'].apply(convertir_a_euros)\n",
    "df.head()"
   ]
  },
  {
   "cell_type": "code",
   "execution_count": 38,
   "id": "59e6379f",
   "metadata": {},
   "outputs": [
    {
     "data": {
      "text/html": [
       "<div>\n",
       "<style scoped>\n",
       "    .dataframe tbody tr th:only-of-type {\n",
       "        vertical-align: middle;\n",
       "    }\n",
       "\n",
       "    .dataframe tbody tr th {\n",
       "        vertical-align: top;\n",
       "    }\n",
       "\n",
       "    .dataframe thead th {\n",
       "        text-align: right;\n",
       "    }\n",
       "</style>\n",
       "<table border=\"1\" class=\"dataframe\">\n",
       "  <thead>\n",
       "    <tr style=\"text-align: right;\">\n",
       "      <th></th>\n",
       "      <th>Nombre</th>\n",
       "      <th>Cantidad</th>\n",
       "      <th>Precio</th>\n",
       "      <th>Fecha</th>\n",
       "      <th>Precio (EUR)</th>\n",
       "      <th>Docenas</th>\n",
       "    </tr>\n",
       "    <tr>\n",
       "      <th>ID</th>\n",
       "      <th></th>\n",
       "      <th></th>\n",
       "      <th></th>\n",
       "      <th></th>\n",
       "      <th></th>\n",
       "      <th></th>\n",
       "    </tr>\n",
       "  </thead>\n",
       "  <tbody>\n",
       "    <tr>\n",
       "      <th>1</th>\n",
       "      <td>Producto 1</td>\n",
       "      <td>14</td>\n",
       "      <td>36.199228</td>\n",
       "      <td>2025-08-21 13:04:17.109130</td>\n",
       "      <td>1.962018</td>\n",
       "      <td>1</td>\n",
       "    </tr>\n",
       "    <tr>\n",
       "      <th>2</th>\n",
       "      <td>Producto 2</td>\n",
       "      <td>57</td>\n",
       "      <td>14.899322</td>\n",
       "      <td>2025-08-20 13:04:17.109143</td>\n",
       "      <td>0.807551</td>\n",
       "      <td>4</td>\n",
       "    </tr>\n",
       "    <tr>\n",
       "      <th>3</th>\n",
       "      <td>Producto 3</td>\n",
       "      <td>31</td>\n",
       "      <td>88.242695</td>\n",
       "      <td>2025-08-19 13:04:17.109147</td>\n",
       "      <td>4.782802</td>\n",
       "      <td>2</td>\n",
       "    </tr>\n",
       "    <tr>\n",
       "      <th>4</th>\n",
       "      <td>Producto 4</td>\n",
       "      <td>53</td>\n",
       "      <td>96.930012</td>\n",
       "      <td>2025-08-18 13:04:17.109149</td>\n",
       "      <td>5.253659</td>\n",
       "      <td>4</td>\n",
       "    </tr>\n",
       "    <tr>\n",
       "      <th>5</th>\n",
       "      <td>Producto 5</td>\n",
       "      <td>43</td>\n",
       "      <td>28.110895</td>\n",
       "      <td>2025-08-17 13:04:17.109151</td>\n",
       "      <td>1.523626</td>\n",
       "      <td>3</td>\n",
       "    </tr>\n",
       "  </tbody>\n",
       "</table>\n",
       "</div>"
      ],
      "text/plain": [
       "        Nombre  Cantidad     Precio                      Fecha  Precio (EUR)  \\\n",
       "ID                                                                             \n",
       "1   Producto 1        14  36.199228 2025-08-21 13:04:17.109130      1.962018   \n",
       "2   Producto 2        57  14.899322 2025-08-20 13:04:17.109143      0.807551   \n",
       "3   Producto 3        31  88.242695 2025-08-19 13:04:17.109147      4.782802   \n",
       "4   Producto 4        53  96.930012 2025-08-18 13:04:17.109149      5.253659   \n",
       "5   Producto 5        43  28.110895 2025-08-17 13:04:17.109151      1.523626   \n",
       "\n",
       "    Docenas  \n",
       "ID           \n",
       "1         1  \n",
       "2         4  \n",
       "3         2  \n",
       "4         4  \n",
       "5         3  "
      ]
     },
     "execution_count": 38,
     "metadata": {},
     "output_type": "execute_result"
    }
   ],
   "source": [
    "# Definir una función lambda para convertir la cantidad de algo pero a docenas en enteros\n",
    "cantidad_en_docenas = lambda cantidad: int(cantidad/12)\n",
    "\n",
    "# Aplicar la transformación a la columna 'Precio (USD)' usando apply y la función lambda\n",
    "df['Docenas'] = df['Cantidad'].apply(cantidad_en_docenas)\n",
    "df.head()"
   ]
  },
  {
   "cell_type": "markdown",
   "id": "df5eae24",
   "metadata": {},
   "source": [
    "También podemos usar funciones pre-fabricadas para hacer transformaciones "
   ]
  },
  {
   "cell_type": "code",
   "execution_count": 39,
   "id": "dfb6696f",
   "metadata": {},
   "outputs": [
    {
     "data": {
      "text/html": [
       "<div>\n",
       "<style scoped>\n",
       "    .dataframe tbody tr th:only-of-type {\n",
       "        vertical-align: middle;\n",
       "    }\n",
       "\n",
       "    .dataframe tbody tr th {\n",
       "        vertical-align: top;\n",
       "    }\n",
       "\n",
       "    .dataframe thead th {\n",
       "        text-align: right;\n",
       "    }\n",
       "</style>\n",
       "<table border=\"1\" class=\"dataframe\">\n",
       "  <thead>\n",
       "    <tr style=\"text-align: right;\">\n",
       "      <th></th>\n",
       "      <th>Nombre</th>\n",
       "      <th>Cantidad</th>\n",
       "      <th>Precio</th>\n",
       "      <th>Fecha</th>\n",
       "      <th>Precio (EUR)</th>\n",
       "      <th>Docenas</th>\n",
       "      <th>Precio al cuadrado</th>\n",
       "    </tr>\n",
       "    <tr>\n",
       "      <th>ID</th>\n",
       "      <th></th>\n",
       "      <th></th>\n",
       "      <th></th>\n",
       "      <th></th>\n",
       "      <th></th>\n",
       "      <th></th>\n",
       "      <th></th>\n",
       "    </tr>\n",
       "  </thead>\n",
       "  <tbody>\n",
       "    <tr>\n",
       "      <th>1</th>\n",
       "      <td>Producto 1</td>\n",
       "      <td>14</td>\n",
       "      <td>36.199228</td>\n",
       "      <td>2025-08-21 13:04:17.109130</td>\n",
       "      <td>1.962018</td>\n",
       "      <td>1</td>\n",
       "      <td>1310.384134</td>\n",
       "    </tr>\n",
       "    <tr>\n",
       "      <th>2</th>\n",
       "      <td>Producto 2</td>\n",
       "      <td>57</td>\n",
       "      <td>14.899322</td>\n",
       "      <td>2025-08-20 13:04:17.109143</td>\n",
       "      <td>0.807551</td>\n",
       "      <td>4</td>\n",
       "      <td>221.989787</td>\n",
       "    </tr>\n",
       "    <tr>\n",
       "      <th>3</th>\n",
       "      <td>Producto 3</td>\n",
       "      <td>31</td>\n",
       "      <td>88.242695</td>\n",
       "      <td>2025-08-19 13:04:17.109147</td>\n",
       "      <td>4.782802</td>\n",
       "      <td>2</td>\n",
       "      <td>7786.773277</td>\n",
       "    </tr>\n",
       "    <tr>\n",
       "      <th>4</th>\n",
       "      <td>Producto 4</td>\n",
       "      <td>53</td>\n",
       "      <td>96.930012</td>\n",
       "      <td>2025-08-18 13:04:17.109149</td>\n",
       "      <td>5.253659</td>\n",
       "      <td>4</td>\n",
       "      <td>9395.427172</td>\n",
       "    </tr>\n",
       "    <tr>\n",
       "      <th>5</th>\n",
       "      <td>Producto 5</td>\n",
       "      <td>43</td>\n",
       "      <td>28.110895</td>\n",
       "      <td>2025-08-17 13:04:17.109151</td>\n",
       "      <td>1.523626</td>\n",
       "      <td>3</td>\n",
       "      <td>790.222428</td>\n",
       "    </tr>\n",
       "  </tbody>\n",
       "</table>\n",
       "</div>"
      ],
      "text/plain": [
       "        Nombre  Cantidad     Precio                      Fecha  Precio (EUR)  \\\n",
       "ID                                                                             \n",
       "1   Producto 1        14  36.199228 2025-08-21 13:04:17.109130      1.962018   \n",
       "2   Producto 2        57  14.899322 2025-08-20 13:04:17.109143      0.807551   \n",
       "3   Producto 3        31  88.242695 2025-08-19 13:04:17.109147      4.782802   \n",
       "4   Producto 4        53  96.930012 2025-08-18 13:04:17.109149      5.253659   \n",
       "5   Producto 5        43  28.110895 2025-08-17 13:04:17.109151      1.523626   \n",
       "\n",
       "    Docenas  Precio al cuadrado  \n",
       "ID                               \n",
       "1         1         1310.384134  \n",
       "2         4          221.989787  \n",
       "3         2         7786.773277  \n",
       "4         4         9395.427172  \n",
       "5         3          790.222428  "
      ]
     },
     "execution_count": 39,
     "metadata": {},
     "output_type": "execute_result"
    }
   ],
   "source": [
    "def calcular_cuadrado(x):\n",
    "    return x ** 2\n",
    "\n",
    "df['Precio al cuadrado'] = df['Precio'].apply(calcular_cuadrado)\n",
    "df.head()"
   ]
  },
  {
   "cell_type": "markdown",
   "id": "c41b630a",
   "metadata": {},
   "source": [
    "---\n",
    "\n",
    "<a name='ej-11'></a>\n",
    "### **<font color=\"DodgerBlue\">Ejercicio 11 - *Viaje al pasado* </font>**\n",
    "\n",
    "<font color=\"DarkBlue\">  1. Utilice una función `lambda` para calcular el año de nacimiento de cada individuo del primer dataframe del notebook (a partir de la columna `Edad`) y guarde el resultado en una nueva columna llamada `Año de nacimiento`. \n",
    "    \n",
    "<font color=\"DarkBlue\"> 2. Muestre el dataframe actualizado.  \n",
    "    \n",
    "--- "
   ]
  },
  {
   "cell_type": "code",
   "execution_count": null,
   "id": "743c8559",
   "metadata": {},
   "outputs": [],
   "source": []
  }
 ],
 "metadata": {
  "kernelspec": {
   "display_name": "Python 3 (ipykernel)",
   "language": "python",
   "name": "python3"
  },
  "language_info": {
   "codemirror_mode": {
    "name": "ipython",
    "version": 3
   },
   "file_extension": ".py",
   "mimetype": "text/x-python",
   "name": "python",
   "nbconvert_exporter": "python",
   "pygments_lexer": "ipython3",
   "version": "3.11.9"
  }
 },
 "nbformat": 4,
 "nbformat_minor": 5
}
