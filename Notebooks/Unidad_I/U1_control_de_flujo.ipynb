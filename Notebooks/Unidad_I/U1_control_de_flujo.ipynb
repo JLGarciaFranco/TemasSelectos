{
 "cells": [
  {
   "attachments": {},
   "cell_type": "markdown",
   "id": "52ed8293",
   "metadata": {},
   "source": [
    "<p align=\"center\">\n",
    "  <span style=\"color:Navy; font-size:200%; font-weight:bold; vertical-align:middle;\">\n",
    "    Temas Selectos: Python para Ciencias de la Tierra\n",
    "  </span>\n",
    "  <img src=\"attachment:image.png\" alt=\"ENCiT\" width=\"150\" style=\"vertical-align:middle; margin-left:20px;\"/>\n",
    "</p>\n",
    "\n",
    "<p align=\"center\" style=\"line-height:1.2;\">\n",
    "  <span style=\"color:RoyalBlue; font-size:160%;\">Tema 1: Introducción</span><br/>\n",
    "  <span style=\"color:DodgerBlue; font-size:140%;\">Notebook 2: Estructuras iterativas o de control de flujo</span><br/>\n",
    "  <span style=\"font-size:100%;color:forestgreen\"> Escuela Nacional de Ciencias de la Tierra  |  Semestre 2026-I</span>\n",
    "</p>\n",
    "\n",
    "---\n",
    "\n",
    "### **<font color=\"Chocolate\"> Introducción a los bucles </font>**\n",
    "\n",
    "Los bucles son la base para **repetir tareas** de forma automatizada y eficiente. En lugar de escribir muchas veces el mismo código, usamos:\n",
    "\n",
    "- **`for`** cuando sabemos cuántas veces o sobre qué colección (lista, tupla, diccionario…) vamos a iterar.  \n",
    "- **`while`** cuando la repetición depende de una **condición** que puede cambiar durante la ejecución.\n",
    "\n",
    "**¿Para qué nos sirven?**  \n",
    "- Procesar cada elemento de un conjunto de datos (temperaturas, mediciones, nombres de estaciones…).  \n",
    "- Automatizar cálculos o acciones repetitivas (convertir unidades, etiquetar datos, generar reportes).  \n",
    "- Implementar lógica de “hasta que ocurra X” (por ejemplo, pedir input al usuario hasta que sea válido).\n",
    "\n",
    "**¿Cómo funcionan?**  \n",
    "1. Se evalúa la condición o la estructura iterable.  \n",
    "2. Si es `True` (o aún hay más elementos), el cuerpo del bucle se ejecuta.  \n",
    "3. Tras cada iteración, se actualiza el índice o la condición.  \n",
    "4. Cuando la condición deja de cumplirse, el bucle termina.\n",
    "\n",
    "---\n",
    "\n",
    "### **<font color=\"SeaGreen\"> Ejercicios de pensamiento algorítmico </font>**\n",
    "\n",
    "Antes de codificar, describan en **pseudocódigo** los siguientes mini-retos, pensando paso a paso:\n",
    "\n",
    "1. **Imprimir todos los elementos de una lista**  \n",
    "   - Dada una lista `elementos = [e1, e2, e3, ...]`, recorre cada elemento y muéstralo.  \n",
    "   - Pseudocódigo:  \n",
    "     ```\n",
    "     PARA cada elemento en elementos:\n",
    "         IMPRIMIR elemento\n",
    "     ```\n",
    "\n",
    "2. **Contar estaciones activas**  \n",
    "   - Dado un diccionario `estados = {\"A\": True, \"B\": False, ...}`, recorra cada clave y sume cuántas tienen valor `True`.  \n",
    "   - Pseudocódigo:  \n",
    "     ```\n",
    "     contador = 0\n",
    "     PARA cada clave en estados:\n",
    "         SI estados[clave] es True:\n",
    "             contador = contador + 1\n",
    "     IMPRIMIR contador\n",
    "     ```\n",
    "\n",
    "3. **Identificar días secos**  \n",
    "   - Con una lista de precipitaciones `[0.0, 1.2, 0.0, ...]`, genere una lista `dias_secos` con los índices donde no llovió.  \n",
    "   - Pseudocódigo:  \n",
    "     ```\n",
    "     dias_secos = []\n",
    "     PARA i desde 0 hasta longitud(lista)-1:\n",
    "         SI precipitaciones[i] == 0:\n",
    "             agregar i a dias_secos\n",
    "     IMPRIMIR dias_secos\n",
    "     ```\n",
    "\n",
    "4. **Etiquetar muestras**  \n",
    "   - Dada una lista de temperaturas, cree otra lista de igual tamaño donde cada posición sea:\n",
    "     - “Frío” si temp < 15  \n",
    "     - “Templado” si 15 ≤ temp < 25  \n",
    "     - “Cálido” si temp ≥ 25  \n",
    "   - Pseudocódigo:  \n",
    "     ```\n",
    "     etiquetas = []\n",
    "     PARA temp en temperaturas:\n",
    "         SI temp < 15: etiquetas.agregar(\"Frío\")\n",
    "         SINO SI temp < 25: etiquetas.agregar(\"Templado\")\n",
    "         SINO: etiquetas.agregar(\"Cálido\")\n",
    "     IMPRIMIR etiquetas\n",
    "     ```\n",
    "\n",
    "Estos ejercicios enfatizan el **pensamiento paso a paso**: primero descomponer el problema, luego traducirlo a instrucciones que la computadora pueda seguir dentro de un bucle. ¡Así empiezan a programar con propósito y claridad!  \n",
    "\n"
   ]
  },
  {
   "cell_type": "markdown",
   "id": "baa5f782",
   "metadata": {},
   "source": [
    "### **<font color=\"Chocolate\">Ciclo `for`</font>**\n",
    "\n",
    "El ciclo `for` es una estructura que recorre **sincronizadamente** cada elemento de una colección: lista, tupla, conjunto o diccionario. No hace falta inicializar ni actualizar manualmente un contador: Python se encarga de avanzar al siguiente ítem automáticamente.\n",
    "\n",
    "**¿Por qué usar `for`?**  \n",
    "- Es más legible y conciso que un `while` con contador.  \n",
    "- Reduce el riesgo de errores por olvido de incrementar índices.  \n",
    "- Perfecto para procesar todas las entradas de una secuencia.\n",
    "\n",
    "**Sintaxis básica**  \n",
    "```python\n",
    "for elemento in coleccion:\n",
    "    # cuerpo del bucle\n"
   ]
  },
  {
   "cell_type": "code",
   "execution_count": 1,
   "id": "52ffbb42",
   "metadata": {},
   "outputs": [
    {
     "name": "stdout",
     "output_type": "stream",
     "text": [
      "sedimentaria\n",
      "ígena\n",
      "metamórfica\n",
      "*_*_*_*_*_*_*_*_*_*_*_*_*_*_*_*_*_*_*_*_*_*_*_*_*_*_\n"
     ]
    }
   ],
   "source": [
    "# Vamos a utilizar ciclos for en diferentes tipos de variable\n",
    "\n",
    "lista_rocas = ['sedimentaria', 'ígena', 'metamórfica']\n",
    "\n",
    "for roca in lista_rocas:\n",
    "    print(roca)\n",
    "\n",
    "print(\"*_*_*_*_*_*_*_*_*_*_*_*_*_*_*_*_*_*_*_*_*_*_*_*_*_*_\")"
   ]
  },
  {
   "cell_type": "code",
   "execution_count": 3,
   "id": "16594a1e",
   "metadata": {},
   "outputs": [
    {
     "name": "stdout",
     "output_type": "stream",
     "text": [
      "Planeta: Mercurio\n",
      "Planeta: Venus\n",
      "Planeta: Tierra\n",
      "Planeta: Marte\n",
      "Planeta: Júpiter\n"
     ]
    }
   ],
   "source": [
    "planetas = [\"Mercurio\", \"Venus\", \"Tierra\", \"Marte\", \"Júpiter\"]\n",
    "for p in planetas:\n",
    "    print(\"Planeta: \"+p)"
   ]
  },
  {
   "cell_type": "code",
   "execution_count": 6,
   "id": "42cbf300",
   "metadata": {},
   "outputs": [
    {
     "name": "stdout",
     "output_type": "stream",
     "text": [
      "1\n",
      "2\n",
      "3\n",
      "4\n",
      "5\n",
      "6\n",
      "7\n",
      "8\n",
      "9\n",
      "10\n",
      "11\n",
      "12\n",
      "13\n",
      "14\n"
     ]
    }
   ],
   "source": [
    "# impresion con la funcion range, que ocupa (valor_inicial,valor_final,intervalo=1)\n",
    "for ii in range(1,15):\n",
    "    print(ii)"
   ]
  },
  {
   "cell_type": "code",
   "execution_count": 4,
   "id": "c93fb4b7",
   "metadata": {},
   "outputs": [
    {
     "ename": "SyntaxError",
     "evalue": "unterminated string literal (detected at line 2) (3490351784.py, line 2)",
     "output_type": "error",
     "traceback": [
      "\u001b[0;36m  Cell \u001b[0;32mIn[4], line 2\u001b[0;36m\u001b[0m\n\u001b[0;31m    print(f\"Día\"+i+': medir temperatura\")\u001b[0m\n\u001b[0m                   ^\u001b[0m\n\u001b[0;31mSyntaxError\u001b[0m\u001b[0;31m:\u001b[0m unterminated string literal (detected at line 2)\n"
     ]
    }
   ],
   "source": [
    "for i in range(1, 6):\n",
    "    print(\"Día\"+i+': medir temperatura\")"
   ]
  },
  {
   "cell_type": "markdown",
   "id": "bdeed22c",
   "metadata": {},
   "source": [
    "### ¿Por qué fracasa la línea anterior?"
   ]
  },
  {
   "cell_type": "code",
   "execution_count": null,
   "id": "fbbaf5a8",
   "metadata": {},
   "outputs": [],
   "source": []
  },
  {
   "cell_type": "markdown",
   "id": "d0dc074c",
   "metadata": {},
   "source": [
    "Vamos a combinar las estructuras iterativas con las condicionales para preguntar, cuándo sí ocurre lluvia, ¿de que tamaño fue?"
   ]
  },
  {
   "cell_type": "code",
   "execution_count": 5,
   "id": "f00c5362",
   "metadata": {},
   "outputs": [
    {
     "name": "stdout",
     "output_type": "stream",
     "text": [
      "Registró lluvia: 1.2mm\n",
      "Registró lluvia: 0.5mm\n"
     ]
    }
   ],
   "source": [
    "precipitaciones = [0.0, 1.2, 0.0, 0.5]\n",
    "for p in precipitaciones:\n",
    "    if p > 0:\n",
    "        print(\"Registró lluvia: \"+str(p)+\"mm\")\n"
   ]
  },
  {
   "cell_type": "markdown",
   "id": "260462cd",
   "metadata": {},
   "source": [
    "### **<font color=\"Chocolate\">Ciclo `while`</font>**\n",
    "\n",
    "El ciclo `while` repite un bloque de instrucciones **mientras** se cumpla una condición booleana. Es ideal cuando no sabemos de antemano cuántas iteraciones haremos, o cuando la repetición depende de un estado que cambia dentro del bucle.\n",
    "\n",
    "**¿Cuándo usar `while`?**  \n",
    "- Cuando la condición de parada no está ligada a una colección sino a una lógica (por ejemplo, “hasta que la medición supere X”).  \n",
    "- Para bucles de “espera” o “reintento” basados en condiciones variables.  \n",
    "\n",
    "**Sintaxis básica**  \n",
    "```python\n",
    "while condición:\n",
    "    # cuerpo del bucle\n"
   ]
  },
  {
   "cell_type": "code",
   "execution_count": 8,
   "id": "035b99fe",
   "metadata": {},
   "outputs": [
    {
     "name": "stdout",
     "output_type": "stream",
     "text": [
      "Planeta 1 : Mercurio\n",
      "Planeta 2 : Venus\n",
      "Planeta 3 : Tierra\n",
      "Planeta 4 : Marte\n",
      "Planeta 5 : Júpiter\n"
     ]
    }
   ],
   "source": [
    "planetas = [\"Mercurio\", \"Venus\", \"Tierra\", \"Marte\", \"Júpiter\"]\n",
    "i = 0\n",
    "while i < len(planetas):\n",
    "    # Imprimir cada planeta, numerado, hasta encontrar el límite de planetas\n",
    "    print(\"Planeta\", i+1, \":\", planetas[i])\n",
    "    i += 1"
   ]
  },
  {
   "cell_type": "code",
   "execution_count": 12,
   "id": "747d3cea",
   "metadata": {},
   "outputs": [
    {
     "name": "stdout",
     "output_type": "stream",
     "text": [
      "Paso:  1\n",
      "Paso:  2\n",
      "Paso:  3\n",
      "Paso:  4\n",
      "Paso:  5\n",
      "Paso:  6\n",
      "Paso:  7\n",
      "Paso:  8\n",
      "Paso:  9\n",
      "Paso:  10\n"
     ]
    }
   ],
   "source": [
    "# Usemos un contador para saber en que paso vamos\n",
    "contador = 1\n",
    "while contador <= 10:\n",
    "    print(\"Paso: \",str(contador))\n",
    "    contador +=1\n",
    "\n",
    "# Qué esperan que se imprima?\n",
    "# Paso: 1,2,3,4,5,6,7,8,9,10\n",
    "# Paso: 0,1,2,3,4,5,6,7,8,9\n",
    "# Paso: 10,9,8,7,6,5,4,3,2,1     "
   ]
  },
  {
   "cell_type": "code",
   "execution_count": 9,
   "id": "6aa47107",
   "metadata": {},
   "outputs": [
    {
     "name": "stdout",
     "output_type": "stream",
     "text": [
      "Primera lluvia en el día 3 con 2.5 mm\n"
     ]
    }
   ],
   "source": [
    "precipitaciones = [0.0, 0.0, 2.5, 0.0]\n",
    "i = 0\n",
    "while i < len(precipitaciones) and precipitaciones[i] == 0.0:\n",
    "    i += 1\n",
    "\n",
    "if i < len(precipitaciones):\n",
    "    print(\"Primera lluvia en el día\", i+1, \"con\", precipitaciones[i], \"mm\")\n",
    "else:\n",
    "    print(\"No hubo días con lluvia\")\n"
   ]
  },
  {
   "cell_type": "code",
   "execution_count": 10,
   "id": "f7f3da5d",
   "metadata": {},
   "outputs": [
    {
     "name": "stdout",
     "output_type": "stream",
     "text": [
      "Ingresa un número entre 1 y 10: 11\n",
      "Número fuera de rango. Intenta de nuevo.\n",
      "Ingresa un número entre 1 y 10: 4\n",
      "Número válido: 4\n"
     ]
    }
   ],
   "source": [
    "# Pedir un número entre 1 y 10\n",
    "numero = int(input(\"Ingresa un número entre 1 y 10: \"))\n",
    "\n",
    "# Mientras el número esté fuera de rango, volver a pedirlo\n",
    "while numero < 1 or numero > 10:\n",
    "    print(\"Número fuera de rango. Intenta de nuevo.\")\n",
    "    numero = int(input(\"Ingresa un número entre 1 y 10: \"))\n",
    "\n",
    "# Una vez válido, continuamos\n",
    "print(\"Número válido:\", numero)"
   ]
  },
  {
   "cell_type": "code",
   "execution_count": 16,
   "id": "e3bfb52b",
   "metadata": {},
   "outputs": [
    {
     "name": "stdout",
     "output_type": "stream",
     "text": [
      "Total de precipitaciones 11.5 mm\n"
     ]
    }
   ],
   "source": [
    "# encontrar los días que sí llovió y sumar esa precipitacion\n",
    "precipitaciones = [0.0, 0.0, 2.5, 0.0,4.0,0.0,0.0,5.0,0.0]\n",
    "i = 0\n",
    "suma=0\n",
    "while i < len(precipitaciones):\n",
    "    if precipitaciones[i] != 0.0:\n",
    "        suma+=precipitaciones[i]\n",
    "    i += 1\n",
    "print('Total de precipitaciones',suma,'mm')"
   ]
  },
  {
   "cell_type": "markdown",
   "id": "f42e04b2",
   "metadata": {},
   "source": [
    "1. ¿Nos queda claro el código anterior?  \n",
    "   Vamos a despedazar su funcionamiento paso a paso:\n",
    "\n",
    "    ```python\n",
    "    # encontrar los días que sí llovió y sumar esa precipitación\n",
    "    precipitaciones = [0.0, 0.0, 2.5, 0.0, 4.0, 0.0, 0.0, 5.0, 0.0]\n",
    "    i = 0\n",
    "    suma = 0\n",
    "    while i < len(precipitaciones):\n",
    "        if precipitaciones[i] != 0.0:\n",
    "            suma += precipitaciones[i]\n",
    "        i += 1\n",
    "    print('Total de precipitaciones', suma, 'mm')\n",
    "    ```\n",
    "| Paso | Variable/Línea                                  | Descripción                                                        |\n",
    "| ---- | ----------------------------------------------- | ------------------------------------------------------------------ |\n",
    "| 1    | `precipitaciones = [...]`                       | Lista de lluvia diaria en milímetros.                              |\n",
    "| 2    | `i = 0`                                         | Índice que recorre la lista, comenzando en la posición 0.          |\n",
    "| 3    | `suma = 0`                                      | Acumulador que irá sumando los valores de lluvia.                  |\n",
    "| 4    | `while i < len(precipitaciones):`               | Bucle que se repite hasta alcanzar el final de la lista.           |\n",
    "| 5    | `if precipitaciones[i] != 0.0:`                 | Comprueba si en el día actual hubo lluvia (> 0).                   |\n",
    "| 6    | `suma += precipitaciones[i]`                    | Si llovió, añade ese valor al acumulador `suma`.                   |\n",
    "| 7    | `i += 1`                                        | Incrementa el índice para pasar al siguiente día.                  |\n",
    "| 8    | `print('Total de precipitaciones', suma, 'mm')` | Muestra el total de lluvia acumulada en todos los días con lluvia. |\n"
   ]
  },
  {
   "cell_type": "code",
   "execution_count": 18,
   "id": "b39c9117",
   "metadata": {},
   "outputs": [
    {
     "name": "stdout",
     "output_type": "stream",
     "text": [
      "{'1': 1, '2': 2, '3': 3, '4': 4}\n"
     ]
    }
   ],
   "source": [
    "# Forma básica de rellenar un diccionario\n",
    "\n",
    "# Primero se hace un diccionario vacío\n",
    "tudicc = {}\n",
    "\n",
    "# Luego tenemos dos listas\n",
    "keys = [\"1\", \"2\", \"3\", \"4\"]\n",
    "values = [1,2,3,4]\n",
    "\n",
    "# Usamos un contador\n",
    "i=0;\n",
    "\n",
    "for key in keys: #iteran en la lista que quieren que sean los keys\n",
    "        tudicc[key] = values[i] # se rellena con los valores\n",
    "        i=i+1\n",
    "\n",
    "print(tudicc)\n",
    "\n",
    "# Fácil no? :)"
   ]
  },
  {
   "cell_type": "markdown",
   "id": "52c83a6d",
   "metadata": {},
   "source": [
    "<a name='ej-3'></a>\n",
    "### **<font color=\"OrangeRed\">Ejemplo – Contar días de lluvia por estación</font>**\n",
    "\n",
    "Tenemos un diccionario con estaciones y sus mediciones diarias de precipitación:\n",
    "\n",
    "```python\n",
    "precipitaciones_est = {\n",
    "    'Tacubaya':   [0.0, 1.2, 0.0, 0.5],\n",
    "    'Coyoacán':   [0.0, 0.0, 2.5, 0.0],\n",
    "    'Xochimilco': [1.0, 0.0, 0.0, 0.0]\n",
    "}\n",
    "```\n",
    "1. Con un bucle for, crea un nuevo diccionario dias_lluvia_est que asocie cada estación al número de días con lluvia (>0 mm).\n",
    "2. Con un bucle while, genera otro diccionario dias_lluvia_est2 usando índices para recorrer las listas.\n",
    "\n",
    "- Pseudocódigo (while)\n",
    "```\n",
    "dias_lluvia_est2 = {}\n",
    "PARA cada estacion EN precipitaciones_est:\n",
    "    i = 0\n",
    "    contador = 0\n",
    "    lista = precipitaciones_est[estacion]\n",
    "    MIENTRAS i < longitud(lista):\n",
    "        SI lista[i] > 0:\n",
    "            contador = contador + 1\n",
    "        i = i + 1\n",
    "    dias_lluvia_est2[estacion] = contador\n",
    "IMPRIMIR dias_lluvia_est2\n",
    "```"
   ]
  },
  {
   "cell_type": "code",
   "execution_count": null,
   "id": "3a108534",
   "metadata": {},
   "outputs": [],
   "source": []
  },
  {
   "cell_type": "markdown",
   "id": "80bd729b",
   "metadata": {},
   "source": [
    "<a name='ej-2'></a>\n",
    "### <font color=\"DodgerBlue\">Ejercicio 3 – Bucles `for` y `while`: *La lluvia no se cansa de caer* </font>\n",
    "\n",
    "1. Define una lista llamada `precipitaciones` con 7 valores de tipo `float`, algunos iguales a `0.0` y otros positivos.  \n",
    "\n",
    "2. Con un **bucle `for`**, recorre la lista e imprime el reporte diario en el siguiente formato:  \n",
    "\n",
    "\n",
    "```\n",
    "Día 1: 0.0 mm\n",
    "Día 2: 1.2 mm\n",
    "Día 3: 0.0 mm\n",
    "```\n",
    "3. Con un **bucle `while`**, recorre nuevamente la lista y cuenta cuántos días tuvieron lluvia (valor > 0).  \n",
    "- Guarda el conteo en la variable `dias_lluvia`.  \n",
    "- Al final, imprime el resultado en el formato:\n",
    "\n",
    "```\n",
    "Total de días con lluvia: X\n",
    "```"
   ]
  },
  {
   "cell_type": "code",
   "execution_count": null,
   "id": "cbc4b198",
   "metadata": {},
   "outputs": [],
   "source": []
  },
  {
   "cell_type": "markdown",
   "id": "6908ff4b",
   "metadata": {},
   "source": [
    "<a name='ej-for-while'></a>\n",
    "### **<font color=\"DodgerBlue\">Ejercicio 4— For vs While: *torneo de clase* </font>**\n",
    "\n",
    "**Contexto.** En cada unidad del curso hay ejercicios en cada clase y sesión especial con ejercicios.  \n",
    "- En cada ejercicio se asignan putnos dependiendo del equipo que termina primero. Típicamente, el primer equipo en terminar se lleva 5 puntos, y el segundo 4 puntos, y así sucesivamente.  \n",
    "- Al final de la unidad, los puntos se reinician a 0.  \n",
    "- Si tu equipo **ganó la unidad** (acumuló más puntos que los demás en esa unidad), obtienes **+1 punto extra** para la tarea/examen de esa unidad.  \n",
    "- El curso tiene `U` unidades, aunque sabemos que en realidad el curso tiene 4 unidades. El programa debe procesar **todo el curso**.\n",
    "\n",
    "**Objetivo.**  \n",
    "1) Usa **`for`** para recorrer las **unidades** y sus **sesiones** y llevar el marcador.  \n",
    "2) Usa **`while`** para controlar el **avance del curso** hasta completar todas las unidades (p. ej., índice de unidad).  \n",
    "3) Al final, imprime el **total de puntos extra** acumulados por tu equipo a lo largo del curso y un **resumen por unidad**.\n",
    "\n",
    "---\n",
    "\n",
    "El objetivo de este programa para la clase es realizar el pseudocódigo en el pizarrón o en una hoja correctamente, indicando claramente cuando se utilicen ciclos **`for`**, **`while`**, estructuras condicionales y qué variables se definen y actualizan."
   ]
  },
  {
   "cell_type": "markdown",
   "id": "d2408abe",
   "metadata": {},
   "source": []
  }
 ],
 "metadata": {
  "kernelspec": {
   "display_name": "Python 3 (ipykernel)",
   "language": "python",
   "name": "python3"
  },
  "language_info": {
   "codemirror_mode": {
    "name": "ipython",
    "version": 3
   },
   "file_extension": ".py",
   "mimetype": "text/x-python",
   "name": "python",
   "nbconvert_exporter": "python",
   "pygments_lexer": "ipython3",
   "version": "3.11.9"
  }
 },
 "nbformat": 4,
 "nbformat_minor": 5
}
