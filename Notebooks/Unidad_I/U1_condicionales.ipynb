{
 "cells": [
  {
   "cell_type": "markdown",
   "id": "615f008a-971e-4c2c-b5cd-a308aeb53749",
   "metadata": {},
   "source": [
    "## Control de flujo: \n",
    "### Condicionales (if, else, elif)\n"
   ]
  },
  {
   "cell_type": "markdown",
   "id": "e3904ba6-6e7b-4e37-9ce8-f7ba9b9175f9",
   "metadata": {},
   "source": [
    "🧠 ¿Qué son las estructuras condicionales?\n",
    "\n",
    "Las estructuras condicionales permiten que un programa \"tome decisiones\"; es decir, que controle el flujo de información y/o acciones. \n",
    "\n",
    "En Python usamos `if`, `elif` y `else` para ejecutar diferentes bloques de código dependiendo de si una condición se cumple o no.\n",
    "\n",
    "\n",
    "* `if`: Evalúa una condición. Si es verdadera, ejecuta el bloque de código.\n",
    "* `elif`: Evalúa otra condición si la anterior fue falsa.\n",
    "* `else`: Se ejecuta si ninguna condición anterior se cumplió.\n",
    "\n",
    "\n",
    "### Sintaxis básica\n",
    "\n",
    "```\n",
    "if condicion:\n",
    "    # Código si la condición es verdadera   \n",
    "elif otra_condicion:\n",
    "    # Código si la otra condición es verdadera    \n",
    "else:\n",
    "    # Código si ninguna condición se cumple\n",
    "```"
   ]
  },
  {
   "cell_type": "code",
   "execution_count": null,
   "id": "14785f16-e7e7-4147-9a7e-7e7be0805c18",
   "metadata": {},
   "outputs": [],
   "source": [
    "numero = 10\n",
    "print('El numero es 10')\n"
   ]
  },
  {
   "cell_type": "markdown",
   "id": "6c020602-d405-4c7c-b6ba-f1c8cc208323",
   "metadata": {},
   "source": [
    "### Buenas prácticas\n",
    "-  Usa sangría (*indentación*) correctamente: 4 espacios por nivel (o un Tab).\n",
    "-  Las condiciones deben ser expresiones que devuelvan True o False.\n",
    "-  Puedes combinar condiciones con and, or, not.\n",
    "\n",
    "La identación ayuda a definir el *scope* del código, es decir puede dar acceso a una colección de variables y reglas."
   ]
  },
  {
   "cell_type": "code",
   "execution_count": null,
   "id": "8544cd0c-af14-400f-b7a6-2c58bbc8b8b8",
   "metadata": {},
   "outputs": [],
   "source": [
    "# la indentacion puede ser un Tab, o 4 espacios\n",
    "numero = 11\n",
    "if numero == 10:\n",
    "    print('El numero es 10')\n",
    "#print(\"termina programa\")"
   ]
  },
  {
   "cell_type": "code",
   "execution_count": null,
   "id": "4de116da-c8d8-4aad-9e17-5e6b143d5e04",
   "metadata": {},
   "outputs": [],
   "source": [
    "if numero == 10:\n",
    "    print('El numero es 10')\n",
    "else :\n",
    "    print('El numero no es 10')"
   ]
  },
  {
   "cell_type": "code",
   "execution_count": null,
   "id": "4d4d884b-44b6-44b9-99c9-beb25e3da984",
   "metadata": {},
   "outputs": [],
   "source": [
    "print(\"Ingresa tu nombre\")\n",
    "nombre = input()\n",
    "\n",
    "if nombre == 'Claudia':\n",
    "    print('Hola Claudia')\n",
    "else:\n",
    "    print('Que nombre tan extraño')"
   ]
  },
  {
   "cell_type": "code",
   "execution_count": null,
   "id": "6861f58d-d3cd-4645-89d5-b8686214921e",
   "metadata": {},
   "outputs": [],
   "source": [
    "print(\"Ingresa tu nombre\")\n",
    "nombre = input()\n",
    "\n",
    "if nombre == 'Claudia':\n",
    "    print('Hola Claudia')\n",
    "elif nombre == 'Elizabeth':\n",
    "    print('Hola Elizabeth')\n",
    "else:\n",
    "    print('Que nombre tan extraño')"
   ]
  },
  {
   "cell_type": "code",
   "execution_count": null,
   "id": "2e171c4a-85d7-4482-9ab5-b99c7291dd34",
   "metadata": {},
   "outputs": [],
   "source": [
    "alerta_volcanica = True\n",
    "\n",
    "if alerta_volcanica:\n",
    "    print(\"Activar protocolo de emergencia\")\n",
    "else:\n",
    "    print(\"Monitoreo normal\")"
   ]
  },
  {
   "cell_type": "code",
   "execution_count": null,
   "id": "b2a5f3c0-35b2-4ed8-89a9-f3ef413e74d4",
   "metadata": {},
   "outputs": [],
   "source": [
    "# Creemos un ejemplo donde se pida el tipo de roca y se imprima como se forma\n",
    "\n",
    "tipo_roca = input(\"Ingresa un tipo de roca\")\n",
    "\n",
    "if tipo_roca == \"sedimentaria\":\n",
    "    print(\"Formada por compactación de sedimentos\")\n",
    "elif tipo_roca == \"metamórfica\":\n",
    "    print(\"Transformada por presión y temperatura\")\n",
    "elif tipo_roca == \"ígnea\":\n",
    "    print(\"Formada por enfriamiento de magma\")\n",
    "else:\n",
    "    print(\"Tipo de roca desconocido\")"
   ]
  },
  {
   "cell_type": "markdown",
   "id": "7e10fb41-cb91-41d5-b6ee-77c3f09e54b9",
   "metadata": {},
   "source": [
    "##  Operadores de comparación.\n",
    "\n",
    "Para crear \"if statements\" podemos usar los operadores de comparación.\n",
    "\n",
    "* Igualdad: `==`\n",
    "* No igualdad: `!=`\n",
    "* Mayor que: `>`\n",
    "* Menor que: `<`\n",
    "* Mayor o igual: `>=`\n",
    "* Menor o igual:  `<=`\n"
   ]
  },
  {
   "cell_type": "code",
   "execution_count": null,
   "id": "4cc6c783-7f3e-4bd8-a362-4d08a29d61c4",
   "metadata": {},
   "outputs": [],
   "source": [
    "# Creemos un programa que pida la temperatura y diga si hace frío, está templado o hace calor.\n",
    "\n",
    "temperatura = float(input(\"Ingresa la temperatura actual en grados celcius\"))\n",
    "\n",
    "if temperatura < 12:\n",
    "    print(\"Hace frío\")\n",
    "elif temperatura >= 25:\n",
    "    print(\"Hace calor\")\n",
    "else:\n",
    "    print(\"Está templado\")"
   ]
  },
  {
   "cell_type": "markdown",
   "id": "49a3db2d-65b8-4d63-91cb-fdbdb0b5d559",
   "metadata": {},
   "source": [
    "## Operadores lógicos\n",
    "\n",
    "Los operadores lógicos permiten combinar condiciones en una sola expresión:\n",
    "\n",
    "| Operador  |            | Ejemplo lógico                                               |\n",
    "|-----------|------------|------------------------------------------------------------  |\n",
    "| `and`     | A `and` B  | A Verdadero, B Falso $\\Rightarrow$ A `and` B es  Falso       |\n",
    "| `or`      | A `or`  B  | A Verdadero, B Falso $\\Rightarrow$ A `or` B es Verdadero     |\n",
    "| `not`     | `not` A    | A Verdadero $\\Rightarrow$  `not` A es Falso                  |\n",
    "\n",
    "### Recomendaciones:\n",
    "- Usa paréntesis para agrupar condiciones y evitar ambigüedades.\n",
    "- No combines demasiadas condiciones sin claridad: divide en pasos si es necesario.\n",
    "- Usa nombres de variables descriptivos para facilitar la lectura.\n"
   ]
  },
  {
   "cell_type": "code",
   "execution_count": null,
   "id": "4d2c4067-1f79-4e72-aed9-969bd60ad682",
   "metadata": {},
   "outputs": [],
   "source": [
    "viento = 70  # km/h\n",
    "lluvia = 15  # mm\n",
    "\n",
    "if viento > 60 or lluvia > 10:\n",
    "    print(\"Riesgo meteorológico\")\n",
    "else:\n",
    "    print(\"Sin riesgo significativo\")"
   ]
  },
  {
   "cell_type": "code",
   "execution_count": null,
   "id": "fa25b6b5-b31d-4b12-96c4-7187af361486",
   "metadata": {},
   "outputs": [],
   "source": [
    "heladas_reportadas = False\n",
    "\n",
    "if not heladas_reportadas:\n",
    "    print(\"Verificar sensores: no se han reportado heladas\")\n",
    "else:\n",
    "    print(\"Heladas confirmadas\")\n"
   ]
  },
  {
   "cell_type": "code",
   "execution_count": null,
   "id": "a97b52fe-4d40-4422-9039-73d630009032",
   "metadata": {},
   "outputs": [],
   "source": [
    "actividad = 4\n",
    "gases = True\n",
    "sismicidad = 6.2\n",
    "\n",
    "if actividad >= 3 and gases and sismicidad > 6.0:\n",
    "    print(\"Alerta roja: riesgo volcánico elevado\")\n",
    "elif actividad >= 3 and (gases or sismicidad > 5.0):\n",
    "    print(\"Alerta naranja: vigilancia activa\")\n",
    "else:\n",
    "    print(\"Actividad volcánica moderada o baja\")\n"
   ]
  },
  {
   "cell_type": "markdown",
   "id": "d66ff66c-0755-4bf3-b43e-ba70bd2245d2",
   "metadata": {},
   "source": [
    "## Nested if (if anidados)\n",
    "\n",
    "Un nested `if` es una estructura condicional dentro de otra. Es decir, colocas un `if` (o `elif`, o `else`) dentro del bloque de otro `if`. Esto te permite evaluar condiciones dependientes o jerárquicas.\n",
    "\n",
    "### *Cuidado*\n",
    "- No anides demasiados niveles, o el código se vuelve difícil de mantener.\n",
    "- Considera usar `elif` o funciones si la lógica se vuelve muy compleja.\n"
   ]
  },
  {
   "cell_type": "code",
   "execution_count": null,
   "id": "bc3f2b72-66d3-4601-a19a-84b6900e1f69",
   "metadata": {},
   "outputs": [],
   "source": [
    "temperatura = 2\n",
    "humedad = 85\n",
    "\n",
    "if temperatura < 5:\n",
    "    print(\"Temperatura baja\")\n",
    "    if humedad > 80:\n",
    "        print(\"Riesgo de formación de niebla\")\n",
    "    else:\n",
    "        print(\"Clima frío pero seco\")\n",
    "else:\n",
    "    print(\"Temperatura moderada\")\n"
   ]
  },
  {
   "cell_type": "markdown",
   "id": "5a75bf2e-6e6f-4b7b-9014-5812b5a90335",
   "metadata": {},
   "source": [
    "## Operador ternario\n",
    "\n",
    "Se trata de una cláusula `if`, `else` que se define en una sola línea y puede ser usado por ejemplo, dentro de un `print()`\n",
    "\n",
    "Existen tres partes en un operador ternario, que son exactamente iguales a los que había en un if else. Tenemos la condición a evaluar, el código que se ejecuta si se cumple, y el código que se ejecuta si no se cumple. En este caso, tenemos los tres en la misma línea.\n",
    "\n",
    "```\n",
    "# [código si se cumple] if [condición] else [código si no se cumple]\n",
    "```"
   ]
  },
  {
   "cell_type": "code",
   "execution_count": null,
   "id": "2bd3280f-5da4-42ed-916a-9909fbf0e3b3",
   "metadata": {},
   "outputs": [],
   "source": [
    "x = 6\n",
    "print(\"Es 5\" if x == 5 else \"No es 5\")"
   ]
  },
  {
   "cell_type": "code",
   "execution_count": null,
   "id": "ff64d13d-23fa-446c-9549-aae428a3ed46",
   "metadata": {},
   "outputs": [],
   "source": [
    "a = 10\n",
    "b = 5\n",
    "c = a/b if b!=0 else -1\n",
    "print(c)"
   ]
  },
  {
   "cell_type": "markdown",
   "id": "fdd52d76-b19b-47bc-a2f2-42e9f342f7ee",
   "metadata": {},
   "source": [
    "## Ejercicios:\n",
    "\n",
    "1. Crea un programa que resuelva cualquier ecuación de primer grado de la forma $ax + b =0$ , donde $x$ es la incógnita. Para este programa:\n",
    "   - Pidan al usuario el valor de $a$ y $b$ (dígase que son de tipo flotante).\n",
    "   - Calculen el valor $x = \\frac{-b}{a}$\n",
    "   - Mostrar el valor de $x$\n",
    "   - Tengan cuidado (¿Qué pasa si $a=0$ o si $b=0$?)\n",
    "2.  Crea un código que verifique si un número es par o impar (Usa el módulo %)."
   ]
  }
 ],
 "metadata": {
  "kernelspec": {
   "display_name": "Python 3 (ipykernel)",
   "language": "python",
   "name": "python3"
  },
  "language_info": {
   "codemirror_mode": {
    "name": "ipython",
    "version": 3
   },
   "file_extension": ".py",
   "mimetype": "text/x-python",
   "name": "python",
   "nbconvert_exporter": "python",
   "pygments_lexer": "ipython3",
   "version": "3.11.6"
  }
 },
 "nbformat": 4,
 "nbformat_minor": 5
}
