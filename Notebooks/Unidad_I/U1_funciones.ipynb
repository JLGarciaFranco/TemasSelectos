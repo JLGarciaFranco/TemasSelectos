{
 "cells": [
  {
   "cell_type": "markdown",
   "id": "3dce8768",
   "metadata": {},
   "source": [
    "<p align=\"center\">\n",
    "  <span style=\"color:Navy; font-size:200%; font-weight:bold; vertical-align:middle;\">\n",
    "    Temas Selectos: Python para Ciencias de la Tierra\n",
    "  </span>\n",
    "  <img src=\"attachment:LOGO_ENCIT.png\" alt=\"ENCiT\" width=\"120\" style=\"vertical-align:middle; margin-left:20px;\"/>\n",
    "</p>\n",
    "\n",
    "<p align=\"center\" style=\"line-height:1.2;\">\n",
    "  <span style=\"color:RoyalBlue; font-size:150%;\">Tema 1: Introducción</span><br/>\n",
    "  <span style=\"color:DodgerBlue; font-size:130%;\">Notebook 3: Funciones</span><br/>\n",
    "  <span style=\"font-size:100%;color:forestgreen\"> Escuela Nacional de Ciencias de la Tierra  |  Semestre 2026-I</span>\n",
    "</p>\n",
    "\n",
    "---\n",
    "\n",
    "Lo último que veremos en este repaso son las **funciones**, una estructura esencial que, bien utilizada, puede simplificarnos muchísimo la vida.\n",
    "\n",
    "---\n",
    "\n",
    "## ¿Qué son las funciones?\n",
    "\n",
    "Una función es un **bloque de código reutilizable**:  \n",
    "- Se puede ejecutar muchas veces dentro de un programa.  \n",
    "- Recibe datos de entrada (*argumentos*).  \n",
    "- Procesa esos datos.  \n",
    "- Devuelve un resultado de salida.  \n",
    "\n",
    "---\n",
    "\n",
    "## ¿Por qué usar funciones?\n",
    "\n",
    "Entre las principales ventajas están:\n",
    "\n",
    "- **Dividir y ordenar el código** en partes más sencillas → facilita depuración y programación.  \n",
    "- Reutilizar código, evitando repeticiones innecesarias.  \n",
    "- Cumplir con el principio de no repetir código DRY (*Don't Repeat Yourself*).  \n",
    "\n",
    "---\n",
    "\n",
    "## Tipos de funciones en Python\n",
    "\n",
    "1. **Funciones nativas** (*built-in functions*): ya vienen integradas en Python.  \n",
    "   Ejemplos:  \n",
    "   - `print()`  \n",
    "   - `range()`  \n",
    "   - `list()`  \n",
    "\n",
    "2. **Funciones personalizadas** (*user-defined functions*): creadas por el usuario.  \n",
    "   → En este curso nos vamos a enfocar principalmente en este tipo.\n",
    "\n",
    "---\n"
   ]
  },
  {
   "cell_type": "code",
   "execution_count": 1,
   "id": "3b1e280b",
   "metadata": {},
   "outputs": [
    {
     "ename": "SyntaxError",
     "evalue": "incomplete input (972330615.py, line 2)",
     "output_type": "error",
     "traceback": [
      "\u001b[0;36m  Cell \u001b[0;32mIn[1], line 2\u001b[0;36m\u001b[0m\n\u001b[0;31m    \u001b[0m\n\u001b[0m    ^\u001b[0m\n\u001b[0;31mSyntaxError\u001b[0m\u001b[0;31m:\u001b[0m incomplete input\n"
     ]
    }
   ],
   "source": [
    "def mifuncion():\n",
    "    "
   ]
  },
  {
   "cell_type": "code",
   "execution_count": 2,
   "id": "046743b5",
   "metadata": {},
   "outputs": [],
   "source": [
    "def mifuncion():\n",
    "    print('hola')"
   ]
  },
  {
   "cell_type": "code",
   "execution_count": null,
   "id": "ac7533a6",
   "metadata": {},
   "outputs": [],
   "source": []
  },
  {
   "cell_type": "markdown",
   "id": "00cdf506",
   "metadata": {},
   "source": [
    "## Sintaxis para definir una función\n",
    "\n",
    "```python\n",
    "def nombre_funcion(argumentos):\n",
    "    # Bloque de instrucciones\n",
    "    return resultado\n"
   ]
  },
  {
   "cell_type": "code",
   "execution_count": 6,
   "id": "155a355f",
   "metadata": {},
   "outputs": [
    {
     "name": "stdout",
     "output_type": "stream",
     "text": [
      "Hola buen día\n"
     ]
    }
   ],
   "source": [
    "# Las funciones no necesariamente deben llevar argumentos\n",
    "def bienvenida():\n",
    "    print(\"Hola buen día\")\n",
    "bienvenida()"
   ]
  },
  {
   "cell_type": "code",
   "execution_count": 9,
   "id": "4e79377a",
   "metadata": {},
   "outputs": [
    {
     "name": "stdout",
     "output_type": "stream",
     "text": [
      "Hola,Marina!\n"
     ]
    }
   ],
   "source": [
    "# Acá el argumento es el nombre, que se utiliza después\n",
    "def saludar(nombre):\n",
    "    mensaje = \"Hola,\"+ nombre+\"!\"\n",
    "    return mensaje\n",
    "print(saludar(\"Marina\"))"
   ]
  },
  {
   "cell_type": "markdown",
   "id": "fe77ed93",
   "metadata": {},
   "source": [
    "## Argumentos en funciones\n",
    "\n",
    "Hasta ahora hemos usado sólo un argumento en las funciones,  \n",
    "pero en la práctica podemos tener **varios argumentos**, que pueden ser:\n",
    "\n",
    "- **Obligatorios**: siempre se deben proporcionar.  \n",
    "- **Opcionales**: tienen un **valor por defecto**, así que el usuario puede omitirlos.  \n",
    "\n",
    "---\n",
    "\n",
    "## Formas de pasar argumentos\n",
    "\n",
    "1. **Posicional**  \n",
    "   Los argumentos se agregan en el mismo orden en que aparecen los parámetros en la definición de la función.  \n",
    "\n",
    "   ```python\n",
    "   def presentacion(nombre, carrera):\n",
    "       print(f\"Hola, soy {nombre} y estudio {carrera}\")\n",
    "\n",
    "   # Uso posicional (orden importa)\n",
    "   presentacion(\"María\", \"Ciencias de la Tierra\")\n",
    "   ```"
   ]
  },
  {
   "cell_type": "code",
   "execution_count": 10,
   "id": "69fda894",
   "metadata": {},
   "outputs": [],
   "source": [
    "def operacion(a,b,c):\n",
    "    resultado = (a+b)/c\n",
    "    return resultado"
   ]
  },
  {
   "cell_type": "code",
   "execution_count": 11,
   "id": "d851302e",
   "metadata": {},
   "outputs": [
    {
     "data": {
      "text/plain": [
       "1.0"
      ]
     },
     "execution_count": 11,
     "metadata": {},
     "output_type": "execute_result"
    }
   ],
   "source": [
    "operacion(1,2,3)"
   ]
  },
  {
   "cell_type": "markdown",
   "id": "e9a61fd1",
   "metadata": {},
   "source": [
    "2. **Nominal (keyword arguments)**\n",
    "\n",
    "Aquí se especifica el nombre del parámetro al que se asocia cada argumento.\n",
    "→ El orden ya no importa."
   ]
  },
  {
   "cell_type": "code",
   "execution_count": 12,
   "id": "6b6b8dd0",
   "metadata": {},
   "outputs": [
    {
     "data": {
      "text/plain": [
       "1.25"
      ]
     },
     "execution_count": 12,
     "metadata": {},
     "output_type": "execute_result"
    }
   ],
   "source": [
    "operacion(2,3,4)"
   ]
  },
  {
   "cell_type": "code",
   "execution_count": 13,
   "id": "498fedc1",
   "metadata": {},
   "outputs": [
    {
     "data": {
      "text/plain": [
       "1.25"
      ]
     },
     "execution_count": 13,
     "metadata": {},
     "output_type": "execute_result"
    }
   ],
   "source": [
    "operacion(c=4,b=3,a=2)"
   ]
  },
  {
   "cell_type": "markdown",
   "id": "fbf474d8",
   "metadata": {},
   "source": [
    "**Argumentos opcionales**\n",
    "\n",
    "Se definen con un valor por defecto en la función.\n",
    "Si el usuario no los especifica, Python usa ese valor."
   ]
  },
  {
   "cell_type": "code",
   "execution_count": 14,
   "id": "b2c51535",
   "metadata": {},
   "outputs": [],
   "source": [
    "def operacion(a,b,c=2):\n",
    "    resultado = (a+b)/c\n",
    "    return resultado"
   ]
  },
  {
   "cell_type": "code",
   "execution_count": 15,
   "id": "fbc6ac25",
   "metadata": {},
   "outputs": [
    {
     "name": "stdout",
     "output_type": "stream",
     "text": [
      "2.5\n",
      "2.5\n"
     ]
    }
   ],
   "source": [
    "print(operacion(2,3,2))\n",
    "print(operacion(2,3))"
   ]
  },
  {
   "cell_type": "code",
   "execution_count": 16,
   "id": "f3c92ce6",
   "metadata": {},
   "outputs": [
    {
     "name": "stdout",
     "output_type": "stream",
     "text": [
      "Hola, soy Carlos y estudio Ciencias de la Tierra\n",
      "Hola, soy Sofía y estudio Matemáticas\n"
     ]
    }
   ],
   "source": [
    "def presentacion(nombre, carrera=\"Ciencias de la Tierra\"):\n",
    "    '''\n",
    "    Aqui nombre es obligatorio y carrera es opcional\n",
    "    '''\n",
    "    print(\"Hola, soy \"+nombre+\" y estudio \"+carrera)\n",
    "\n",
    "presentacion(\"Carlos\")  # usa el valor por defecto\n",
    "presentacion(\"Sofía\", \"Matemáticas\")  # se sobrescribe"
   ]
  },
  {
   "cell_type": "markdown",
   "id": "a7bb2318",
   "metadata": {},
   "source": [
    "<a name='ej-func-1'></a>\n",
    "### **<font color=\"DodgerBlue\">Ejercicio 5: funciones – *“¿Desea dejar servicio?”*</font>**\n",
    "\n",
    "Crea una función que calcule la **cuenta total de una orden** y también indique la **propina**:  \n",
    "\n",
    "- El usuario ingresa el monto de la cuenta (obligatorio).  \n",
    "- El usuario puede indicar cuánto dejar de propina (%).  \n",
    "- Si no indica la propina, se aplicará automáticamente el 10%.  \n",
    "\n",
    "---\n",
    "\n",
    "#### Resultado esperado (ejemplo)\n",
    "\n",
    "```text\n",
    "La cuenta es de: $100\n",
    "La propina del 15% es de: $15.0\n",
    "El total de la cuenta es de $115.0\n",
    "```"
   ]
  },
  {
   "cell_type": "code",
   "execution_count": null,
   "id": "1d02e4a7",
   "metadata": {},
   "outputs": [],
   "source": []
  },
  {
   "cell_type": "markdown",
   "id": "1d48e4b4",
   "metadata": {},
   "source": [
    "<a name='ej-func-3'></a>\n",
    "### **<font color=\"DodgerBlue\">Ejercicio 6: funciones – *Factorízame esta* </font>**\n",
    "\n",
    "Crea un programa donde el usuario introduzca un **número entero positivo** y en la consola se muestre el **factorial** de dicho número.  \n",
    "\n",
    "- Si el usuario ingresa un número negativo, el programa debe marcar un **error** y pedir un número válido.  \n",
    "- **Nota:** no se vale usar `factorial()` de la librería `math`.  \n",
    "\n",
    "---\n",
    "\n",
    "#### Recordatorio\n",
    "El **factorial** de un número entero positivo `n` se define como:  \n",
    "\n",
    "$n! = n \\times (n-1) \\times (n-2) \\times \\dots \\times 1 $\n",
    "\n",
    "Ejemplo:  \n",
    "$\n",
    "5! = 5 \\times 4 \\times 3 \\times 2 \\times 1 = 120$\n",
    "\n",
    "---"
   ]
  },
  {
   "cell_type": "code",
   "execution_count": null,
   "id": "f6fca15a",
   "metadata": {},
   "outputs": [],
   "source": []
  }
 ],
 "metadata": {
  "kernelspec": {
   "display_name": "Python 3 (ipykernel)",
   "language": "python",
   "name": "python3"
  },
  "language_info": {
   "codemirror_mode": {
    "name": "ipython",
    "version": 3
   },
   "file_extension": ".py",
   "mimetype": "text/x-python",
   "name": "python",
   "nbconvert_exporter": "python",
   "pygments_lexer": "ipython3",
   "version": "3.11.9"
  }
 },
 "nbformat": 4,
 "nbformat_minor": 5
}
