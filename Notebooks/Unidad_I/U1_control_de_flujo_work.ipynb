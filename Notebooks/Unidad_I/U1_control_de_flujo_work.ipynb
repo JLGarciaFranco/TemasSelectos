{
 "cells": [
  {
   "attachments": {
    "a8af18c2-2821-40a4-9ead-21faf897b88b.png": {
     "image/png": "[encoded data removed]"
    }
   },
   "cell_type": "markdown",
   "id": "52ed8293",
   "metadata": {},
   "source": [
    "<p align=\"center\">\n",
    "  <span style=\"color:Navy; font-size:200%; font-weight:bold; vertical-align:middle;\">\n",
    "    Temas Selectos: Python para Ciencias de la Tierra\n",
    "  </span>\n",
    "  <img src=\"attachment:a8af18c2-2821-40a4-9ead-21faf897b88b.png\" alt=\"ENCiT\" width=\"150\" style=\"vertical-align:middle; margin-left:20px;\"/>\n",
    "</p>\n",
    "<p align=\"center\" style=\"line-height:1.2;\">\n",
    "  <span style=\"color:RoyalBlue; font-size:160%;\">Tema 1: Introducción</span><br/>\n",
    "  <span style=\"color:DodgerBlue; font-size:140%;\">Notebook 2: Estructuras iterativas o de control de flujo</span><br/>\n",
    "  <span style=\"font-size:100%;color:forestgreen\"> Escuela Nacional de Ciencias de la Tierra  |  Semestre 2026-I</span>\n",
    "</p>\n",
    "\n",
    "---\n",
    "\n",
    "### **<font color=\"Chocolate\"> Introducción a los bucles </font>**\n",
    "\n",
    "Los bucles son la base para **repetir tareas** de forma automatizada y eficiente. En lugar de escribir muchas veces el mismo código, usamos:\n",
    "\n",
    "- **`for`** cuando sabemos cuántas veces o sobre qué colección (lista, tupla, diccionario…) vamos a iterar.  \n",
    "- **`while`** cuando la repetición depende de una **condición** que puede cambiar durante la ejecución.\n",
    "\n",
    "**¿Para qué nos sirven?**  \n",
    "- Procesar cada elemento de un conjunto de datos (temperaturas, mediciones, nombres de estaciones…).  \n",
    "- Automatizar cálculos o acciones repetitivas (convertir unidades, etiquetar datos, generar reportes).  \n",
    "- Implementar lógica de “hasta que ocurra X” (por ejemplo, pedir input al usuario hasta que sea válido).\n",
    "\n",
    "**¿Cómo funcionan?**  \n",
    "1. Se evalúa la condición o la estructura iterable.  \n",
    "2. Si es `True` (o aún hay más elementos), el cuerpo del bucle se ejecuta.  \n",
    "3. Tras cada iteración, se actualiza el índice o la condición.  \n",
    "4. Cuando la condición deja de cumplirse, el bucle termina.\n",
    "\n",
    "---\n",
    "\n",
    "### **<font color=\"SeaGreen\"> Ejercicios de pensamiento algorítmico </font>**\n",
    "\n",
    "Antes de codificar, describan en **pseudocódigo** los siguientes mini-retos, pensando paso a paso:\n",
    "\n",
    "1. **Imprimir todos los elementos de una lista**  \n",
    "   - Dada una lista `elementos = [e1, e2, e3, ...]`, recorre cada elemento y muéstralo.  \n",
    "   - Pseudocódigo:  \n",
    "     ```\n",
    "     PARA cada elemento en elementos:\n",
    "         IMPRIMIR elemento\n",
    "     ```\n",
    "\n",
    "2. **Contar estaciones activas**  \n",
    "   - Dado un diccionario `estados = {\"A\": True, \"B\": False, ...}`, recorra cada clave y sume cuántas tienen valor `True`.  \n",
    "   - Pseudocódigo:  \n",
    "     ```\n",
    "     contador = 0\n",
    "     PARA cada clave en estados:\n",
    "         SI estados[clave] es True:\n",
    "             contador = contador + 1\n",
    "     IMPRIMIR contador\n",
    "     ```\n",
    "\n",
    "3. **Identificar días secos**  \n",
    "   - Con una lista de precipitaciones `[0.0, 1.2, 0.0, ...]`, genere una lista `dias_secos` con los índices donde no llovió.  \n",
    "   - Pseudocódigo:  \n",
    "     ```\n",
    "     dias_secos = []\n",
    "     PARA i desde 0 hasta longitud(lista)-1:\n",
    "         SI precipitaciones[i] == 0:\n",
    "             agregar i a dias_secos\n",
    "     IMPRIMIR dias_secos\n",
    "     ```\n",
    "\n",
    "4. **Etiquetar muestras**  \n",
    "   - Dada una lista de temperaturas, cree otra lista de igual tamaño donde cada posición sea:\n",
    "     - “Frío” si temp < 15  \n",
    "     - “Templado” si 15 ≤ temp < 25  \n",
    "     - “Cálido” si temp ≥ 25  \n",
    "   - Pseudocódigo:  \n",
    "     ```\n",
    "     etiquetas = []\n",
    "     PARA temp en temperaturas:\n",
    "         SI temp < 15: etiquetas.agregar(\"Frío\")\n",
    "         SINO SI temp < 25: etiquetas.agregar(\"Templado\")\n",
    "         SINO: etiquetas.agregar(\"Cálido\")\n",
    "     IMPRIMIR etiquetas\n",
    "     ```\n",
    "\n",
    "Estos ejercicios enfatizan el **pensamiento paso a paso**: primero descomponer el problema, luego traducirlo a instrucciones que la computadora pueda seguir dentro de un bucle. ¡Así empiezan a programar con propósito y claridad!  \n",
    "\n"
   ]
  },
  {
   "cell_type": "code",
   "execution_count": 1,
   "id": "93ba0061-7dcc-4931-9ca7-5955a1b75e3f",
   "metadata": {},
   "outputs": [],
   "source": [
    "estados={'Guerrero':False,'EdoMex':True,'Michoacan':False,'Veracruz':True}"
   ]
  },
  {
   "cell_type": "code",
   "execution_count": 2,
   "id": "a76a209a-48a5-4e11-afd9-badc70a3b90f",
   "metadata": {},
   "outputs": [
    {
     "name": "stdout",
     "output_type": "stream",
     "text": [
      "EdoMex es True\n",
      "Veracruz es True\n",
      "2\n"
     ]
    }
   ],
   "source": [
    "contador=0\n",
    "for establo in estados:\n",
    "    if estados[establo]==True:\n",
    "        print(establo,'es True')\n",
    "        contador+=1\n",
    "print(contador)"
   ]
  },
  {
   "cell_type": "code",
   "execution_count": 3,
   "id": "20713304-bbdd-44be-b1e8-244f9884d989",
   "metadata": {},
   "outputs": [
    {
     "data": {
      "text/plain": [
       "'Veracruz'"
      ]
     },
     "execution_count": 3,
     "metadata": {},
     "output_type": "execute_result"
    }
   ],
   "source": [
    "establo"
   ]
  },
  {
   "cell_type": "code",
   "execution_count": 4,
   "id": "7084f75d-c037-4690-aa9d-a0c8ed4a2c8f",
   "metadata": {},
   "outputs": [
    {
     "name": "stdout",
     "output_type": "stream",
     "text": [
      "e1\n",
      "e2\n",
      "e3\n",
      "e4\n",
      "e1\n",
      "e2\n",
      "e3\n",
      "e4\n"
     ]
    }
   ],
   "source": [
    "elemento=5\n",
    "elementos=['e1','e2','e3','e4']\n",
    "print(elementos[0])\n",
    "print(elementos[1])\n",
    "print(elementos[2])\n",
    "print(elementos[3])\n",
    "for elemento in elementos:\n",
    "    print(elemento)"
   ]
  },
  {
   "cell_type": "code",
   "execution_count": 5,
   "id": "ae714bd8-b847-4d8b-9cd9-95bc7cbfd978",
   "metadata": {},
   "outputs": [
    {
     "name": "stdout",
     "output_type": "stream",
     "text": [
      "1\n",
      "1\n",
      "2\n"
     ]
    }
   ],
   "source": [
    "for i in [1,'1',2]:\n",
    "    print(i)"
   ]
  },
  {
   "cell_type": "code",
   "execution_count": 6,
   "id": "627651a9-00af-4e92-9833-d23b5ef8b26b",
   "metadata": {},
   "outputs": [
    {
     "name": "stdout",
     "output_type": "stream",
     "text": [
      "H\n",
      "o\n",
      "l\n",
      "a\n"
     ]
    }
   ],
   "source": [
    "for i in 'Hola':\n",
    "    print(i)"
   ]
  },
  {
   "cell_type": "markdown",
   "id": "baa5f782",
   "metadata": {},
   "source": [
    "### **<font color=\"Chocolate\">Ciclo `for`</font>**\n",
    "\n",
    "El ciclo `for` es una estructura que recorre **sincronizadamente** cada elemento de una colección: lista, tupla, conjunto o diccionario. No hace falta inicializar ni actualizar manualmente un contador: Python se encarga de avanzar al siguiente ítem automáticamente.\n",
    "\n",
    "**¿Por qué usar `for`?**  \n",
    "- Es más legible y conciso que un `while` con contador.  \n",
    "- Reduce el riesgo de errores por olvido de incrementar índices.  \n",
    "- Perfecto para procesar todas las entradas de una secuencia.\n",
    "\n",
    "**Sintaxis básica**  \n",
    "```python\n",
    "for elemento in coleccion:\n",
    "    # cuerpo del bucle\n"
   ]
  },
  {
   "cell_type": "code",
   "execution_count": 7,
   "id": "52ffbb42",
   "metadata": {},
   "outputs": [
    {
     "name": "stdout",
     "output_type": "stream",
     "text": [
      "sedimentaria\n",
      "ígnea\n",
      "metamórfica\n",
      "*_*_*_*_*_*_*_*_*_*_*_*_*_*_*_*_*_*_*_*_*_*_*_*_*_*_\n"
     ]
    }
   ],
   "source": [
    "# Vamos a utilizar ciclos for en diferentes tipos de variable\n",
    "\n",
    "lista_rocas = ['sedimentaria', 'ígnea', 'metamórfica']\n",
    "\n",
    "for roca in lista_rocas:\n",
    "    print(roca)\n",
    "\n",
    "print(\"*_*_*_*_*_*_*_*_*_*_*_*_*_*_*_*_*_*_*_*_*_*_*_*_*_*_\")"
   ]
  },
  {
   "cell_type": "code",
   "execution_count": 8,
   "id": "16594a1e",
   "metadata": {},
   "outputs": [
    {
     "name": "stdout",
     "output_type": "stream",
     "text": [
      "Planeta: Mercurio\n",
      "Planeta: Venus\n",
      "Planeta: Tierra\n",
      "Planeta: Marte\n",
      "Planeta: Júpiter\n"
     ]
    }
   ],
   "source": [
    "planetas = [\"Mercurio\", \"Venus\", \"Tierra\", \"Marte\", \"Júpiter\"]\n",
    "for planeta in planetas:\n",
    "    print(\"Planeta: \"+planeta)"
   ]
  },
  {
   "cell_type": "code",
   "execution_count": 9,
   "id": "7794f7bb-b892-4b8c-9009-266dbbe04de0",
   "metadata": {},
   "outputs": [
    {
     "data": {
      "text/plain": [
       "['sedimentaria', 'ígnea', 'metamórfica']"
      ]
     },
     "execution_count": 9,
     "metadata": {},
     "output_type": "execute_result"
    }
   ],
   "source": [
    "lista_rocas"
   ]
  },
  {
   "cell_type": "code",
   "execution_count": 10,
   "id": "da03d909-3b6e-4d5a-a7df-aeaa26cd94c0",
   "metadata": {},
   "outputs": [
    {
     "name": "stdout",
     "output_type": "stream",
     "text": [
      "<class 'str'>\n",
      "s\n",
      "e\n",
      "d\n",
      "i\n",
      "m\n",
      "e\n",
      "n\n",
      "t\n",
      "a\n",
      "r\n",
      "i\n",
      "a\n",
      "<class 'str'>\n",
      "í\n",
      "g\n",
      "n\n",
      "e\n",
      "a\n",
      "<class 'str'>\n",
      "m\n",
      "e\n",
      "t\n",
      "a\n",
      "m\n",
      "ó\n",
      "r\n",
      "f\n",
      "i\n",
      "c\n",
      "a\n"
     ]
    }
   ],
   "source": [
    "for ir in lista_rocas:\n",
    "    print(type(ir))\n",
    "    for ii in ir:\n",
    "        print(ii)"
   ]
  },
  {
   "cell_type": "code",
   "execution_count": 11,
   "id": "de6b6c0d-7f6f-42d3-9f1d-16d08d983e8b",
   "metadata": {},
   "outputs": [
    {
     "name": "stdout",
     "output_type": "stream",
     "text": [
      "[1, 2, 3, 4, 5, 6, 7, 8, 9, 10, 11, 12, 13, 14, 15]\n"
     ]
    }
   ],
   "source": [
    "print(list(range(1,16)))"
   ]
  },
  {
   "cell_type": "code",
   "execution_count": 12,
   "id": "42cbf300",
   "metadata": {},
   "outputs": [
    {
     "name": "stdout",
     "output_type": "stream",
     "text": [
      "0 Temas Selectos\n",
      "1 Temas Selectos\n",
      "2 Temas Selectos\n",
      "3 Temas Selectos\n",
      "4 Temas Selectos\n",
      "5 Temas Selectos\n",
      "6 Temas Selectos\n",
      "7 Temas Selectos\n",
      "8 Temas Selectos\n",
      "9 Temas Selectos\n",
      "10 Temas Selectos\n",
      "11 Temas Selectos\n",
      "12 Temas Selectos\n",
      "13 Temas Selectos\n",
      "14 Temas Selectos\n"
     ]
    }
   ],
   "source": [
    "# impresion con la funcion range, que ocupa (valor_inicial,valor_final,intervalo=1)\n",
    "for i in range(15):\n",
    "    print(i,'Temas Selectos')"
   ]
  },
  {
   "cell_type": "code",
   "execution_count": 13,
   "id": "c93fb4b7",
   "metadata": {},
   "outputs": [
    {
     "ename": "SyntaxError",
     "evalue": "unterminated string literal (detected at line 2) (438705860.py, line 2)",
     "output_type": "error",
     "traceback": [
      "\u001b[0;36m  Cell \u001b[0;32mIn[13], line 2\u001b[0;36m\u001b[0m\n\u001b[0;31m    print(\"Día\"+i+': medir temperatura\")\u001b[0m\n\u001b[0m                  ^\u001b[0m\n\u001b[0;31mSyntaxError\u001b[0m\u001b[0;31m:\u001b[0m unterminated string literal (detected at line 2)\n"
     ]
    }
   ],
   "source": [
    "for i in range(1, 6):\n",
    "    print(\"Día\"+i+': medir temperatura\")"
   ]
  },
  {
   "cell_type": "markdown",
   "id": "bdeed22c",
   "metadata": {},
   "source": [
    "### ¿Por qué fracasa la línea anterior?"
   ]
  },
  {
   "cell_type": "code",
   "execution_count": 14,
   "id": "fbbaf5a8",
   "metadata": {},
   "outputs": [
    {
     "name": "stdout",
     "output_type": "stream",
     "text": [
      "Día1: medir temperatura\n",
      "Día2: medir temperatura\n",
      "Día3: medir temperatura\n",
      "Día4: medir temperatura\n",
      "Día5: medir temperatura\n"
     ]
    }
   ],
   "source": [
    "for i in range(1, 6):\n",
    " #   print(type(i))\n",
    "    print(\"Día\"+str(i)+\": medir temperatura\")"
   ]
  },
  {
   "cell_type": "markdown",
   "id": "d0dc074c",
   "metadata": {},
   "source": [
    "Vamos a combinar las estructuras iterativas con las condicionales para preguntar, cuándo sí ocurre lluvia, ¿de que tamaño fue?"
   ]
  },
  {
   "cell_type": "code",
   "execution_count": 15,
   "id": "f00c5362",
   "metadata": {},
   "outputs": [
    {
     "name": "stdout",
     "output_type": "stream",
     "text": [
      "P es cero\n",
      "Registró lluvia: 1.2mm\n",
      "P es cero\n",
      "Registró lluvia: 0.5mm\n"
     ]
    }
   ],
   "source": [
    "precipitaciones = [0.0, 1.2, 0.0, 0.5]\n",
    "for p in precipitaciones:\n",
    "    if p > 0:\n",
    "        print(\"Registró lluvia: \"+str(p)+\"mm\")\n",
    "    else:\n",
    "        print('P es cero')\n"
   ]
  },
  {
   "cell_type": "markdown",
   "id": "260462cd",
   "metadata": {},
   "source": [
    "### **<font color=\"Chocolate\">Ciclo `while`</font>**\n",
    "\n",
    "El ciclo `while` repite un bloque de instrucciones **mientras** se cumpla una condición booleana. Es ideal cuando no sabemos de antemano cuántas iteraciones haremos, o cuando la repetición depende de un estado que cambia dentro del bucle.\n",
    "\n",
    "**¿Cuándo usar `while`?**  \n",
    "- Cuando la condición de parada no está ligada a una colección sino a una lógica (por ejemplo, “hasta que la medición supere X”).  \n",
    "- Para bucles de “espera” o “reintento” basados en condiciones variables.  \n",
    "\n",
    "**Sintaxis básica**  \n",
    "```python\n",
    "while condición:\n",
    "    # cuerpo del bucle\n"
   ]
  },
  {
   "cell_type": "code",
   "execution_count": 16,
   "id": "96bc75a4-b2a1-4a0d-8f5c-03d6e37dad78",
   "metadata": {},
   "outputs": [
    {
     "name": "stdout",
     "output_type": "stream",
     "text": [
      "1\n"
     ]
    }
   ],
   "source": [
    "i=1\n",
    "while i==1:\n",
    "    print(i)\n",
    "    i=i+1"
   ]
  },
  {
   "cell_type": "code",
   "execution_count": 17,
   "id": "c249dfe0-4538-4faf-aee1-9d62479bb1e4",
   "metadata": {},
   "outputs": [
    {
     "data": {
      "text/plain": [
       "15"
      ]
     },
     "execution_count": 17,
     "metadata": {},
     "output_type": "execute_result"
    }
   ],
   "source": [
    "len(range(15))"
   ]
  },
  {
   "cell_type": "code",
   "execution_count": 18,
   "id": "035b99fe",
   "metadata": {},
   "outputs": [
    {
     "name": "stdout",
     "output_type": "stream",
     "text": [
      "0\n",
      "Planeta 1 : Mercurio\n",
      "1\n",
      "Planeta 2 : Venus\n",
      "2\n",
      "Planeta 3 : Tierra\n",
      "3\n",
      "Planeta 4 : Marte\n",
      "4\n",
      "Planeta 5 : Júpiter\n"
     ]
    }
   ],
   "source": [
    "planetas = [\"Mercurio\", \"Venus\", \"Tierra\", \"Marte\", \"Júpiter\"]\n",
    "i = 0\n",
    "while i < len(planetas):\n",
    "    print(i)\n",
    "    # Imprimir cada planeta, numerado, hasta encontrar el límite de planetas\n",
    "    print(\"Planeta\", i+1, \":\", planetas[i])\n",
    "    i += 1"
   ]
  },
  {
   "cell_type": "code",
   "execution_count": 19,
   "id": "9a913551-004d-4b71-9e28-bf89e7ce5e38",
   "metadata": {},
   "outputs": [
    {
     "name": "stdout",
     "output_type": "stream",
     "text": [
      "Mercurio\n",
      "Venus\n",
      "Tierra\n",
      "Marte\n",
      "Júpiter\n"
     ]
    }
   ],
   "source": [
    "for planeta in planetas:\n",
    "    print(planeta)"
   ]
  },
  {
   "cell_type": "code",
   "execution_count": 20,
   "id": "747d3cea",
   "metadata": {},
   "outputs": [
    {
     "name": "stdout",
     "output_type": "stream",
     "text": [
      "Paso:  2\n",
      "Paso:  3\n",
      "Paso:  4\n",
      "Paso:  5\n",
      "Paso:  6\n",
      "Paso:  7\n",
      "Paso:  8\n",
      "Paso:  9\n",
      "Paso:  10\n",
      "Paso:  11\n"
     ]
    }
   ],
   "source": [
    "# Usemos un contador para saber en que paso vamos\n",
    "contador = 1\n",
    "while contador <= 10:\n",
    "    \n",
    "    contador +=1\n",
    "    print(\"Paso: \",str(contador))\n",
    "# Qué esperan que se imprima?\n",
    "# Paso: 1,2,3,4,5,6,7,8,9,10\n",
    "# Paso: 0,1,2,3,4,5,6,7,8,9\n",
    "# Paso: 10,9,8,7,6,5,4,3,2,1     "
   ]
  },
  {
   "cell_type": "code",
   "execution_count": 21,
   "id": "1e0362aa-c503-43ff-a14a-88ef94919c1b",
   "metadata": {},
   "outputs": [
    {
     "data": {
      "text/plain": [
       "11"
      ]
     },
     "execution_count": 21,
     "metadata": {},
     "output_type": "execute_result"
    }
   ],
   "source": [
    "contador"
   ]
  },
  {
   "cell_type": "code",
   "execution_count": 22,
   "id": "6aa47107",
   "metadata": {},
   "outputs": [
    {
     "name": "stdout",
     "output_type": "stream",
     "text": [
      "No hubo días con lluvia\n"
     ]
    }
   ],
   "source": [
    "precipitaciones = [0.0, 0.0, 0.0, 0.0]\n",
    "i = 0\n",
    "while i < len(precipitaciones) and precipitaciones[i] == 0.0:\n",
    "    i += 1\n",
    "\n",
    "if i < len(precipitaciones):\n",
    "    print(\"Primera lluvia en el día\", i+1, \"con\", precipitaciones[i], \"mm\")\n",
    "else:\n",
    "    print(\"No hubo días con lluvia\")\n"
   ]
  },
  {
   "cell_type": "code",
   "execution_count": 23,
   "id": "953c32e9-ff3f-4ecb-a1f5-322fdf0db366",
   "metadata": {},
   "outputs": [
    {
     "name": "stdout",
     "output_type": "stream",
     "text": [
      "4 4\n"
     ]
    }
   ],
   "source": [
    "print(i,len(precipitaciones))"
   ]
  },
  {
   "cell_type": "code",
   "execution_count": 24,
   "id": "f7f3da5d",
   "metadata": {},
   "outputs": [
    {
     "name": "stdin",
     "output_type": "stream",
     "text": [
      "Ingresa un número entre 1 y 10:  4\n"
     ]
    },
    {
     "name": "stdout",
     "output_type": "stream",
     "text": [
      "Número válido: 4\n"
     ]
    }
   ],
   "source": [
    "# Pedir un número entre 1 y 10\n",
    "numero = int(input(\"Ingresa un número entre 1 y 10: \"))\n",
    "\n",
    "# Mientras el número esté fuera de rango, volver a pedirlo\n",
    "while numero < 1 or numero > 10:\n",
    "    print(\"Número fuera de rango. Intenta de nuevo.\")\n",
    "    numero = int(input(\"Ingresa un número entre 1 y 10: \"))\n",
    "\n",
    "# Una vez válido, continuamos\n",
    "print(\"Número válido:\", numero)"
   ]
  },
  {
   "cell_type": "code",
   "execution_count": 25,
   "id": "e3bfb52b",
   "metadata": {},
   "outputs": [
    {
     "name": "stdout",
     "output_type": "stream",
     "text": [
      "Total de precipitaciones 11.5 mm\n"
     ]
    }
   ],
   "source": [
    "# encontrar los días que sí llovió y sumar esa precipitacion\n",
    "precipitaciones = [0.0, 0.0, 2.5, 0.0,4.0,0.0,0.0,5.0,0.0]\n",
    "i = 0\n",
    "suma=0\n",
    "while i < len(precipitaciones):\n",
    "    if precipitaciones[i] != 0.0:\n",
    "        suma+=precipitaciones[i]\n",
    "    i += 1\n",
    "print('Total de precipitaciones',suma,'mm')"
   ]
  },
  {
   "cell_type": "markdown",
   "id": "f42e04b2",
   "metadata": {},
   "source": [
    "1. ¿Nos queda claro el código anterior?  \n",
    "   Vamos a despedazar su funcionamiento paso a paso:\n",
    "\n",
    "    ```python\n",
    "    # encontrar los días que sí llovió y sumar esa precipitación\n",
    "    precipitaciones = [0.0, 0.0, 2.5, 0.0, 4.0, 0.0, 0.0, 5.0, 0.0]\n",
    "    i = 0\n",
    "    suma = 0\n",
    "    while i < len(precipitaciones):\n",
    "        if precipitaciones[i] != 0.0:\n",
    "            suma += precipitaciones[i]\n",
    "        i += 1\n",
    "    print('Total de precipitaciones', suma, 'mm')\n",
    "    ```\n",
    "| Paso | Variable/Línea                                  | Descripción                                                        |\n",
    "| ---- | ----------------------------------------------- | ------------------------------------------------------------------ |\n",
    "| 1    | `precipitaciones = [...]`                       | Lista de lluvia diaria en milímetros.                              |\n",
    "| 2    | `i = 0`                                         | Índice que recorre la lista, comenzando en la posición 0.          |\n",
    "| 3    | `suma = 0`                                      | Acumulador que irá sumando los valores de lluvia.                  |\n",
    "| 4    | `while i < len(precipitaciones):`               | Bucle que se repite hasta alcanzar el final de la lista.           |\n",
    "| 5    | `if precipitaciones[i] != 0.0:`                 | Comprueba si en el día actual hubo lluvia (> 0).                   |\n",
    "| 6    | `suma += precipitaciones[i]`                    | Si llovió, añade ese valor al acumulador `suma`.                   |\n",
    "| 7    | `i += 1`                                        | Incrementa el índice para pasar al siguiente día.                  |\n",
    "| 8    | `print('Total de precipitaciones', suma, 'mm')` | Muestra el total de lluvia acumulada en todos los días con lluvia. |\n"
   ]
  },
  {
   "cell_type": "code",
   "execution_count": 26,
   "id": "b39c9117",
   "metadata": {},
   "outputs": [
    {
     "name": "stdout",
     "output_type": "stream",
     "text": [
      "{'1': 1, '2': 2, '3': 3, '4': 4}\n"
     ]
    }
   ],
   "source": [
    "# Forma básica de rellenar un diccionario\n",
    "\n",
    "# Primero se hace un diccionario vacío\n",
    "tudicc = {}\n",
    "\n",
    "# Luego tenemos dos listas\n",
    "keys = [\"1\", \"2\", \"3\", \"4\"]\n",
    "values = [1,2,3,4]\n",
    "\n",
    "# Usamos un contador\n",
    "i=0;\n",
    "\n",
    "for key in keys: #iteran en la lista que quieren que sean los keys\n",
    "        tudicc[key] = values[i] # se rellena con los valores\n",
    "        i=i+1\n",
    "\n",
    "print(tudicc)\n",
    "\n",
    "# Fácil no? :)"
   ]
  },
  {
   "cell_type": "markdown",
   "id": "52c83a6d",
   "metadata": {},
   "source": [
    "<a name='ej-3'></a>\n",
    "### **<font color=\"OrangeRed\">Ejemplo – Contar días de lluvia por estación</font>**\n",
    "\n",
    "Tenemos un diccionario con estaciones y sus mediciones diarias de precipitación:\n",
    "\n",
    "```python\n",
    "precipitaciones_est = {\n",
    "    'Tacubaya':   [0.0, 1.2, 0.0, 0.5],\n",
    "    'Coyoacán':   [0.0, 0.0, 2.5, 0.0],\n",
    "    'Xochimilco': [1.0, 0.0, 0.0, 0.0]\n",
    "}\n",
    "```\n",
    "1. Con un bucle for, crea un nuevo diccionario dias_lluvia_est que asocie cada estación al número de días con lluvia (>0 mm).\n",
    "2. Con un bucle while, genera otro diccionario dias_lluvia_est2 usando índices para recorrer las listas.\n",
    "\n",
    "- Pseudocódigo (while)\n",
    "```\n",
    "dias_lluvia_est2 = {}\n",
    "PARA cada estacion EN precipitaciones_est:\n",
    "    i = 0\n",
    "    contador = 0\n",
    "    lista = precipitaciones_est[estacion]\n",
    "    MIENTRAS i < longitud(lista):\n",
    "        SI lista[i] > 0:\n",
    "            contador = contador + 1\n",
    "        i = i + 1\n",
    "    dias_lluvia_est2[estacion] = contador\n",
    "IMPRIMIR dias_lluvia_est2\n",
    "```"
   ]
  },
  {
   "cell_type": "code",
   "execution_count": 27,
   "id": "3a108534",
   "metadata": {},
   "outputs": [],
   "source": [
    "# Paso 1. Crear el diccionario. \n",
    "precipitaciones_est = {'Tacubaya':   [0.0, 1.2, 0.0, 0.5],\n",
    "    'Coyoacán':   [0.0, 0.0, 2.5, 0.0],'Xochimilco': [1.0, 0.0, 0.0, 0.0]}"
   ]
  },
  {
   "cell_type": "code",
   "execution_count": 30,
   "id": "a8c0774f-c0f8-4ed4-b794-b686633d5134",
   "metadata": {},
   "outputs": [
    {
     "data": {
      "text/plain": [
       "[0.0, 1.2, 0.0, 0.5]"
      ]
     },
     "execution_count": 30,
     "metadata": {},
     "output_type": "execute_result"
    }
   ],
   "source": [
    "precipitaciones_est['Tacubaya']"
   ]
  },
  {
   "cell_type": "code",
   "execution_count": 46,
   "id": "946a6b67-dbdf-4103-889a-454026731209",
   "metadata": {},
   "outputs": [
    {
     "name": "stdout",
     "output_type": "stream",
     "text": [
      "Tacubaya <class 'str'> [0.0, 1.2, 0.0, 0.5]\n",
      "Coyoacán <class 'str'> [0.0, 0.0, 2.5, 0.0]\n",
      "Xochimilco <class 'str'> [1.0, 0.0, 0.0, 0.0]\n",
      "4\n"
     ]
    }
   ],
   "source": [
    "# Paso 2. Podemos calcular el numero de dias con lluvia en cada estacion?\n",
    "contador=0\n",
    "for i in precipitaciones_est:\n",
    "    # iteramos sobre las llaves\n",
    "    print(i,type(i),precipitaciones_est[i])\n",
    "    lista = precipitaciones_est[i]\n",
    "    #print(lista)\n",
    "    # iteramos sobre la lista resultante\n",
    "    for p in lista:\n",
    "        if p>0:\n",
    "            contador=contador+1\n",
    "print(contador)\n",
    "            \n",
    "    #if lista[i]>0.0: "
   ]
  },
  {
   "cell_type": "code",
   "execution_count": 51,
   "id": "57547161-7c85-4af6-b2b9-ecca66864431",
   "metadata": {},
   "outputs": [
    {
     "name": "stdout",
     "output_type": "stream",
     "text": [
      "contador falso\n",
      "contador falso\n",
      "contador falso\n",
      "contador falso\n",
      "{'Tacubaya': 2, 'Coyoacán': 1, 'Xochimilco': 1}\n"
     ]
    }
   ],
   "source": [
    "dias_lluvia_est={}\n",
    "for estacion in precipitaciones_est:\n",
    "    contador=0\n",
    "    lista = precipitaciones_est[estacion]\n",
    "    # iteramos sobre la lista resultante\n",
    "    for p in lista:\n",
    "        if p>0:\n",
    "            print('contador falso')\n",
    "            contador=contador+1\n",
    "    dias_lluvia_est[estacion]=contador\n",
    "print(dias_lluvia_est)"
   ]
  },
  {
   "cell_type": "code",
   "execution_count": 42,
   "id": "ca8e8723-f6b1-4f05-98a5-6733caba7143",
   "metadata": {},
   "outputs": [],
   "source": [
    "dias_lluvia_est['Tacubaya']=2"
   ]
  },
  {
   "cell_type": "code",
   "execution_count": 43,
   "id": "f760ece1-13ed-4108-b491-8863fc50b9d4",
   "metadata": {},
   "outputs": [],
   "source": [
    "dias_lluvia_est['Xochimilco']=1"
   ]
  },
  {
   "cell_type": "code",
   "execution_count": 44,
   "id": "33209c5d-0f57-4034-a8f8-67bcff240143",
   "metadata": {},
   "outputs": [
    {
     "data": {
      "text/plain": [
       "{'Tacubaya': 2, 'Xochimilco': 1}"
      ]
     },
     "execution_count": 44,
     "metadata": {},
     "output_type": "execute_result"
    }
   ],
   "source": [
    "dias_lluvia_est"
   ]
  },
  {
   "cell_type": "markdown",
   "id": "80bd729b",
   "metadata": {},
   "source": [
    "<a name='ej-2'></a>\n",
    "### <font color=\"DodgerBlue\">Ejercicio 3 – Bucles `for` y `while`: *La lluvia no se cansa de caer* </font>\n",
    "\n",
    "1. Define una lista llamada `precipitaciones` con 7 valores de tipo `float`, algunos iguales a `0.0` y otros positivos.  \n",
    "\n",
    "2. Con un **bucle `for`**, recorre la lista e imprime el reporte diario en el siguiente formato:  \n",
    "\n",
    "\n",
    "```\n",
    "Día 1: 0.0 mm\n",
    "Día 2: 1.2 mm\n",
    "Día 3: 0.0 mm\n",
    "```\n",
    "3. Con un **bucle `while`**, recorre nuevamente la lista y cuenta cuántos días tuvieron lluvia (valor > 0).  \n",
    "- Guarda el conteo en la variable `dias_lluvia`.  \n",
    "- Al final, imprime el resultado en el formato:\n",
    "\n",
    "```\n",
    "Total de días con lluvia: X\n",
    "```"
   ]
  },
  {
   "cell_type": "code",
   "execution_count": null,
   "id": "cbc4b198",
   "metadata": {},
   "outputs": [],
   "source": []
  },
  {
   "cell_type": "markdown",
   "id": "6908ff4b",
   "metadata": {},
   "source": [
    "<a name='ej-for-while'></a>\n",
    "### **<font color=\"DodgerBlue\">Ejercicio 4— For vs While: *torneo de clase* </font>**\n",
    "\n",
    "**Contexto.** En cada unidad del curso hay ejercicios en cada clase y sesión especial con ejercicios.  \n",
    "- En cada ejercicio se asignan putnos dependiendo del equipo que termina primero. Típicamente, el primer equipo en terminar se lleva 5 puntos, y el segundo 4 puntos, y así sucesivamente.  \n",
    "- Al final de la unidad, los puntos se reinician a 0.  \n",
    "- Si tu equipo **ganó la unidad** (acumuló más puntos que los demás en esa unidad), obtienes **+1 punto extra** para la tarea/examen de esa unidad.  \n",
    "- El curso tiene `U` unidades, aunque sabemos que en realidad el curso tiene 4 unidades. El programa debe procesar **todo el curso**.\n",
    "\n",
    "**Objetivo.**  \n",
    "1) Usa **`for`** para recorrer las **unidades** y sus **sesiones** y llevar el marcador.  \n",
    "2) Usa **`while`** para controlar el **avance del curso** hasta completar todas las unidades (p. ej., índice de unidad).  \n",
    "3) Al final, imprime el **total de puntos extra** acumulados por tu equipo a lo largo del curso y un **resumen por unidad**.\n",
    "\n",
    "---\n",
    "\n",
    "El objetivo de este programa para la clase es realizar el pseudocódigo en el pizarrón o en una hoja correctamente, indicando claramente cuando se utilicen ciclos **`for`**, **`while`**, estructuras condicionales y qué variables se definen y actualizan."
   ]
  },
  {
   "cell_type": "markdown",
   "id": "d2408abe",
   "metadata": {},
   "source": [
    "##### "
   ]
  }
 ],
 "metadata": {
  "kernelspec": {
   "display_name": "Python 3 (ipykernel)",
   "language": "python",
   "name": "python3"
  },
  "language_info": {
   "codemirror_mode": {
    "name": "ipython",
    "version": 3
   },
   "file_extension": ".py",
   "mimetype": "text/x-python",
   "name": "python",
   "nbconvert_exporter": "python",
   "pygments_lexer": "ipython3",
   "version": "3.11.6"
  }
 },
 "nbformat": 4,
 "nbformat_minor": 5
}
