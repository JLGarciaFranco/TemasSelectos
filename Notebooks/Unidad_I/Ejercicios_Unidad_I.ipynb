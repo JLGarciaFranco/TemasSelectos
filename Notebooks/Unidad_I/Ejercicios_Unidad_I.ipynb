{
  "nbformat": 4,
  "nbformat_minor": 0,
  "metadata": {
    "colab": {
      "provenance": []
    },
    "kernelspec": {
      "name": "python3",
      "display_name": "Python 3"
    },
    "language_info": {
      "name": "python"
    }
  },
  "cells": [
    {
      "cell_type": "markdown",
      "source": [
        "<p align=\"center\">\n",
        "  <span style=\"color:Navy; font-size:200%; font-weight:bold; vertical-align:middle;\">\n",
        "    Temas Selectos: Python para Ciencias de la Tierra\n",
        "  </span>\n",
        "  <img src=\"attachment:LOGO_ENCIT.png\" alt=\"ENCiT\" width=\"120\" style=\"vertical-align:middle; margin-left:20px;\"/>\n",
        "</p>\n",
        "\n",
        "<p align=\"center\" style=\"line-height:1.2;\">\n",
        "  <span style=\"color:RoyalBlue; font-size:150%;\">Tema 1: Introducción</span><br/>\n",
        "  <span style=\"color:DodgerBlue; font-size:130%;\">Notebook: Ejercicios en Clase</span><br/>\n",
        "  <span style=\"font-size:100%;color:forestgreen\"> Escuela Nacional de Ciencias de la Tierra  |  Semestre 2026-I</span>\n",
        "</p>\n",
        "\n",
        "---\n",
        "\n",
        "---\n",
        "\n",
        "<a name='ej-x'></a>\n",
        "### 🌟 Ejercicio X – Los números perfectos\n",
        "\n",
        "🔹 **Definición:**  \n",
        "Un **número perfecto** es aquel que es igual a la **suma de sus divisores propios** (es decir, todos sus divisores positivos **excepto el mismo número**).  \n",
        "Ejemplo: 6 es perfecto porque sus divisores propios son 1, 2 y 3, y se cumple que:  \n",
        "\\[\n",
        "1 + 2 + 3 = 6\n",
        "\\]\n",
        "\n",
        "---\n",
        "\n",
        "#### 📌 Instrucciones\n",
        "\n",
        "1. Crea un **arreglo de NumPy** con 5 números aleatorios.  \n",
        "2. Para cada número, revisa si es perfecto:  \n",
        "   - Si lo es, imprímelo en pantalla.  \n",
        "   - Si no, imprime el mensaje:  \n",
        "     ```\n",
        "     \"Este número, como el profe, no es perfecto.\"\n",
        "     ```\n"
      ],
      "metadata": {
        "id": "ZGWiR2YiM9FR"
      }
    },
    {
      "cell_type": "markdown",
      "source": [
        "### Ejercicio – Análisis de Datos Sísmicos\n",
        "\n",
        "Como sismólogo, necesitas analizar datos de terremotos registrados en diferentes estaciones sísmicas de México. Tu tarea es organizar y procesar esta información usando diccionarios y listas.\n",
        "\n",
        "#### Instrucciones\n",
        "\n",
        "1. Crea un diccionario llamado `estaciones` donde cada clave sea el código de una estación (ej: \"CDMX01\", \"GDL02\", \"MTY03\") y cada valor contenga:\n",
        "   - `\"ubicacion\"`: nombre de la ciudad\n",
        "   - `\"latitud\"` y `\"longitud\"`: coordenadas\n",
        "   - `\"altitud\"`: elevación en metros\n",
        "\n",
        "2. Inicializa con al menos 4 estaciones sísmicas mexicanas.\n",
        "\n",
        "3. Crea un diccionario llamado `sismos` donde cada clave sea un ID de evento y contenga:\n",
        "   - `\"magnitud\"`: escala de Richter\n",
        "   - `\"profundidad\"`: en kilómetros\n",
        "   - `\"estacion\"`: código de la estación que lo detectó\n",
        "   - `\"fecha\"`: string con la fecha\n",
        "\n",
        "4. Registra al menos 7 eventos sísmicos.\n",
        "\n",
        "5. Extrae todas las magnitudes de los eventos y crea un arreglo de NumPy.\n",
        "6. Calcula la magnitud promedio, máxima y mínima.\n",
        "7. Determina cuántos sismos superan magnitud 4.0 (considerados moderados).\n",
        "\n",
        "8. Crea una lista con los IDs de sismos que ocurrieron a menos de 10 km de profundidad (sismos superficiales).\n"
      ],
      "metadata": {
        "id": "Dy51_ym1NIJN"
      }
    },
    {
      "cell_type": "markdown",
      "source": [
        "## Ejercicio - Signos Zodiacales ♋\n",
        "\n",
        "### Instrucciones:\n",
        "\n",
        "Crea un programa que:\n",
        "- Pida al usuario el día, mes y año de nacimiento\n",
        "- Pregunte al usuario si desea saber su signo zodiacal astrológico, chino, o ambos\n",
        "- De acuerdo a la respuesta, imprimirá la opción solicitada."
      ],
      "metadata": {
        "id": "nuKhfLbLftGx"
      }
    },
    {
      "cell_type": "markdown",
      "source": [
        "## Ejercicio: Ban-Tierra :\n",
        "Ahora van a crear un programa que desarroller las funciones de un banco.\n",
        "Sigue cuidadosamente las instrucciones.\n",
        "\n",
        "### Instrucciones:\n",
        "1. Imprime una bienvenida al banco\n",
        "2. Crea un diccionario cuyas claves sean los nombres de al menos 3 usuarios y que tengan asociados el dinero que tienen en su cuenta.\n",
        "3. Pide al usuario que ingrese su nombre y apellido, e imprime un saludo si son usuario (*hint*: `if nombre_completo in usuarios.keys():` ).\n",
        "4. Crea una función que contenga el menú con las opciones: conocer tu saldo y  retirar efectivo.\n",
        "5. Crea una función para retirar dinero y actualizar el saldo de la cuenta del usuario\n",
        "6. Crea una función para conocer el saldo del usuario.\n",
        "7. Usando un ciclo while, imprime el menú, pide al  usuario su respuesta, y llama a las funciones que creaste.\n",
        "\n",
        "***NOTA***: Todo el código debe estar en una misma celda de ejecución para que funcione correctamente."
      ],
      "metadata": {
        "id": "tIGE7YWTjwMZ"
      }
    }
  ]
}