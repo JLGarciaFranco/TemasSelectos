{
 "cells": [
  {
   "cell_type": "markdown",
   "id": "28ea020a-ec7b-4c24-af66-3aa593ff3522",
   "metadata": {},
   "source": [
    "## Variables, Tipos de Datos y Operadores en Python"
   ]
  },
  {
   "cell_type": "code",
   "execution_count": null,
   "id": "a5c08955-b325-46c8-a52c-bec6ae766608",
   "metadata": {},
   "outputs": [],
   "source": [
    "print(\"¡Bienvenidos a la clase de Python para Ciencias de la Tierra! :D \")"
   ]
  },
  {
   "cell_type": "markdown",
   "id": "496d14a9-8ef4-4719-894d-00f8b1344cb9",
   "metadata": {},
   "source": [
    "En python existen 4 tipos de variables diferentes:\n",
    "Enteros (int), flotantes (float), cadenas de texto (str) y boobleanos (bool).\n",
    "\n",
    "|Tipo     | Ejemplo |Aplicación                           | \n",
    "|---------|---------|-------------------------------------|\n",
    "|`int`    | 5       | número de días con lluvia           | \n",
    "|`float`  | 25.5    | Temperatura registrada              |\n",
    "|`complex`| 50+7j   | Propagación de una onda sísmica     |\n",
    "|`str`    | \"UNAM\"  | Nombre de una estación              |\n",
    "|`bool`   | True    | ¿Hubo sismo hoy?                    |     \n",
    "\n",
    "\n",
    "\n",
    "\n",
    "* Las variables tipo int y float pueden almacenar números positivos y negativos.\n",
    "* Las variables tipo srt se pueden definir con '' o \"\". Pero usar \"\" es más poderoso (pueden crear una variable del tipo texto = \"don't\").\n",
    "* Las variables tipo bool siempre empiezan con mayúsculas (True y False)"
   ]
  },
  {
   "cell_type": "markdown",
   "id": "3455c1f2-eb7d-4492-b121-fd7a1da71e02",
   "metadata": {},
   "source": [
    "### Buenas prácticas:\n",
    "#### Cuidado con los nombres de las variables:\n",
    "\n",
    "* Usar nombres fáciles y concisos.\n",
    "* Sólo usar nombres cortos (`a`, `b`, `c`) para códigos cortos.\n",
    "* Los nombres de variables compuestos deben de poder leerse de manera natural. Se recomienda que usen ya sea *\"camel case\"* (`userName`)o *\"snake case\"* (`user_name`).\n",
    "* No repetir nombres de variables.\n",
    "* No usar caracteres especiales (`$`,`&`, etc...)\n",
    "* Podemos asignar el nombre que queramos, respetando no usar las palabras reservadas de Python ni espacios, guiones o números al principio.\n",
    "  "
   ]
  },
  {
   "cell_type": "code",
   "execution_count": null,
   "id": "11f4491a-fa9e-4991-899d-d7f4d053a8b0",
   "metadata": {},
   "outputs": [],
   "source": [
    "# Válido\n",
    "_variable = 10\n",
    "vari_able = 20\n",
    "variable10 = 30\n",
    "variable = 60\n",
    "variaBle = 10"
   ]
  },
  {
   "cell_type": "code",
   "execution_count": null,
   "id": "4aaaa492-7cba-4e1e-b67e-17c9fef2dd20",
   "metadata": {},
   "outputs": [],
   "source": [
    "# No válido\n",
    "2variable = 10\n",
    "var-iable = 10\n",
    "var iable = 10"
   ]
  },
  {
   "cell_type": "markdown",
   "id": "5e41e56b-d55c-4d95-9e8a-14622d7a50b5",
   "metadata": {},
   "source": [
    "### Asignar múltiples valores:\n",
    "Se pueden asignar múltiples variables en la misma línea."
   ]
  },
  {
   "cell_type": "code",
   "execution_count": null,
   "id": "882daee0-b0a6-4569-b6a2-9214db4a125d",
   "metadata": {},
   "outputs": [],
   "source": [
    "x, y, z = 10, 20, 30"
   ]
  },
  {
   "cell_type": "markdown",
   "id": "c485725b-5d10-4fda-beb9-e0bb88962405",
   "metadata": {},
   "source": [
    "### Palabras reservadas:\n",
    "\n",
    "Python tiene un conjunto de palabras reservadas que no podemos utilizar para nombrar variables ni funciones, ya que las reserva internamente para su funcionamiento.\n",
    "\n",
    "Por ejemplo, no podemos llamar a una función `True`, y si intentamos hacerlo, tendremos un `SyntaxError`. Esto es lógico ya que Python usa internamente True para representar el tipo booleano."
   ]
  },
  {
   "cell_type": "code",
   "execution_count": null,
   "id": "9e2d7b75-d7ec-4ec3-9624-ced3c03a515e",
   "metadata": {},
   "outputs": [],
   "source": [
    "def True():\n",
    "    pass"
   ]
  },
  {
   "cell_type": "markdown",
   "id": "08fa829c-93de-4e46-84b0-e7c58f953d47",
   "metadata": {},
   "source": [
    "Para saber cuáles nombres están reservados pueden usar la siguiente librería."
   ]
  },
  {
   "cell_type": "code",
   "execution_count": null,
   "id": "3ca986df-356b-4959-a919-d8da17659a75",
   "metadata": {},
   "outputs": [],
   "source": [
    "# Aquí una lista de los nombres de variables prohibidas\n",
    "import keyword\n",
    "print(keyword.kwlist)"
   ]
  },
  {
   "cell_type": "markdown",
   "id": "01ce69d2-6b55-4bac-91f1-de6dd8a4278d",
   "metadata": {},
   "source": [
    "### Definir, obtener y convertir tipos de variables."
   ]
  },
  {
   "cell_type": "code",
   "execution_count": null,
   "id": "d6d03024-148e-4cee-b2e8-462a36265813",
   "metadata": {},
   "outputs": [],
   "source": [
    "# Ejemplo de variables\n",
    "temperatura_media = 25.5  # grados Celsius\n",
    "nombre_estacion = \"Estación Meteorológica UNAM\"\n",
    "dias_lluvia = 12\n",
    "sismo = True"
   ]
  },
  {
   "cell_type": "markdown",
   "id": "a1bf350a-ab00-4f94-a112-cbaa403993ae",
   "metadata": {},
   "source": [
    "Para saber con qué tipo de variable estamos trabajando, podemos usar la función `type()`"
   ]
  },
  {
   "cell_type": "code",
   "execution_count": null,
   "id": "82d02618-f79d-42a3-8a97-ed7980a53f28",
   "metadata": {},
   "outputs": [],
   "source": [
    "type()"
   ]
  },
  {
   "cell_type": "markdown",
   "id": "dd13732a-06b2-42f5-9782-d22fd5f3e771",
   "metadata": {},
   "source": [
    "También podemos convertir tipos variables a otros tipos usando `int(), float(), y str()`.\n",
    "\n",
    "Pero... no todas las conversiones están permitidas, por ejemplo, no pueden convertir cadenas de texto COMPLEJAS en números."
   ]
  },
  {
   "cell_type": "code",
   "execution_count": null,
   "id": "da0a421c-f1b1-4413-a3d7-a57889582b98",
   "metadata": {},
   "outputs": [],
   "source": [
    "temperatura_media_redondeada = int(temperatura_media)\n",
    "print(type(temperatura_media_redondeada))\n",
    "print(temperatura_media_redondeada)"
   ]
  },
  {
   "cell_type": "code",
   "execution_count": null,
   "id": "7f9db142-a87b-4248-8026-c260f1b24ad3",
   "metadata": {},
   "outputs": [],
   "source": [
    "# ¿Cómo se convierte de entero a flotante?\n",
    "# ¿Cómo se convierte un string en entero?\n",
    "# ¿Cómo se convierte un string en flotante?\n",
    "# ¿Cómo se convierte un string en bool?\n",
    "# ¿Cómo se convierte un bool en string?"
   ]
  },
  {
   "cell_type": "markdown",
   "id": "b30075e8-8bbf-4620-b483-b8e14a6bb1e1",
   "metadata": {},
   "source": [
    "## Python como calculadora (Operadores aritméticos)\n",
    "\n",
    "*   Suma (+)\n",
    "*   Resta (-)\n",
    "*   Multiplicación (*)\n",
    "*   División (/)\n",
    "*   Módulo (%)\n",
    "*   Exponenciación (**). También pueden usar `pow()`"
   ]
  },
  {
   "cell_type": "code",
   "execution_count": null,
   "id": "98c10275-b7c7-4e9f-937e-1bb082cc7d8e",
   "metadata": {},
   "outputs": [],
   "source": [
    "# Creen un ejemplo de cada operador aritmético "
   ]
  },
  {
   "cell_type": "markdown",
   "id": "b2f5c188-9d6a-41e0-9324-7771a192313d",
   "metadata": {},
   "source": [
    "También podemos usar algunos operadores aritméticos con cadenas de texto\n",
    "(como `+` y `*`):"
   ]
  },
  {
   "cell_type": "code",
   "execution_count": null,
   "id": "d6a606d0-fa26-4480-a9d8-64bd7ae863ab",
   "metadata": {},
   "outputs": [],
   "source": [
    "hola = \"hola\"\n",
    "bye = \"adios\"\n",
    "\n",
    "print(hola + \" , \" + bye + \" !\")\n",
    "print(hola*10)"
   ]
  },
  {
   "cell_type": "code",
   "execution_count": null,
   "id": "7d7e34dd-e054-4340-a800-c908dcd164ab",
   "metadata": {},
   "outputs": [],
   "source": [
    "# Para imprimir varias variables en un solo print:\n",
    "\n",
    "saludo = \"Buenos días\"\n",
    "temp_actual = 25.5\n",
    "\n",
    "print(f\"{saludo}, la temperatura actual es de {str(temp_actual)} grados Celcius\")\n",
    "\n",
    "print(saludo + \" \\n, la temperatura actual es de\" + str(temp_actual) + \" grados Celcius\")\n",
    "\n",
    "print(\"%s, la temperatura actual es de %f  grados Celcius\" % (saludo, temp_actual)) \n",
    "#la %s viene de String y la %f de float\n"
   ]
  },
  {
   "cell_type": "markdown",
   "id": "e8fe0e73-a63d-4416-b4e7-d430effdc074",
   "metadata": {},
   "source": [
    "## Operadores de comparación.\n",
    "\n",
    "Los siguientes se pueden usar para comparar variables (ya sean cadenas de texto, flotantes, enteros, ...)\n",
    "\n",
    "* Igualdad: `==`\n",
    "* No igualdad: `!=`\n",
    "* Mayor que: `>`\n",
    "* Menor que: `<`\n",
    "* Mayor o igual: `>=`\n",
    "* Menor o igual:  `<=`\n",
    "\n",
    "Al usarlos el resultado será un valor tipo bool (`True` , o `False`)"
   ]
  },
  {
   "cell_type": "code",
   "execution_count": null,
   "id": "d2306c60-194d-4032-b39f-c76334a3b112",
   "metadata": {},
   "outputs": [],
   "source": [
    "numero_1 = 50\n",
    "numero_2 = 51\n",
    "\n",
    "print(numero_1 == numero_2)"
   ]
  },
  {
   "cell_type": "code",
   "execution_count": null,
   "id": "fd1626c1-deb1-4620-9506-965042479909",
   "metadata": {},
   "outputs": [],
   "source": [
    "palabra_1 = \"Hola\"\n",
    "palabra_2 = \"hola\"\n",
    "\n",
    "print(palabra_1 == palabra_2)"
   ]
  },
  {
   "cell_type": "markdown",
   "id": "5ec8529e-27ef-4f2a-a5d7-724fc58a7eed",
   "metadata": {},
   "source": [
    "## Operadores de asignación\n",
    "\n",
    "Usualmente se usan para tareas recursivas:\n",
    "\n",
    "* `=`\n",
    "* `*=`\n",
    "* `/=`\n",
    "* `**=`\n",
    "* `//=`\n",
    "* `%=`\n",
    "\n",
    "Si quieres incrementar el valor de saldo con 10, puedes utilizar saldo += 10. Es el equivalente a saldo = saldo + 10, pero es mucho más corto."
   ]
  },
  {
   "cell_type": "code",
   "execution_count": null,
   "id": "75cc774d-4b14-4f19-8575-e4d5f75d73ee",
   "metadata": {},
   "outputs": [],
   "source": [
    "saldo = 100\n",
    "print(saldo)\n",
    "\n",
    "saldo += 10\n",
    "print(saldo)\n",
    "\n",
    "saldo -= 20 \n",
    "print(saldo)"
   ]
  },
  {
   "cell_type": "markdown",
   "id": "a1e9252a-212c-4986-baac-c57b8c6e056c",
   "metadata": {},
   "source": [
    "## Ejercicios \n",
    "\n",
    "Creemos un conversor de unidades de libras a kilogramos"
   ]
  },
  {
   "cell_type": "code",
   "execution_count": null,
   "id": "b7f06f8f-9220-482e-bfbc-c3a2007d016e",
   "metadata": {},
   "outputs": [],
   "source": []
  },
  {
   "cell_type": "markdown",
   "id": "eadcd7fe-7ab1-42da-b7fa-f64cb232f560",
   "metadata": {},
   "source": [
    "Ahora ustedes:\n",
    "\n",
    "1. Creen un conversor de temperatura de grados celsius a fahrenheit.\n",
    "2. Creen un programa que pregunte por la temperatura actual, luego va a comparar con un valor de referencia (26 °C), e imprimirá \"Hace calor = True \" si la temperatura es mayor que el valor de referencia y false en otro caso.\n",
    "3. Haz un programa que pida el nombre de una persona y lo muestre 100 veces, pero dejando un espacio de separación entre cada copia del nombre.\n",
    "4. Escribe un programa que pida el valor de los tres lados de un triángulo y calcule su área y su perímetro. (*Hint*: recuerden que el área *A* de un triángulo puede calcularse a partir los lados *a*,*b* y *c*, con la fórmula de Herón de Alejandría, $A = \\sqrt{s(s-a)(s-b)(s-c)}$ donde $s=\\frac{a+b+c}{2}$. "
   ]
  }
 ],
 "metadata": {
  "kernelspec": {
   "display_name": "Python 3 (ipykernel)",
   "language": "python",
   "name": "python3"
  },
  "language_info": {
   "codemirror_mode": {
    "name": "ipython",
    "version": 3
   },
   "file_extension": ".py",
   "mimetype": "text/x-python",
   "name": "python",
   "nbconvert_exporter": "python",
   "pygments_lexer": "ipython3",
   "version": "3.11.6"
  }
 },
 "nbformat": 4,
 "nbformat_minor": 5
}
