{
  "nbformat": 4,
  "nbformat_minor": 0,
  "metadata": {
    "colab": {
      "provenance": []
    },
    "kernelspec": {
      "name": "python3",
      "display_name": "Python 3"
    },
    "language_info": {
      "name": "python"
    }
  },
  "cells": [
    {
      "cell_type": "markdown",
      "source": [
        "# Examen 2\n",
        "\n",
        "Fecha de entrega: 14 de octubre, 2025 (23:59)\n",
        "\n"
      ],
      "metadata": {
        "id": "0P3g-mmRMpWk"
      }
    },
    {
      "cell_type": "markdown",
      "source": [
        "# Ozono.\n",
        "\n",
        "Realice el siguiente análisis de los datos de ozono, por estación.\n",
        "\n",
        "1. Calcule el ciclo anual de las concentraciones de ozono para 5 estaciones y grafique cada una como una línea individual en la misma gráfica. Recuerde que un ciclo es una gráfica donde se muestre en el eje x los meses (12) y en el eje y el promedio por mes. Comente si se observa el mismo ciclo en todas las estaciones.\n",
        "2. Encuentre una estación con datos faltantes a través de gráficas de series de tiempo por estación.\n",
        "3. Considere dos pares de estaciones, cuatro estaciones en total. Escoja sus estaciones basada en su cercanía, según el mapa visto en clase de la ubicación de las estaciones de monitoreo: dos estaciones cercanas y dos estaciones alejadas. Seleccione sus dataframes con los pares de estaciones.\n",
        "4. Para cada estación, calcule el promedio diario de concentración de ozono (o resamplee sus datos originales a frecuencia diaria).\n",
        "5. A partir de estos datos resampleados, calcule el coeficiente de correlación entre sus dos pares de estaciones. Conteste si las estaciones cercanas exhiben mayor correlación o no, comparado a sus estaciones lejanas. Explique sus resultados."
      ],
      "metadata": {
        "id": "WYFCeojxMBtT"
      }
    },
    {
      "cell_type": "code",
      "source": [],
      "metadata": {
        "id": "gbP2mvk0MOR3"
      },
      "execution_count": null,
      "outputs": []
    },
    {
      "cell_type": "markdown",
      "metadata": {
        "id": "2zZJZmnhlOD9"
      },
      "source": [
        "# Ejercicio 2: El PM\n",
        "\n",
        "Considere la base de datos para material particulado en el archivo [aquí](https://drive.google.com/file/d/1YuZOLynFKIwDdu_Qog96ApgqICqWQPg5/view?usp=sharing). Esta base de datos fue obtenida, procesada y limpiada a partir de los datos disponibles en:[ http://www.aire.cdmx.gob.mx/default.php](http://www.aire.cdmx.gob.mx/default.php). Utilizando esta base datos calcule,\n",
        "\n",
        "1. Las 3 estaciones con peores niveles promedio de PM2.5.\n",
        "2. El mes del año con los peores niveles promedio de PM2.5.\n",
        "\n",
        "Luego haga las siguientes gráficas:\n",
        "\n",
        "1. Gráfico de barras mostrando los niveles promedio por estación y muestre la desviación estándar de los datos de cada estación como barras de error.\n",
        "2. Gráfico de línea del ciclo anual de PM2.5. Es decir, una gráfica del promedio de PM2.5 por mes, con los meses en el eje de las \"x\" y las concentraciones promedio en el eje de las \"y\".\n",
        "3. Gráfico de bigote para la distribución de observaciones de PM2.5 correspondiente a cada año en la base de datos. Un \"bigote\" para cada año mostrando la mediana, distancia interquartil, extremos, etc., de cada año en la base de datos.\n",
        "4. Determine la tendencia lineal de las concentraciones en el período 2010-2022 y realice un ajuste polinomial como el visto en clase. ¿Existen tendencias significativas? En cualquier caso, explique sus resultados.\n",
        "\n",
        "\n"
      ]
    },
    {
      "cell_type": "code",
      "source": [],
      "metadata": {
        "id": "PC-BvST1Mp4T"
      },
      "execution_count": null,
      "outputs": []
    },
    {
      "cell_type": "markdown",
      "source": [
        "# Ejercicio 3: La SST cerca de México\n",
        "\n",
        "Utilizando la base de datos de HadSST, disponible desde el repositorio:\n",
        "\n",
        "1. Haga un recorte apropiado para encontrar los datos que se encuentren en la vecindad cercana a el  área del Golfo de México, el mar Caribe, el Golfo de California y el Pacífico Este, o la vecindad del territorio mexicano. Justifique su respuesta.\n",
        "2. Grafique una serie de tiempo de la temperatura superficial del mar promedio, considerando únicamente los datos dentro del recuadro que escogió. Su serie de tiempo debe ser en escala anual, desde 1900 hasta 2023.\n",
        "3. Realice un análisis de regresión lineal simple, considerando a la variable tiempo como el eje x de su gráfica, y obtenga los coeficientes de regresión, correlación y determinación.\n",
        "4. Realice un nuevo ajuste de regresión pero utilizando la regresión exponencial disfrazada. Determine, a través del análisis de gráficas y valores, si este ajuste exponencial es mejor o peor que el primer ajuste realizado."
      ],
      "metadata": {
        "id": "KqnAmajzMp_9"
      }
    },
    {
      "cell_type": "code",
      "source": [],
      "metadata": {
        "id": "bHu0O8ocM-6X"
      },
      "execution_count": null,
      "outputs": []
    },
    {
      "cell_type": "markdown",
      "source": [],
      "metadata": {
        "id": "SAV-7z00NGOq"
      }
    },
    {
      "cell_type": "markdown",
      "metadata": {
        "id": "7CZS9wdLdozQ"
      },
      "source": [
        "# Ejercicio 4: Plantación de árboles\n",
        "\n",
        "Utilizando la base de datos [\"trees-with-species-and-dimensions-urban-forest\"](https://drive.google.com/file/d/19i-6nwT53d0CPjDul0se9vvq7HQ7PDCO/view?usp=sharing) realicen lo siguiente:\n",
        "\n",
        "\n",
        "\n",
        "1.   Crear un histograma de frecuencias que muestre el total de árboles plantados por año en la calle y en el parque, es decir que debe de haber dos barras por cada intervalo.\n",
        "2.   Encontrar qué familias de árboles tuvieron entre 2,000 y 6,000 plantaciones totales, así como las familias que tuvieron entre 1,000 y 2,000 plantaciones totales. Escogan una familia de cada grupo y posteriormente hagan un gráfico de pastel en donde indiquen qué porcentaje fue plantado en parque y cuál en la calle, ambos gráficos deben de estar en una sola imagen.\n"
      ]
    },
    {
      "cell_type": "code",
      "source": [],
      "metadata": {
        "id": "jo_fY4STNXlL"
      },
      "execution_count": null,
      "outputs": []
    },
    {
      "cell_type": "markdown",
      "source": [
        "# Ejercicio 5: Impacto de Meteoritos\n",
        "\n",
        "Utilizando la base de datos de [\"Meteorite_Landings\"](https://drive.google.com/file/d/1mDHHOc6OI52XO3bp9qgXMyM--xM3IorY/view?usp=sharing) deberán realizar un gráfico de caja con bigotes, para hacerlo hagan lo siguiente:\n",
        "\n",
        "\n",
        "\n",
        "1.   Conviertan la masa de cada meteorito a kilogramos, posteriormente encuentren los cuartiles de esta variable.\n",
        "2.   Encuentren los meteoritos que estén por debajo del primer cuartil, dentro del rango intercuartílico por arriba del tercer cuartil.\n",
        "3. Ahora, ubiquen los años en donde hubo entre 40 y 60 impactos y escojan tres años por cada grupo.\n",
        "4. En total tendrán 9 años, hagan un gráfico de caja con bigotes utilizando esos 9 años y la masa de los meteoritos de cada uno de esos años (recuerden que debe estar en kilogramos).\n",
        "\n",
        "NOTA: la función `np.quantile()` así como `boxplot()` no funcionan si los datos que intentan utilizar tienen `NaN` por lo que tendrán que quitarlos si es que en sus datos aparecen."
      ],
      "metadata": {
        "id": "4FL80h3XNX00"
      }
    },
    {
      "cell_type": "code",
      "source": [],
      "metadata": {
        "id": "hKxx16pWemwk"
      },
      "execution_count": null,
      "outputs": []
    },
    {
      "cell_type": "markdown",
      "source": [
        "# Ejercicio 6: Variables de calidad de agua\n",
        "\n",
        "En esta ejercicio estudiarán los datos de calidad del agua de Greater Milwaukee, en Míchigan.\n",
        "Usen el archivo: `'Mil_water_samples_examen.csv'`\n",
        "\n",
        "\n",
        "Contine datos del lugar donde se tomaron las mediciones, la fehca y las concentraciones de `'BOD5'`, `'TSS'`, `'NH3'`, `'TP'`, `'Cd'`, `'Cr'`, `'Cu'`, `'Pb'`, `'Ni'`, `'Zn'` .\n",
        "- Todas las variables están en $mg/L$\n",
        "- Para más informacion sobre las variables, y para hacer la interpretación del análisis exploratorio de datos consulten: https://www.sciencedirect.com/science/article/pii/S0043135407007300\n",
        "\n",
        "\n",
        "\n",
        "\n",
        "## Actividades\n",
        "1. Suban adecuadamente el archivo.\n",
        "2. Investiguen cuáles son los umbrales de concentraciones seguras de 2 variables, con esa información creen 2 variables categóricas nuevas.\n",
        "3. Realicen la rutina de organizacion y limpieza de datos. ¿Es necesario hacer algún tratamiento extra?\n",
        "4. Realicen el análisis exploratorio de datos:\n",
        "    - Describan qué tipo de variable es cada una de las existentes (ordinaria, nominal, cualitativa, cuantitativa, discreta, contínua, ...).\n",
        "    - Obtengan las medidas de tendencia central, de dispersión y posición; y presenten un resumen estadístico.\n",
        "    - Obtengan los histogramas y boxplots para las variables contínuas\n",
        "        - ¿Cuáles son simétricas?\n",
        "        - ¿Qué tipo de sesgo tienen?\n",
        "        - ¿Qué variables tienen más valores atípicos? y ¿Qué podrían significar esos valores?\n",
        "    - Obtengan los gráficos de barras de frecuencias absolutas y relativas de las variables categóricas así como su resumen estadístico.\n",
        "        - ¿Cuáles son las categorías con mayor probabilidad de suceder?  \n",
        "5.  Obtengan los diagrámas de dispersión de todas las variables.\n",
        "    - Elijan 2 varibles y realicen una regresión para cada una de ellas (cuidado con el tipo de regresión que aplican).  "
      ],
      "metadata": {
        "id": "4yAWUqMWcfJ2"
      }
    },
    {
      "cell_type": "code",
      "source": [],
      "metadata": {
        "id": "xk-Upgvaennh"
      },
      "execution_count": null,
      "outputs": []
    },
    {
      "cell_type": "markdown",
      "source": [
        "# Ejercicio 7: Datos de estaciones meteorológicas\n",
        "\n",
        "> Objetivo: Analizar la diferencia entre dos estaciones meteorológicas y los promedios semanales de viento, precipitación y temperatura para una estación en la costa este (BUF, New York) y una en la costa oeste (LAX, California).\n",
        "\n",
        "DATOS: [WEATHER FROM USA DATA](https://corgis-edu.github.io/corgis/datasets/csv/weather/weather.csv)\n",
        "\n",
        "1. Aplicando conceptos de estadística descriptiva: Hacer un análisis descriptivo de las tres variables sin hacer distinción de su ubicación:\n",
        "- Medidas de tendencia central.\n",
        "- Medidas de dispersión\n",
        "- Repite el análisis pero considerando las medidas de tendencia y dispersión para cada estado.\n",
        "\n",
        "¿Cambian los resultados?\n",
        "\n",
        "2. Realiza una figura en la que se observen histogramas y boxplots para la variable de Temperatura promedio. Describe la distribución de la temperatura en ambas estaciones.\n",
        "    - ¿Cómo se compara el sesgo entre los diferentes estados?\n",
        "    - ¿Existen presencia de valores atípicos?\n",
        "    - ¿Corresponde el comportamiento de la posición de la media y mediana con la distribución?\n",
        "  \n",
        "  - Comparar las rachas de vientos fuertes (q1) y débiles (q3) de los datos de las estaciones a analizar. ¿Dónde existe un mayor presencia de vientos fuertes y débiles? Discute.\n"
      ],
      "metadata": {
        "id": "msu0CAYzckRu"
      }
    },
    {
      "cell_type": "code",
      "source": [],
      "metadata": {
        "id": "u3UDxsRwgB5O"
      },
      "execution_count": null,
      "outputs": []
    },
    {
      "cell_type": "markdown",
      "source": [
        "# Ejercicio 8: Emisiones Globales\n",
        "\n",
        "> Objetivo: es comparar: Las emisiones promedio de CO2 total, N2O y CH4 de 5 países diferentes ('Afghanistan', 'Brazil', 'Mexico', 'South Africa', 'Sweden').\n",
        "\n",
        "Pueden descargar los datos usando: https://corgis-edu.github.io/corgis/datasets/csv/global_emissions/global_emissions.csv\n",
        "\n",
        "La descripción de la base de datos está disponible en: https://corgis-edu.github.io/corgis/csv/global_emissions/\n",
        "\n",
        "\n",
        "Para cada país, realicen el análisis exploratorio de datos de las variables `'Emissions.Production.N2O'`, `'Emissions.Production.CH4'`, y `'Emissions.Production.CO2.Total'`\n",
        "   1. Obtengan las medidas de tendencia central, de dispersión y posición; y presenten un resumen estadístico.\n",
        "   2. Obtengan los histogramas, boxplots y diagramas de dispersión\n",
        "        - ¿Cuáles son simétricas?\n",
        "        - ¿Qué tipo de sesgo tienen?\n",
        "        - ¿Existen valores atípicos?\n",
        "        - ¿Qué pueden concluir/inferir sobre las emisiones de estos gases para cada país?"
      ],
      "metadata": {
        "id": "44R26TTSht-B"
      }
    },
    {
      "cell_type": "code",
      "source": [],
      "metadata": {
        "id": "jHEN2q90npnc"
      },
      "execution_count": null,
      "outputs": []
    },
    {
      "cell_type": "markdown",
      "source": [
        "# Ejercicio 9: Emisiones de sectores  \n",
        "Objetivo: es comparar: Las emisiones promedio de CO2 total, N2O y CH4 de 5 países diferentes ('Afghanistan', 'Brazil', 'Mexico', 'South Africa', 'Sweden').\n",
        "\n",
        "Pueden descargar los datos usando: https://corgis-edu.github.io/corgis/datasets/csv/emissions/emissions.csv\n",
        "\n",
        "La descripción de la base de datos está disponible en: https://corgis-edu.github.io/corgis/csv/emissions/\n",
        "\n",
        "Para cada sector, realicen el análisis exploratorio de datos de las variables 'Emissions.Sector.Power Industry', 'Emissions.Sector.Buildings', 'Emissions.Sector.Transport', 'Emissions.Sector.Other Industry' y  'Emissions.Sector.Other sectors'\n",
        "\n",
        "1. Obtengan las medidas de tendencia central, de dispersión y posición; y presenten un resumen estadístico.\n",
        "2. Obtengan los histogramas, boxplots y diagramas de dispersión\n",
        "  - ¿Cuáles son simétricas?\n",
        "  - ¿Qué tipo de sesgo tienen?\n",
        "  - ¿Existen valores atípicos?\n",
        "  - ¿Qué podría significar la presencia de valores atípicos?\n",
        "\n",
        "3. Repliquen el estudio, ahora analizando las variables 'Emissions.Type.CO2', 'Emissions.Type.N2O','Emissions.Type.CH4'.\n",
        "¿Cuál es el contaminante más emitido?\n"
      ],
      "metadata": {
        "id": "p-qG7_TqdTKd"
      }
    },
    {
      "cell_type": "code",
      "source": [],
      "metadata": {
        "id": "rzB0bm2rfzbr"
      },
      "execution_count": null,
      "outputs": []
    }
  ]
}