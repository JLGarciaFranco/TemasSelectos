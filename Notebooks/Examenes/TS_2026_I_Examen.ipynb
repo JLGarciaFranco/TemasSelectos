{
  "nbformat": 4,
  "nbformat_minor": 0,
  "metadata": {
    "colab": {
      "provenance": []
    },
    "kernelspec": {
      "name": "python3",
      "display_name": "Python 3"
    },
    "language_info": {
      "name": "python"
    }
  },
  "cells": [
    {
      "cell_type": "markdown",
      "source": [
        "<p align=\"center\">\n",
        "  <span style=\"color:Navy; font-size:200%; font-weight:bold; vertical-align:middle;\">\n",
        "    Temas Selectos: Python para Ciencias de la Tierra\n",
        "  </span>\n",
        "  <img src=\"attachment:LOGO_ENCIT.png\" alt=\"ENCiT\" width=\"120\" style=\"vertical-align:middle; margin-left:20px;\"/>\n",
        "</p>\n",
        "\n",
        "<p align=\"center\" style=\"line-height:1.2;\">\n",
        "  <span style=\"color:RoyalBlue; font-size:150%;\">Tema 1: Introducción</span><br/>\n",
        "  <span style=\"color:DodgerBlue; font-size:130%;\">Tarea-Examen 1</span><br/>\n",
        "  <span style=\"font-size:100%;\"> Escuela Nacional de Ciencias de la Tierra  |  Semestre 2026-I</span>\n",
        "</p>\n",
        "\n",
        "---\n",
        "\n",
        "### **Ejercicio 1**\n",
        "\n",
        "Interés Compuesto\n",
        "\n",
        "Quizás ustedes sientan que aún son muy jóvenes, pero deben de ir pensando en su fondo para el retiro. En ese camino, es probable que se encuentren con el llamado \"Interés compuesto\".\n",
        "Esta herramienta básicamente funciona así:\n",
        "\n",
        "Tú inviertes cierta cantidad de dinero, la institución te ofrecerá un interés anual es decir un porcentaje que al final de ese plazo vas a ganar, el interés compuesto consiste en reinvertir lo original más el porcentaje de ganancia y así sucecivamente. Por ejemplo\n",
        "\n",
        "\n",
        "Inviertes `$100`, con una tasa de interés de 2% anual. Es decir que para final de año vas a tener tus `$100.0` originales más `$2.0` o sea `$102.0`.\n",
        "Para generar interés compuesto, vas a invertir con la misma tasa (2% anual) pero ahora van a ser `$102.0`. Entonces al final del segundo año de inversión vas a tener `$2.4` de ganancia y así sucesivamente.\n",
        "\n",
        "Podrán pensar que es una ganancia mínima, pero si usan ya un poco de números reales por ejemplo supongamos que invierten `$5,000` a 30 años con una tasa de 11%, para el final de ese plazo van a tener `$114,461.48`. Si en vez de usar el interés compuesto hubieran seguido invirtiendo únicamente esos `$5,000` al final del plazo tendrían: `$21,500` increíble no?\n",
        "\n",
        "Su trabajo es realizar un programa que le solicite al usuario una cantidad a invertir, la tasa de interés y los años a los cuáles lo quiere invertir y debe de seguir el modelo de interés compuesto.\n",
        "\n",
        "La salida debe de dar cuál sería el capital (o sea el total) después de cada año de inversión.\n",
        "\n",
        "Nota:\n",
        "\n",
        "\n",
        "\n",
        "*   Ustedes ya deben de hacer programas más bonitos por lo que deben de hacer que tras 1 año, la palabra año esté en singular, para años posteriores debe de estar en plural\n",
        "*   Los números deben de tener únicamente dos decimales."
      ],
      "metadata": {
        "id": "kzmOVsAw2Thf"
      }
    },
    {
      "cell_type": "code",
      "source": [],
      "metadata": {
        "id": "hTjySC5k2Q8b"
      },
      "execution_count": null,
      "outputs": []
    },
    {
      "cell_type": "markdown",
      "source": [
        "### Ejercicio 2: Los números de Harshad\n",
        "\n",
        "Los números de Harshad (del sánscrito \"alegría\" y \"dar\") son números enteros positivos que son divisibles por la suma de sus dígitos.\n",
        "\n",
        "Ejemplos:\n",
        "\n",
        "    12: Sus dígitos suman 1 + 2 = 3, y 12 ÷ 3 = 4 (sin residuo) ✓\n",
        "    18: Sus dígitos suman 1 + 8 = 9, y 18 ÷ 9 = 2 (sin residuo) ✓\n",
        "    11: Sus dígitos suman 1 + 1 = 2, pero 11 ÷ 2 = 5.5 (con residuo) ✗\n",
        "\n",
        "Recordatorio en Python: Un número a es divisible por b cuando a % b == 0\n",
        "\n",
        "Escriba a grandes rasgos, en una celda Markdown, el algoritmo que utilizaría para evaluar si un número es Harshad.\n",
        "\n",
        "Luego, haga un script que primero pregunta al usuario si quiere:\n",
        "\n",
        "    Evaluar si un número específico n es Harshad\n",
        "    Encontrar todos los números Harshad desde 1 hasta n\n",
        "\n",
        "Dependiendo de la respuesta del usuario, el programa debe calcular si el número individual es Harshad, o mostrar todos los números Harshad en el rango.\n",
        "\n",
        "Al final, el programa debe imprimir:\n",
        "\n",
        "    Para un número individual: \"El número n es Harshad\" o \"El número n no es Harshad\"\n",
        "    Para un rango: Lista de números Harshad encontrados\n",
        "\n",
        "Notas:\n",
        "\n",
        "    Use \"Numpy\" para generar series de números cuando sea necesario\n",
        "    Extra (+5 puntos) si encuentra los \"Harshad primos\": números que son tanto Harshad como números primos\n",
        "\n"
      ],
      "metadata": {
        "id": "c6Y8Z2jo3wb-"
      }
    },
    {
      "cell_type": "code",
      "source": [],
      "metadata": {
        "id": "6-LGr7gICJaL"
      },
      "execution_count": null,
      "outputs": []
    },
    {
      "cell_type": "markdown",
      "source": [
        "## Ejercicio 3: Órbitas de satélites.\n",
        "\n",
        "Un satélite se encuentra en una órbita circular alrededor de la Tierra, tal que completa un círculo en $$T$$ segundos; $$T$$ es el periodo de la órbita. La altitud $$h$$ sobre la superficie de la Tierra será:\n",
        "$$ h = \\left( \\frac{GMT^{2}}{4\\pi} \\right)^{\\frac{1}{3}} - R $$\n",
        "Donde $$G$$ es la constante gravitacional y tiene un valor $$G=6.67× 10^{-11} m^{3} kg^{-1}s^{-2}$$, $$M$$ es la masa de la Tierra con un valor de $$M=5.97 \\times 10^{24} kg $$ y R es el radio de la Tierra con $$R=6371 km$$.\n",
        "\n",
        "1.\tEscribe un programa que le pregunte al usuario el periodo que desea que tenga su satélite girando alrededor de la Tierra y que le regrese la altitud, en metros, que deberá tener.\n",
        "2.\t¿Qué altitud deberá tener el satélite si queremos que orbite la Tierra con un periodo de un día (órbita geosíncrona)? ¿Qué altitud debería tener si el periodo es de 90 minutos? ¿Qué hay de un periodo de 45 minutos?\n",
        "3.\tEn práctica, una órbila geosíncrona es aquella cuya órbita tiene un periodo de un día sideral, que es de 23.93 horas, no de 24 horas. ¿Por qué es esto? ¿Cuál sería la diferencia en altitud entre T=23.93 y T=24 horas?\n",
        "4. Con tus conocimientos de Científico de la Tierra y los experimentos del punto anterior, ¿Qué podrías incluir en el código para hacerlo más aplicable? Piensa en alguna empresa que quiere poner en órbita un satélite.\n"
      ],
      "metadata": {
        "id": "Nukcw95jEuLG"
      }
    },
    {
      "cell_type": "code",
      "source": [],
      "metadata": {
        "id": "Hk9WHYYlQFgD"
      },
      "execution_count": null,
      "outputs": []
    },
    {
      "cell_type": "markdown",
      "source": [
        "##  Ejercicio 4: Clasificador de Rocas\n",
        "\n",
        "Crea un programa que permita al usuario ingresar datos de rocas (densidad, textura y dureza), almacenarlos en listas, y clasificarlos según criterios simples. El usuario podrá consultar las rocas ingresadas y ver su clasificación. Piensa este ejercicio como una herramienta para las prácticas de campo: Cada que tomas una muestra ingresas sus datos \"al sistema\", los clasificas automáticamente y los guardas para verlos después.\n",
        "\n",
        "Si lo prefieres, crea un clasificador de nubes, huracánes u otra cosa que sea su interés (siempre y cuando usen al menos 3 criterios para la clasificación).\n",
        "\n",
        "### Instrucciones\n",
        "\n",
        "1. Crea tres listas vacías: `densidades`, `dureza` , `texuras`.\n",
        "2. Crea una función  que retorne una clasificación:\n",
        "    • \tÍgnea: densidad > 2.8 y textura = \"granular\"\n",
        "    • \tSedimentaria: densidad < 2.6 y textura = \"suave\"\n",
        "    • \tMetamórfica: dureza > 7 o textura = \"laminar\"\n",
        "    • \tDesconocida: si no cumple ninguna condición\n",
        "3. Usa un bucle  para permitir al usuario ingresar múltiples rocas.\n",
        "4. Al final, muestra todas las rocas ingresadas con su clasificación.\n",
        "\n",
        "\n",
        "Extra (+5 puntos): Conviertan las listas a un arreglo de Numpy o en un DataFrame de Pandas."
      ],
      "metadata": {
        "id": "9FAZh_k_Oh8H"
      }
    },
    {
      "cell_type": "code",
      "source": [],
      "metadata": {
        "id": "0QNmFY_l4tpD"
      },
      "execution_count": null,
      "outputs": []
    },
    {
      "cell_type": "markdown",
      "source": [
        "## Ejercicio 5: Ban-Tierra :\n",
        "Ahora van a crear un programa que desarroller las funciones de un banco.\n",
        "Sigue cuidadosamente las instrucciones.\n",
        "\n",
        "### Instrucciones:\n",
        "1. Imprime una bienvenida al banco\n",
        "2. Crea un diccionario cuyas claves sean los nombres de al menos 3 usuarios y que tengan asociados el dinero que tienen en su cuenta.\n",
        "3. Pide al usuario que ingrese su nombre y apellido, e imprime un saludo si son usuario (*hint*: `if nombre_completo in usuarios.keys():` ).\n",
        "4. Crea una función que contenga el menú con las opciones: conocer tu saldo, retirar efectivo, depositar a tu cuenta y depositar a otra cuenta.\n",
        "5. Crea una función para retirar dinero y actualizar el saldo de la cuenta del usuario.\n",
        "6. Crea una función para depositar dinero y actualizar el saldo de la cuenta del usuario.\n",
        "7. Crea una función para depositar dinero a otra cuenta y actualizar el saldo de los usuarios.\n",
        "8. Crea una función para conocer el saldo del usuario.\n",
        "9. Crea una función para comprar dólares,\n",
        "10. Usando un ciclo while, imprime el menú, pide al  usuario su respuesta, y llama a las funciones que creaste.\n",
        "\n",
        "***NOTA***: Todo el código debe estar en una misma celda de ejecución para que funcione correctamente.\n",
        "\n",
        "Extra (+ 10 puntos): Incluye en el menú la opción de comprar o vender dólares y crea su respectiva función (en la cual se debe especificar el tipo de compra y venta). Considera que, en este caso, cada usuario tendrá asociado un saldo en dólares y uno en pesos mexicanos; cada uno debe actualizarse."
      ],
      "metadata": {
        "id": "FLH5DbQYCKDC"
      }
    },
    {
      "cell_type": "code",
      "source": [],
      "metadata": {
        "id": "WQoZHRK6Et0K"
      },
      "execution_count": null,
      "outputs": []
    }
  ]
}