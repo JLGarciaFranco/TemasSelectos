{
  "nbformat": 4,
  "nbformat_minor": 0,
  "metadata": {
    "colab": {
      "provenance": []
    },
    "kernelspec": {
      "name": "python3",
      "display_name": "Python 3"
    },
    "language_info": {
      "name": "python"
    }
  },
  "cells": [
    {
      "cell_type": "markdown",
      "source": [
        "# Anomalías\n",
        "\n",
        "A diferencia de muchas cosas que hemos visto hasta ahora, como tal en Python no hay una función que calcule anomalías, porque eso va a depender de nosotros (porque es básicamente una resta y ya) pero veamos cómo podemos hacer diferentes aproximaciones a las anomalías\n"
      ],
      "metadata": {
        "id": "1wWZn5aAdq1f"
      }
    },
    {
      "cell_type": "code",
      "source": [
        "# Librerías\n",
        "import pandas as pd\n",
        "import numpy as np\n",
        "import matplotlib.pyplot as plt\n",
        "\n",
        "#._._._._._._._._._._._._._._._._._._._._._._._._._._._._._._._._._._._._._._._._._._._._\n",
        "\n",
        "# Cargar los datos\n",
        "fifa = pd.read_csv('fifa_data.csv')\n",
        "#._._._._._._._._._._._._._._._._._._._._._._._._._._._._._._._._._._._._._._._._._._._._\n",
        "\n",
        "# Seleccionar los datos\n",
        "overall = fifa[['Club', 'Overall']]"
      ],
      "metadata": {
        "id": "pt8I8TLVRxXY"
      },
      "execution_count": null,
      "outputs": []
    },
    {
      "cell_type": "markdown",
      "source": [
        "Aquí es donde viene lo bueno, suponiendo que sólo tienen esas dos columnas, cómo podríamos analizar anomalías? Realmente hay muchas maneras.\n",
        "Veamos quizás la más intuitiva, comparar promedios."
      ],
      "metadata": {
        "id": "gLht42oQRr2i"
      }
    },
    {
      "cell_type": "code",
      "source": [
        "# Obtener promedio del overall\n",
        "prom_ov = np.mean(overall['Overall']).round(2) # Este es el promedio de todos los jugadores\n",
        "\n",
        "# Obtengan el promedio del club Leicester City"
      ],
      "metadata": {
        "id": "vOjVVHpnNhrx"
      },
      "execution_count": null,
      "outputs": []
    },
    {
      "cell_type": "code",
      "source": [],
      "metadata": {
        "id": "mq61gOwGgDL-"
      },
      "execution_count": null,
      "outputs": []
    },
    {
      "cell_type": "code",
      "source": [
        "# Entonces cómo sería la anomalía?\n",
        "\n",
        "anom = team1 - prom_ov # Qué indica esto? Y cómo se podría plotear?\n",
        "\n",
        "anom"
      ],
      "metadata": {
        "id": "FXh6W944gGPN"
      },
      "execution_count": null,
      "outputs": []
    },
    {
      "cell_type": "code",
      "source": [
        "x = np.arange(1)\n",
        "# Graficar\n",
        "fig, ax = plt.subplots()\n",
        "plt.scatter(x = x, y = prom_ov, color = '#88c999')\n",
        "plt.scatter(x = x, y = team1, color = 'red')\n",
        "plt.plot([0, 0], [prom_ov, team1], color = 'blue', linestyle = ':', zorder = 0)"
      ],
      "metadata": {
        "id": "Q3YEV627hxNn"
      },
      "execution_count": null,
      "outputs": []
    },
    {
      "cell_type": "markdown",
      "source": [
        "Realmente no dice mucho, como estos datos están tomados en un momento en particular entonces no podemos ver si hay alguna evolución en el tiempo. No obstante sí que podemos hacer otras cosas.\n",
        "\n",
        "Supongamos que queremos comparar no el promedio, si no los valores particulares de cada jugador comparado con el promedio global."
      ],
      "metadata": {
        "id": "g1NfdKmqjdmT"
      }
    },
    {
      "cell_type": "code",
      "source": [
        "# Cargar los datos\n",
        "fifa = pd.read_csv('fifa_data.csv')\n",
        "#._._._._._._._._._._._._._._._._._._._._._._._._._._._._._._._._._._._._._._._._._._._._\n",
        "\n",
        "# Seleccionar los datos\n",
        "overall = fifa[['Club', 'Overall']]\n",
        "\n",
        "# Obtener promedio del overall\n",
        "prom_ov = np.mean(overall['Overall']).round(2) # Este es el promedio de todos los jugadores\n",
        "\n",
        "# Ahora obtengamos un club en particular\n",
        "sevilla = overall[overall['Club'] == 'Sevilla FC']\n",
        "\n",
        "# Ahora obtengamos la anomalía pero de cada jugador\n",
        "anom_team = sevilla['Overall'] - prom_ov"
      ],
      "metadata": {
        "id": "w_Q6xVXqjyTg"
      },
      "execution_count": null,
      "outputs": []
    },
    {
      "cell_type": "code",
      "source": [
        "# Bueno ya tienen algo hecho ahora viene lo bueno, plotear\n",
        "\n",
        "x = np.arange(len(anom_team))\n",
        "# Graficar\n",
        "fig, ax = plt.subplots()\n",
        "#plt.plot(x, anom_team, color = '#88c999')\n",
        "plt.plot(x, sevilla['Overall'], color = '#88c999')\n",
        "plt.axhline(y = prom_ov, color='r', linestyle='-')"
      ],
      "metadata": {
        "colab": {
          "base_uri": "https://localhost:8080/",
          "height": 450
        },
        "id": "3MnIm1A4plDX",
        "outputId": "343a0227-c4b0-4b40-b03d-96bcbb21c8e6"
      },
      "execution_count": null,
      "outputs": [
        {
          "output_type": "execute_result",
          "data": {
            "text/plain": [
              "<matplotlib.lines.Line2D at 0x786494bc0100>"
            ]
          },
          "metadata": {},
          "execution_count": 25
        },
        {
          "output_type": "display_data",
          "data": {
            "text/plain": [
              "<Figure size 640x480 with 1 Axes>"
            ],
            "image/png": "[encoded data removed]"
          },
          "metadata": {}
        }
      ]
    },
    {
      "cell_type": "code",
      "source": [
        "# O quizás algo así?\n",
        "\n",
        "fifa2 = fifa[['Club', 'Overall', 'Name']]\n",
        "sevilla = fifa2[fifa2['Club'] == 'Sevilla FC']\n",
        "\n",
        "\n",
        "jugadores = sevilla['Name']\n",
        "cantidad = np.array(len(jugadores))\n",
        "\n",
        "fig, ax = plt.subplots()\n",
        "plt.bar(jugadores, anom_team, color = ['blue'], width = 0.7);\n",
        "plt.title('Compartamiento de jugadores del Sevilla vs el promedio ');\n",
        "plt.ylabel('Anomalía');\n",
        "plt.xticks(rotation = 90);\n",
        "#"
      ],
      "metadata": {
        "id": "OQSfIHXIrTZf"
      },
      "execution_count": null,
      "outputs": []
    },
    {
      "cell_type": "markdown",
      "source": [
        "Recuerden que lo importante es la interpretación ¿Qué significa cada barra? y ¿Qué podemos saber de cada jugador a partir de ella?"
      ],
      "metadata": {
        "id": "JWAS25CN_iAp"
      }
    },
    {
      "cell_type": "code",
      "source": [
        "# Ahora, no es mal gráfico pero ya es momento que hagan gráficos cada vez más interesantes\n",
        "# Supongamos que son entrenadores y quieren resaltar a los jugadores que estén  10 puntos\n",
        "# por arriba de la media así como los que están por debajo de la media\n"
      ],
      "metadata": {
        "id": "7xRGFh8B_ovr"
      },
      "execution_count": null,
      "outputs": []
    },
    {
      "cell_type": "markdown",
      "source": [
        "Ahora, lo interesante de las anomalías es que pueden detectar extremos de diferentes maneras. Por ejemplo, en vez de presentar el valor absoluto podrían utilizar porcentajes, de esta manera puede ser más intuitivo ver las diferencias que hay con respecto a la media."
      ],
      "metadata": {
        "id": "6jJriHRJA5QX"
      }
    },
    {
      "cell_type": "code",
      "source": [
        "# Básicamente una anomalía porcentual en vez de considerar el 0 como línea base,\n",
        "# Considera que el 100% es el 0, entonces las anomalías se van a\n",
        "# moverse alrededor de ese valor.\n",
        "\n",
        "# Entonces haríamos una regla de 3\n",
        "\n",
        "percent = (anom_team * 100) / prom_ov\n",
        "\n"
      ],
      "metadata": {
        "id": "wCPevl5qGI4D"
      },
      "execution_count": null,
      "outputs": []
    },
    {
      "cell_type": "markdown",
      "source": [
        "Bueno, es su turno :)\n",
        "\n",
        "Ahora que son expertos, hagan el siguiente ejercicio:\n"
      ],
      "metadata": {
        "id": "n17dOSSgENqF"
      }
    },
    {
      "cell_type": "code",
      "source": [
        "\n"
      ],
      "metadata": {
        "id": "eWMIqSHsGPU-"
      },
      "execution_count": null,
      "outputs": []
    },
    {
      "cell_type": "markdown",
      "source": [],
      "metadata": {
        "id": "6YfUWBYIQ_v3"
      }
    }
  ]
}