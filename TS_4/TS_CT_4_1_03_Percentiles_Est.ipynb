{
  "nbformat": 4,
  "nbformat_minor": 0,
  "metadata": {
    "colab": {
      "provenance": []
    },
    "kernelspec": {
      "name": "python3",
      "display_name": "Python 3"
    },
    "language_info": {
      "name": "python"
    }
  },
  "cells": [
    {
      "cell_type": "markdown",
      "source": [
        "# Percentiles\n",
        "\n",
        "Bien, entonces ya saben qué son los percentiles, es momento de comenzar a trabajar con datos."
      ],
      "metadata": {
        "id": "1wWZn5aAdq1f"
      }
    },
    {
      "cell_type": "code",
      "source": [
        "# Librerías\n",
        "import pandas as pd\n",
        "import numpy as np\n",
        "import matplotlib.pyplot as plt\n",
        "\n",
        "#._._._._._._._._._._._._._._._._._._._._._._._._._._._._._._._._._._._._._._._._._._._._\n",
        "\n",
        "# Cargar los datos\n",
        "titanic = pd.read_csv('titanic.csv')\n",
        "#._._._._._._._._._._._._._._._._._._._._._._._._._._._._._._._._._._._._._._._._._._._._\n",
        "\n",
        "sliced_df = titanic[['Pclass', 'Sex','Age']]"
      ],
      "metadata": {
        "id": "pt8I8TLVRxXY"
      },
      "execution_count": null,
      "outputs": []
    },
    {
      "cell_type": "markdown",
      "source": [
        "Bien, ya tenemos nuestra muestra, entonces vamos a tener que calcular dos cosas antes de obtener el Z-score"
      ],
      "metadata": {
        "id": "gLht42oQRr2i"
      }
    },
    {
      "cell_type": "code",
      "source": [
        "# Calcular los percentiles\n",
        "\n",
        "perc = np.percentile(sliced_df['Age'], [1, 5, 10, 20, 50, 80, 90, 95, 99])\n",
        "perc"
      ],
      "metadata": {
        "id": "vOjVVHpnNhrx",
        "colab": {
          "base_uri": "https://localhost:8080/"
        },
        "outputId": "ec35dc83-7b58-4628-ab5a-da44c4bb2054"
      },
      "execution_count": null,
      "outputs": [
        {
          "output_type": "execute_result",
          "data": {
            "text/plain": [
              "array([ 1.  ,  5.  , 14.8 , 19.  , 28.  , 40.4 , 49.  , 55.85, 66.  ])"
            ]
          },
          "metadata": {},
          "execution_count": 2
        }
      ]
    },
    {
      "cell_type": "markdown",
      "source": [
        "Bien ya tenemos algunos percentiles, ahora lo bueno es cómo representarlos"
      ],
      "metadata": {
        "id": "x3HHzEWUAXAW"
      }
    },
    {
      "cell_type": "code",
      "source": [
        "# Supongamos que hacemos un histograma de frecuencias de todas las edades\n",
        "\n",
        "bins = range(0, int(np.max(sliced_df['Age'])), 1);\n",
        "\n",
        "fig, ax = plt.subplots()\n",
        "plt.hist( sliced_df['Age'],bins = bins,  color = '#ea84c9');"
      ],
      "metadata": {
        "id": "FXh6W944gGPN"
      },
      "execution_count": null,
      "outputs": []
    },
    {
      "cell_type": "code",
      "source": [
        "# Ahora supongamos que lo que queremos ver es cómo están repartidas\n",
        "# basandonos en los valores de los percnetiles\n",
        "\n",
        "fig, ax = plt.subplots()\n",
        "counts, bins, patches = plt.hist( sliced_df['Age'], bins = bins);\n",
        "# Colorear las barras según la condición\n",
        "for patch, left_side, right_side in zip(patches, bins[:-1], bins[1:]):\n",
        "    bin_center = (left_side + right_side) / 2  # Calcular el centro del bin\n",
        "\n",
        "    if bin_center >= perc[-1]:\n",
        "        patch.set_facecolor('#d63226')\n",
        "    elif bin_center > perc[7]:\n",
        "        patch.set_facecolor('#f17628')\n",
        "    elif bin_center > perc[6]:\n",
        "        patch.set_facecolor('#f79858')\n",
        "    elif bin_center < perc[0]:\n",
        "        patch.set_facecolor('#020344')\n",
        "    elif bin_center < perc[1]:\n",
        "        patch.set_facecolor('#155e8d')\n",
        "    elif bin_center < perc[2]:\n",
        "        patch.set_facecolor('#28b8d5')\n",
        "    else:\n",
        "        patch.set_facecolor('#c0c4ca')\n",
        "# plt.axvline(x = perc[4], color = 'k', linestyle='--', alpha = 0.5)\n",
        "# plt.axvline(x = perc[2], color = 'k', linestyle='--', alpha = 0.5)\n",
        "# plt.axvline(x = perc[-3], color = 'k', linestyle='--', alpha = 0.5)"
      ],
      "metadata": {
        "id": "gA1FcVTH0p4b"
      },
      "execution_count": null,
      "outputs": []
    },
    {
      "cell_type": "markdown",
      "source": [
        "Al observar la distribución con los percentiles, podemos observar que quizás no se repartan como intuitivamente esperábamos.\n",
        "De esta manera podemos dividir los datos de manera objetiva.\n",
        "\n",
        "Vamos a ver otro ejemplo"
      ],
      "metadata": {
        "id": "ULYk0s2vDXDl"
      }
    },
    {
      "cell_type": "code",
      "source": [
        "# Librerías\n",
        "import pandas as pd\n",
        "import numpy as np\n",
        "import matplotlib.pyplot as plt\n",
        "\n",
        "#._._._._._._._._._._._._._._._._._._._._._._._._._._._._._._._._._._._._._._._._._._._._\n",
        "\n",
        "# Cargar los datos\n",
        "gasolina = pd.read_csv('gas_prices.csv')\n",
        "#._._._._._._._._._._._._._._._._._._._._._._._._._._._._._._._._._._._._._._._._._._._._\n",
        "\n",
        "gasolina_mxn = gasolina.copy()\n",
        "gasolina_mxn.iloc[:, 1:] = gasolina.iloc[:, 1:].mul(16).round(2)"
      ],
      "metadata": {
        "id": "ONWyhmn-DmUA"
      },
      "execution_count": null,
      "outputs": []
    },
    {
      "cell_type": "code",
      "source": [
        "# Vamos a obtener ahora los percentiles de los precios\n",
        "\n",
        "perc = np.nanpercentile(gasolina_mxn.iloc[:, 1:], [5, 10, 50, 90, 95])"
      ],
      "metadata": {
        "id": "fe0oRQ5Ny1MQ",
        "colab": {
          "base_uri": "https://localhost:8080/"
        },
        "outputId": "19febbe4-69a2-4d5c-90df-9b9d74459d05"
      },
      "execution_count": null,
      "outputs": [
        {
          "output_type": "execute_result",
          "data": {
            "text/plain": [
              "array([19.104, 23.648, 53.44 , 89.28 , 98.656])"
            ]
          },
          "metadata": {},
          "execution_count": 12
        }
      ]
    },
    {
      "cell_type": "code",
      "source": [
        "# Ahora esta es una manera de iluminar sus dataframes\n",
        "# usos tiene muchos, dependerá qué es lo que quieran lograr\n",
        "\n",
        "\n",
        "# Aquí por facilidad haremos una función que otorgue un color dependiendo de\n",
        "# si el valor que evaluamos está por encima, por debajo o en un rango del percentil\n",
        "\n",
        "def color_fondo(value, column, perc):\n",
        "    if value <= perc[0]:\n",
        "        color = '#216869'\n",
        "    elif (value > perc[0]) & (value <= perc[1]):\n",
        "        color = '#49a078'\n",
        "    elif (value >= perc[4]) & (value < 200):\n",
        "        color = '#81171b'\n",
        "    elif (value > perc[3]) & (value <= perc[4]):\n",
        "        color = '#c75146'\n",
        "    else:\n",
        "        color = ''\n",
        "    return f'background-color: {color}'\n",
        "\n",
        "\n",
        "# Aquí lo que hacemos es cambiar el estilo del dataframe\n",
        "# Aplicando una función lambda\n",
        "(gasolina_mxn.style\n",
        " .apply(lambda x: x.apply(color_fondo, column = x.name, perc = perc), axis = 0)\n",
        " .format(precision=2)\n",
        ")#.to_excel(\"Df_estilos.xlsx\")\n"
      ],
      "metadata": {
        "id": "i93zYzykzaS8"
      },
      "execution_count": null,
      "outputs": []
    },
    {
      "cell_type": "code",
      "source": [
        "# Las funciones lambda son similares a las funciones normales pero escritas de manera diferente\n",
        "\n",
        "# Función para sumar\n",
        "def suma(x,y):\n",
        "    return(x + y)\n",
        "\n",
        "# Función para sumar con lambda\n",
        "lambda x,y : x + y\n",
        "# Y se guardan así\n",
        "suma_dos = lambda x,y : x + y"
      ],
      "metadata": {
        "colab": {
          "base_uri": "https://localhost:8080/"
        },
        "id": "2Um1bDF3vB79",
        "outputId": "682aa7c8-35ca-4dd3-ec43-672844990e67"
      },
      "execution_count": null,
      "outputs": [
        {
          "output_type": "execute_result",
          "data": {
            "text/plain": [
              "4"
            ]
          },
          "metadata": {},
          "execution_count": 25
        }
      ]
    },
    {
      "cell_type": "code",
      "source": [
        "# Supongamos que queremos analizar un sólo país i.e. Mexico\n",
        "\n",
        "# Calculemos algunos percentiles\n",
        "mex_q = np.quantile(gasolina_mxn['Mexico'], [0.20, 0.50, 0.80]) # 23.6, 28.64, 35.36\n",
        "\n",
        "\n",
        "# Ajustar la función para que sólo adctúe sobre la columna de México\n",
        "\n",
        "def color_fondo_mx(value, column, perc):\n",
        "  if column == 'Mexico':\n",
        "    if value <= perc[0]:\n",
        "        color = '#216869'\n",
        "    elif (value > perc[0]) & (value <= perc[1]):\n",
        "        color = '#49a078'\n",
        "    elif (value >= perc[2]) :\n",
        "        color = '#81171b'\n",
        "    elif (value > perc[1]) & (value <= perc[2]):\n",
        "        color = '#c75146'\n",
        "    else:\n",
        "        color = ''\n",
        "  else:\n",
        "    color = ''\n",
        "  return f'background-color: {color}'\n",
        "\n",
        "\n",
        "# Y aquí aplicamos el estilo\n",
        "(gasolina_mxn.style\n",
        " .apply(lambda x: x.apply(color_fondo_mx, column = x.name, perc = mex_q), axis = 0)\n",
        " .format(precision=2)\n",
        ")#.to_excel(\"Df_estilos.xlsx\")"
      ],
      "metadata": {
        "id": "iXTr-emHxmY9"
      },
      "execution_count": null,
      "outputs": []
    },
    {
      "cell_type": "markdown",
      "source": [
        "Muy bien, su turno\n"
      ],
      "metadata": {
        "id": "I9eL7yo6zOlN"
      }
    },
    {
      "cell_type": "code",
      "source": [
        "# Encuentren los percentiles 5, 15, 85 y 95 de 5 países los que ustedes quieran (el percentil debe de ser de cada país no de todos)\n",
        "\n",
        "# Iluminen el dataframe de tal manera que:\n",
        "# Verde claro: por debajo del P5\n",
        "# Amarillo: entre el P5 y P15\n",
        "# Naranja: entre el P85 y P95\n",
        "# Rojo: arriba del P95\n"
      ],
      "metadata": {
        "id": "EZDfU95DzNjG"
      },
      "execution_count": null,
      "outputs": []
    },
    {
      "cell_type": "code",
      "source": [],
      "metadata": {
        "id": "GfNHybiSzdyv"
      },
      "execution_count": null,
      "outputs": []
    },
    {
      "cell_type": "markdown",
      "source": [
        "Un último análisis que podemos hacerle a nuestros datos"
      ],
      "metadata": {
        "id": "TDH4pVv_6DT0"
      }
    },
    {
      "cell_type": "code",
      "source": [],
      "metadata": {
        "id": "twq1JhT15_Tx"
      },
      "execution_count": null,
      "outputs": []
    },
    {
      "cell_type": "markdown",
      "source": [],
      "metadata": {
        "id": "HdUSdv4vAGZk"
      }
    },
    {
      "cell_type": "code",
      "source": [
        "\n"
      ],
      "metadata": {
        "id": "eKJKaxsK7uvL"
      },
      "execution_count": null,
      "outputs": []
    },
    {
      "cell_type": "code",
      "source": [],
      "metadata": {
        "id": "ygJ5b_kM7r9y"
      },
      "execution_count": null,
      "outputs": []
    },
    {
      "cell_type": "code",
      "source": [
        "\n",
        "\n",
        "\n",
        "\n"
      ],
      "metadata": {
        "id": "0NL4890Mfhhe"
      },
      "execution_count": null,
      "outputs": []
    },
    {
      "cell_type": "code",
      "source": [],
      "metadata": {
        "id": "Gh6jbDbhD94U"
      },
      "execution_count": null,
      "outputs": []
    },
    {
      "cell_type": "code",
      "source": [],
      "metadata": {
        "id": "h_DmvTy9etIL"
      },
      "execution_count": null,
      "outputs": []
    },
    {
      "cell_type": "markdown",
      "source": [],
      "metadata": {
        "id": "6YfUWBYIQ_v3"
      }
    }
  ]
}