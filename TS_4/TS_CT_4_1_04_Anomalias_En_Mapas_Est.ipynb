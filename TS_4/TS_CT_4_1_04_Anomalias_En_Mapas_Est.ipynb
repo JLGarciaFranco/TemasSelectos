{
  "nbformat": 4,
  "nbformat_minor": 0,
  "metadata": {
    "colab": {
      "provenance": []
    },
    "kernelspec": {
      "name": "python3",
      "display_name": "Python 3"
    },
    "language_info": {
      "name": "python"
    }
  },
  "cells": [
    {
      "cell_type": "markdown",
      "source": [
        "# Anomalías en Mapas\n",
        "\n",
        "Hasta ahora hemos visto diferentes maneras de ver anomalías, pero digamos que son puntuales, es decir una serie de tiempo única.\n",
        "\n",
        "Es momento de que comencemos a trabajar con anomalías en matrices, y así, poder hacer representaciones en mapas."
      ],
      "metadata": {
        "id": "1wWZn5aAdq1f"
      }
    },
    {
      "cell_type": "code",
      "source": [
        "pip install netCDF4"
      ],
      "metadata": {
        "id": "NHSXrNQ8Eo-d",
        "colab": {
          "base_uri": "https://localhost:8080/"
        },
        "outputId": "e286e9fd-42e9-46e4-fe6f-aec2acb4ac29"
      },
      "execution_count": null,
      "outputs": [
        {
          "output_type": "stream",
          "name": "stdout",
          "text": [
            "Requirement already satisfied: netCDF4 in /usr/local/lib/python3.10/dist-packages (1.6.5)\n",
            "Requirement already satisfied: cftime in /usr/local/lib/python3.10/dist-packages (from netCDF4) (1.6.3)\n",
            "Requirement already satisfied: certifi in /usr/local/lib/python3.10/dist-packages (from netCDF4) (2024.2.2)\n",
            "Requirement already satisfied: numpy in /usr/local/lib/python3.10/dist-packages (from netCDF4) (1.25.2)\n"
          ]
        }
      ]
    },
    {
      "cell_type": "code",
      "source": [
        "pip install cartopy"
      ],
      "metadata": {
        "colab": {
          "base_uri": "https://localhost:8080/"
        },
        "id": "-zzM1MF6Duj6",
        "outputId": "c4b80a70-412c-4a80-a9be-79979e3cca89"
      },
      "execution_count": null,
      "outputs": [
        {
          "output_type": "stream",
          "name": "stdout",
          "text": [
            "Requirement already satisfied: cartopy in /usr/local/lib/python3.10/dist-packages (0.23.0)\n",
            "Requirement already satisfied: numpy>=1.21 in /usr/local/lib/python3.10/dist-packages (from cartopy) (1.25.2)\n",
            "Requirement already satisfied: matplotlib>=3.5 in /usr/local/lib/python3.10/dist-packages (from cartopy) (3.7.1)\n",
            "Requirement already satisfied: shapely>=1.7 in /usr/local/lib/python3.10/dist-packages (from cartopy) (2.0.4)\n",
            "Requirement already satisfied: packaging>=20 in /usr/local/lib/python3.10/dist-packages (from cartopy) (24.0)\n",
            "Requirement already satisfied: pyshp>=2.3 in /usr/local/lib/python3.10/dist-packages (from cartopy) (2.3.1)\n",
            "Requirement already satisfied: pyproj>=3.3.1 in /usr/local/lib/python3.10/dist-packages (from cartopy) (3.6.1)\n",
            "Requirement already satisfied: contourpy>=1.0.1 in /usr/local/lib/python3.10/dist-packages (from matplotlib>=3.5->cartopy) (1.2.1)\n",
            "Requirement already satisfied: cycler>=0.10 in /usr/local/lib/python3.10/dist-packages (from matplotlib>=3.5->cartopy) (0.12.1)\n",
            "Requirement already satisfied: fonttools>=4.22.0 in /usr/local/lib/python3.10/dist-packages (from matplotlib>=3.5->cartopy) (4.51.0)\n",
            "Requirement already satisfied: kiwisolver>=1.0.1 in /usr/local/lib/python3.10/dist-packages (from matplotlib>=3.5->cartopy) (1.4.5)\n",
            "Requirement already satisfied: pillow>=6.2.0 in /usr/local/lib/python3.10/dist-packages (from matplotlib>=3.5->cartopy) (9.4.0)\n",
            "Requirement already satisfied: pyparsing>=2.3.1 in /usr/local/lib/python3.10/dist-packages (from matplotlib>=3.5->cartopy) (3.1.2)\n",
            "Requirement already satisfied: python-dateutil>=2.7 in /usr/local/lib/python3.10/dist-packages (from matplotlib>=3.5->cartopy) (2.8.2)\n",
            "Requirement already satisfied: certifi in /usr/local/lib/python3.10/dist-packages (from pyproj>=3.3.1->cartopy) (2024.2.2)\n",
            "Requirement already satisfied: six>=1.5 in /usr/local/lib/python3.10/dist-packages (from python-dateutil>=2.7->matplotlib>=3.5->cartopy) (1.16.0)\n"
          ]
        }
      ]
    },
    {
      "cell_type": "code",
      "source": [
        "# Librerías\n",
        "import matplotlib.pyplot as plt\n",
        "import xarray as xr\n",
        "import numpy as np\n",
        "import pandas as pd\n",
        "import cartopy.crs as ccrs\n",
        "import cartopy.feature as cfeature\n",
        "import netCDF4\n",
        "from netCDF4 import num2date\n",
        "import datetime\n",
        "import matplotlib as mpl\n"
      ],
      "metadata": {
        "id": "pt8I8TLVRxXY"
      },
      "execution_count": null,
      "outputs": []
    },
    {
      "cell_type": "markdown",
      "source": [
        "Si se dan cuenta, hay una librería que les mencionaron pero no la hemos explorado, se llama netCDF4 y así como xarray, sirve para manipular archivos netCDF.\n",
        "\n",
        "Ahora usaremos un poco netCDF4 para qué vean cómo se usa pero, y de acuerdo con ChatGPT:  \"*si solo necesitas leer o manipular archivos netCDF a un nivel muy básico o con un control muy detallado, netCDF4 puede ser adecuado. Pero si estás realizando análisis complejos y trabajas regularmente con datos multidimensionales, xarray ofrece una interfaz más rica y fácil de usar que puede mejorar significativamente la eficiencia y claridad de tu código*.\"\n",
        "\n",
        "Utilicen la librería con la que se sientan más cómod@s."
      ],
      "metadata": {
        "id": "aAghaykFD4UK"
      }
    },
    {
      "cell_type": "code",
      "source": [
        "# *.*.*.*.*.*.*.*.*.*.*.*.*.*.*.*.*.*.*.*.*.*.*.*.*.*.*.*.*.*.*.*.*.*.*.*.*.*.*.*.*.*.*.*.*.*.*.\n",
        "\n",
        "# Leer los datos\n",
        "\n",
        "# Por comodidad a mi me gusta poner la ruta aparte y luego cargar los datos pero como ustedes gusten\n",
        "\n",
        "ruta = '/content/Mexico_ppt.nc'\n",
        "dataset  = netCDF4.Dataset(ruta) # Aqui se lee el archivo con la librería netCDF4\n",
        "# Y es en esa variable donde vamos a poder la información del netCDF\n",
        "\n",
        "# De preferencia lean sus datos de esta manera y les diré por qué\n",
        "times = num2date(dataset.variables['time'][:], dataset.variables['time'].units, calendar = 'standard')\n",
        "\n",
        "# Así es como se leen las variables con esta librería\n",
        "lon = dataset.variables['longitude'][:]\n",
        "lat = dataset.variables['latitude'][:]\n",
        "data = dataset.variables['tp'][:,:,:] # Analicemos esto\n",
        "\n",
        "\n",
        "# Tenemos que convertir nuestros datos\n",
        "data = (30.436875*1000)*data\n",
        "\n",
        "# Recomendación: Hagan un plot rápido para ver sus datos\n",
        "plt.contourf(data[5,:,:]);plt.colorbar()\n"
      ],
      "metadata": {
        "id": "dyC5Pv2GEAkO"
      },
      "execution_count": null,
      "outputs": []
    },
    {
      "cell_type": "code",
      "source": [
        "# Si se dan cuenta, hay algo extraño, entonces hay que enderezar los datos\n",
        "plt.contourf(np.flipud(data[5,:,:]));plt.colorbar()"
      ],
      "metadata": {
        "id": "3Ry_6Wh-Hnam"
      },
      "execution_count": null,
      "outputs": []
    },
    {
      "cell_type": "markdown",
      "source": [
        "Afortunadamente con Cartopy no hay que mover nada de nuestros datos. Pero hay otras librerías como Basepam que sí tienen que tener esto en cuenta."
      ],
      "metadata": {
        "id": "i6QgQa0kHxYO"
      }
    },
    {
      "cell_type": "code",
      "source": [
        "# Vamos a obtener nuestra primer anomalía\n",
        "# Pero qué necesitamos? Necesitamos el valor de referencia y un valor\n",
        "# que queremos ver si es anómalo o no\n",
        "\n",
        "# El periodo de referencia que vamos a tomar va a ser 1991 - 2001\n",
        "# Tenemos que seleccionar los datos que corresponden a ese rango de fechas\n",
        "\n",
        "date1 = datetime.datetime(1990,1,1,0,0)\n",
        "date2 = datetime.datetime(2001,12,1,0,0)\n",
        "\n",
        "\n"
      ],
      "metadata": {
        "id": "aXo2C2UQH26u"
      },
      "execution_count": null,
      "outputs": []
    },
    {
      "cell_type": "code",
      "source": [
        "# Muy bien entonces, tenemos un array con todos los meses de todos los años desde\n",
        "# 1990 a 2001.\n",
        "# Ahora hay que tomar nuestro valor de referencia o sea el promedio\n",
        "\n",
        "base = np.mean(historic_data, axis = 0)\n",
        "\n",
        "# Esto va a dar una matriz"
      ],
      "metadata": {
        "id": "-jS_VQq4ImRv"
      },
      "execution_count": null,
      "outputs": []
    },
    {
      "cell_type": "code",
      "source": [
        "# Ahora hay que buscar qué queremos comparar supongamos que queremos analizar el\n",
        "# año 2020\n",
        "\n",
        "date1 = datetime.datetime(2020,1,1,0,0)\n",
        "date2 = datetime.datetime(2020,12,1,0,0)\n",
        "\n",
        "ind_act = []\n",
        "for idx, month in enumerate(times):\n",
        "    if (month >= date1 and month <= date2):\n",
        "        ind_act.append(idx)\n",
        "\n",
        "\n",
        "act_yr = data[ind_act, :, :]\n"
      ],
      "metadata": {
        "colab": {
          "base_uri": "https://localhost:8080/"
        },
        "id": "tZdZWyoXIx0r",
        "outputId": "3f5c53a5-33b6-47bc-fe13-5f4f5f816e31"
      },
      "execution_count": null,
      "outputs": [
        {
          "output_type": "execute_result",
          "data": {
            "text/plain": [
              "(12, 231, 351)"
            ]
          },
          "metadata": {},
          "execution_count": 20
        }
      ]
    },
    {
      "cell_type": "code",
      "source": [
        "# Ahora hay que tomar el promedio anual\n",
        "\n",
        "prom_act = np.mean(act_yr, axis = 0)\n",
        "\n",
        "# Ya que tenemos matrices del mismo tamaño entonces sí se puede\n",
        "# obtener la anomalía\n",
        "\n",
        "\n",
        "anom = prom_act - base"
      ],
      "metadata": {
        "id": "oZKbf101JAUN"
      },
      "execution_count": null,
      "outputs": []
    },
    {
      "cell_type": "code",
      "source": [
        "# Entonces vamos a plotear usando cartopy\n",
        "\n",
        "fig = plt.figure(figsize=(10,10))\n",
        "ax = fig.add_subplot(2, 1, 1, projection=ccrs.PlateCarree())\n",
        "ax.set_extent([-118,-83, 11, 33], crs=ccrs.PlateCarree())\n",
        "ax.coastlines()\n",
        "ax.gridlines(draw_labels = True, dms = True, x_inline = False, y_inline = False, color = 'gray', alpha = 0.5, linestyle='--')\n",
        "cs = ax.contourf(lon, lat, anom, levels = np.arange(np.min(anom), np.max(anom), 10), cmap = 'RdBu', transform=ccrs.PlateCarree())\n",
        "plt.colorbar(cs, pad = 0.1, label = '[mm]')\n",
        "plt.title('Anomalía de precipitación del Año: 2020', fontsize = 14)"
      ],
      "metadata": {
        "id": "kxncJaOyJQUr"
      },
      "execution_count": null,
      "outputs": []
    },
    {
      "cell_type": "code",
      "source": [
        "# Pueden también hacer sus propias barras de color\n",
        "\n",
        "bounds = [-100,-80,-50,-40,-20,-10,0,10,20,30,40,60,70,90,100]\n",
        "colors = ['#372001','#8C510B','#BF812E','#DFC27E','#F6E8C3','#F5F5F5','#C7EAE4','#80CEC1','#369790','#01665E','#003C30','#92C6DE','#2165AC','#063062']\n",
        "\n",
        "# crear la rampa en donde a partir del cero los colores divergen\n",
        "my_map = mpl.colors.ListedColormap(colors)\n",
        "norm = mpl.colors.BoundaryNorm(bounds, my_map.N)\n",
        "\n",
        "fig = plt.figure(figsize=(10,10))\n",
        "ax = fig.add_subplot(2, 1, 1, projection=ccrs.PlateCarree())\n",
        "# Extención del mapa\n",
        "ax.set_extent([-118,-83, 11, 33], crs=ccrs.PlateCarree())\n",
        "ax.coastlines()\n",
        "ax.gridlines(draw_labels = True, dms = True, x_inline = False, y_inline = False, color = 'gray', alpha = 0.5, linestyle='--')\n",
        "cs = ax.contourf(lon, lat, anom, levels = bounds, cmap = my_map, norm = norm,  transform=ccrs.PlateCarree())\n",
        "plt.colorbar(cs, pad = 0.1, label = '[mm]')\n",
        "plt.title('Anomalía de precipitación del Año: 2020', fontsize = 14)\n"
      ],
      "metadata": {
        "id": "nx67r6p8J5iQ"
      },
      "execution_count": null,
      "outputs": []
    },
    {
      "cell_type": "code",
      "source": [
        "# Muy bien, ahora hagámos una anomalía porcentual\n",
        "\n",
        "percent = (anom * 100) / base\n",
        "\n",
        "bounds = [-1000.0, -75.0, -50.0, -25, -15.0, 15.0, 25.0, 50.0, 75.0, 1000.0]\n",
        "colors = ['#786D40','#9E8F54','#B0A46A','#C1B689','#FFFFF2','#B5FAAA','#78F573','#38D23C','#0EA00F']\n",
        "\n",
        "# crear la rampa\n",
        "my_map = mpl.colors.ListedColormap(colors)\n",
        "norm = mpl.colors.BoundaryNorm(bounds, my_map.N)\n",
        "\n",
        "fig = plt.figure(figsize=(10,10))\n",
        "ax = fig.add_subplot(2, 1, 1, projection=ccrs.PlateCarree())\n",
        "ax.set_extent([-118,-83, 11, 33], crs=ccrs.PlateCarree())\n",
        "ax.coastlines()\n",
        "ax.gridlines(draw_labels = True, dms = True, x_inline = False, y_inline = False, color = 'gray', alpha = 0.5, linestyle='--')\n",
        "cs = ax.contourf(lon, lat, percent, levels = bounds, cmap = my_map, norm = norm,  transform=ccrs.PlateCarree())\n",
        "plt.colorbar(cs, pad = 0.1, label = '[%]')\n",
        "plt.title('Anomalía de precipitación del Año: 2020', fontsize = 14)\n"
      ],
      "metadata": {
        "id": "vDOTzofWKJi5"
      },
      "execution_count": null,
      "outputs": []
    },
    {
      "cell_type": "code",
      "source": [
        "# Y finalmente la anomalía estandarizada\n",
        "\n",
        "# lo único que nos falta es la desviación estándar y se obtiene exactamente igual\n",
        "\n",
        "std = np.std(base)\n",
        "\n",
        "# Y la calculamos\n",
        "anom_std = (prom_act - base) / std\n",
        "\n",
        "colors = ['#bc4749','#f19e18','#f2e8cf','#a7c957','#6a994e','#386641']\n",
        "bounds = [-2.0, -1.0, -0.5, 0.5, 1, 2]\n",
        "\n",
        "# rampa\n",
        "my_map = mpl.colors.ListedColormap(colors)\n",
        "norm = mpl.colors.BoundaryNorm(bounds, my_map.N)\n",
        "\n",
        "fig = plt.figure(figsize=(10,10))\n",
        "ax = fig.add_subplot(2, 1, 1, projection=ccrs.PlateCarree())\n",
        "# Extención del mapa\n",
        "ax.set_extent([-118,-83, 11, 33], crs=ccrs.PlateCarree())\n",
        "ax.coastlines()\n",
        "ax.gridlines(draw_labels = True, dms = True, x_inline = False, y_inline = False, color = 'gray', alpha = 0.5, linestyle='--')\n",
        "cs = ax.contourf(lon, lat, anom_std, levels = bounds, cmap = my_map, norm = norm,  transform=ccrs.PlateCarree())\n",
        "plt.colorbar(cs, pad = 0.1, label = 'D.E.')\n",
        "plt.title('Anomalía de precipitación del Año: 2020', fontsize = 14)"
      ],
      "metadata": {
        "id": "ixZzXEoyKb1K"
      },
      "execution_count": null,
      "outputs": []
    },
    {
      "cell_type": "code",
      "source": [
        "# Y finalmente la anomalía estandarizada\n",
        "#\n",
        "# lo único que nos falta es la desviación estándar y se obtiene exactamente igual\n",
        "\n",
        "std = np.std(base)\n",
        "\n",
        "# Y la calculamos\n",
        "anom_std = (prom_act - base) / std\n",
        "\n",
        "\n",
        "colors = ['#bc4749','#f19e18','#f2e8cf','#a7c957','#6a994e','#386641']\n",
        "bounds = [-2.0, -1.0, -0.5, 0.5, 1, 2]\n",
        "\n",
        "# create cmap\n",
        "my_map = mpl.colors.ListedColormap(colors)\n",
        "norm = mpl.colors.BoundaryNorm(bounds, my_map.N)\n",
        "\n",
        "fig = plt.figure(figsize=(10,10))\n",
        "ax = fig.add_subplot(2, 1, 1, projection=ccrs.PlateCarree())\n",
        "# Extención del mapa\n",
        "ax.set_extent([-118,-83, 11, 33], crs=ccrs.PlateCarree())\n",
        "ax.coastlines()\n",
        "ax.gridlines(draw_labels = True, dms = True, x_inline = False, y_inline = False, color = 'gray', alpha = 0.5, linestyle='--')\n",
        "cs = ax.contourf(lon, lat, anom_std, levels = bounds, cmap = my_map, norm = norm,  transform=ccrs.PlateCarree())\n",
        "plt.colorbar(cs, pad = 0.1, label = 'D.E.')\n",
        "plt.title('Anomalía de precipitación del Año: 2020', fontsize = 14)\n"
      ],
      "metadata": {
        "id": "tgsjnBlCKzMs"
      },
      "execution_count": null,
      "outputs": []
    },
    {
      "cell_type": "markdown",
      "source": [
        "Ahora ¿Cómo sería con xarray?"
      ],
      "metadata": {
        "id": "9de94Nh3LHkV"
      }
    },
    {
      "cell_type": "code",
      "source": [
        "# Importar librerías\n",
        "import matplotlib.pyplot as plt\n",
        "import xarray as xr\n",
        "import numpy as np\n",
        "import pandas as pd\n",
        "import cartopy.crs as ccrs\n",
        "import cartopy.feature as cfeature\n",
        "import netCDF4\n",
        "from netCDF4 import num2date\n",
        "import datetime\n",
        "import matplotlib as mpl"
      ],
      "metadata": {
        "id": "5GLBRKA-LKmQ"
      },
      "execution_count": null,
      "outputs": []
    },
    {
      "cell_type": "code",
      "source": [
        "# Abrir los datos\n",
        "ruta = '/content/Mexico_ppt.nc'\n",
        "ds = xr.open_dataset(ruta)\n",
        "\n",
        "# Seleccionar longitud y latitud\n",
        "lats = ds.latitude\n",
        "lons = ds.longitude\n",
        "\n",
        "# Seleccionar la variable\n",
        "tp = ds['tp']\n",
        "tp_mm = tp * (30.436875*1000) # convertir los datos\n",
        "\n",
        "# Vamos a seleccionar el periodo base\n",
        "tp_base = tp_mm[(tp_mm.time.dt.year > 1990) & (tp_mm.time.dt.year < 2001)]\n",
        "\n",
        "# Ahora obtengamos el promedio\n",
        "tp_mean = tp_base.mean('time')\n",
        "\n",
        "# Ahora vamos a tomar el año 2020\n",
        "tp_actual_yr = tp_mm[(tp_mm.time.dt.year == 2020)]\n",
        "\n",
        "# Y ahora el promedio\n",
        "yr_prom = tp_actual_yr.mean('time')\n",
        "\n",
        "\n",
        "# Obtenemos la anomalia\n",
        "anom = yr_prom - tp_mean\n",
        "\n",
        "\n",
        "# Y listo, sólo queda plotear"
      ],
      "metadata": {
        "id": "T4EmUdkEMAdq"
      },
      "execution_count": null,
      "outputs": []
    },
    {
      "cell_type": "code",
      "source": [
        "# Limites\n",
        "bounds = [-100,-80,-50,-40,-20,-10,0,10,20,30,40,60,70,90,100]\n",
        "colors = ['#372001','#8C510B','#BF812E','#DFC27E','#F6E8C3','#F5F5F5','#C7EAE4','#80CEC1','#369790','#01665E','#003C30','#92C6DE','#2165AC','#063062']\n",
        "\n",
        "# Rampa\n",
        "my_map = mpl.colors.ListedColormap(colors)\n",
        "norm = mpl.colors.BoundaryNorm(bounds, my_map.N)\n",
        "\n",
        "fig = plt.figure(figsize=(10,10))\n",
        "ax = fig.add_subplot(2, 1, 1, projection=ccrs.PlateCarree())\n",
        "ax.set_extent([-118,-83, 11, 33], crs=ccrs.PlateCarree())\n",
        "ax.coastlines()\n",
        "ax.gridlines(draw_labels = True, dms = True, x_inline = False, y_inline = False, color = 'gray', alpha = 0.5, linestyle='--')\n",
        "cs = ax.contourf(lons, lats, anom, levels = bounds, cmap = my_map, norm = norm,  transform=ccrs.PlateCarree())\n",
        "plt.colorbar(cs, pad = 0.1, label = '[mm]')\n",
        "plt.title('Anomalía de precipitación del Año: 2020', fontsize = 14)"
      ],
      "metadata": {
        "id": "ZoAhdpo6MZ0z"
      },
      "execution_count": null,
      "outputs": []
    },
    {
      "cell_type": "markdown",
      "source": [
        "Ahora, supongamos que ahora vamos a usar el periodo de 1991 - 2010 y de ahi, encontrar qué años han sido los más y los menos lluviosos comparado con el periodo base de 1991 - 2000. Vamos paso por paso.\n",
        "\n",
        "Nota: Yo les recomiendo reiniciar el kernel, para que no se vayan a confundir con variables."
      ],
      "metadata": {
        "id": "3G4BpEyWMwIl"
      }
    },
    {
      "cell_type": "code",
      "source": [
        "# Podemos hacer una serie de tiempo con los 20 años y ver cómo se comportan\n",
        "# Empecemos\n",
        "\n",
        "# Abrir los datos\n",
        "ruta = '/content/Mexico_ppt.nc'\n",
        "ds = xr.open_dataset(ruta)\n",
        "\n",
        "# Seleccionar longitud y latitud\n",
        "lats = ds.latitude\n",
        "lons = ds.longitude\n",
        "\n",
        "# Seleccionar la variable\n",
        "tp = ds['tp']\n",
        "tp_mm = tp * (30.436875*1000) # convertir los datos\n",
        "\n",
        "# Vamos a seleccionar el periodo base\n",
        "tp_base = tp_mm[(tp_mm.time.dt.year > 1990) & (tp_mm.time.dt.year < 2001)]\n",
        "\n",
        "# *_*_*_*_*_*_*_*_*_*_*_*_*_*_*_*_*_*_*_*_*_*_*_*_*_*_*_*_*_*_*_*_*_*_*_*_*_*_*_*_*_*_*_*_*_*_*_*_*_*_*_*_*_*_*_*_\n",
        "# Hasta aquí todo es igual, ahora empiezan a cambiar unas cosas.\n",
        "\n",
        "# Como queremos hacer una serie de tiempo de cada año entonces primero promediamos en el área\n",
        "baseline_area = tp_base.mean(['longitude','latitude']) # Esto me da una serie de valores\n",
        "\n",
        "# Ahora obtenemos el promedio de todos los años\n",
        "baseline_y_mean = baseline_area.mean('time') # Esto da un valor único\n",
        "\n",
        "\n",
        "# *_*_*_*_*_*_*_*_*_*_*_*_*_*_*_*_*_*_*_*_*_*_*_*_*_*_*_*_*_*_*_*_*_*_*_*_*_*_*_*_*_*_*_*_*_*_*_*_*_*_*_*_*_*_*_*_\n",
        "# Ahora hay que obtener el promedio anual de cada año desde 1990 - 2010\n",
        "\n",
        "# Seleccionar los años\n",
        "yearly_data = tp_mm[(tp_mm.time.dt.year > 1990) & (tp_mm.time.dt.year < 2011)]\n",
        "\n",
        "# Ahora obtenemos el promedio en área\n",
        "yearly_a_mean = yearly_data.mean(['longitude','latitude'])\n",
        "\n",
        "# Y el promedio por año\n",
        "year_means = yearly_a_mean.resample(time = '1Y').mean() # Esto nos da un valor por año\n",
        "\n",
        "# *_*_*_*_*_*_*_*_*_*_*_*_*_*_*_*_*_*_*_*_*_*_*_*_*_*_*_*_*_*_*_*_*_*_*_*_*_*_*_*_*_*_*_*_*_*_*_*_*_*_*_*_*_*_*_*_\n",
        "# Ahora sí ya podemos obtener la anomalía\n",
        "\n",
        "anom_10_20 = year_means - baseline_y_mean\n",
        "\n",
        "# Hagamos unp plot\n",
        "x = range(1991, 2010 + 1, 1)\n",
        "\n",
        "fig, ax = plt.subplots()\n",
        "plt.bar(x, anom_10_20.values, color = 'pink', width = 0.7);\n",
        "plt.axhline(y = 0, color = 'k', linestyle='--', alpha = 0.6);\n",
        "plt.xticks(x, rotation = 90);"
      ],
      "metadata": {
        "id": "N7roYIB1Mwr0"
      },
      "execution_count": null,
      "outputs": []
    },
    {
      "cell_type": "markdown",
      "source": [
        "Y de la misma manera podemos obtener las anomalías estandarizadas."
      ],
      "metadata": {
        "id": "re1Cg896mKxP"
      }
    },
    {
      "cell_type": "code",
      "source": [
        "# Vamos a usar el promedio de area de antes: yearly_a_mean\n",
        "# A esa variable vamos a calcularle su desviación estándar\n",
        "\n",
        "std_baseline = yearly_a_mean.std('time')\n",
        "\n",
        "# Y ya con eso podemos obtener la anomalía estandarizada\n",
        "\n",
        "std_anom = (year_means - baseline_y_mean) / std_baseline\n",
        "\n",
        "x = range(1991, 2010 + 1, 1)\n",
        "\n",
        "fig, ax = plt.subplots()\n",
        "plt.bar(x, std_anom.values, color = 'pink', width = 0.7);\n",
        "plt.axhline(y = 0, color = 'k', linestyle='--', alpha = 0.6);\n",
        "plt.xticks(x, rotation = 90);\n"
      ],
      "metadata": {
        "id": "mcmQZIdIifbW"
      },
      "execution_count": null,
      "outputs": []
    },
    {
      "cell_type": "markdown",
      "source": [
        "Si se dan cuenta en teoría ningún año es anormalmente seco o lluvioso ¿Por qué será?\n",
        "\n",
        "Por eso, aquí les va un ejercicio"
      ],
      "metadata": {
        "id": "PcuMz4NQm8Pq"
      }
    },
    {
      "cell_type": "code",
      "source": [],
      "metadata": {
        "id": "Po951Y2xnEv4"
      },
      "execution_count": null,
      "outputs": []
    }
  ]
}