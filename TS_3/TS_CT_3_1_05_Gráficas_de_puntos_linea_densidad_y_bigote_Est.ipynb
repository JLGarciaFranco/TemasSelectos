{
  "nbformat": 4,
  "nbformat_minor": 0,
  "metadata": {
    "colab": {
      "provenance": []
    },
    "kernelspec": {
      "name": "python3",
      "display_name": "Python 3"
    },
    "language_info": {
      "name": "python"
    }
  },
  "cells": [
    {
      "cell_type": "markdown",
      "source": [
        "# Gráficas de Bigote\n",
        "\n",
        "Ahora que ya saben cómo es que funcionan los Boxplots es momento de que lo hagan ustedes. En Python, la función para hacer este tipo de gráficos es `boxplot()`\n",
        "\n",
        "Pero antes, al igual que con los histogramas, existe una función en numpy que nos puede ayudar a calcular los cuartiles y es `quantile()`\n",
        "\n"
      ],
      "metadata": {
        "id": "1wWZn5aAdq1f"
      }
    },
    {
      "cell_type": "code",
      "source": [
        "import pandas as pd\n",
        "import numpy as np\n",
        "import matplotlib.pyplot as plt\n",
        "\n",
        "\n",
        "muestra = np.random.rand(50, 1)\n",
        "\n",
        "quantiles = np.quantile(muestra, np.array([0.00, 0.25, 0.50, 0.75, 1.00]))\n",
        "\n",
        "print(quantiles)"
      ],
      "metadata": {
        "id": "pt8I8TLVRxXY"
      },
      "execution_count": null,
      "outputs": []
    },
    {
      "cell_type": "code",
      "source": [
        "# Importar librerías\n",
        "import numpy as np\n",
        "import matplotlib.pyplot as plt\n",
        "\n",
        "# Crear datos aleatorios\n",
        "data = np.random.RandomState(9).randn(100) # consistencia, 0 es una distribución normal, 9 da outlayers\n",
        "\n",
        "# Hacer el boxplot\n",
        "fig, ax = plt.subplots()\n",
        "plt.boxplot(data)\n",
        "plt.title(\"Boxplot con Matplotlib\")"
      ],
      "metadata": {
        "id": "vOjVVHpnNhrx"
      },
      "execution_count": null,
      "outputs": []
    },
    {
      "cell_type": "markdown",
      "source": [
        "Trabajaremos con varios grupos de datos y veamos qué tipo de personalización pueden hacer."
      ],
      "metadata": {
        "id": "VBDA3uuqjLK0"
      }
    },
    {
      "cell_type": "code",
      "source": [
        "# Ahora qué pasa si quieren usar varios datos y compararlos\n",
        "\n",
        "data2 =[np.random.RandomState(5).randn(100),\n",
        "       2 * np.random.RandomState(1).randn(100) + 1,\n",
        "       0.5 *np.random.RandomState(2).randn(100) - 1]\n",
        "\n",
        "\n",
        "# Aqui también empieza la personalización de los plots\n",
        "# Por ejemplo la orientación, colocar la línea media o quitar los outliers\n",
        "\n",
        "fig, ax = plt.subplots()\n",
        "plt.boxplot(data2, showmeans = True, meanline = True) #,vert = False , showfliers = False\n",
        "plt.title(\"Boxplot con Matplotlib\")"
      ],
      "metadata": {
        "id": "rl57hYepPQPq"
      },
      "execution_count": null,
      "outputs": []
    },
    {
      "cell_type": "markdown",
      "source": [
        "Para personalizar los colores, sí se puede pero hay que tener cuidado y también ver qué se puede cambiar."
      ],
      "metadata": {
        "id": "NEeyGY8Wjrqr"
      }
    },
    {
      "cell_type": "code",
      "source": [
        "data2 =[np.random.RandomState(5).randn(100),\n",
        "       2 * np.random.RandomState(1).randn(100) + 1,\n",
        "       0.5 *np.random.RandomState(2).randn(100) - 1]\n",
        "\n",
        "\n",
        "# Para cambiar los colores es muy importante poner el patch_artist si no, nos va a salir un error\n",
        "\n",
        "fig, ax = plt.subplots()\n",
        "plt.boxplot(data2, showmeans = True, meanline = True, patch_artist= True, boxprops = dict(facecolor = '#37db6e')) # Color de las cajas\n",
        "plt.title(\"Boxplot con Matplotlib\")"
      ],
      "metadata": {
        "id": "5mzYszzjjRjs"
      },
      "execution_count": null,
      "outputs": []
    },
    {
      "cell_type": "code",
      "source": [
        "# Color de la mediana\n",
        "fig, ax = plt.subplots()\n",
        "plt.boxplot(data2, showmeans = True, meanline = True, patch_artist= True, boxprops = dict(facecolor = '#37db6e'),\n",
        "            medianprops = dict(color = \"#ed3743\", linewidth = 0.9))\n",
        "plt.title(\"Boxplot con Matplotlib\")"
      ],
      "metadata": {
        "id": "XJ_Z7bIfkqFH"
      },
      "execution_count": null,
      "outputs": []
    },
    {
      "cell_type": "code",
      "source": [
        "# Color de los bigotes\n",
        "\n",
        "fig, ax = plt.subplots()\n",
        "plt.boxplot(data2, showmeans = True, meanline = True, patch_artist= True, boxprops = dict(facecolor = '#37db6e'),\n",
        "            medianprops = dict(color = \"#ed3743\", linewidth = 0.9),\n",
        "            whiskerprops = dict(color = \"red\", linewidth = 2))\n",
        "plt.title(\"Boxplot con Matplotlib\")"
      ],
      "metadata": {
        "id": "XhOkx29qlgL-"
      },
      "execution_count": null,
      "outputs": []
    },
    {
      "cell_type": "code",
      "source": [
        "# Color de la media\n",
        "\n",
        "fig, ax = plt.subplots()\n",
        "box_plot = plt.boxplot(data2, showmeans = True, meanline = True, patch_artist= True, boxprops = dict(facecolor = '#37db6e'),\n",
        "            medianprops = dict(color = \"#ed3743\", linewidth = 0.9),\n",
        "            whiskerprops = dict(color = \"red\", linewidth = 2),\n",
        "            capprops = dict(color = \"#163cc7\", linewidth = 2.5),\n",
        "            meanprops = dict(color = \"#e5f53b\", linewidth = 0.9))\n",
        "plt.title(\"Boxplot con Matplotlib\")"
      ],
      "metadata": {
        "id": "kw2G61GZlyZv"
      },
      "execution_count": null,
      "outputs": []
    },
    {
      "cell_type": "code",
      "source": [
        "# Outliers\n",
        "\n",
        "fig, ax = plt.subplots()\n",
        "box_plot = plt.boxplot(data2, showmeans = True, meanline = True, patch_artist= True, boxprops = dict(facecolor = '#37db6e'),\n",
        "            medianprops = dict(color = \"#ed3743\", linewidth = 0.9),\n",
        "            whiskerprops = dict(color = \"red\", linewidth = 2),\n",
        "            capprops = dict(color = \"#163cc7\", linewidth = 2.5),\n",
        "            meanprops = dict(color = \"#e5f53b\", linewidth = 0.9),\n",
        "            flierprops = dict(marker = 'o', markersize = 10, markerfacecolor = 'fuchsia'))\n",
        "plt.title(\"Boxplot con Matplotlib\")\n",
        "plt.grid(True)"
      ],
      "metadata": {
        "id": "RHYCQQBznnmT"
      },
      "execution_count": null,
      "outputs": []
    },
    {
      "cell_type": "markdown",
      "source": [
        "Muy bien, entonces es momento de trabajar con datos reales\n"
      ],
      "metadata": {
        "id": "Ty6Fy2gtCiWN"
      }
    },
    {
      "cell_type": "code",
      "source": [
        "# Vamos a trabajar con los datos de FIFA de nuevo\n",
        "\n",
        "# Librerías\n",
        "import pandas as pd\n",
        "import numpy as np\n",
        "import matplotlib.pyplot as plt\n",
        "\n",
        "#._._._._._._._._._._._._._._._._._._._._._._._._._._._._._._._._._._._._._._._._._._._._\n",
        "\n",
        "# Cargar los datos\n",
        "fifa = pd.read_csv('fifa_data.csv')\n",
        "#._._._._._._._._._._._._._._._._._._._._._._._._._._._._._._._._._._._._._._._._._._._._\n",
        "\n",
        "# Seleccionar los datos\n",
        "barcelona = fifa.loc[fifa.Club == 'FC Barcelona']['Overall']\n",
        "madrid = fifa.loc[fifa.Club == 'Real Madrid']['Overall']\n"
      ],
      "metadata": {
        "id": "CVY4gwlTGTMj"
      },
      "execution_count": null,
      "outputs": []
    },
    {
      "cell_type": "code",
      "source": [
        "# Hacer el boxplot como tal\n",
        "\n",
        "fig, ax = plt.subplots()\n",
        "box_plot = plt.boxplot([barcelona, madrid])\n",
        "plt.title(\"Boxplot con Matplotlib\")\n",
        "\n",
        "# Qué podemos entender de estos datos\n",
        "\n",
        "q_B = np.quantile(barcelona, np.array([0.0,0.25, 0.50, 0.75,1.0]))\n",
        "q_M = np.quantile(madrid, np.array([ 0.0, 0.25, 0.50, 0.75, 1.0]))\n",
        "\n",
        "\n",
        "print(f'Cuartiles de Barcelona {q_B}')\n",
        "print(f'Cuartiles de Madrid {q_M}')"
      ],
      "metadata": {
        "id": "NI8Hn7rXJL69"
      },
      "execution_count": null,
      "outputs": []
    },
    {
      "cell_type": "code",
      "source": [
        "# Hay que pimpearlo\n",
        "\n",
        "c = ['#e6c63c', '#64ed6d']\n",
        "labels = ['Barcelona', 'Madrid']\n",
        "fig, ax = plt.subplots()\n",
        "box = box_plot = plt.boxplot([barcelona, madrid], showmeans = True, meanline = True, patch_artist= True,\n",
        "                             meanprops = dict(color = \"#37613a\", linewidth = 0.9),\n",
        "                             medianprops = dict(color = \"#d91630\", linewidth = 0.9),\n",
        "                             labels = labels)\n",
        "plt.title(\"Comparación de Clubs de Fútbol\")\n",
        "for patch, color in zip(box['boxes'], c):\n",
        "    patch.set_facecolor(color)\n",
        "\n",
        "\n",
        "print(fifa)"
      ],
      "metadata": {
        "id": "kosk59QXJ-CK"
      },
      "execution_count": null,
      "outputs": []
    },
    {
      "cell_type": "markdown",
      "source": [
        "Su turno.\n"
      ],
      "metadata": {
        "id": "VK1L18wIPVdO"
      }
    },
    {
      "cell_type": "markdown",
      "source": [],
      "metadata": {
        "id": "PN7sc0fM9oan"
      }
    },
    {
      "cell_type": "markdown",
      "source": [],
      "metadata": {
        "id": "Yi5W7uhX9orr"
      }
    },
    {
      "cell_type": "markdown",
      "source": [],
      "metadata": {
        "id": "hjwT5qRljju0"
      }
    }
  ]
}