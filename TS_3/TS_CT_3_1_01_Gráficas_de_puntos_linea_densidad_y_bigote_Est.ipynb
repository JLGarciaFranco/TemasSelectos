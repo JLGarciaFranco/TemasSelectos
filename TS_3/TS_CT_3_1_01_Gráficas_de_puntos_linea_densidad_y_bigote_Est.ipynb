{
  "nbformat": 4,
  "nbformat_minor": 0,
  "metadata": {
    "colab": {
      "provenance": []
    },
    "kernelspec": {
      "name": "python3",
      "display_name": "Python 3"
    },
    "language_info": {
      "name": "python"
    }
  },
  "cells": [
    {
      "cell_type": "markdown",
      "source": [
        "Los gráficos con una parte esencial del análisis de datos en casi cualquier rama.\n",
        "\n",
        "El hecho de haber realizado un tratamiento a los datos es sólo una parte del análisis, porque, eventualmente no hay nada mejor que verlo.\n",
        "\n",
        "Incluso, en algunas ocasiones es bueno hacer una gráfica de los datos originales para ver si tienen un comportamiento o tendendcia, esto puede ayudarnos a hacer un tratamiento posterior."
      ],
      "metadata": {
        "id": "23zeg5HtgSlt"
      }
    },
    {
      "cell_type": "markdown",
      "source": [
        "# **Gráfico de Dispersión (Puntos)**\n",
        "\n",
        "El gráfico de dispersión (scatter plot), se utilizan usualmente para comparar los valores que toman dos variables distintas. Ambas representadas en diferentes ejes. La gráfica resultante permite identificar visualmente la *posible* correlación entre ambas variables.\n",
        "\n",
        "En matplotlib se usa la función `scatter`."
      ],
      "metadata": {
        "id": "0CMpW0Gk_8lL"
      }
    },
    {
      "cell_type": "code",
      "source": [
        "# Caso más simple para hacer un scatter plot\n",
        "\n",
        "import numpy as np\n",
        "import matplotlib.pyplot as plt\n",
        "\n",
        "# Generar datos\n",
        "x = np.array([3, 8, 5, 6, 1, 9, 6, 7, 2, 1, 8])\n",
        "y = np.array([4, 5, 2, 4, 6, 1, 4, 6, 5, 2, 3])\n",
        "\n",
        "# Nota: Recuerden que el largo de ambas listas debe de ser igual\n",
        "\n",
        "# Graficar\n",
        "fig, ax = plt.subplots()\n",
        "ax.scatter(x = x, y = y)\n",
        "plt.show()"
      ],
      "metadata": {
        "id": "kFYVRRPY_7m2"
      },
      "execution_count": null,
      "outputs": []
    },
    {
      "cell_type": "markdown",
      "source": [
        "Nota: ¿Cuándo se usa plt.show() y cuándo no?\n",
        "Realmente depende de del ambiente en el que se encuentren.\n",
        "\n",
        "Si están utilizando Matplotlib en una terminal o en scripts deben de poner el plt.show()\n",
        "Si por el contrario están en un IPython shell o un notebook, pueden no usarlo.\n",
        "\n",
        "\n",
        "---\n",
        "**Personalización de los scatter plot**\n",
        "Si bien es de los gráficos más sencillos, la personalización puede ayudar a tener una mejor idea de qué está pasando\n",
        "\n",
        "\n",
        "**Símbolos**\n",
        "\n"
      ],
      "metadata": {
        "id": "UJIFSJOqFvg_"
      }
    },
    {
      "cell_type": "code",
      "source": [
        "# Personaliazar símbolos\n",
        "\n",
        "x = (3, 8, 5, 6, 1, 9, 6, 7, 2, 1, 8)\n",
        "y = (4, 5, 2, 4, 6, 1, 4, 6, 5, 2, 3)\n",
        "\n",
        "# Graficar\n",
        "fig, ax = plt.subplots()\n",
        "plt.scatter(x = x, y = y, marker = \"*\")\n",
        "plt.show()\n",
        "\n",
        "# Hay una cantidad muy grande de markers, la cual pueden ver aquí\n",
        "# https://matplotlib.org/stable/api/markers_api.html\n",
        "\n",
        "# Y también se puede usar código de LaTeX\n",
        "# r'$\\clubsuit$'   r\"$\\frac{1}{2}$\"\n"
      ],
      "metadata": {
        "id": "ynV67xlEFuNK"
      },
      "execution_count": null,
      "outputs": []
    },
    {
      "cell_type": "markdown",
      "source": [
        "**Tamaños y Color**\n",
        "\n",
        "De las formas para personalizar, las más comunes son con color y tamaño y algunas de estas variables, para ello se usan los parámetros:\n",
        "\n",
        "  \n",
        "\n",
        "*   `color` o también `c` para cambiar el color\n",
        "*   `s` para el tamaño\n",
        "*   `alpha` para la transparencia\n",
        "*   `edgecolors` para el contorno\n",
        "\n"
      ],
      "metadata": {
        "id": "R2uxDtrKZrLE"
      }
    },
    {
      "cell_type": "code",
      "source": [
        "# Personaliazar Color y tamaño\n",
        "\n",
        "x = (3, 8, 5, 6, 1, 9, 6, 7, 2, 1, 8)\n",
        "y = (4, 5, 2, 4, 6, 1, 4, 6, 5, 2, 3)\n",
        "\n",
        "# Graficar\n",
        "fig, ax = plt.subplots()\n",
        "plt.scatter(x = x, y = y, marker = \"*\", c='pink', s=70, alpha = 0.6, edgecolors = \"limegreen\", linewidths = 0.3)\n",
        "\n",
        "# Hay una gran cantidad de nombres en matplotlib aquí hay una lista:\n",
        "# https://matplotlib.org/stable/gallery/color/named_colors.html\n"
      ],
      "metadata": {
        "id": "hWOBjCoqr6Jx"
      },
      "execution_count": null,
      "outputs": []
    },
    {
      "cell_type": "code",
      "source": [
        "# También pueden usar colormaps pero para eso deben de escoger los ticks\n",
        "# y deben de ser del mismo tamaño que sus datos, veamos\n",
        "\n",
        "x = (3, 8, 5, 6, 1, 9, 6, 7, 2, 1, 8)\n",
        "y = (4, 5, 2, 4, 6, 1, 4, 6, 5, 2, 3)\n",
        "\n",
        "\n",
        "colors = np.array([0, 10, 20, 30, 40, 50, 60, 70, 80, 90, 100])\n",
        "\n",
        "# Graficar\n",
        "fig, ax = plt.subplots()\n",
        "plt.scatter(x = x, y = y, marker = \"*\", c = colors, cmap = 'YlGn', s=70, alpha = 0.6, edgecolors = \"limegreen\", linewidths = 0.3)\n",
        "plt.colorbar() # Y aqui podemos usar una barra\n",
        "plt.show()\n",
        "\n",
        "\n",
        "# https://matplotlib.org/stable/users/explain/colors/colormaps.html\n",
        "# https://colorhunt.co/"
      ],
      "metadata": {
        "id": "X5lzVjSnyTiP"
      },
      "execution_count": null,
      "outputs": []
    },
    {
      "cell_type": "markdown",
      "source": [
        "**Separar por grupos**\n",
        "\n",
        "Obviamente no siempre vamos a plotear todo un grupo de datos, muchas veces los vamos a querer separar."
      ],
      "metadata": {
        "id": "AXueSIi6vZB5"
      }
    },
    {
      "cell_type": "code",
      "source": [
        "# Hay varias formas de dividir datos por grupo\n",
        "\n",
        "x1 = np.array([5,7,8,7,2,17,2,9,4,11,12,9,6])\n",
        "y1 = np.array([99,86,87,88,111,86,103,87,94,78,77,85,86])\n",
        "\n",
        "x2 = np.array([2,2,8,1,15,8,12,9,7,3,11,4,7,14,12])\n",
        "y2 = np.array([100,105,84,105,90,99,90,95,94,100,79,112,91,80,85])\n",
        "#____________________________________________________________________________________________________________\n",
        "# Plotearlos por separado\n",
        "\n",
        "plt.scatter(x1, y1, color = 'hotpink')\n",
        "plt.scatter(x2, y2, color = '#88c999') # Ojo\n",
        "\n",
        "#____________________________________________________________________________________________________________\n",
        "# Una condición de valores\n",
        "\n",
        "color = np.where(x1 < 7, \"yellow\", \"lightblue\")\n",
        "plt.scatter(x1, y1, color = color)"
      ],
      "metadata": {
        "id": "vWaquNLOvmWr"
      },
      "execution_count": null,
      "outputs": []
    },
    {
      "cell_type": "markdown",
      "source": [
        "**Leyendas y ejes**\n",
        "\n",
        "La leyendas sirven para saber diferenciar entre los grupos de datos, mientras que los ejes siempre ayudan a saber de qué unidades estamos hablando\n"
      ],
      "metadata": {
        "id": "kduV9-a62PKX"
      }
    },
    {
      "cell_type": "code",
      "source": [
        "import numpy as np\n",
        "import matplotlib.pyplot as plt\n",
        "\n",
        "fig, ax = plt.subplots()\n",
        "pink = plt.scatter(x1, y1, color = 'hotpink')\n",
        "green = plt.scatter(x2, y2, color = '#88c999') # Ojo\n",
        "# Leyenda\n",
        "plt.legend((pink, green),('Puntos Rosas', 'Puntos Verdes'))\n",
        "# Ejes\n",
        "plt.ylabel('Eje y', fontsize=20)\n",
        "plt.xlabel('Eje x', fontsize=20)\n",
        "plt.title('Título')\n"
      ],
      "metadata": {
        "id": "agQFjNFfti9u"
      },
      "execution_count": null,
      "outputs": []
    },
    {
      "cell_type": "markdown",
      "source": [
        "Si bien estas son las funciones y propiedades más básicas siempre van a aprender algo nuevo conforme vayan analizando, y para eso un ejercicio. 🥳\n",
        "\n",
        "\n",
        "---\n",
        "\n",
        "\n",
        "# Ejercicio\n",
        "\n",
        "Vamos a trabajar con una base de datos que se llama [Iris](https://es.wikipedia.org/wiki/Conjunto_de_datos_flor_iris), son datos de 3 especies de flores Iris, y contiene diferentes rasgos: largo y ancho del sépalo y pétalo en cm.\n",
        "\n",
        "Entonces vamos a separar los tres tipos de especie utilizando un scatter plot.\n",
        "\n"
      ],
      "metadata": {
        "id": "33_jWNWKyi5w"
      }
    },
    {
      "cell_type": "code",
      "source": [
        "# Importar librerias\n",
        "\n",
        "import pandas as pd\n",
        "import matplotlib.pyplot as plt\n",
        "\n",
        "\n",
        "\n",
        "print(datos)"
      ],
      "metadata": {
        "id": "bpAE7kazBL1k"
      },
      "execution_count": null,
      "outputs": []
    },
    {
      "cell_type": "markdown",
      "source": [
        "Supongamos que queremos plotear todos los datos de \"sepal_length\" vs \"sepal_width\"\n",
        "¿Cómo lo harían?\n",
        "\n",
        "Grafiquenlo y pongan nombre de los ejes y título."
      ],
      "metadata": {
        "id": "hR9anWenCkOp"
      }
    },
    {
      "cell_type": "code",
      "source": [],
      "metadata": {
        "id": "ApIwRWd6yLye"
      },
      "execution_count": null,
      "outputs": []
    },
    {
      "cell_type": "markdown",
      "source": [
        "Ahora grafiquen únicamente el \"Sepal Width\" y el \"sepal Length\" únicamente de la especie setosa."
      ],
      "metadata": {
        "id": "Bh-s13-EEvIE"
      }
    },
    {
      "cell_type": "code",
      "source": [],
      "metadata": {
        "id": "h3uxul0DEZQA"
      },
      "execution_count": null,
      "outputs": []
    },
    {
      "cell_type": "markdown",
      "source": [
        "Ahora hagan las tres gráficas con las tres especies diferentes"
      ],
      "metadata": {
        "id": "yVAkojToJ7Eg"
      }
    },
    {
      "cell_type": "code",
      "source": [],
      "metadata": {
        "id": "AgD8dwdFKXt_"
      },
      "execution_count": null,
      "outputs": []
    },
    {
      "cell_type": "markdown",
      "source": [],
      "metadata": {
        "id": "5LEdMZfcMwBb"
      }
    },
    {
      "cell_type": "code",
      "source": [],
      "metadata": {
        "id": "GUl911y-NT2K"
      },
      "execution_count": null,
      "outputs": []
    }
  ]
}