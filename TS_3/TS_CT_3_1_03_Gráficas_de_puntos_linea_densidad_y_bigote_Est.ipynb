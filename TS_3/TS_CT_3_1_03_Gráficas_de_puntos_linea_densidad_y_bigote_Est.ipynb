{
  "nbformat": 4,
  "nbformat_minor": 0,
  "metadata": {
    "colab": {
      "provenance": []
    },
    "kernelspec": {
      "name": "python3",
      "display_name": "Python 3"
    },
    "language_info": {
      "name": "python"
    }
  },
  "cells": [
    {
      "cell_type": "markdown",
      "source": [
        "# Gráfico de Pastel\n",
        "\n",
        "Un gráfico de pastel es un elemento circular que representa sólo una serie de datos. El área del gráfico representa el porcentaje de cada uno de los datos. Normalmente los gráficos de pastel se utilizan en negocios para representar operaciones como ventas, resultados de cuestionarios etc. Principalmente porque dan un resumen rápido.\n",
        "\n",
        "Obviamente con Matplolib se pueden hacer gráficos de pastel utilizando la función\n",
        "`pie()`\n",
        "\n"
      ],
      "metadata": {
        "id": "GiysdGLyHNl9"
      }
    },
    {
      "cell_type": "code",
      "source": [
        "# Importar librerias\n",
        "import matplotlib.pyplot as plt\n",
        "import numpy as np\n",
        "import pandas as pd\n",
        "\n",
        "# Inventar algunos datos\n",
        "\n",
        "labels = 'Michis', 'Lomitos', 'Tlacuaches', 'Ajolotes', 'Cacomixtles'\n",
        "sizes = [30, 25, 10, 3,8 ]\n",
        "\n",
        "\n",
        "# Hacer el plot\n",
        "fig, ax = plt.subplots()\n",
        "plt.pie(sizes);"
      ],
      "metadata": {
        "id": "RnKcVvyMPW2x"
      },
      "execution_count": null,
      "outputs": []
    },
    {
      "cell_type": "code",
      "source": [
        "# Noten algo, cada una de las partes del plot tiene una cuña que indica el valor\n",
        "# de cada uno de los elementos.\n",
        "\n",
        "# Por default, la primer marca empieza desde el eje x y se mueve en contra de las\n",
        "# manecillas del reloj\n"
      ],
      "metadata": {
        "id": "S3P_FRkgWmJb"
      },
      "execution_count": null,
      "outputs": []
    },
    {
      "cell_type": "code",
      "source": [
        "# Vamos mejorando el código, agregando labels\n",
        "fig, ax = plt.subplots()\n",
        "plt.pie(sizes, labels = labels);\n",
        "\n",
        "# Cambiemos el ángulo en el que empieza el primer elemento\n",
        "# POr default empieza en 0°\n",
        "fig, ax = plt.subplots()\n",
        "plt.pie(sizes, labels = labels, startangle = 45);"
      ],
      "metadata": {
        "id": "Xxjz1E53Xv0e"
      },
      "execution_count": null,
      "outputs": []
    },
    {
      "cell_type": "code",
      "source": [
        "# Qué pasa si queremos resaltar un valor?\n",
        "\n",
        "exp = [0.2, 0.0, 0.0, 0.0, 0.0] # El valor que pongan indica qué tan lejos del centro va a estar\n",
        "\n",
        "fig, ax = plt.subplots()\n",
        "plt.pie(sizes, labels = labels, startangle = 45, explode = exp);"
      ],
      "metadata": {
        "id": "8Z_0E70IYa4F"
      },
      "execution_count": null,
      "outputs": []
    },
    {
      "cell_type": "code",
      "source": [
        "# Tambien se puede agregar un efecto de sombra\n",
        "\n",
        "fig, ax = plt.subplots()\n",
        "plt.pie(sizes, labels = labels, startangle = 45, explode = exp, shadow = True);"
      ],
      "metadata": {
        "id": "7vVWCEEnZHHR"
      },
      "execution_count": null,
      "outputs": []
    },
    {
      "cell_type": "code",
      "source": [
        "# Obviamente también se puede cambiar los colores\n",
        "\n",
        "# Vector de colores\n",
        "colours = ['#390099', '#9e0059','#ff0054','#ff5400','#ffbd00']\n",
        "\n",
        "fig, ax = plt.subplots()\n",
        "plt.pie(sizes, labels = labels, startangle = 45, explode = exp, colors = colours);"
      ],
      "metadata": {
        "id": "7b4xw-pzZPax"
      },
      "execution_count": null,
      "outputs": []
    },
    {
      "cell_type": "code",
      "source": [
        "# Pueden también integrar los valores porcentuales\n",
        "\n",
        "fig, ax = plt.subplots()\n",
        "plt.pie(sizes, labels = labels, startangle = 45, explode = exp, colors = colours, autopct = '%1.1f%%');\n"
      ],
      "metadata": {
        "id": "FRNvDzPwakYi"
      },
      "execution_count": null,
      "outputs": []
    },
    {
      "cell_type": "code",
      "source": [
        "fig, ax = plt.subplots()\n",
        "plt.pie(sizes, labels = labels, startangle = 45, explode = exp, colors = colours, autopct = '%1.1f%%', pctdistance = 1.25, labeldistance = 0.30);\n"
      ],
      "metadata": {
        "id": "gmzfJTrUbm9i"
      },
      "execution_count": null,
      "outputs": []
    },
    {
      "cell_type": "markdown",
      "source": [
        "Recuerden que los gráficos de pastel siempre van a representar una proporción de algo. Así que deben asegurarse que tenga sentido lo que están presentando.\n",
        "\n",
        "Vamos a hacer un ejercicio para ver esto"
      ],
      "metadata": {
        "id": "2ghMWGgbD44f"
      }
    },
    {
      "cell_type": "code",
      "source": [
        "# Ya se lo saben, importar las librerías\n",
        "# *_*_*_*_*_*_*_*_*_*_*_*_*_*_*_*_*_*_*_*_*_*_*_*_*_*_*_*_*_*_*_*_*_*_*_*_*_*_*_*_*_*_*_*_*_*_*_*_*_*_*_*_*_*_*_*_*_*_*_*_*_*_*_*_*_*_*_*_\n",
        "import pandas as pd\n",
        "import numpy as np\n",
        "import matplotlib.pyplot as plt\n",
        "\n",
        "# Importar los datos, son de emisiondes de CO2\n",
        "\n",
        "url = 'https://github.com/HeardLibrary/digital-scholarship/raw/master/data/codegraf/co2_state_2016_sector.xlsx'\n",
        "\n",
        "data = pd.read_excel(url)\n",
        "data.set_index('State', inplace = True)\n",
        "# *_*_*_*_*_*_*_*_*_*_*_*_*_*_*_*_*_*_*_*_*_*_*_*_*_*_*_*_*_*_*_*_*_*_*_*_*_*_*_*_*_*_*_*_*_*_*_*_*_*_*_*_*_*_*_*_*_*_*_*_*_*_*_*_*_*_*_*_\n",
        "\n",
        "print(data.head())"
      ],
      "metadata": {
        "id": "03BAkvGeIljK"
      },
      "execution_count": null,
      "outputs": []
    },
    {
      "cell_type": "code",
      "source": [
        "# Supongamos que solamente queremos analizar un estado en particular, i.e. California\n",
        "\n",
        "Cal_data = data.loc['California']\n",
        "\n",
        "# Pero para hacer nuestro gráfico no queremos el Total, porque estaríamos siendo redundantes\n",
        "Cal_data = Cal_data['Commercial':'Transportation']\n"
      ],
      "metadata": {
        "id": "zrbnBOvJOgd2"
      },
      "execution_count": null,
      "outputs": []
    },
    {
      "cell_type": "code",
      "source": [
        "# Ahora vamos entonces a hacer el gráfico para ver los datos\n",
        "colours = ['#ffbc42', '#d81159','#8f2d56','#218380','#73d2de']\n",
        "\n",
        "fig, ax = plt.subplots()\n",
        "plt.pie(Cal_data, labels = Cal_data.index, startangle = 45, colors = colours, autopct = '%1.1f%%');\n"
      ],
      "metadata": {
        "id": "jvIfgeVLEzKk"
      },
      "execution_count": null,
      "outputs": []
    },
    {
      "cell_type": "markdown",
      "source": [
        "Tengan MUCHO cuidado con los datos que trabajan, si por ejemplo no hubieran quitado la columna de \"Total\" el gráfico hubiera quedado así"
      ],
      "metadata": {
        "id": "t3gELW0wOvMu"
      }
    },
    {
      "cell_type": "code",
      "source": [
        "Cal_data = data.loc['California']\n",
        "colours = ['#ffbc42', '#d81159','#8f2d56','#218380','#73d2de', \"#253237\"]\n",
        "\n",
        "fig, ax = plt.subplots()\n",
        "plt.pie(Cal_data, labels = Cal_data.index, startangle = 45, colors = colours, autopct = '%1.1f%%');\n"
      ],
      "metadata": {
        "id": "YYezEg9cO3jw"
      },
      "execution_count": null,
      "outputs": []
    },
    {
      "cell_type": "markdown",
      "source": [
        "Bueno si bien un gráfico puede ser de ayuda, qué pasa entonces si queremos ver alguna comparación. En ese caso entonces tendríamos que hacer diferentes gráficos para diferentes estados."
      ],
      "metadata": {
        "id": "0fKKIFGAOYwi"
      }
    },
    {
      "cell_type": "code",
      "source": [
        "# Veamos de nuevo los datos\n",
        "#print(data)\n",
        "\n",
        "# Tomemos dos estados por ejemplo California y Georgia\n",
        "new_df = data.loc[['California', 'Georgia']]\n",
        "new_df.drop(['Total'], axis = 'columns', inplace = True) # Qué hace el inplace???\n",
        "\n",
        "\n",
        "\n",
        "# Básicamente es hacer una copia de el df\n",
        "# df = df.operacion(inplace=False) esto genera un nuevo dataframe.\n",
        "\n",
        "\n",
        "# Ahora vamos a plotear las diferencias entre ellos\n",
        "colours = ['#ffbc42', '#d81159','#8f2d56','#218380','#73d2de']\n",
        "\n",
        "fig, axs = plt.subplots(nrows = 1, ncols = 2, figsize=(12,5)) # Aquí vamos a definir el tamaño de la figura y cuántos gráficos van a haber\n",
        "for ii, ax in enumerate(axs.flatten()): # Digamos que aqui se iteran los ejes de cada subplot\n",
        "  plt.sca(ax) # Esto le indica al ciclo que en ese eje se haga cierta figura\n",
        "  plt.pie(new_df.iloc[ii], labels = new_df.columns, startangle = 45, colors = colours, autopct = '%1.1f%%');\n",
        "  plt.title(new_df.index[ii])\n",
        "\n",
        "plt.suptitle('Comparación entre emisiones de California y Georgia \\n  ')\n",
        "print(new_df)\n"
      ],
      "metadata": {
        "id": "1PCRtTUIOjCu"
      },
      "execution_count": null,
      "outputs": []
    },
    {
      "cell_type": "code",
      "source": [
        "\n",
        "\n"
      ],
      "metadata": {
        "id": "RQWxyW2FZTyC"
      },
      "execution_count": null,
      "outputs": []
    }
  ]
}