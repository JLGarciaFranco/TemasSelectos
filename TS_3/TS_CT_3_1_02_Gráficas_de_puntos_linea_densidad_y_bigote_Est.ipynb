{
  "nbformat": 4,
  "nbformat_minor": 0,
  "metadata": {
    "colab": {
      "provenance": []
    },
    "kernelspec": {
      "name": "python3",
      "display_name": "Python 3"
    },
    "language_info": {
      "name": "python"
    }
  },
  "cells": [
    {
      "cell_type": "markdown",
      "source": [
        "#**Gráficas de Línea**\n",
        "\n",
        "Al igual que los scatter plots son bastante sencillos de plotear, sólo necesitan dos listas o arrays de datos.\n",
        "Aunque a diferencia de los scatter plots, normalmente los gráficos de línea se usan usualmente para ver progresos en el tiempo o algún tipo de evolución.\n",
        "\n"
      ],
      "metadata": {
        "id": "J7sno1iYRJ44"
      }
    },
    {
      "cell_type": "code",
      "source": [
        "import numpy as np\n",
        "import matplotlib.pyplot as plt\n",
        "\n",
        "# Ejemplo de un plot de línea sencillo\n",
        "\n",
        "# Datos\n",
        "x = np.linspace(0, 10, 25)\n",
        "y = np.sin(x) + x/2\n",
        "\n",
        "# Gráfico de líneas\n",
        "fig, ax = plt.subplots()\n",
        "plt.plot(x, y)"
      ],
      "metadata": {
        "id": "qwIE-clAS-jk"
      },
      "execution_count": null,
      "outputs": []
    },
    {
      "cell_type": "markdown",
      "source": [
        "Así como con los scatter plots, los gráficos de línea también se pueden personalizar.\n",
        "Las formas más comúnes es con: el estilo de línea, su grosor, color y agregar marcadores.\n",
        "\n",
        "Los estilos de línea más común son:\n",
        "\n",
        "```\n",
        "'solid' (default)\t'-'\n",
        "'dotted'\t':'\n",
        "'dashed'\t'--'\n",
        "'dashdot'\t'-.'\n",
        "```\n",
        "\n"
      ],
      "metadata": {
        "id": "LPGyIWYdVRHv"
      }
    },
    {
      "cell_type": "code",
      "source": [
        "# Otro ejemplo\n",
        "\n",
        "valoresAY = [50,25,30,29,40,45]\n",
        "valoresX = [10,20,30,40,50,60]\n",
        "\n",
        "#._._._._._._._._._._._._._._._._._._._._._._._._._._._._._._._._._._._._._._._._._._._._._._._._._._\n",
        "fig, ax = plt.subplots()\n",
        "plt.plot(valoresX, valoresAY, \"o--g\" , linewidth = 1.5) # Noten esto\n",
        "plt.title('Gráfica 1')\n",
        "\n",
        "#._._._._._._._._._._._._._._._._._._._._._._._._._._._._._._._._._._._._._._._._._._._._._._._._._._\n",
        "fig, ax = plt.subplots()\n",
        "plt.plot(valoresX, valoresAY, marker = \"o\" , c = \"green\", linestyle = \"--\", linewidth = 1.5) #\n",
        "plt.title('Gráfica 2')"
      ],
      "metadata": {
        "id": "ElevJbM2Vf-h"
      },
      "execution_count": null,
      "outputs": []
    },
    {
      "cell_type": "markdown",
      "source": [
        "Igual que con los scatter plots se pueden trabajar con múltiples líneas y pueden ir integrando tantos elementos como gusten"
      ],
      "metadata": {
        "id": "HN7jGWN_bWy6"
      }
    },
    {
      "cell_type": "code",
      "source": [
        "# Datos\n",
        "valoresAY = [50,25,30,29,40,45]\n",
        "valoresBY = [45,20,52,10,38,40]\n",
        "\n",
        "valoresX = [10,20,30,40,50,60]\n",
        "\n",
        "# Plot\n",
        "fig, ax = plt.subplots()\n",
        "plt.plot(valoresX, valoresAY, \"o--g\" )\n",
        "plt.plot(valoresX, valoresBY, \"s:b\" )\n",
        "plt.legend([\"Valores A\", \"Valores B\"]) # Leyenda\n",
        "plt.title(\"Título del gráfico\")\n",
        "plt.xlabel(\"Etiqueta X\")\n",
        "plt.ylabel(\"Etiqueta Y\")\n",
        "plt.grid(True) # Cuadrícula\n"
      ],
      "metadata": {
        "id": "ebswgj_bbmSV"
      },
      "execution_count": null,
      "outputs": []
    },
    {
      "cell_type": "markdown",
      "source": [
        "Una forma muy común es usar ejes dobles así como fechas cuando trabajamos con gráficos de línea.\n",
        "\n",
        "Pero lo primero que harán será dos listas, con 50 números aleatorios\n",
        "una deberá estar en el rango entre 0 y 250 y la otra en el rango entre -10 y 35.\n",
        "\n",
        "Hint: Pueden usar la librería `random` y la función `random.randint` y ploteen ambas listas en una misma gráfica"
      ],
      "metadata": {
        "id": "0hzJ039ucs2Q"
      }
    },
    {
      "cell_type": "code",
      "source": [],
      "metadata": {
        "id": "OdBtKN_Uxe0e"
      },
      "execution_count": null,
      "outputs": []
    },
    {
      "cell_type": "markdown",
      "source": [
        "Imaginemos entonces que estos son datos de lluvia (la línea azul) y temperatura (línea roja). Y supongan que son mediciones de cada año desde 1951 a 2000.\n",
        "Entonces hay que ajustar algunas cosas.\n",
        "\n",
        "Primero notamos que la escala no es la mejor, una está en [mm] y la otra en [°C], así que hay que usar dos eyes \"y\"."
      ],
      "metadata": {
        "id": "-XOVaV9M2U-r"
      }
    },
    {
      "cell_type": "code",
      "source": [
        "# Para usar dos ejes Y diferentes se puede usar \"twinxs\"\n",
        "# para ellos iniciamos una figura normal pero ahora habrá dos ejes\n",
        "\n",
        "fig, ax1 = plt.subplots()\n",
        "ax1.plot(l1, c = \"#d7263d\")\n",
        "\n",
        "# Ahora hacemos el otro eje\n",
        "ax2 = ax1.twinx()\n",
        "ax2.plot(l2, c = \"#004dff\")\n",
        "\n",
        "plt.title('Gráfico con dos Ejes')\n"
      ],
      "metadata": {
        "id": "QCgOaAh_267s"
      },
      "execution_count": null,
      "outputs": []
    },
    {
      "cell_type": "markdown",
      "source": [
        "Ok, ahora veamos el eje x, por default se pone el  número de mediciones, pero ahora, queremos fechas."
      ],
      "metadata": {
        "id": "xEgq3Mhi4cU_"
      }
    },
    {
      "cell_type": "code",
      "source": [
        "# Primero hay que obtener las fechas\n",
        "\n",
        "import pandas as pd\n",
        "\n",
        "dates = pd.date_range('1951-01-01', '2000-01-01', freq = \"YS\")\n",
        "# https://pandas.pydata.org/docs/reference/api/pandas.date_range.html\n",
        "\n",
        "#._._._._._._._._._._._._._._._._._._._._._._._._._._._._._._._._._._._._._._._._._._._._._._\n",
        "\n",
        "# Hacer el nuevo plot\n",
        "\n",
        "fig, ax1 = plt.subplots()\n",
        "ax1.plot(dates, l1, c = \"pink\") # El truco está en ahora poner cuáles son los datos del eje x\n",
        "plt.xticks(rotation=30) # Pueden rotar los ticks si es que quieren\n",
        "\n",
        "# Ahora hacemos el otro eje\n",
        "ax2 = ax1.twinx()\n",
        "ax2.plot(dates, l2, c = \"green\")\n",
        "plt.title('Gráfico con dos Ejes')\n",
        "\n"
      ],
      "metadata": {
        "id": "Q1LkgQBf4lhU"
      },
      "execution_count": null,
      "outputs": []
    },
    {
      "cell_type": "markdown",
      "source": [
        "Bueno es momento de usar datos reales. Vamos a usar datos de precios de gasolina.\n",
        "\n",
        "Recuerden importarlos al notebook\n"
      ],
      "metadata": {
        "id": "zw2goDjrsnLm"
      }
    },
    {
      "cell_type": "code",
      "source": [
        "import pandas as pd\n",
        "import numpy as np\n",
        "import matplotlib.pyplot as plt\n",
        "\n",
        "# Cargar los datos\n",
        "gasolina = pd.read_csv('gas_prices.csv')\n",
        "print(gasolina) # Precios en dólares por galon de combustible"
      ],
      "metadata": {
        "id": "ZYvLKdX6Fx65"
      },
      "execution_count": null,
      "outputs": []
    },
    {
      "cell_type": "code",
      "source": [
        "# Vamos a hacer un gráfico sencillo\n",
        "fig, ax = plt.subplots()\n",
        "plt.plot( gasolina.Mexico)\n",
        "plt.plot( gasolina['USA'])\n",
        "\n",
        "# Repliquen la gráfica pero ahora con los años en el eje X"
      ],
      "metadata": {
        "id": "Qkdlak82HWza"
      },
      "execution_count": null,
      "outputs": []
    },
    {
      "cell_type": "code",
      "source": [],
      "metadata": {
        "id": "JSiqA2JQIbZk"
      },
      "execution_count": null,
      "outputs": []
    },
    {
      "cell_type": "markdown",
      "source": [
        "Ok, esto nos permite ver n número de líneas pero qué pasa si queremos ver las gráficas de todos los países?"
      ],
      "metadata": {
        "id": "euDrFfr5M6cc"
      }
    },
    {
      "cell_type": "code",
      "source": [],
      "metadata": {
        "id": "AXKuNnqHItjl"
      },
      "execution_count": null,
      "outputs": []
    },
    {
      "cell_type": "code",
      "source": [],
      "metadata": {
        "id": "n9Wk-5SgQTqu"
      },
      "execution_count": null,
      "outputs": []
    },
    {
      "cell_type": "code",
      "source": [],
      "metadata": {
        "id": "uKXKf-2QNKIw"
      },
      "execution_count": null,
      "outputs": []
    },
    {
      "cell_type": "markdown",
      "source": [
        "**Ejercicio para ustedes.**\n",
        "\n",
        "Creen un código que les haga obtener estas gráficas.\n",
        "\n",
        "La primera debe de ser con los 3 países de su preferencia que no sean ni México, ni USA ni Canadá\n",
        "\n",
        "La segunda el precio debe de estar en pesos mexicanos, consideren que 1 USD = 15"
      ],
      "metadata": {
        "id": "mMQNtL2FNcTr"
      }
    },
    {
      "cell_type": "code",
      "source": [],
      "metadata": {
        "id": "nWPInpcYNPq0"
      },
      "execution_count": null,
      "outputs": []
    }
  ]
}