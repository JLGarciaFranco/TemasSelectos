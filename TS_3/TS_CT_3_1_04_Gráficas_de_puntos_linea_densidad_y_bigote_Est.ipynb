{
  "nbformat": 4,
  "nbformat_minor": 0,
  "metadata": {
    "colab": {
      "provenance": []
    },
    "kernelspec": {
      "name": "python3",
      "display_name": "Python 3"
    },
    "language_info": {
      "name": "python"
    }
  },
  "cells": [
    {
      "cell_type": "markdown",
      "source": [
        "# Histogramas de Frecuencia\n",
        "\n",
        "Un histograma es similar a un gráfico de barras (en apariencia), pero en lugar de comparar categorías o buscar tendencias en el tiempo, cada barra representa cómo se distribuyen los datos en una única categoría.\n",
        "Cada una de las barras va a representar un rango continuo de datos o el número de frecuencias un dato en particular.\n",
        "\n",
        "¿Para qué se usan los histogramas? Generalmente se usa para ver el comportamiento de alguna variable y si se repite dentro de un rango. A veces en vez de usar histogramas se usan los *polígonos de frecuencias*, que es casi lo mismo pero en vez de usar barras se usa una línea.\n",
        "\n",
        "\n",
        "**Construyendo un diagrama de frecuencias**\n",
        "\n",
        "A diferencia de los otros tipos de plots que hemos visto que se pueden plotear directamente, con los histogramas hay que hacer algunos pasos extra.\n",
        "\n",
        "\n",
        "\n",
        "1.   Determinar los intervalos a representar, de tal manera que no se solapen\n",
        "2.   Calcular la frecuencia de cada intervalo.\n",
        "3.   Dibujar el histograma, una vez que ya encontraron los intervalos y cuántos elementos hay en cada uno entonces sí ya se puede dibujar propiamente el histograma\n",
        "\n",
        "\n",
        "\n",
        "---\n",
        "\n",
        "Afortunadamente en Numpy nos da una idea de cómo es que se emplea la función hist para plotear, se puede hacer relativamente sencillo, y necesitaremos dos parámetros: El conjunto de datos y los intervalos que vamos a querer, a estos se les llaman **bins**\n",
        "\n",
        "\n"
      ],
      "metadata": {
        "id": "6E35JdIJYNJD"
      }
    },
    {
      "cell_type": "code",
      "source": [
        "# Paqueterías\n",
        "import pandas as pd\n",
        "import numpy as np\n",
        "import matplotlib.pyplot as plt\n",
        "\n",
        "# ._._._._._._._._._._._._._._._._._._._._._._._._._._._._._._._._._._._._._._._._._._._._._._._._._._._._._._._._._._\n",
        "# Realizar un histograma de frecuencia\n",
        "edades = [12, 15, 13, 12, 18, 20, 19, 20, 13, 12, 13, 17, 15, 16, 13, 14, 13, 17, 19]\n",
        "# ._._._._._._._._._._._._._._._._._._._._._._._._._._._._._._._._._._._._._._._._._._._._._._._._._._._._._._._._._._\n",
        "\n",
        "# Supongamos que queremos 8 intervalos\n",
        "frecuencias1, extremos1 = np.histogram(edades, bins = 8)\n",
        "print(frecuencias1, extremos1) # Analicemos cómo es que funciona esto.\n",
        "\n",
        "# Esto sucede porque al indicar sólo los bins, el último intervalo es cerrado a la derecha, o sea toma\n",
        "# ambos valores\n",
        "\n"
      ],
      "metadata": {
        "id": "KgsRhuorTTgR"
      },
      "execution_count": null,
      "outputs": []
    },
    {
      "cell_type": "code",
      "source": [
        "# ._._._._._._._._._._._._._._._._._._._._._._._._._._._._._._._._._._._._._._._._._._._._._._._._._._._._._._._._._._\n",
        "\n",
        "# Supongamos que queremos 9 intervalos\n",
        "# Pero ahora, también queremos incluir el intervalo de 20-21\n",
        "\n",
        "frecuencias2, extremos2 = np.histogram(edades, bins = 9, range=(12,21)) # Tengan cuidado al poner los bins\n",
        "print(frecuencias2, extremos2)\n",
        "# ._._._._._._._._._._._._._._._._._._._._._._._._._._._._._._._._._._._._._._._._._._._._._._._._._._._._._._._._._._\n",
        "\n",
        "# Qué pasa si quieren hacer rangos personalizados? Por ejemplo\n",
        "# [10, 13) [13, 15) [15, 20]\n",
        "\n",
        "frecuencias3, extremos3 = np.histogram(edades, bins=(10, 13, 15, 20)) # Puede ser con tupla o con lista\n",
        "print(frecuencias3, extremos3)"
      ],
      "metadata": {
        "id": "hMyxU_mvwKj8"
      },
      "execution_count": null,
      "outputs": []
    },
    {
      "cell_type": "markdown",
      "source": [
        "Ok, entonces es momento de graficarlo"
      ],
      "metadata": {
        "id": "hJ7rwoX3XZEw"
      }
    },
    {
      "cell_type": "code",
      "source": [
        "# El Gráfico en sí\n",
        "fig, ax = plt.subplots()\n",
        "plt.hist(x = edades, bins = extremos1, color = '#F2AB6D', rwidth = 0.8); #rwidth es el ancho de los rectángulos\n",
        "plt.title('Histograma de edades');\n",
        "plt.xlabel('Edades');\n",
        "plt.ylabel('Frecuencia');\n",
        "plt.xticks(extremos1);\n"
      ],
      "metadata": {
        "id": "yzcODAOcXbz0"
      },
      "execution_count": null,
      "outputs": []
    },
    {
      "cell_type": "code",
      "source": [
        "# Realmente no tienen que hacer el calculo con histogram se puede hacer todo directo"
      ],
      "metadata": {
        "id": "zITA6XOAZW8t"
      },
      "execution_count": null,
      "outputs": []
    },
    {
      "cell_type": "code",
      "source": [
        "import matplotlib.pyplot as plt\n",
        "\n",
        "edades = [12, 15, 13, 12, 18, 20, 19, 20, 13, 12, 13, 17, 15, 16, 13, 14, 13, 17, 19]\n",
        "\n",
        "intervalos = [10, 13, 16, 19, 22] # Qué intervalos quieren\n",
        "\n",
        "plt.hist(x = edades, bins = intervalos, color = '#F2AB6D', rwidth = 0.85, cumulative = True); #, cumulative = True\n",
        "plt.title('Histograma de edades ');\n",
        "plt.xlabel('Edades');\n",
        "plt.ylabel('Frecuencia');\n",
        "plt.xticks(intervalos);\n",
        "\n",
        "\n",
        "frecuencias4, extremos4 = np.histogram(edades, bins = intervalos)\n",
        "print(frecuencias4, extremos4) # Esto les puede servir para corroborar\n"
      ],
      "metadata": {
        "id": "522OcEUCZLeO"
      },
      "execution_count": null,
      "outputs": []
    },
    {
      "cell_type": "code",
      "source": [
        "# Supongamos que no tienen un sólo grupo, tienen dos\n",
        "\n",
        "edades = [12, 15, 13, 12, 18, 20, 19, 20, 13, 12, 13, 17, 15, 16, 13, 14, 13, 17, 19]\n",
        "edades2 = [20, 19, 17, 15, 15, 16, 13, 13, 19, 20, 20, 14, 15, 15, 18, 19, 13, 14, 15]\n",
        "\n",
        "intervalos = [10, 13, 16, 19, 22]\n",
        "\n",
        "fig, ax = plt.subplots()\n",
        "plt.hist(x = [edades, edades2], bins = intervalos, color = ['#F2AB6D' , '#36997e'], rwidth=0.85) ;#, cumulative = True\n",
        "plt.title('Histograma de edades ');\n",
        "plt.xlabel('Edades');\n",
        "plt.ylabel('Frecuencia');\n",
        "plt.xticks(intervalos);"
      ],
      "metadata": {
        "id": "YRt6Nx08cGMe"
      },
      "execution_count": null,
      "outputs": []
    },
    {
      "cell_type": "markdown",
      "source": [
        "# Utilizando Stacked\n",
        "\n",
        "Otra posibilidad que permiten los histogramas es el de usar stacked."
      ],
      "metadata": {
        "id": "9S7lPIaT_Ncq"
      }
    },
    {
      "cell_type": "code",
      "source": [
        "import matplotlib.pyplot as plt\n",
        "import numpy as np\n",
        "\n",
        "# Crearemos un array de números aleatorios\n",
        "x = np.random.randn(1000,3)\n",
        "\n",
        "# Si fueran a crear un histograma esto se podría ver así\n",
        "plt.hist(x,15)\n",
        "plt.xlabel('Edad')\n",
        "plt.ylabel('Población')\n",
        "plt.title('Conteo de Población')"
      ],
      "metadata": {
        "id": "7rxmrifR_OFM"
      },
      "execution_count": null,
      "outputs": []
    },
    {
      "cell_type": "code",
      "source": [
        "# Pero que tal que queremos ver la comparación de diferente manera?\n",
        "# Para eso está Stacked\n",
        "\n",
        "plt.hist(x, 15, stacked = 'True')\n",
        "plt.xlabel('Edad')\n",
        "plt.ylabel('Población')\n",
        "plt.title('Conteo de Población')"
      ],
      "metadata": {
        "id": "yHNHoJJ1_VkS"
      },
      "execution_count": null,
      "outputs": []
    },
    {
      "cell_type": "code",
      "source": [
        "# Y aún existe otra manera en donde en vez de que se encimen estén al mismo nivel\n",
        "\n",
        "x = np.random.rand(1000)\n",
        "y = np.sin(x)\n",
        "z = np.cos(x)\n",
        "\n",
        "\n",
        "plt.hist(x, 30, ec = 'k', alpha = 0.5)\n",
        "plt.hist(y, 30, ec = 'k', alpha = 0.5)\n",
        "plt.hist(z, 30, ec = 'k', alpha = 0.5)\n",
        "\n",
        "plt.xlabel('Edad')\n",
        "plt.ylabel('Población')\n",
        "plt.title('Conteo de Población')"
      ],
      "metadata": {
        "id": "nlSI-zD8_aLZ"
      },
      "execution_count": null,
      "outputs": []
    },
    {
      "cell_type": "markdown",
      "source": [
        "# Bar Plot\n",
        "\n",
        "Les mencioné que los histogramas son similares en apariencia con las gráficos de barras, la diferencia radica en que los gráficos de barras no se dividen por intervalos, más bien se grafica tal cuál la cantidad de mediciones o el tamaño de muestra de una categoría en específico."
      ],
      "metadata": {
        "id": "C-kG0fuh03RL"
      }
    },
    {
      "cell_type": "code",
      "source": [
        "estudiantes = np.array([\"Sólidos\", \"Atmosféricos\", \"Espaciales\", \"Acuáticos\", \"Ambientales\"])\n",
        "cantidad = np.array([3, 8, 1, 10, 3])\n",
        "\n",
        "plt.bar(estudiantes, cantidad, color = ['#bc6c25' , '#3a86ff', '#14213d', '#0081a7', '#a7c957'], width = 0.7);\n",
        "plt.title('Cantidad de alumnos por orientación ');\n",
        "plt.xlabel('Orientación');\n",
        "plt.ylabel('Alumnos');"
      ],
      "metadata": {
        "id": "Tv5FcI141QoJ"
      },
      "execution_count": null,
      "outputs": []
    },
    {
      "cell_type": "code",
      "source": [
        "# Se pueden hacer horizonales\n",
        "\n",
        "plt.barh(estudiantes, cantidad, color = ['#bc6c25' , '#3a86ff', '#14213d', '#0081a7', '#a7c957'], height = 0.83);\n",
        "plt.title('Cantidad de alumnos por orientación ');\n",
        "plt.xlabel('Orientación');\n",
        "plt.ylabel('Alumnos');"
      ],
      "metadata": {
        "id": "E4_0zsvo2XWm"
      },
      "execution_count": null,
      "outputs": []
    },
    {
      "cell_type": "code",
      "source": [
        "# Dependiendo de lo que quieran ver, la forma de presentar sus datos puede cambiar\n",
        "# Los datos vinieron de aqui https://allisonhorst.github.io/palmerpenguins/\n",
        "\n",
        "especie = [\"Adelie\", \"Chinstrap\", \"Gentoo\"]\n",
        "\n",
        "adelite  = [18.35, 38.79 ,189.95]\n",
        "chinstrap = [18.43, 48.83, 195.82]\n",
        "gentoo = [14.98, 47.50, 217.19]\n",
        "width = 0.20\n",
        "\n",
        "x = np.arange(3)\n",
        "plt.bar(x-0.2, adelite, width,color ='#d9f0ff')\n",
        "plt.bar(x, chinstrap, width, color ='#a3d5ff')\n",
        "plt.bar(x+0.2, gentoo, width, color ='#83c9f4')\n",
        "plt.xticks(x,['Ancho Pico', 'Largo Pico', 'Largo Aleta'] )\n",
        "plt.xlabel(\"Característica\")\n",
        "plt.ylabel(\"Largo en mm\")\n",
        "plt.legend(especie)"
      ],
      "metadata": {
        "id": "_QFg8I7w4z3B"
      },
      "execution_count": null,
      "outputs": []
    },
    {
      "cell_type": "code",
      "source": [
        "# Con los mismos datos podemos hacer una representación diferente, lo importante\n",
        "# es que sepan qué están haciendo\n",
        "\n",
        "especie = [\"Adelie\", \"Chinstrap\", \"Gentoo\"]\n",
        "\n",
        "ancho_p = [18.35, 18.43, 14.98]\n",
        "largo_p = [38.79, 48.83, 47.50]\n",
        "largo_aleta = [189.95, 195.82, 217.19]\n",
        "\n",
        "width = 0.20\n",
        "\n",
        "x = np.arange(3)\n",
        "plt.bar(x-0.2, ancho_p, width,color ='#d9f0ff')\n",
        "plt.bar(x, largo_p, width, color ='#a3d5ff')\n",
        "plt.bar(x+0.2, largo_aleta, width, color ='#83c9f4')\n",
        "plt.xticks(x,especie )\n",
        "plt.xlabel(\"Característica\")\n",
        "plt.ylabel(\"Largo en mm\")\n",
        "plt.legend(['Ancho Pico', 'Largo Pico', 'Largo Aleta'], loc = 'upper left', ncols = 3)"
      ],
      "metadata": {
        "id": "W0tQelKg8z2P"
      },
      "execution_count": null,
      "outputs": []
    },
    {
      "cell_type": "markdown",
      "source": [
        "Vamos entonces a trabajar con datos reales.\n",
        "El siguiente es un archivo.csv que tiene datos de la FIFA"
      ],
      "metadata": {
        "id": "W5Do-epSeouP"
      }
    },
    {
      "cell_type": "code",
      "source": [
        "fifa = pd.read_csv('fifa_data.csv')\n",
        "\n",
        "print(fifa)"
      ],
      "metadata": {
        "id": "F2dXQNmceuR2"
      },
      "execution_count": null,
      "outputs": []
    },
    {
      "cell_type": "code",
      "source": [
        "# Vamos entonces a analizar algunos datos. Realmente esta base permite analizar muchas cosas pero veammos su\n",
        "# nivel de habilidad (que es la columna Overall)\n",
        "\n",
        "plt.hist(x = fifa.Overall , color='#F2AB6D', rwidth=0.85) #, cumulative = True\n"
      ],
      "metadata": {
        "id": "pO7L3jp8e7X8"
      },
      "execution_count": null,
      "outputs": []
    },
    {
      "cell_type": "markdown",
      "source": [
        "Pero digamos que lo que quieren observar es todo el rango de 0 a 100 de 10 en 10."
      ],
      "metadata": {
        "id": "yA6sqMQ8ha0G"
      }
    },
    {
      "cell_type": "code",
      "source": [
        "# Bins\n",
        "bins = list(range(0,110,10))\n",
        "print(bins)\n",
        "\n",
        "plt.hist(x = fifa.Overall, bins = bins, color='#F2AB6D', rwidth=0.85) #, cumulative = True\n",
        "\n",
        "freq, ext = np.histogram(fifa.Overall, bins = bins)\n",
        "print(freq, ext) # Así podemos quitar algunos bins que no nos sirven"
      ],
      "metadata": {
        "id": "V-ckOKdghlg8"
      },
      "execution_count": null,
      "outputs": []
    },
    {
      "cell_type": "code",
      "source": [
        "# Hagamos nuestros propios rangos\n",
        "new_bins = [40,50,60,70,80,90,100]\n",
        "\n",
        "plt.hist(x = fifa.Overall, bins = new_bins, color='#e83cc0', rwidth=0.85);\n",
        "plt.title('Distribución de la habilidad de jugadores de FIFA (2018) ');\n",
        "plt.xlabel('Nivel de Habilidad');\n",
        "plt.ylabel('Número de Jugadores');\n",
        "plt.xticks(new_bins);"
      ],
      "metadata": {
        "id": "Ik0XSdY5jG-U"
      },
      "execution_count": null,
      "outputs": []
    },
    {
      "cell_type": "markdown",
      "source": [
        "Ahora veamos qué se puede hacer con un barplot"
      ],
      "metadata": {
        "id": "VSpvpZSLjvX0"
      }
    },
    {
      "cell_type": "code",
      "source": [
        "# Aqui también aprenderan cómo seleccionar diferentes filas que no necesariamente están seguidas\n",
        "\n",
        "new_fifa = fifa[fifa['Name'].isin( ['T. Kroos', 'P. Dybala', 'Coutinho'])]\n",
        "\n",
        "new_fifa = new_fifa[['Name','Overall', 'Potential', 'Age']]\n",
        "\n",
        "width = 0.20\n",
        "\n",
        "x = np.arange(3)\n",
        "plt.bar(x-0.2, new_fifa.Overall, width,color ='#1446a0')\n",
        "plt.bar(x, new_fifa.Potential, width, color ='#db3069')\n",
        "plt.bar(x+0.2, new_fifa.Age, width, color ='#f5d547')\n",
        "plt.xticks(x,['T.Kroos', 'P. Dybala', 'Coutinho'] )\n",
        "plt.xlabel(\"Característica\")\n",
        "plt.ylabel(\"Largo en mm\")\n",
        "plt.legend(['Overall', 'Potential', 'Age'], loc='center left', bbox_to_anchor=(1, 0.5))\n"
      ],
      "metadata": {
        "id": "ZS8-dil2j3pP"
      },
      "execution_count": null,
      "outputs": []
    },
    {
      "cell_type": "markdown",
      "source": [
        "Intenten replicar este"
      ],
      "metadata": {
        "id": "69myZGvyLoHT"
      }
    },
    {
      "cell_type": "code",
      "source": [],
      "metadata": {
        "id": "aQoLQcIWJcxs"
      },
      "execution_count": null,
      "outputs": []
    },
    {
      "cell_type": "code",
      "source": [],
      "metadata": {
        "id": "xiFLGgQjj7bZ"
      },
      "execution_count": null,
      "outputs": []
    },
    {
      "cell_type": "code",
      "source": [],
      "metadata": {
        "id": "nRgw-qaikAJf"
      },
      "execution_count": null,
      "outputs": []
    },
    {
      "cell_type": "markdown",
      "source": [
        "Muy bien, con los conocimientos que han adquirido hasta el momento va un ejercicio.\n",
        "\n",
        "Con los datos de FIFA repliquen los siguientes histogramas pero con otros clubes\n"
      ],
      "metadata": {
        "id": "pbDUIWFfkUbQ"
      }
    },
    {
      "cell_type": "code",
      "source": [],
      "metadata": {
        "id": "t7jnqofSosCm"
      },
      "execution_count": null,
      "outputs": []
    },
    {
      "cell_type": "code",
      "source": [],
      "metadata": {
        "id": "sA51P6DHkK19"
      },
      "execution_count": null,
      "outputs": []
    },
    {
      "cell_type": "markdown",
      "source": [],
      "metadata": {
        "id": "T1CxYuEsL2rN"
      }
    },
    {
      "cell_type": "code",
      "source": [],
      "metadata": {
        "id": "ZXx7411PL-D4"
      },
      "execution_count": null,
      "outputs": []
    },
    {
      "cell_type": "code",
      "source": [],
      "metadata": {
        "id": "9yjhpsE8Ph9M"
      },
      "execution_count": null,
      "outputs": []
    },
    {
      "cell_type": "code",
      "source": [],
      "metadata": {
        "id": "-AkH-_2AVEiY"
      },
      "execution_count": null,
      "outputs": []
    },
    {
      "cell_type": "code",
      "source": [],
      "metadata": {
        "id": "Dzrj1fgvkUwv"
      },
      "execution_count": null,
      "outputs": []
    },
    {
      "cell_type": "markdown",
      "source": [],
      "metadata": {
        "id": "lvEU46LqoYgd"
      }
    },
    {
      "cell_type": "code",
      "source": [],
      "metadata": {
        "id": "A2LPxKlUoVnF"
      },
      "execution_count": null,
      "outputs": []
    }
  ]
}