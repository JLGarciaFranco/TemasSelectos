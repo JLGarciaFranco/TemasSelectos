{
  "nbformat": 4,
  "nbformat_minor": 0,
  "metadata": {
    "colab": {
      "provenance": []
    },
    "kernelspec": {
      "name": "python3",
      "display_name": "Python 3"
    },
    "language_info": {
      "name": "python"
    }
  },
  "cells": [
    {
      "cell_type": "markdown",
      "source": [
        "# Tarea/Examen 3\n",
        "\n",
        "A continuación están las instrucciones para cada uno de los ejercicios de su siguiente evaluación.\n",
        "\n",
        "Recuerden leer muy bien todo lo que se les pide.\n",
        "\n",
        "Pueden usar documentación externa para resolver algún problema, pero en todo caso tienen que explicar qué es lo que está haciendo esa solución o de dónde la obtuvieron.\n",
        "\n",
        "El código debe de estar debidamente comentado, indicando qué es lo que están haciendo.\n",
        "\n",
        "Recuerden las buenas prácticas al momento de nombrar variables.\n",
        "\n",
        "Recuerden cómo es que deben de presentar una buena gráfica.\n"
      ],
      "metadata": {
        "id": "TRdGmJ7es3TY"
      }
    },
    {
      "cell_type": "markdown",
      "source": [
        "## Ejercicio 1: Las funciones de regresión\n",
        "\n",
        "*  Escriba una función que realice todas las regresiones que vimos y que obtenga la mejor relación entre un par de variables.\n",
        "*  Esta función debe realizar una regresión lineal simple, polinomial, exponencial, hiperbólica y logística.\n",
        "*  Su función debe tener como parámetros de entrada dos arreglos $x$ y $y$ que sean de 1D.\n",
        "*  Pruebe su función utilizando los datos vistos en la clase de Machine Learning que llevan el nombre de \"Weather.csv\" y con sus resultados demuestre e interprete qué relación tienen los pares de variables 1) \"Temp3pm\"vs \"Humidity3pm\", 2)  \"Temp3pm\"vs \"Pressure3pm\", y 3) \"Tempmin\" vs \"Tempmax\".\n",
        "\n",
        "\n",
        "\n"
      ],
      "metadata": {
        "id": "TVNudNz3s7Mf"
      }
    },
    {
      "cell_type": "code",
      "source": [],
      "metadata": {
        "id": "OsRljoVQ5dWK"
      },
      "execution_count": null,
      "outputs": []
    },
    {
      "cell_type": "markdown",
      "source": [
        "## Ejercicio 2: Tendencias\n",
        "\n",
        "Un análisis de tendencia es un método utilizado para identificar patrones o cambios perceptibles en los datos a lo largo del tiempo o en relación con otras variables. El análisis de tendencia usando regresión lineal permite identificar y cuantificar cambios en los datos a lo largo del tiempo o en relación con otras variables. Específicamente, en el contexto de este ejercicio, *la tendencia* es la pendiente obtenida como coeficiente de regresión lineal cuando se analiza la serie de tiempo de una variable, como la temperatura. En este caso, la temperatura es la variable dependiente y el tiempo es la variable independiente.\n",
        "\n",
        "*  Utilizando los datos de temperatura superficial del mar (SST) de HadSST, calcule las siguientes tendencias en unidades de grados Celsius por año:\n",
        "\n",
        "  *  Tendencia lineal de la SST promedio global desde 1950 a la fecha.\n",
        "  \n",
        "  *  Tendencia lineal de la SST promedio global desde 1950 a 1980 y de 1980 a la fecha. Compare los resultados entre ambos periodos y discuta las razones posibles para las diferencias que encontró.\n",
        "\n",
        "  * Repita los dos puntos anteriores para el promedio de la SST sobre el Golfo de México y el mar Caribe. Además utilice su función de regresión del punto 1 para determinar si la tendencia actual de la SST es lineal, polinomial o exponencial.\n",
        "\n",
        "\n",
        "**Extra** +10 puntos\n",
        "\n",
        "Considere todos los puntos de la SST cerca de México, supongamos 5-40 N y 230-290 E. Para cada punto, calcule la tendencia lineal de 1950 a la fecha y muestre sus resultados para el coeficiente asociado a la pendiente o tendencia como un mapa.  "
      ],
      "metadata": {
        "id": "wssQB1czvXzo"
      }
    },
    {
      "cell_type": "code",
      "execution_count": null,
      "metadata": {
        "id": "AwWvou8iswH6"
      },
      "outputs": [],
      "source": []
    },
    {
      "cell_type": "markdown",
      "source": [
        "## Ejercicio 3: Evolución decadal\n",
        "\n",
        "Gracias a que tenemos más datos, podemos hacer análisis de mayor extensión de tiempo.\n",
        "En este lugar de estudio uno de los meses más cálidos es enero, y veremos su comportamiento a lo largo de las décadas.\n",
        "Utilizando los datos: \"temp_1950_2023.nc\" hagan lo siguiente:\n",
        "\n",
        "\n",
        "\n",
        "*   Realicen mapas de anomalías de cada década completa disponible: 1950-1959, 1960-1969 etc. El periodo de referencia a tomar es: 1981 - 2010.\n",
        "*   Realicen un gráfico de barras en donde se muestren las anomalías de área de cada una de las décadas. El periodo de referencia a tomar también es el de 1981 - 2010.\n",
        "\n",
        "\n",
        "¿Cómo es el comportamiento de la temperatura de cada década?\n",
        "¿Qué ocurre si cambian el periodo de referencia? Por ejemplo: 1950 - 1981 o 1991 - 2020? ¿Se respeta el comportamiento o cambia algo? ¿Por qué?\n",
        "\n",
        "Notas:\n",
        "* En el segundo punto las anomalías de área se refiere a que tienen que hacer el promedio de área por cáda década y cada barra representa cada década.\n",
        "* Las unidades deben de estar en grados Celsius.\n",
        "* El colorbar y los ticks deben de ser los mismos para todos los mapas.\n",
        "\n",
        "\n",
        "\n"
      ],
      "metadata": {
        "id": "vlZwcYsNzAKk"
      }
    },
    {
      "cell_type": "code",
      "source": [],
      "metadata": {
        "id": "lh4__X1V47Vc"
      },
      "execution_count": null,
      "outputs": []
    },
    {
      "cell_type": "markdown",
      "source": [
        "## Ejercicio 4: Temperatura del Golfo de México\n",
        "\n",
        "Ya han trabajado con las temperaturas en el Golfo. Utilizando la base de datos \"Golfo.nc\" hagan lo siguiente:\n",
        "\n",
        "\n",
        "\n",
        "*   Hagan el promedio de todos los veranos por cada año (JJA), posteriormente promedien en el área y hagan un gráfico de barras en donde muestren las anomalías de temperatura de cada año, el periodo base a utilizar es: 1980 - 2000\n",
        "\n",
        "*   Encontrar cuál fue el año más frío y más cálido (no vale a ojo).\n",
        "* Hacer un mapa de anomalía donde muestren el año más frío y más cálido que encontraron en el punto anterior. El periodo base es el mismo que en el primer punto.\n",
        "\n",
        "\n",
        "Notas:\n",
        "\n",
        "*   Las unidades deben de estar en grados Celsius\n",
        "\n",
        "\n",
        "\n",
        "\n",
        "\n"
      ],
      "metadata": {
        "id": "LkgPm8GS4-F_"
      }
    },
    {
      "cell_type": "code",
      "source": [],
      "metadata": {
        "id": "ZPOSfrh7_Dsp"
      },
      "execution_count": null,
      "outputs": []
    },
    {
      "cell_type": "markdown",
      "source": [
        "## Ejercicio 5: Extremos en una tabla\n",
        "\n",
        "Recuerden que otra manera de ver extremos es mediante el uso de tablas, en donde señalen cierta característica. Para este ejercicio utilizarán el archivo llamado: \"Laminas_TAVG.csv\". Como podrán imaginar son datos de temperatura promedio de un lugar. Su trabajo consiste en:\n",
        "\n",
        "\n",
        "\n",
        "*   Calcular las anomalías estandarizadas por columna (es decir por mes), tomando como periodo de referencia los años 1980 - 2010.\n",
        "\n",
        "*   Deberán poner colores a las celdas dependiendo de los valores de la anomalía: Para valores por arriba de 2 D.E. usen rojo oscuro, para valores entre 1 y 2 D.E. usen naranja. Para valores por debajo de -2 D.E. Usen azul oscuro, para valores entre 1 y 2 D.E. usen azul claro. Los valores que estén entre -0.5 y 0.5 utilicen gris.\n",
        "\n",
        "* Expliquen sus resultados"
      ],
      "metadata": {
        "id": "HvCzMNlk28iL"
      }
    },
    {
      "cell_type": "code",
      "source": [],
      "metadata": {
        "id": "PyZ1FT4gV4Xs"
      },
      "execution_count": null,
      "outputs": []
    },
    {
      "cell_type": "markdown",
      "source": [
        "# Ejercicio 6\n",
        "\n",
        "Considera la base de datos de cobertura de vegetación \"covtype.csv\".\n",
        "\n",
        "1. Construye un código de clasificación utilizando *scikit-learn* para hacer clasificación logística multivariada. Este código debe tomar un cierto número de variables incluidas en la base de datos con el objetivo de clasificar al tipo de cobertura. Este código debe hacer el proceso de separar los datos en una porción de datos tipo \"train\" y otra tipo \"test\" como se vio en clase. Su código debe funcionar para cualquier número de variables predictoras y para predecir cualquiera de todas las coberturas de vegetación.\n",
        "\n",
        "2. La función o código construido debe además reportar resultados o métricas de evaluación del modelo como lo son el Error Absoluto Medio, Error Cuadrático Medio, Coeficiente de Determinación para cada evaluación del modelo.\n",
        "\n",
        "3. Muestre que su función es útil, tomando primero como ejemplo a la categoría de tipo de vegetación C3 y use su función para clasificarla correctamente utilizando 6 variables (las que usted guste) como predictoras para la clasificación. Repita el análisis pero utilizando sólo 3 variables. Explique sus resultados concienzudamente y determine cuál de los dos modelos de clasificación ¿y qué implicaciones tiene? ¿usted terminó con un buen modelo para categorizar vegetación?\n",
        "\n",
        "*Extra (+10 puntos)*\n",
        "Utilizando lo aprendido en sus clases de ML, construya un modelo de clasificación que sea mejor que el logístico de este ejercicio. Muestre, a través de la evaluación de las métricas de rendimiento que efectivamente es mejor su nuevo modelo de ML."
      ],
      "metadata": {
        "id": "Vd5qu_sxV45b"
      }
    },
    {
      "cell_type": "code",
      "source": [],
      "metadata": {
        "id": "TLLKN4NS2z_V"
      },
      "execution_count": null,
      "outputs": []
    },
    {
      "cell_type": "markdown",
      "source": [
        "## Ejercicio 7: Percentiles de lluvia\n",
        "\n",
        "Para este ejercicio, utilizaran los datos que se llaman \"Ejercicio_7.nc\" que contiene datos de precipitación. Con ellos deberán de hacer lo siguiente:\n",
        "\n",
        "\n",
        "\n",
        "*   Obtengan el promedio de área de todos los años.\n",
        "*   Obtengan los percentiles 1 y 99 y encuentren los años que están por debajo del P1 y por arriba del P99.\n",
        "* Obtengan la anomalía entre los años más lluviosos y los más secos. Pueden tomar de referencia el que ustedes gusten.\n",
        "* Expliquen qué significa el mapa que obtuvieron.\n",
        "\n",
        "\n",
        "\n",
        "NOTA:\n",
        "* Si hay más de un año dentro de cada categoría de los percentiles obtengan el promedio de todos.\n",
        "* Las unidades deben de estar expresadas en mm/mes.\n",
        "\n",
        "\n"
      ],
      "metadata": {
        "id": "PK_JeFVN213w"
      }
    },
    {
      "cell_type": "code",
      "source": [],
      "metadata": {
        "id": "iGAnhf054ybM"
      },
      "execution_count": null,
      "outputs": []
    },
    {
      "cell_type": "markdown",
      "source": [
        "# Ejercicio 8 (Extra - ML)\n",
        "\n",
        "### Valor de 20 de 100 puntos sobre la calificación de este examen\n",
        "\n",
        "La base de datos **'ROCLOUD'** presenta el tamaño de los ciclones tropicales (CTs) del Atlántico usando un radio desde el centro del CT hasta el punto más lejano donde se reportan nubes en imagenes infrarrojas.\n",
        "\n",
        "El objetivo de este ejercicio es clasificar a los CTs, específicamente evaluar si un CT es categorizado como grande, mediano y pequeño a partir de las condiciones de la atmósfera en función de ciertos parámetros:\n",
        "\n",
        "A) Es grande si el radio del CT supera los 750 km.\n",
        "\n",
        "B) Es pequeño si el radio del CT es menor a los 550 km.\n",
        "\n",
        "C) Es mediano si el radio del CT está entre los dos valores anteriores.\n",
        "\n",
        "Los datos que quieren usarse como variables predictoras para la clasificación son:\n",
        " - la posición de la tormenta (lon,lat)\n",
        " - la velocidad máxima del viento (MWS)\n",
        " - la presión mínima en el centro de la tormenta\n",
        " - la humedad a 500 mb\n",
        " - la cizalladura del viento\n",
        " - la velocidad vertical\n",
        " - la vorticidad a 500 mb\n",
        " - el tamaño del ciclón tropical\n",
        "\n",
        "### *Procedimiento*\n",
        "\n",
        "a) Crear una nueva columna categórica para los tamaños del CT.\n",
        "\n",
        "b) Realizar una transformación de las variables para que cada una tenga una media de cero y una desviación estandar de 1 (distribución normal o estándar).\n",
        "\n",
        "c) Dividir los datos para ingresar en los modelos y posteriormente secciona las variables en 70% para entrenamiento y 30% para prueba (utilizando la función de scikit-learn).\n",
        "\n",
        "d) Utiliza los modelos de clasificación vistos en clase (KNN, SVM y árbol de decisión) para predecir las variables.\n",
        "\n",
        "e) Evalúa todos los modelos utilizando las métricas de evaluación vistas en clase y determina ¿cuál es el mejor modelo para alcanzar los objetivos de clasificación de tamaño? ¿El mejor modelo es un buen modelo?\n",
        "\n",
        "Notas:\n",
        "- ANTES de comenzar revisa los datos para que estés seguro que estén limpios de nulos, o que no haya información extraña.\n",
        "- Para las métricas de evaluación considera que la clasificación NO ES BINARIA, LEE LA DOCUMENTACIÓN DE LAS FUNCIONES PARA QUE NO TE SALGA ERROR.\n"
      ],
      "metadata": {
        "id": "L9FroNDi_Ypl"
      }
    },
    {
      "cell_type": "code",
      "source": [],
      "metadata": {
        "id": "fYgbjRV4_X3r"
      },
      "execution_count": null,
      "outputs": []
    }
  ]
}