{
 "cells": [
  {
   "cell_type": "markdown",
   "id": "d3dad898",
   "metadata": {},
   "source": [
    "---\n",
    "<a name='title'></a>\n",
    "# **<font color=\"Navy\"> Temas Selectos </font>**\n",
    "## **<font color=\"RoyalBlue\"> Tema 2 Análisis de datos </font>**\n",
    "### **<font color=\"DodgerBlue\"> Notebook 3: Xarray </font>**\n",
    "#### Escuela Nacional de Ciencias de la Tierra\n",
    "#### Semestre 2024-II\n",
    "\n",
    "---\n",
    "\n",
    "## **<font color=\"ForestGreen\">  ¿Por qué Xarray? </font>**\n",
    "\n",
    "\n",
    "Xarray es una biblioteca de Python poderosa y versátil diseñada para trabajar con arreglos multidimensionales etiquetados y conjuntos de datos. En el contexto de las ciencias de la Tierra, xarray es una herramienta invaluable para manejar datos complejos y multidimensionales, como series temporales, datos espaciales y climáticos.\n",
    "\n",
    "Algunas de las características clave de xarray que lo hacen especialmente útil en las ciencias de la Tierra son:\n",
    "\n",
    "- Etiquetado de dimensiones y coordenadas: Xarray permite etiquetar dimensiones y coordenadas, lo que facilita la manipulación y el análisis de datos multidimensionales.\n",
    "\n",
    "- Integración con formatos de datos comunes: Xarray se integra fácilmente con formatos de datos comunes en las ciencias de la Tierra, como archivos netCDF, lo que facilita la lectura, escritura y manipulación de estos datos.\n",
    "\n",
    "- Operaciones eficientes en datos multidimensionales: Xarray proporciona una API intuitiva y eficiente para realizar operaciones en datos multidimensionales, lo que es fundamental para el análisis de datos geoespaciales y climáticos.\n",
    "\n",
    "- Interpolación y re-muestreo: Xarray ofrece funcionalidades avanzadas para la interpolación y re-muestreo de datos, lo que es crucial en aplicaciones como la climatología y la oceanografía.\n"
   ]
  },
  {
   "cell_type": "code",
   "execution_count": 1,
   "id": "1db27d08",
   "metadata": {},
   "outputs": [],
   "source": [
    "import xarray as xr\n",
    "import numpy as np\n",
    "import pandas as pd"
   ]
  },
  {
   "cell_type": "code",
   "execution_count": 2,
   "id": "e169fb22",
   "metadata": {},
   "outputs": [
    {
     "name": "stdout",
     "output_type": "stream",
     "text": [
      "<xarray.DataArray (time: 2, space: 2)>\n",
      "array([[1, 2],\n",
      "       [3, 4]])\n",
      "Dimensions without coordinates: time, space\n"
     ]
    }
   ],
   "source": [
    "\n",
    "# Crear un conjunto de datos con dimensiones de tiempo y espacio\n",
    "data = xr.DataArray([[1, 2], [3, 4]], dims=(\"time\", \"space\"))\n",
    "print(data)"
   ]
  },
  {
   "cell_type": "markdown",
   "id": "14110dcc",
   "metadata": {},
   "source": [
    "En Xarray, una **dimensión** se refiere a una de las dimensiones o ejes a lo largo de los cuales se organiza un conjunto de datos multidimensional. Por ejemplo, en un conjunto de datos climáticos, podríamos tener dimensiones como tiempo, latitud y longitud.\n",
    "\n",
    "Las dimensiones se definen al crear un conjunto de datos o una variable en Xarray. Veamos un ejemplo de cómo crear un conjunto de datos con dimensiones de tiempo y espacio.\n",
    "\n",
    "Las **coordenadas** en Xarray son etiquetas asociadas a las dimensiones que proporcionan información sobre los valores en esa dimensión. Por ejemplo, en un conjunto de datos climáticos, las coordenadas de tiempo podrían representar fechas y horas, mientras que las coordenadas de latitud y longitud podrían representar ubicaciones geográficas.\n",
    "\n",
    "Las coordenadas se definen al crear un conjunto de datos o una variable en Xarray, similar a las dimensiones."
   ]
  },
  {
   "cell_type": "code",
   "execution_count": 3,
   "id": "091b2019",
   "metadata": {},
   "outputs": [
    {
     "name": "stdout",
     "output_type": "stream",
     "text": [
      "<xarray.DataArray (time: 2, space: 2)>\n",
      "array([[1, 2],\n",
      "       [3, 4]])\n",
      "Coordinates:\n",
      "  * time     (time) int64 0 1\n",
      "  * space    (space) <U1 'A' 'B'\n"
     ]
    }
   ],
   "source": [
    "# Definir coordenadas para el conjunto de datos\n",
    "time_coords = [0, 1]\n",
    "space_coords = [\"A\", \"B\"]\n",
    "data_with_coords = xr.DataArray([[1, 2], [3, 4]], dims=(\"time\", \"space\"),\n",
    "                                coords={\"time\": time_coords, \"space\": space_coords})\n",
    "print(data_with_coords)"
   ]
  },
  {
   "cell_type": "code",
   "execution_count": 4,
   "id": "574d3e2e",
   "metadata": {},
   "outputs": [
    {
     "name": "stdout",
     "output_type": "stream",
     "text": [
      "<xarray.DataArray 'temperature' (time: 2, space: 2)>\n",
      "array([[1, 2],\n",
      "       [3, 4]])\n",
      "Coordinates:\n",
      "  * time     (time) int64 0 1\n",
      "  * space    (space) <U1 'A' 'B'\n"
     ]
    }
   ],
   "source": [
    "# Crear una variable con dimensiones y coordenadas\n",
    "variable = xr.DataArray([[1, 2], [3, 4]], dims=(\"time\", \"space\"),\n",
    "                        coords={\"time\": time_coords, \"space\": space_coords},\n",
    "                        name=\"temperature\")\n",
    "print(variable)"
   ]
  },
  {
   "cell_type": "markdown",
   "id": "ff653d0c",
   "metadata": {},
   "source": [
    "Un objeto del tipo `xr.DataArray` en Xarray es una estructura de datos que representa un conjunto de datos multidimensional. Tiene varios atributos importantes que definen su estructura y contenido. Aquí están los principales atributos de un xr.DataArray:\n",
    "\n",
    "- data: Este atributo contiene los datos subyacentes almacenados en el xr.DataArray, que pueden ser una matriz NumPy u otro tipo de arreglo.\n",
    "\n",
    "- dims: Este atributo es una tupla que especifica los nombres de las dimensiones del xr.DataArray. Por ejemplo, (\"time\", \"latitude\", \"longitude\").\n",
    "\n",
    "- coords: Este atributo es un diccionario que contiene las coordenadas asociadas al xr.DataArray. Cada clave en el diccionario representa el nombre de una dimensión y su valor es un arreglo NumPy o un objeto xr.IndexVariable que contiene las etiquetas de coordenadas para esa dimensión.\n",
    "\n",
    "- attrs: Este atributo es un diccionario que contiene metadatos adicionales o atributos asociados al xr.DataArray. Estos atributos pueden ser información sobre la fuente de los datos, unidades, descripción, etc.\n",
    "\n",
    "- name: Este atributo es un nombre opcional para el xr.DataArray, que proporciona una etiqueta descriptiva para los datos.\n",
    "\n",
    "- shape: Este atributo devuelve la forma del arreglo de datos subyacente como una tupla de enteros.\n",
    "\n",
    "- dtype: Este atributo devuelve el tipo de datos de los elementos en el arreglo subyacente.\n",
    "\n",
    "Un ejemplo para ilustrar estos atributos:"
   ]
  },
  {
   "cell_type": "code",
   "execution_count": 5,
   "id": "5e5b8a6c",
   "metadata": {},
   "outputs": [
    {
     "name": "stdout",
     "output_type": "stream",
     "text": [
      "<xarray.DataArray (time: 3, latitude: 40, longitude: 40)>\n",
      "array([[[0.47238906, 0.13906644, 0.70581043, ..., 0.91324497,\n",
      "         0.3680636 , 0.11317664],\n",
      "        [0.8628639 , 0.16574894, 0.87866337, ..., 0.65343035,\n",
      "         0.28832681, 0.42251622],\n",
      "        [0.77396982, 0.10348545, 0.3816512 , ..., 0.78263792,\n",
      "         0.0599113 , 0.07608102],\n",
      "        ...,\n",
      "        [0.93809485, 0.86597438, 0.85610933, ..., 0.87494536,\n",
      "         0.17195774, 0.05450094],\n",
      "        [0.60486266, 0.83994374, 0.75297525, ..., 0.51438412,\n",
      "         0.53045481, 0.09868856],\n",
      "        [0.91674209, 0.83957699, 0.45593344, ..., 0.72499986,\n",
      "         0.13925117, 0.66331279]],\n",
      "\n",
      "       [[0.96594151, 0.51060134, 0.43665512, ..., 0.38376198,\n",
      "         0.9069291 , 0.4279493 ],\n",
      "        [0.83901146, 0.77998201, 0.26048349, ..., 0.7853652 ,\n",
      "         0.59204568, 0.08136574],\n",
      "        [0.45855689, 0.64047189, 0.24652281, ..., 0.68874123,\n",
      "         0.148307  , 0.2615956 ],\n",
      "...\n",
      "        [0.9535961 , 0.790424  , 0.09979445, ..., 0.71460862,\n",
      "         0.64292533, 0.59506879],\n",
      "        [0.28658057, 0.33402896, 0.47763133, ..., 0.9123826 ,\n",
      "         0.32239864, 0.27910854],\n",
      "        [0.83842104, 0.74211024, 0.6154745 , ..., 0.33619957,\n",
      "         0.9959654 , 0.43869789]],\n",
      "\n",
      "       [[0.61096844, 0.20767506, 0.84037977, ..., 0.70251433,\n",
      "         0.06071242, 0.8163427 ],\n",
      "        [0.85726992, 0.64899177, 0.65288961, ..., 0.24946633,\n",
      "         0.59731722, 0.35359577],\n",
      "        [0.18943683, 0.60866167, 0.09829942, ..., 0.32402392,\n",
      "         0.65672673, 0.86494231],\n",
      "        ...,\n",
      "        [0.45906839, 0.62240257, 0.48407154, ..., 0.31694456,\n",
      "         0.3098225 , 0.27589683],\n",
      "        [0.93782054, 0.45983474, 0.35656485, ..., 0.7702337 ,\n",
      "         0.39400525, 0.08713157],\n",
      "        [0.84661537, 0.53707756, 0.10335213, ..., 0.82212798,\n",
      "         0.85256601, 0.49942242]]])\n",
      "Coordinates:\n",
      "  * time       (time) datetime64[ns] 2024-01-01 2024-01-02 2024-01-03\n",
      "  * latitude   (latitude) float64 -90.0 -85.38 -80.77 ... 80.77 85.38 90.0\n",
      "  * longitude  (longitude) float64 -180.0 -170.8 -161.5 ... 161.5 170.8 180.0\n",
      "Attributes:\n",
      "    units:        mm\n",
      "    description:  Precipitación diaria\n"
     ]
    }
   ],
   "source": [
    "# Datos de ejemplo con random\n",
    "data = np.random.rand(3, 40,40)\n",
    "time_coords = pd.date_range(\"2024-01-01\", periods=3)\n",
    "\n",
    "# Crear un xr.DataArray\n",
    "arr = xr.DataArray(data, dims=(\"time\", \"latitude\", \"longitude\"),\n",
    "                   coords={\"time\": time_coords, \"latitude\": np.linspace(-90, 90, 40),\n",
    "                \"longitude\": np.linspace(-180, 180, 40)},\n",
    "                   attrs={\"units\": \"mm\", \"description\": \"Precipitación diaria\"})\n",
    "print(arr)\n"
   ]
  },
  {
   "cell_type": "code",
   "execution_count": 6,
   "id": "b9b67109",
   "metadata": {},
   "outputs": [
    {
     "name": "stdout",
     "output_type": "stream",
     "text": [
      "Data:\n",
      " [[[0.47238906 0.13906644 0.70581043 ... 0.91324497 0.3680636  0.11317664]\n",
      "  [0.8628639  0.16574894 0.87866337 ... 0.65343035 0.28832681 0.42251622]\n",
      "  [0.77396982 0.10348545 0.3816512  ... 0.78263792 0.0599113  0.07608102]\n",
      "  ...\n",
      "  [0.93809485 0.86597438 0.85610933 ... 0.87494536 0.17195774 0.05450094]\n",
      "  [0.60486266 0.83994374 0.75297525 ... 0.51438412 0.53045481 0.09868856]\n",
      "  [0.91674209 0.83957699 0.45593344 ... 0.72499986 0.13925117 0.66331279]]\n",
      "\n",
      " [[0.96594151 0.51060134 0.43665512 ... 0.38376198 0.9069291  0.4279493 ]\n",
      "  [0.83901146 0.77998201 0.26048349 ... 0.7853652  0.59204568 0.08136574]\n",
      "  [0.45855689 0.64047189 0.24652281 ... 0.68874123 0.148307   0.2615956 ]\n",
      "  ...\n",
      "  [0.9535961  0.790424   0.09979445 ... 0.71460862 0.64292533 0.59506879]\n",
      "  [0.28658057 0.33402896 0.47763133 ... 0.9123826  0.32239864 0.27910854]\n",
      "  [0.83842104 0.74211024 0.6154745  ... 0.33619957 0.9959654  0.43869789]]\n",
      "\n",
      " [[0.61096844 0.20767506 0.84037977 ... 0.70251433 0.06071242 0.8163427 ]\n",
      "  [0.85726992 0.64899177 0.65288961 ... 0.24946633 0.59731722 0.35359577]\n",
      "  [0.18943683 0.60866167 0.09829942 ... 0.32402392 0.65672673 0.86494231]\n",
      "  ...\n",
      "  [0.45906839 0.62240257 0.48407154 ... 0.31694456 0.3098225  0.27589683]\n",
      "  [0.93782054 0.45983474 0.35656485 ... 0.7702337  0.39400525 0.08713157]\n",
      "  [0.84661537 0.53707756 0.10335213 ... 0.82212798 0.85256601 0.49942242]]]\n",
      "Dimensions: ('time', 'latitude', 'longitude')\n",
      "Coordinates: Coordinates:\n",
      "  * time       (time) datetime64[ns] 2024-01-01 2024-01-02 2024-01-03\n",
      "  * latitude   (latitude) float64 -90.0 -85.38 -80.77 ... 80.77 85.38 90.0\n",
      "  * longitude  (longitude) float64 -180.0 -170.8 -161.5 ... 161.5 170.8 180.0\n",
      "Attributes: {'units': 'mm', 'description': 'Precipitación diaria'}\n",
      "Name: None\n",
      "Shape: (3, 40, 40)\n",
      "dtype: float64\n"
     ]
    }
   ],
   "source": [
    "# Mostrar los atributos\n",
    "print(\"Data:\\n\", arr.data)\n",
    "print(\"Dimensions:\", arr.dims)\n",
    "print(\"Coordinates:\", arr.coords)\n",
    "print(\"Attributes:\", arr.attrs)\n",
    "print(\"Name:\", arr.name)\n",
    "print(\"Shape:\", arr.shape)\n",
    "print(\"dtype:\", arr.dtype)"
   ]
  },
  {
   "cell_type": "markdown",
   "id": "3af7b439",
   "metadata": {},
   "source": [
    "### <font color=\"ForestGreen\"> Slicing </font>\n",
    "\n",
    "**Slicing** se refiere al proceso de seleccionar un subconjunto de datos a lo largo de una o más dimensiones de un conjunto de datos multidimensional. Es una operación fundamental que permite acceder y trabajar con partes específicas de los datos de manera eficiente.\n",
    "\n",
    "#### <font color=\"ForestGreen\"> Slicing por Coordenadas </font>\n",
    "\n",
    "El slicing en Xarray se puede realizar utilizando etiquetas de coordenadas o índices enteros a lo largo de las dimensiones del conjunto de datos. Por ejemplo, si tenemos un conjunto de datos climáticos multidimensionales con dimensiones de tiempo, latitud y longitud, podemos realizar slicing para seleccionar datos para un rango de tiempo específico, una región geográfica particular o un conjunto de valores de una variable específica.ón s\n",
    "\n",
    "A continuación se muestra un ejemplo utilizando el método `.sel()` que funciona así: https://docs.xarray.dev/en/latest/generated/xarray.DataArray.sel.html."
   ]
  },
  {
   "cell_type": "code",
   "execution_count": 7,
   "id": "1e6116a9",
   "metadata": {},
   "outputs": [
    {
     "name": "stdout",
     "output_type": "stream",
     "text": [
      "<xarray.DataArray (time: 3, latitude: 20, longitude: 40)>\n",
      "array([[[0.95617481, 0.7172954 , 0.3022265 , ..., 0.39951392,\n",
      "         0.61565239, 0.53876715],\n",
      "        [0.35212115, 0.3823248 , 0.69939514, ..., 0.96675054,\n",
      "         0.01302083, 0.48784561],\n",
      "        [0.95676651, 0.25857296, 0.1495846 , ..., 0.9445393 ,\n",
      "         0.50914652, 0.07439851],\n",
      "        ...,\n",
      "        [0.70099077, 0.78663543, 0.02245047, ..., 0.1181314 ,\n",
      "         0.32156118, 0.00950779],\n",
      "        [0.25623232, 0.95502385, 0.53196963, ..., 0.73898941,\n",
      "         0.38757302, 0.16848168],\n",
      "        [0.79700976, 0.52134916, 0.94573268, ..., 0.25974422,\n",
      "         0.22538789, 0.42071781]],\n",
      "\n",
      "       [[0.95032188, 0.92585794, 0.12321014, ..., 0.78512918,\n",
      "         0.06617069, 0.31504762],\n",
      "        [0.99067666, 0.32754602, 0.82810027, ..., 0.50147502,\n",
      "         0.53022343, 0.33224871],\n",
      "        [0.80404427, 0.70094758, 0.08016054, ..., 0.87589249,\n",
      "         0.9355479 , 0.60853396],\n",
      "...\n",
      "        [0.826131  , 0.35633376, 0.25388892, ..., 0.47850963,\n",
      "         0.42525475, 0.41178231],\n",
      "        [0.19138178, 0.06990157, 0.25533477, ..., 0.77779563,\n",
      "         0.82708145, 0.50808732],\n",
      "        [0.40474928, 0.82055154, 0.93254331, ..., 0.91083591,\n",
      "         0.88227981, 0.86088467]],\n",
      "\n",
      "       [[0.20117128, 0.74589757, 0.70649741, ..., 0.16594325,\n",
      "         0.53164251, 0.15455562],\n",
      "        [0.88699763, 0.12695116, 0.42208019, ..., 0.15318388,\n",
      "         0.1825411 , 0.15567787],\n",
      "        [0.03448288, 0.54624415, 0.50890072, ..., 0.23321508,\n",
      "         0.99660202, 0.38233635],\n",
      "        ...,\n",
      "        [0.10818555, 0.7640349 , 0.50272639, ..., 0.36107934,\n",
      "         0.36870788, 0.17827833],\n",
      "        [0.25334229, 0.03298913, 0.582467  , ..., 0.13933224,\n",
      "         0.25673398, 0.03104429],\n",
      "        [0.54597439, 0.25539139, 0.11338077, ..., 0.3212553 ,\n",
      "         0.97892486, 0.21888466]]])\n",
      "Coordinates:\n",
      "  * time       (time) datetime64[ns] 2024-01-01 2024-01-02 2024-01-03\n",
      "  * latitude   (latitude) float64 -43.85 -39.23 -34.62 ... 34.62 39.23 43.85\n",
      "  * longitude  (longitude) float64 -180.0 -170.8 -161.5 ... 161.5 170.8 180.0\n",
      "Attributes:\n",
      "    units:        mm\n",
      "    description:  Precipitación diaria\n"
     ]
    }
   ],
   "source": [
    "arr_sliced = arr.sel(latitude=slice(-45, 45))\n",
    "print(arr_sliced)"
   ]
  },
  {
   "cell_type": "code",
   "execution_count": 8,
   "id": "4a0b3638",
   "metadata": {},
   "outputs": [
    {
     "name": "stdout",
     "output_type": "stream",
     "text": [
      "<xarray.DataArray (time: 3, latitude: 40, longitude: 4)>\n",
      "array([[[0.71783117, 0.01890906, 0.3136413 , 0.88763387],\n",
      "        [0.59105292, 0.45744869, 0.40996105, 0.73766987],\n",
      "        [0.51393697, 0.23104999, 0.24652062, 0.26055295],\n",
      "        [0.10321976, 0.89338095, 0.25950267, 0.59300834],\n",
      "        [0.68616157, 0.80073208, 0.48291971, 0.11324346],\n",
      "        [0.64687076, 0.13896087, 0.13258044, 0.19731339],\n",
      "        [0.81676876, 0.4936527 , 0.52036778, 0.49578562],\n",
      "        [0.50016103, 0.7074644 , 0.61183758, 0.13554736],\n",
      "        [0.17443057, 0.44603501, 0.60438717, 0.62439143],\n",
      "        [0.41849411, 0.18426003, 0.28798981, 0.91569632],\n",
      "        [0.03140074, 0.12888219, 0.40798005, 0.49196479],\n",
      "        [0.22627838, 0.67328695, 0.79821389, 0.41691486],\n",
      "        [0.86128545, 0.27069106, 0.1238237 , 0.03344977],\n",
      "        [0.34794033, 0.26277962, 0.36465757, 0.1203051 ],\n",
      "        [0.40851381, 0.91391237, 0.56467259, 0.26575915],\n",
      "        [0.11168173, 0.38944076, 0.26172837, 0.64246662],\n",
      "        [0.63126161, 0.66796377, 0.13882921, 0.12818723],\n",
      "        [0.83879694, 0.02268002, 0.74213295, 0.16806032],\n",
      "        [0.88209925, 0.59014529, 0.12560391, 0.81195272],\n",
      "        [0.89645993, 0.72288036, 0.87537019, 0.47151258],\n",
      "...\n",
      "        [0.91890164, 0.02016777, 0.23450483, 0.74510145],\n",
      "        [0.92790704, 0.51156508, 0.89813874, 0.43916796],\n",
      "        [0.35934138, 0.16603976, 0.09877796, 0.31339127],\n",
      "        [0.55304529, 0.42140937, 0.227399  , 0.00969023],\n",
      "        [0.01709765, 0.36545493, 0.89460884, 0.47173533],\n",
      "        [0.65279094, 0.44390539, 0.70764763, 0.58100344],\n",
      "        [0.02538477, 0.51953492, 0.25060239, 0.56568159],\n",
      "        [0.90221678, 0.23085003, 0.88854904, 0.47711086],\n",
      "        [0.61607009, 0.54062053, 0.18997217, 0.37637468],\n",
      "        [0.85959246, 0.39253753, 0.71309671, 0.02832154],\n",
      "        [0.5756576 , 0.17087834, 0.80814245, 0.42211779],\n",
      "        [0.48389537, 0.91017253, 0.24357138, 0.99619525],\n",
      "        [0.52290629, 0.07683617, 0.04667245, 0.62147605],\n",
      "        [0.59897325, 0.76397963, 0.0963089 , 0.94119127],\n",
      "        [0.6826473 , 0.92733366, 0.22336983, 0.68936865],\n",
      "        [0.61740446, 0.08303447, 0.80368375, 0.08235512],\n",
      "        [0.84179662, 0.75606209, 0.7084993 , 0.9970134 ],\n",
      "        [0.28938244, 0.12815316, 0.65727296, 0.37718532],\n",
      "        [0.1450662 , 0.60342113, 0.77731859, 0.02332359],\n",
      "        [0.445108  , 0.20033274, 0.59857143, 0.53184298]]])\n",
      "Coordinates:\n",
      "  * time       (time) datetime64[ns] 2024-01-01 2024-01-02 2024-01-03\n",
      "  * latitude   (latitude) float64 -90.0 -85.38 -80.77 ... 80.77 85.38 90.0\n",
      "  * longitude  (longitude) float64 13.85 23.08 32.31 41.54\n",
      "Attributes:\n",
      "    units:        mm\n",
      "    description:  Precipitación diaria\n"
     ]
    }
   ],
   "source": [
    "arr_lon_sliced = arr.sel(longitude=slice(5, 45))\n",
    "print(arr_lon_sliced)"
   ]
  },
  {
   "cell_type": "code",
   "execution_count": 9,
   "id": "31c4f8ae",
   "metadata": {},
   "outputs": [
    {
     "name": "stdout",
     "output_type": "stream",
     "text": [
      "<xarray.DataArray (latitude: 40, longitude: 40)>\n",
      "array([[0.96594151, 0.51060134, 0.43665512, ..., 0.38376198, 0.9069291 ,\n",
      "        0.4279493 ],\n",
      "       [0.83901146, 0.77998201, 0.26048349, ..., 0.7853652 , 0.59204568,\n",
      "        0.08136574],\n",
      "       [0.45855689, 0.64047189, 0.24652281, ..., 0.68874123, 0.148307  ,\n",
      "        0.2615956 ],\n",
      "       ...,\n",
      "       [0.9535961 , 0.790424  , 0.09979445, ..., 0.71460862, 0.64292533,\n",
      "        0.59506879],\n",
      "       [0.28658057, 0.33402896, 0.47763133, ..., 0.9123826 , 0.32239864,\n",
      "        0.27910854],\n",
      "       [0.83842104, 0.74211024, 0.6154745 , ..., 0.33619957, 0.9959654 ,\n",
      "        0.43869789]])\n",
      "Coordinates:\n",
      "    time       datetime64[ns] 2024-01-02\n",
      "  * latitude   (latitude) float64 -90.0 -85.38 -80.77 ... 80.77 85.38 90.0\n",
      "  * longitude  (longitude) float64 -180.0 -170.8 -161.5 ... 161.5 170.8 180.0\n",
      "Attributes:\n",
      "    units:        mm\n",
      "    description:  Precipitación diaria\n"
     ]
    }
   ],
   "source": [
    "arr_time_sliced = arr.sel(time=\"2024-01-02\")\n",
    "print(arr_time_sliced)"
   ]
  },
  {
   "cell_type": "markdown",
   "id": "5ebd50af",
   "metadata": {},
   "source": [
    "---\n",
    "<a name='ej-1'></a>\n",
    "### **<font color=\"DodgerBlue\">Ejercicio 3 - Xarray simple </font>**\n",
    "\n",
    "<font color=\"DarkBlue\"> 1. Genere un arreglo de xarray que simule ser un arreglo para la variable de temperatura con unidades de K. El arreglo debe tener 3 dimensiones, tiempo, latitud y longitud, así como el arreglo `arr`. Sin embargo, el tiempo debe ser correspondiente a 1 año, comenzando el 1 de enero de 2022 y terminando el 31 de diciembre de 2022. La latitud y longitud deberían ser globales con resolución de 1 grado. \n",
    "    \n",
    " <font color=\"DarkBlue\"> 2. Haga un slice de su arreglo para la latitud ecuatorial y la longitud de 180 grados E y el 31 de marzo de 2022. \n",
    "\n",
    "    \n",
    "---"
   ]
  },
  {
   "cell_type": "code",
   "execution_count": null,
   "id": "3804f2f3",
   "metadata": {},
   "outputs": [],
   "source": []
  },
  {
   "cell_type": "markdown",
   "id": "fbc64d2e",
   "metadata": {},
   "source": [
    "#### <font color=\"ForestGreen\"> Slicing por Índices </font>\n",
    "\n",
    "Además de utilizar etiquetas de coordenadas, también podemos realizar slicing utilizando índices enteros a lo largo de las dimensiones. Esto es útil cuando queremos seleccionar datos basados en la posición en lugar de las etiquetas específicas de las coordenadas.\n",
    "\n"
   ]
  },
  {
   "cell_type": "code",
   "execution_count": 10,
   "id": "7da880e0",
   "metadata": {},
   "outputs": [
    {
     "name": "stdout",
     "output_type": "stream",
     "text": [
      "<xarray.DataArray (time: 1, latitude: 10, longitude: 40)>\n",
      "array([[[4.72389061e-01, 1.39066443e-01, 7.05810428e-01, 2.13984975e-01,\n",
      "         7.79105819e-01, 7.32694817e-01, 5.29712383e-01, 1.21463585e-01,\n",
      "         7.85890759e-01, 9.48374504e-01, 4.73877115e-01, 3.76220958e-01,\n",
      "         5.55125511e-01, 5.96926204e-02, 8.17143129e-01, 8.83121976e-01,\n",
      "         4.67594859e-01, 6.72475382e-01, 9.62824916e-01, 5.34573281e-01,\n",
      "         8.00764211e-01, 7.17831171e-01, 1.89090605e-02, 3.13641296e-01,\n",
      "         8.87633868e-01, 5.30688689e-01, 2.53717716e-01, 2.45259736e-01,\n",
      "         2.48170365e-02, 3.83252168e-01, 4.41128081e-01, 3.04868778e-01,\n",
      "         3.91790642e-01, 3.84571381e-01, 4.99017400e-01, 4.61666498e-01,\n",
      "         8.04377502e-01, 9.13244966e-01, 3.68063600e-01, 1.13176641e-01],\n",
      "        [8.62863901e-01, 1.65748944e-01, 8.78663369e-01, 8.14333096e-01,\n",
      "         1.17118645e-01, 8.40810441e-01, 8.03473203e-01, 2.34244812e-01,\n",
      "         6.71706651e-01, 8.67987906e-02, 6.56891423e-01, 4.49493334e-01,\n",
      "         3.52456612e-01, 1.82337660e-01, 8.25107366e-01, 6.18087029e-01,\n",
      "         3.91039613e-01, 5.24171318e-01, 9.65900587e-01, 1.50957038e-01,\n",
      "         5.49384843e-01, 5.91052923e-01, 4.57448688e-01, 4.09961045e-01,\n",
      "         7.37669866e-01, 8.64619570e-01, 9.67883114e-01, 2.50511941e-01,\n",
      "         3.83666771e-01, 4.53838607e-01, 5.04029592e-01, 4.56238016e-01,\n",
      "         5.19806618e-01, 3.60443635e-01, 2.44271973e-01, 2.38793070e-01,\n",
      "         9.59172916e-01, 6.53430351e-01, 2.88326812e-01, 4.22516217e-01],\n",
      "...\n",
      "        [7.65474832e-01, 8.73963760e-01, 9.96555882e-01, 7.02598627e-01,\n",
      "         6.93523029e-01, 9.83746937e-01, 6.19068743e-02, 1.16512333e-01,\n",
      "         1.05348803e-01, 5.32309659e-01, 8.42060237e-01, 2.30332119e-01,\n",
      "         1.58602600e-01, 2.61417697e-01, 9.59136629e-01, 3.63085315e-01,\n",
      "         6.83746866e-01, 4.88923837e-01, 9.85272951e-01, 2.96219198e-02,\n",
      "         4.52686723e-01, 1.74430574e-01, 4.46035012e-01, 6.04387173e-01,\n",
      "         6.24391435e-01, 3.65771717e-01, 2.87016545e-01, 5.76157626e-01,\n",
      "         4.45944078e-01, 5.89575392e-01, 3.12733937e-01, 2.85721613e-01,\n",
      "         9.58008336e-01, 1.17029413e-02, 6.30404517e-01, 9.40842763e-01,\n",
      "         3.40001865e-01, 6.87685013e-01, 4.66957391e-04, 4.47671140e-02],\n",
      "        [9.61633059e-01, 7.60143341e-01, 6.99250467e-01, 8.90630712e-01,\n",
      "         3.85929412e-01, 6.05652218e-01, 1.83589001e-01, 3.92718425e-01,\n",
      "         5.54744990e-01, 9.16709964e-01, 7.64963881e-01, 3.31692346e-01,\n",
      "         5.34159086e-01, 2.84549688e-01, 7.64013830e-01, 8.21906179e-01,\n",
      "         2.35035533e-01, 1.09090137e-01, 6.75569555e-01, 9.06239858e-01,\n",
      "         9.22693580e-01, 4.18494106e-01, 1.84260030e-01, 2.87989806e-01,\n",
      "         9.15696321e-01, 7.86600329e-01, 4.45755880e-02, 3.29399664e-01,\n",
      "         8.28625191e-01, 1.16846421e-01, 3.20229027e-01, 6.70967886e-01,\n",
      "         4.80755274e-01, 6.95956116e-01, 9.35614524e-01, 8.34832572e-01,\n",
      "         9.35239734e-01, 2.42578651e-01, 6.57022661e-01, 7.96661222e-01]]])\n",
      "Coordinates:\n",
      "  * time       (time) datetime64[ns] 2024-01-01\n",
      "  * latitude   (latitude) float64 -90.0 -85.38 -80.77 ... -57.69 -53.08 -48.46\n",
      "  * longitude  (longitude) float64 -180.0 -170.8 -161.5 ... 161.5 170.8 180.0\n",
      "Attributes:\n",
      "    units:        mm\n",
      "    description:  Precipitación diaria\n"
     ]
    }
   ],
   "source": [
    "# Ejemplo de slicing por índices\n",
    "i_slicing =arr.isel(time=slice(0, 1), latitude=slice(0, 10))\n",
    "print(i_slicing)"
   ]
  },
  {
   "cell_type": "markdown",
   "id": "19e8a36b",
   "metadata": {},
   "source": [
    "### <font color=\"ForestGreen\"> Operaciones sobre las coordenadas </font>\n",
    "\n",
    "Para hacer operaciones sobre algunas coordenadas particulares, realizar operaciones como mean, min y max a lo largo de coordenadas o dimensiones en Xarray es una técnica poderosa que proporciona una manera eficiente y flexible de resumir, analizar y visualizar datos multidimensionales, lo que facilita el proceso de extracción de información y la toma de decisiones en proyectos científicos y de análisis de datos.\n",
    "\n",
    "Realizar operaciones como mean (media), min (mínimo) y max (máximo) a lo largo de coordenadas o dimensiones en Xarray ofrece varias ventajas:\n",
    "\n",
    "1. Reducción de Dimensionalidad: Estas operaciones permiten reducir la dimensionalidad de los datos, lo que puede ser útil para resumir grandes conjuntos de datos y extraer información relevante. Por ejemplo, calcular la media a lo largo de la dimensión de tiempo puede proporcionar una visión general de la tendencia temporal de los datos.\n",
    "\n",
    "2. Agilidad en el Análisis: Al realizar operaciones a lo largo de coordenadas o dimensiones, Xarray aprovecha la paralelización y la optimización interna para calcular eficientemente los resultados, lo que acelera el proceso de análisis y permite trabajar con conjuntos de datos de gran tamaño de manera rápida y eficiente.\n",
    "\n",
    "3. Flexibilidad en la Seleccion: Estas operaciones pueden aplicarse selectivamente a dimensiones específicas o coordenadas de interés, lo que permite realizar análisis detallados en subconjuntos específicos de datos sin necesidad de procesar el conjunto de datos completo.\n",
    "\n",
    "4. Interpretación Intuitiva: Los resultados de estas operaciones a lo largo de coordenadas o dimensiones son fáciles de interpretar y comunicar, ya que proporcionan estadísticas resumidas que describen características importantes de los datos, como el valor medio, el mínimo y el máximo."
   ]
  },
  {
   "cell_type": "code",
   "execution_count": 11,
   "id": "2e0039e0",
   "metadata": {},
   "outputs": [
    {
     "name": "stdout",
     "output_type": "stream",
     "text": [
      "<xarray.DataArray (latitude: 40, longitude: 40)>\n",
      "array([[0.68309967, 0.28578095, 0.66094844, ..., 0.66650709, 0.44523504,\n",
      "        0.45248955],\n",
      "       [0.85304842, 0.53157424, 0.59734549, ..., 0.56275396, 0.49256324,\n",
      "        0.28582591],\n",
      "       [0.47398785, 0.450873  , 0.24215781, ..., 0.59846769, 0.28831501,\n",
      "        0.40087298],\n",
      "       ...,\n",
      "       [0.78358644, 0.75960031, 0.47999177, ..., 0.63549951, 0.37490186,\n",
      "        0.30848885],\n",
      "       [0.60975459, 0.54460248, 0.52905714, ..., 0.73233347, 0.41561956,\n",
      "        0.15497622],\n",
      "       [0.8672595 , 0.70625493, 0.39158669, ..., 0.6277758 , 0.66259419,\n",
      "        0.53381104]])\n",
      "Coordinates:\n",
      "  * latitude   (latitude) float64 -90.0 -85.38 -80.77 ... 80.77 85.38 90.0\n",
      "  * longitude  (longitude) float64 -180.0 -170.8 -161.5 ... 161.5 170.8 180.0\n"
     ]
    }
   ],
   "source": [
    "promedio_temporal=arr.mean('time')#\n",
    "print(promedio_temporal)"
   ]
  },
  {
   "cell_type": "code",
   "execution_count": 12,
   "id": "c93f7192",
   "metadata": {},
   "outputs": [
    {
     "name": "stdout",
     "output_type": "stream",
     "text": [
      "<xarray.DataArray (time: 3)>\n",
      "array([0.50182495, 0.50577771, 0.49447109])\n",
      "Coordinates:\n",
      "  * time     (time) datetime64[ns] 2024-01-01 2024-01-02 2024-01-03\n"
     ]
    }
   ],
   "source": [
    "promedio_espacial=arr.mean(['latitude','longitude'])#\n",
    "print(promedio_espacial)"
   ]
  },
  {
   "cell_type": "markdown",
   "id": "1583091e",
   "metadata": {},
   "source": [
    "---\n",
    "<a name='ej-1'></a>\n",
    "### **<font color=\"DodgerBlue\">Ejercicio 4 - Xarray avanzado </font>**\n",
    "\n",
    "<font color=\"DarkBlue\"> 1. A partir del arreglo de temperatura del ejercicio anterior `Tarr`, grafique las series de tiempo como resultado del promedio longitudinal para las latitudes tropicales, definidas como aquellas latitudes hacia el ecuador de 10$^\\circ$. \n",
    "    \n",
    " <font color=\"DarkBlue\"> 2. Grafique el promedio latitudinal de temperatura para todos los tiempos. Es decir, del arreglo `arr`, calcule el promedio sobre todos los tiempo y latitudes para graficar la temperatura como función de la longitud.\n",
    "\n",
    "    \n",
    "---"
   ]
  },
  {
   "cell_type": "code",
   "execution_count": null,
   "id": "e7252c94",
   "metadata": {},
   "outputs": [],
   "source": []
  }
 ],
 "metadata": {
  "kernelspec": {
   "display_name": "Python 3 (ipykernel)",
   "language": "python",
   "name": "python3"
  },
  "language_info": {
   "codemirror_mode": {
    "name": "ipython",
    "version": 3
   },
   "file_extension": ".py",
   "mimetype": "text/x-python",
   "name": "python",
   "nbconvert_exporter": "python",
   "pygments_lexer": "ipython3",
   "version": "3.10.9"
  }
 },
 "nbformat": 4,
 "nbformat_minor": 5
}
