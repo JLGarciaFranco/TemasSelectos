{
 "cells": [
  {
   "cell_type": "markdown",
   "id": "8b8aaf67",
   "metadata": {},
   "source": [
    "---\n",
    "<a name='title'></a>\n",
    "# **<font color=\"Navy\"> Temas Selectos </font>**\n",
    "## **<font color=\"RoyalBlue\"> Tema 2 Análisis de datos </font>**\n",
    "### **<font color=\"DodgerBlue\"> Notebook 1: Pandas </font>**\n",
    "#### Escuela Nacional de Ciencias de la Tierra\n",
    "#### Semestre 2024-II\n",
    "\n",
    "---\n",
    "\n",
    "## **<font color=\"ForestGreen\">  ¿Por qué Pandas? </font>**\n",
    "\n",
    "_Pandas_ es una poderosa biblioteca de Python utilizada principalmente para la manipulación y análisis de datos en el ámbito de la ciencia de datos. Su funcionalidad y utilidad radican en su capacidad para trabajar con conjuntos de datos tabulares de manera eficiente y flexible. Algunas de las características clave de Pandas incluyen:\n",
    "\n",
    "- Estructuras de Datos Flexibles: Pandas proporciona dos estructuras de datos principales: Series y DataFrame. Una Serie es una matriz unidimensional que puede contener datos de cualquier tipo, mientras que un DataFrame es una estructura bidimensional similar a una tabla que organiza los datos en filas y columnas, lo que permite la manipulación de datos tabulares de manera intuitiva.\n",
    "\n",
    "- Manipulación de Datos: Pandas ofrece una amplia gama de funcionalidades para la manipulación de datos, incluyendo la selección, filtrado, agregación, transformación y visualización de datos. Estas operaciones permiten limpiar y preparar los datos para su análisis de manera eficiente.\n",
    "\n",
    "- Integración con otras bibliotecas: Pandas se integra perfectamente con otras bibliotecas populares de Python utilizadas en ciencia de datos, como NumPy, Matplotlib y Scikit-learn, lo que permite un flujo de trabajo completo para el análisis y modelado de datos.\n",
    "\n",
    "En el campo de las Ciencias de la Tierra, Pandas se utiliza ampliamente para la manipulación y análisis de datos geoespaciales, así como para la exploración y visualización de datos climáticos, geológicos, hidrológicos y ambientales. Con Pandas, los científicos de la Tierra pueden cargar, limpiar y analizar conjuntos de datos complejos, realizar cálculos estadísticos y crear visualizaciones informativas que ayuden a comprender mejor los fenómenos naturales y los procesos terrestres.\n",
    "\n",
    "En resumen, Pandas es una herramienta fundamental en el arsenal de cualquier científico de datos y profesional en Ciencias de la Tierra, ya que proporciona las herramientas necesarias para explorar y comprender datos tabulares de manera efectiva y eficiente.\n",
    "\n",
    "Para saber más de pandas, revisar: https://aprendeconalf.es/docencia/python/manual/pandas/"
   ]
  },
  {
   "cell_type": "code",
   "execution_count": 65,
   "id": "60a4b8ea",
   "metadata": {},
   "outputs": [],
   "source": [
    "import pandas as pd\n",
    "import matplotlib.pyplot as plt\n",
    "import numpy as np\n",
    "import datetime"
   ]
  },
  {
   "cell_type": "markdown",
   "id": "2f207134",
   "metadata": {},
   "source": [
    "El objeto principal de pandas es un `DataFrame`. Un DataFrame en Pandas es una estructura de datos bidimensional etiquetada y tabular que se utiliza para almacenar y manipular conjuntos de datos de forma similar a una hoja de cálculo o una tabla de base de datos. Esencialmente, un DataFrame consta de **filas y columnas**, donde cada columna puede contener datos de diferentes tipos, como enteros, flotantes, cadenas de caracteres u otros objetos de Python.\n",
    "\n",
    "Pandas trabaja alrededor del objeto DataFrame porque proporciona una manera poderosa y flexible de organizar, analizar y manipular datos tabulares. "
   ]
  },
  {
   "cell_type": "code",
   "execution_count": 66,
   "id": "3ee293c3",
   "metadata": {},
   "outputs": [],
   "source": [
    "# Creación de un DataFrame a partir de un diccionario\n",
    "data = {\n",
    "    'Nombre': ['Juan', 'María', 'Pedro', 'Ana','Jorge','Carlos'],\n",
    "    'Edad': [25, 30, 35, 40,21,20],\n",
    "    'Ciudad': ['Madrid', 'Puebla', 'Xalapa', 'Huatulco','Zitacuaro','Xalapa']\n",
    "}\n",
    "df = pd.DataFrame(data)\n"
   ]
  },
  {
   "cell_type": "code",
   "execution_count": 67,
   "id": "8e97e3ab",
   "metadata": {},
   "outputs": [
    {
     "name": "stdout",
     "output_type": "stream",
     "text": [
      "Primeros registros del DataFrame:\n",
      "  Nombre  Edad     Ciudad\n",
      "0   Juan    25     Madrid\n",
      "1  María    30     Puebla\n",
      "2  Pedro    35     Xalapa\n",
      "3    Ana    40   Huatulco\n",
      "4  Jorge    21  Zitacuaro\n",
      "Ultimos registros del DataFrame:\n",
      "   Nombre  Edad     Ciudad\n",
      "1   María    30     Puebla\n",
      "2   Pedro    35     Xalapa\n",
      "3     Ana    40   Huatulco\n",
      "4   Jorge    21  Zitacuaro\n",
      "5  Carlos    20     Xalapa\n"
     ]
    }
   ],
   "source": [
    "# Mostrar los primeros registros del DataFrame\n",
    "print(\"Primeros registros del DataFrame:\")\n",
    "print(df.head())\n",
    "print(\"Ultimos registros del DataFrame:\")\n",
    "print(df.tail())"
   ]
  },
  {
   "cell_type": "code",
   "execution_count": 68,
   "id": "a7c07416",
   "metadata": {},
   "outputs": [
    {
     "name": "stdout",
     "output_type": "stream",
     "text": [
      "\n",
      "Información del DataFrame:\n",
      "<class 'pandas.core.frame.DataFrame'>\n",
      "RangeIndex: 6 entries, 0 to 5\n",
      "Data columns (total 3 columns):\n",
      " #   Column  Non-Null Count  Dtype \n",
      "---  ------  --------------  ----- \n",
      " 0   Nombre  6 non-null      object\n",
      " 1   Edad    6 non-null      int64 \n",
      " 2   Ciudad  6 non-null      object\n",
      "dtypes: int64(1), object(2)\n",
      "memory usage: 272.0+ bytes\n",
      "None\n"
     ]
    }
   ],
   "source": [
    "# Obtener información sobre el DataFrame\n",
    "print(\"\\nInformación del DataFrame:\")\n",
    "print(df.info())"
   ]
  },
  {
   "cell_type": "code",
   "execution_count": 69,
   "id": "388f82f4",
   "metadata": {},
   "outputs": [
    {
     "name": "stdout",
     "output_type": "stream",
     "text": [
      "\n",
      "Selección de columnas:\n",
      "0      Juan\n",
      "1     María\n",
      "2     Pedro\n",
      "3       Ana\n",
      "4     Jorge\n",
      "5    Carlos\n",
      "Name: Nombre, dtype: object\n",
      "   Nombre  Edad\n",
      "0    Juan    25\n",
      "1   María    30\n",
      "2   Pedro    35\n",
      "3     Ana    40\n",
      "4   Jorge    21\n",
      "5  Carlos    20\n"
     ]
    }
   ],
   "source": [
    "# Selección de columnas\n",
    "print(\"\\nSelección de columnas:\")\n",
    "print(df['Nombre'])\n",
    "print(df[['Nombre', 'Edad']])"
   ]
  },
  {
   "cell_type": "markdown",
   "id": "1637e2d5",
   "metadata": {},
   "source": [
    "Las operaciones con columnas en Pandas son muy comunes y útiles para calcular estadísticas resumidas de los datos. Aquí se muestra cómo usar `df.mean()` y `df.sum()` para calcular el promedio y la suma de las columnas de un DataFrame. Noten que a Pandas no le gusta que le pida uno calcular promedios de cosas que no son números como la columna de edad. "
   ]
  },
  {
   "cell_type": "code",
   "execution_count": 70,
   "id": "14daa1f0",
   "metadata": {},
   "outputs": [
    {
     "name": "stdout",
     "output_type": "stream",
     "text": [
      "\n",
      " Operaciones con columnas (promedio):\n",
      "Edad    28.5\n",
      "dtype: float64\n"
     ]
    },
    {
     "name": "stderr",
     "output_type": "stream",
     "text": [
      "/tmp/ipykernel_20495/899378803.py:3: FutureWarning: The default value of numeric_only in DataFrame.mean is deprecated. In a future version, it will default to False. In addition, specifying 'numeric_only=None' is deprecated. Select only valid columns or specify the value of numeric_only to silence this warning.\n",
      "  print(df.mean())\n"
     ]
    }
   ],
   "source": [
    "# Operaciones con columnas\n",
    "print(\"\\n Operaciones con columnas (promedio):\")\n",
    "print(df.mean())"
   ]
  },
  {
   "cell_type": "code",
   "execution_count": 71,
   "id": "fad8f8d4",
   "metadata": {},
   "outputs": [
    {
     "name": "stdout",
     "output_type": "stream",
     "text": [
      "\n",
      " Operaciones con columnas (suma):\n",
      "171\n"
     ]
    }
   ],
   "source": [
    "# Operaciones con columnas\n",
    "print(\"\\n Operaciones con columnas (suma):\")\n",
    "print(df['Edad'].sum())"
   ]
  },
  {
   "cell_type": "code",
   "execution_count": 72,
   "id": "75680189",
   "metadata": {
    "scrolled": true
   },
   "outputs": [
    {
     "name": "stdout",
     "output_type": "stream",
     "text": [
      "\n",
      "Filtrado de datos:\n",
      "  Nombre  Edad    Ciudad\n",
      "2  Pedro    35    Xalapa\n",
      "3    Ana    40  Huatulco\n"
     ]
    }
   ],
   "source": [
    "# Filtrado de datos para seleccionar solo cuando la edad sea mayor a 30\n",
    "print(\"\\nFiltrado de datos:\")\n",
    "print(df[df['Edad'] > 30])"
   ]
  },
  {
   "cell_type": "code",
   "execution_count": 73,
   "id": "7576c910",
   "metadata": {},
   "outputs": [
    {
     "name": "stdout",
     "output_type": "stream",
     "text": [
      "\n",
      "Manipulación de columnas:\n",
      "   Nombre  Edad     Ciudad  Edad_doble\n",
      "0    Juan    25     Madrid          50\n",
      "1   María    30     Puebla          60\n",
      "2   Pedro    35     Xalapa          70\n",
      "3     Ana    40   Huatulco          80\n",
      "4   Jorge    21  Zitacuaro          42\n",
      "5  Carlos    20     Xalapa          40\n"
     ]
    }
   ],
   "source": [
    "# Manipulación de columnas\n",
    "print(\"\\nManipulación de columnas:\")\n",
    "# se puede crear una columna nueva\n",
    "df['Edad_doble'] = df['Edad'] * 2\n",
    "print(df)\n"
   ]
  },
  {
   "cell_type": "markdown",
   "id": "19ae525a",
   "metadata": {},
   "source": [
    "Podemos agregar columnas si queremos, pero **tienen** que tener el número correcto de filas. Es decir, si el dataframe tiene 10 filas, tengo que especificar una columna con ese número de filas. "
   ]
  },
  {
   "cell_type": "code",
   "execution_count": 74,
   "id": "30cbe03c",
   "metadata": {},
   "outputs": [
    {
     "name": "stdout",
     "output_type": "stream",
     "text": [
      "   Nombre  Edad     Ciudad  Edad_doble Pais/Estado\n",
      "0    Juan    25     Madrid          50      España\n",
      "1   María    30     Puebla          60      Puebla\n",
      "2   Pedro    35     Xalapa          70    Veracruz\n",
      "3     Ana    40   Huatulco          80   Michoacan\n",
      "4   Jorge    21  Zitacuaro          42      Oaxaca\n",
      "5  Carlos    20     Xalapa          40    Veracruz\n"
     ]
    }
   ],
   "source": [
    "df['Pais/Estado']=['España','Puebla','Veracruz','Michoacan','Oaxaca','Veracruz']\n",
    "print(df)"
   ]
  },
  {
   "cell_type": "markdown",
   "id": "e67b962c",
   "metadata": {},
   "source": [
    "Si especificamos un número incorrecto de valores en las filas, no se puede agregar una columna adicional"
   ]
  },
  {
   "cell_type": "code",
   "execution_count": 75,
   "id": "34e13531",
   "metadata": {},
   "outputs": [
    {
     "ename": "ValueError",
     "evalue": "Length of values (4) does not match length of index (6)",
     "output_type": "error",
     "traceback": [
      "\u001b[0;31m---------------------------------------------------------------------------\u001b[0m",
      "\u001b[0;31mValueError\u001b[0m                                Traceback (most recent call last)",
      "Cell \u001b[0;32mIn[75], line 1\u001b[0m\n\u001b[0;32m----> 1\u001b[0m df[\u001b[38;5;124m'\u001b[39m\u001b[38;5;124mNumeros\u001b[39m\u001b[38;5;124m'\u001b[39m]\u001b[38;5;241m=\u001b[39mnp\u001b[38;5;241m.\u001b[39marange(\u001b[38;5;241m1\u001b[39m,\u001b[38;5;241m5\u001b[39m)\n\u001b[1;32m      2\u001b[0m \u001b[38;5;28mprint\u001b[39m(df)\n",
      "File \u001b[0;32m~/anaconda3/lib/python3.10/site-packages/pandas/core/frame.py:3980\u001b[0m, in \u001b[0;36mDataFrame.__setitem__\u001b[0;34m(self, key, value)\u001b[0m\n\u001b[1;32m   3977\u001b[0m     \u001b[38;5;28mself\u001b[39m\u001b[38;5;241m.\u001b[39m_setitem_array([key], value)\n\u001b[1;32m   3978\u001b[0m \u001b[38;5;28;01melse\u001b[39;00m:\n\u001b[1;32m   3979\u001b[0m     \u001b[38;5;66;03m# set column\u001b[39;00m\n\u001b[0;32m-> 3980\u001b[0m     \u001b[38;5;28;43mself\u001b[39;49m\u001b[38;5;241;43m.\u001b[39;49m\u001b[43m_set_item\u001b[49m\u001b[43m(\u001b[49m\u001b[43mkey\u001b[49m\u001b[43m,\u001b[49m\u001b[43m \u001b[49m\u001b[43mvalue\u001b[49m\u001b[43m)\u001b[49m\n",
      "File \u001b[0;32m~/anaconda3/lib/python3.10/site-packages/pandas/core/frame.py:4174\u001b[0m, in \u001b[0;36mDataFrame._set_item\u001b[0;34m(self, key, value)\u001b[0m\n\u001b[1;32m   4164\u001b[0m \u001b[38;5;28;01mdef\u001b[39;00m \u001b[38;5;21m_set_item\u001b[39m(\u001b[38;5;28mself\u001b[39m, key, value) \u001b[38;5;241m-\u001b[39m\u001b[38;5;241m>\u001b[39m \u001b[38;5;28;01mNone\u001b[39;00m:\n\u001b[1;32m   4165\u001b[0m     \u001b[38;5;124;03m\"\"\"\u001b[39;00m\n\u001b[1;32m   4166\u001b[0m \u001b[38;5;124;03m    Add series to DataFrame in specified column.\u001b[39;00m\n\u001b[1;32m   4167\u001b[0m \n\u001b[0;32m   (...)\u001b[0m\n\u001b[1;32m   4172\u001b[0m \u001b[38;5;124;03m    ensure homogeneity.\u001b[39;00m\n\u001b[1;32m   4173\u001b[0m \u001b[38;5;124;03m    \"\"\"\u001b[39;00m\n\u001b[0;32m-> 4174\u001b[0m     value \u001b[38;5;241m=\u001b[39m \u001b[38;5;28;43mself\u001b[39;49m\u001b[38;5;241;43m.\u001b[39;49m\u001b[43m_sanitize_column\u001b[49m\u001b[43m(\u001b[49m\u001b[43mvalue\u001b[49m\u001b[43m)\u001b[49m\n\u001b[1;32m   4176\u001b[0m     \u001b[38;5;28;01mif\u001b[39;00m (\n\u001b[1;32m   4177\u001b[0m         key \u001b[38;5;129;01min\u001b[39;00m \u001b[38;5;28mself\u001b[39m\u001b[38;5;241m.\u001b[39mcolumns\n\u001b[1;32m   4178\u001b[0m         \u001b[38;5;129;01mand\u001b[39;00m value\u001b[38;5;241m.\u001b[39mndim \u001b[38;5;241m==\u001b[39m \u001b[38;5;241m1\u001b[39m\n\u001b[1;32m   4179\u001b[0m         \u001b[38;5;129;01mand\u001b[39;00m \u001b[38;5;129;01mnot\u001b[39;00m is_extension_array_dtype(value)\n\u001b[1;32m   4180\u001b[0m     ):\n\u001b[1;32m   4181\u001b[0m         \u001b[38;5;66;03m# broadcast across multiple columns if necessary\u001b[39;00m\n\u001b[1;32m   4182\u001b[0m         \u001b[38;5;28;01mif\u001b[39;00m \u001b[38;5;129;01mnot\u001b[39;00m \u001b[38;5;28mself\u001b[39m\u001b[38;5;241m.\u001b[39mcolumns\u001b[38;5;241m.\u001b[39mis_unique \u001b[38;5;129;01mor\u001b[39;00m \u001b[38;5;28misinstance\u001b[39m(\u001b[38;5;28mself\u001b[39m\u001b[38;5;241m.\u001b[39mcolumns, MultiIndex):\n",
      "File \u001b[0;32m~/anaconda3/lib/python3.10/site-packages/pandas/core/frame.py:4915\u001b[0m, in \u001b[0;36mDataFrame._sanitize_column\u001b[0;34m(self, value)\u001b[0m\n\u001b[1;32m   4912\u001b[0m     \u001b[38;5;28;01mreturn\u001b[39;00m _reindex_for_setitem(Series(value), \u001b[38;5;28mself\u001b[39m\u001b[38;5;241m.\u001b[39mindex)\n\u001b[1;32m   4914\u001b[0m \u001b[38;5;28;01mif\u001b[39;00m is_list_like(value):\n\u001b[0;32m-> 4915\u001b[0m     \u001b[43mcom\u001b[49m\u001b[38;5;241;43m.\u001b[39;49m\u001b[43mrequire_length_match\u001b[49m\u001b[43m(\u001b[49m\u001b[43mvalue\u001b[49m\u001b[43m,\u001b[49m\u001b[43m \u001b[49m\u001b[38;5;28;43mself\u001b[39;49m\u001b[38;5;241;43m.\u001b[39;49m\u001b[43mindex\u001b[49m\u001b[43m)\u001b[49m\n\u001b[1;32m   4916\u001b[0m \u001b[38;5;28;01mreturn\u001b[39;00m sanitize_array(value, \u001b[38;5;28mself\u001b[39m\u001b[38;5;241m.\u001b[39mindex, copy\u001b[38;5;241m=\u001b[39m\u001b[38;5;28;01mTrue\u001b[39;00m, allow_2d\u001b[38;5;241m=\u001b[39m\u001b[38;5;28;01mTrue\u001b[39;00m)\n",
      "File \u001b[0;32m~/anaconda3/lib/python3.10/site-packages/pandas/core/common.py:571\u001b[0m, in \u001b[0;36mrequire_length_match\u001b[0;34m(data, index)\u001b[0m\n\u001b[1;32m    567\u001b[0m \u001b[38;5;124;03m\"\"\"\u001b[39;00m\n\u001b[1;32m    568\u001b[0m \u001b[38;5;124;03mCheck the length of data matches the length of the index.\u001b[39;00m\n\u001b[1;32m    569\u001b[0m \u001b[38;5;124;03m\"\"\"\u001b[39;00m\n\u001b[1;32m    570\u001b[0m \u001b[38;5;28;01mif\u001b[39;00m \u001b[38;5;28mlen\u001b[39m(data) \u001b[38;5;241m!=\u001b[39m \u001b[38;5;28mlen\u001b[39m(index):\n\u001b[0;32m--> 571\u001b[0m     \u001b[38;5;28;01mraise\u001b[39;00m \u001b[38;5;167;01mValueError\u001b[39;00m(\n\u001b[1;32m    572\u001b[0m         \u001b[38;5;124m\"\u001b[39m\u001b[38;5;124mLength of values \u001b[39m\u001b[38;5;124m\"\u001b[39m\n\u001b[1;32m    573\u001b[0m         \u001b[38;5;124mf\u001b[39m\u001b[38;5;124m\"\u001b[39m\u001b[38;5;124m(\u001b[39m\u001b[38;5;132;01m{\u001b[39;00m\u001b[38;5;28mlen\u001b[39m(data)\u001b[38;5;132;01m}\u001b[39;00m\u001b[38;5;124m) \u001b[39m\u001b[38;5;124m\"\u001b[39m\n\u001b[1;32m    574\u001b[0m         \u001b[38;5;124m\"\u001b[39m\u001b[38;5;124mdoes not match length of index \u001b[39m\u001b[38;5;124m\"\u001b[39m\n\u001b[1;32m    575\u001b[0m         \u001b[38;5;124mf\u001b[39m\u001b[38;5;124m\"\u001b[39m\u001b[38;5;124m(\u001b[39m\u001b[38;5;132;01m{\u001b[39;00m\u001b[38;5;28mlen\u001b[39m(index)\u001b[38;5;132;01m}\u001b[39;00m\u001b[38;5;124m)\u001b[39m\u001b[38;5;124m\"\u001b[39m\n\u001b[1;32m    576\u001b[0m     )\n",
      "\u001b[0;31mValueError\u001b[0m: Length of values (4) does not match length of index (6)"
     ]
    }
   ],
   "source": [
    "df['Numeros']=np.arange(1,5)\n",
    "print(df)"
   ]
  },
  {
   "cell_type": "markdown",
   "id": "b85bdf37",
   "metadata": {},
   "source": [
    "Finalmente, podemos hacer cambios directamente en nuestro dataframe, si quisiéramos cambiar algún valor. \n",
    "\n",
    "Una, de varias, maneras de hacer esto es con el atributo `loc`, que se utiliza para hacer cambios específicos en partes. \n",
    "\n",
    "`df.loc[condicion,columna]=nuevo_valor`\n",
    "\n",
    "Por ejemplo, para cambiar los estados de las ciudades de Huatulco y Zitacuaro, podemos hacer:"
   ]
  },
  {
   "cell_type": "code",
   "execution_count": 76,
   "id": "4f5de73e",
   "metadata": {},
   "outputs": [
    {
     "name": "stdout",
     "output_type": "stream",
     "text": [
      "   Nombre  Edad     Ciudad  Edad_doble Pais/Estado\n",
      "0    Juan    25     Madrid          50      España\n",
      "1   María    30     Puebla          60      Puebla\n",
      "2   Pedro    35     Xalapa          70    Veracruz\n",
      "3     Ana    40   Huatulco          80      Oaxaca\n",
      "4   Jorge    21  Zitacuaro          42   Michoacan\n",
      "5  Carlos    20     Xalapa          40    Veracruz\n"
     ]
    }
   ],
   "source": [
    "df.loc[df.Ciudad=='Huatulco','Pais/Estado']='Oaxaca'\n",
    "df.loc[df.Ciudad=='Zitacuaro','Pais/Estado']='Michoacan'\n",
    "print(df)"
   ]
  },
  {
   "cell_type": "markdown",
   "id": "ab9bbdfc",
   "metadata": {},
   "source": [
    "### **<font color=\"ForestGreen\">  Agrupando ando </font>**\n",
    "\n",
    "En la siguiente celda se agrupan los datos por ciudad y se obtiene el promedio de la edad para cada grupo. En nuestro ejemplo sólo Carlos y Pedro son de la misma ciudad. Entonces sólo será el valor de Xalapa el que se verá diferente. \n",
    "\n",
    "Se muestran, además, dos maneras diferentes de hacer lo mismo. \n",
    "\n",
    "La primera utiliza la sintaxis de `df.groupby` y un `.agg` dentro de agg tenemos que señalar primero la columna y luego la operación que queremos hacer. O sea `.agg({Edad:mean})` hace el promedio de la columna edad para el grupo que tengamos. \n",
    "\n",
    "Otra manera, un poco más directa es hacer `df.groupby('Ciudad').mean()`. \n",
    "\n",
    "Es decir, primero con groupby agrupamos los datos por ese valor de esa columna y luego sacamos el promedio. \n"
   ]
  },
  {
   "cell_type": "code",
   "execution_count": 77,
   "id": "06854193",
   "metadata": {},
   "outputs": [
    {
     "name": "stdout",
     "output_type": "stream",
     "text": [
      "\n",
      "Agrupación y agregación de datos:\n",
      "           Edad\n",
      "Ciudad         \n",
      "Huatulco   40.0\n",
      "Madrid     25.0\n",
      "Puebla     30.0\n",
      "Xalapa     27.5\n",
      "Zitacuaro  21.0\n",
      "Ciudad\n",
      "Huatulco     40.0\n",
      "Madrid       25.0\n",
      "Puebla       30.0\n",
      "Xalapa       27.5\n",
      "Zitacuaro    21.0\n",
      "Name: Edad, dtype: float64\n"
     ]
    },
    {
     "name": "stderr",
     "output_type": "stream",
     "text": [
      "/tmp/ipykernel_20495/934593448.py:5: FutureWarning: The default value of numeric_only in DataFrameGroupBy.mean is deprecated. In a future version, numeric_only will default to False. Either specify numeric_only or select only columns which should be valid for the function.\n",
      "  grouped2 = df.groupby('Ciudad').mean()['Edad']\n"
     ]
    }
   ],
   "source": [
    "# Agrupación y agregación de datos\n",
    "print(\"\\nAgrupación y agregación de datos:\")\n",
    "grouped1 = df.groupby('Ciudad').agg({'Edad': 'mean'})\n",
    "print(grouped1)\n",
    "grouped2 = df.groupby('Ciudad').mean()['Edad']\n",
    "print(grouped2)"
   ]
  },
  {
   "cell_type": "markdown",
   "id": "773b585d",
   "metadata": {},
   "source": [
    "Pandas tiene muchísimas ventajas. Una de ellas es que se pueden acceder a los datos e índices rápidos para hacer gráficas. Por ejemplo, una gráfica de barras se puede ver rápidamente así:"
   ]
  },
  {
   "cell_type": "code",
   "execution_count": 78,
   "id": "273a4596",
   "metadata": {},
   "outputs": [
    {
     "name": "stdout",
     "output_type": "stream",
     "text": [
      "   Nombre  Edad     Ciudad  Edad_doble Pais/Estado\n",
      "5  Carlos    20     Xalapa          40    Veracruz\n",
      "4   Jorge    21  Zitacuaro          42   Michoacan\n",
      "0    Juan    25     Madrid          50      España\n",
      "1   María    30     Puebla          60      Puebla\n",
      "2   Pedro    35     Xalapa          70    Veracruz\n",
      "3     Ana    40   Huatulco          80      Oaxaca\n"
     ]
    }
   ],
   "source": [
    "df_ordenado = df.sort_values(by='Edad')\n",
    "print(df_ordenado)"
   ]
  },
  {
   "cell_type": "markdown",
   "id": "1f3e6340",
   "metadata": {},
   "source": [
    "---\n",
    "<a name='ej-1'></a>\n",
    "### **<font color=\"DodgerBlue\">Ejercicio 1 - Dataframes 1 </font>**\n",
    "\n",
    "<font color=\"DarkBlue\"> 1. Seleccione del dataframe que hemos utilizado sólo valores donde la edad doble sea menor o igual a 70. De esos datos restantes, obtenga el promedio de la edad. \n",
    "    \n",
    "---"
   ]
  },
  {
   "cell_type": "code",
   "execution_count": null,
   "id": "3ae74132",
   "metadata": {},
   "outputs": [],
   "source": []
  },
  {
   "cell_type": "code",
   "execution_count": 79,
   "id": "6faeb6ad",
   "metadata": {},
   "outputs": [
    {
     "data": {
      "text/plain": [
       "Text(0.5, 1.0, 'Edad Promedio por Ciudad')"
      ]
     },
     "execution_count": 79,
     "metadata": {},
     "output_type": "execute_result"
    },
    {
     "data": {
      "image/png": "[encoded data removed]",
      "text/plain": [
       "<Figure size 640x480 with 1 Axes>"
      ]
     },
     "metadata": {},
     "output_type": "display_data"
    }
   ],
   "source": [
    "# grafica de barra\n",
    "# indice contra grupo\n",
    "plt.bar(grouped1.index, grouped1['Edad'])\n",
    "plt.xlabel('Ciudad')\n",
    "plt.ylabel('Edad Promedio')\n",
    "plt.title('Edad Promedio por Ciudad')\n"
   ]
  },
  {
   "attachments": {
    "image.png": {
     "image/png": "[encoded data removed]"
    }
   },
   "cell_type": "markdown",
   "id": "3b2ecf0d",
   "metadata": {},
   "source": [
    "### **<font color=\"ForestGreen\">  La importancia del índice </font>**\n",
    "\n",
    "En la celda anterior vimos que utilizamos algo así como `df.index`, pero qué es esto del índice se preguntarán ustedes. Vamos a verlo con otro dataframe. Uno que podemos imaginar como los datos de un supermercado que ha registrado ciertas compras a diferentes horas del día. \n",
    "\n",
    "![image.png](attachment:image.png)"
   ]
  },
  {
   "cell_type": "code",
   "execution_count": 80,
   "id": "369e9952",
   "metadata": {},
   "outputs": [
    {
     "data": {
      "text/html": [
       "<div>\n",
       "<style scoped>\n",
       "    .dataframe tbody tr th:only-of-type {\n",
       "        vertical-align: middle;\n",
       "    }\n",
       "\n",
       "    .dataframe tbody tr th {\n",
       "        vertical-align: top;\n",
       "    }\n",
       "\n",
       "    .dataframe thead th {\n",
       "        text-align: right;\n",
       "    }\n",
       "</style>\n",
       "<table border=\"1\" class=\"dataframe\">\n",
       "  <thead>\n",
       "    <tr style=\"text-align: right;\">\n",
       "      <th></th>\n",
       "      <th>ID</th>\n",
       "      <th>Nombre</th>\n",
       "      <th>Cantidad</th>\n",
       "      <th>Precio</th>\n",
       "      <th>Fecha</th>\n",
       "    </tr>\n",
       "  </thead>\n",
       "  <tbody>\n",
       "    <tr>\n",
       "      <th>0</th>\n",
       "      <td>1</td>\n",
       "      <td>Producto 1</td>\n",
       "      <td>22</td>\n",
       "      <td>80.136463</td>\n",
       "      <td>2024-03-12 22:42:51.059746</td>\n",
       "    </tr>\n",
       "    <tr>\n",
       "      <th>1</th>\n",
       "      <td>2</td>\n",
       "      <td>Producto 2</td>\n",
       "      <td>23</td>\n",
       "      <td>1.836154</td>\n",
       "      <td>2024-03-11 22:42:51.059751</td>\n",
       "    </tr>\n",
       "    <tr>\n",
       "      <th>2</th>\n",
       "      <td>3</td>\n",
       "      <td>Producto 3</td>\n",
       "      <td>33</td>\n",
       "      <td>16.650175</td>\n",
       "      <td>2024-03-10 22:42:51.059752</td>\n",
       "    </tr>\n",
       "    <tr>\n",
       "      <th>3</th>\n",
       "      <td>4</td>\n",
       "      <td>Producto 4</td>\n",
       "      <td>51</td>\n",
       "      <td>12.311299</td>\n",
       "      <td>2024-03-09 22:42:51.059753</td>\n",
       "    </tr>\n",
       "    <tr>\n",
       "      <th>4</th>\n",
       "      <td>5</td>\n",
       "      <td>Producto 5</td>\n",
       "      <td>85</td>\n",
       "      <td>41.689835</td>\n",
       "      <td>2024-03-08 22:42:51.059755</td>\n",
       "    </tr>\n",
       "    <tr>\n",
       "      <th>5</th>\n",
       "      <td>6</td>\n",
       "      <td>Producto 6</td>\n",
       "      <td>98</td>\n",
       "      <td>92.247486</td>\n",
       "      <td>2024-03-07 22:42:51.059755</td>\n",
       "    </tr>\n",
       "    <tr>\n",
       "      <th>6</th>\n",
       "      <td>7</td>\n",
       "      <td>Producto 7</td>\n",
       "      <td>49</td>\n",
       "      <td>76.842301</td>\n",
       "      <td>2024-03-06 22:42:51.059756</td>\n",
       "    </tr>\n",
       "    <tr>\n",
       "      <th>7</th>\n",
       "      <td>8</td>\n",
       "      <td>Producto 8</td>\n",
       "      <td>63</td>\n",
       "      <td>37.675837</td>\n",
       "      <td>2024-03-05 22:42:51.059757</td>\n",
       "    </tr>\n",
       "    <tr>\n",
       "      <th>8</th>\n",
       "      <td>9</td>\n",
       "      <td>Producto 9</td>\n",
       "      <td>16</td>\n",
       "      <td>87.781713</td>\n",
       "      <td>2024-03-04 22:42:51.059758</td>\n",
       "    </tr>\n",
       "    <tr>\n",
       "      <th>9</th>\n",
       "      <td>10</td>\n",
       "      <td>Producto 10</td>\n",
       "      <td>86</td>\n",
       "      <td>71.022139</td>\n",
       "      <td>2024-03-03 22:42:51.059759</td>\n",
       "    </tr>\n",
       "    <tr>\n",
       "      <th>10</th>\n",
       "      <td>11</td>\n",
       "      <td>Producto 11</td>\n",
       "      <td>58</td>\n",
       "      <td>39.592011</td>\n",
       "      <td>2024-03-02 22:42:51.059760</td>\n",
       "    </tr>\n",
       "    <tr>\n",
       "      <th>11</th>\n",
       "      <td>12</td>\n",
       "      <td>Producto 12</td>\n",
       "      <td>76</td>\n",
       "      <td>13.380711</td>\n",
       "      <td>2024-03-01 22:42:51.059760</td>\n",
       "    </tr>\n",
       "    <tr>\n",
       "      <th>12</th>\n",
       "      <td>13</td>\n",
       "      <td>Producto 13</td>\n",
       "      <td>10</td>\n",
       "      <td>49.788467</td>\n",
       "      <td>2024-02-29 22:42:51.059761</td>\n",
       "    </tr>\n",
       "    <tr>\n",
       "      <th>13</th>\n",
       "      <td>14</td>\n",
       "      <td>Producto 14</td>\n",
       "      <td>95</td>\n",
       "      <td>75.281448</td>\n",
       "      <td>2024-02-28 22:42:51.059762</td>\n",
       "    </tr>\n",
       "    <tr>\n",
       "      <th>14</th>\n",
       "      <td>15</td>\n",
       "      <td>Producto 15</td>\n",
       "      <td>55</td>\n",
       "      <td>69.832399</td>\n",
       "      <td>2024-02-27 22:42:51.059763</td>\n",
       "    </tr>\n",
       "    <tr>\n",
       "      <th>15</th>\n",
       "      <td>16</td>\n",
       "      <td>Producto 16</td>\n",
       "      <td>43</td>\n",
       "      <td>4.785003</td>\n",
       "      <td>2024-02-26 22:42:51.059764</td>\n",
       "    </tr>\n",
       "    <tr>\n",
       "      <th>16</th>\n",
       "      <td>17</td>\n",
       "      <td>Producto 17</td>\n",
       "      <td>42</td>\n",
       "      <td>34.315972</td>\n",
       "      <td>2024-02-25 22:42:51.059765</td>\n",
       "    </tr>\n",
       "    <tr>\n",
       "      <th>17</th>\n",
       "      <td>18</td>\n",
       "      <td>Producto 18</td>\n",
       "      <td>44</td>\n",
       "      <td>90.345264</td>\n",
       "      <td>2024-02-24 22:42:51.059766</td>\n",
       "    </tr>\n",
       "    <tr>\n",
       "      <th>18</th>\n",
       "      <td>19</td>\n",
       "      <td>Producto 19</td>\n",
       "      <td>47</td>\n",
       "      <td>78.283033</td>\n",
       "      <td>2024-02-23 22:42:51.059767</td>\n",
       "    </tr>\n",
       "    <tr>\n",
       "      <th>19</th>\n",
       "      <td>20</td>\n",
       "      <td>Producto 20</td>\n",
       "      <td>55</td>\n",
       "      <td>7.996861</td>\n",
       "      <td>2024-02-22 22:42:51.059767</td>\n",
       "    </tr>\n",
       "    <tr>\n",
       "      <th>20</th>\n",
       "      <td>21</td>\n",
       "      <td>Producto 21</td>\n",
       "      <td>26</td>\n",
       "      <td>35.382016</td>\n",
       "      <td>2024-02-21 22:42:51.059768</td>\n",
       "    </tr>\n",
       "    <tr>\n",
       "      <th>21</th>\n",
       "      <td>22</td>\n",
       "      <td>Producto 22</td>\n",
       "      <td>78</td>\n",
       "      <td>77.111069</td>\n",
       "      <td>2024-02-20 22:42:51.059769</td>\n",
       "    </tr>\n",
       "    <tr>\n",
       "      <th>22</th>\n",
       "      <td>23</td>\n",
       "      <td>Producto 23</td>\n",
       "      <td>14</td>\n",
       "      <td>71.799203</td>\n",
       "      <td>2024-02-19 22:42:51.059770</td>\n",
       "    </tr>\n",
       "    <tr>\n",
       "      <th>23</th>\n",
       "      <td>24</td>\n",
       "      <td>Producto 24</td>\n",
       "      <td>66</td>\n",
       "      <td>56.501240</td>\n",
       "      <td>2024-02-18 22:42:51.059770</td>\n",
       "    </tr>\n",
       "    <tr>\n",
       "      <th>24</th>\n",
       "      <td>25</td>\n",
       "      <td>Producto 25</td>\n",
       "      <td>54</td>\n",
       "      <td>14.149602</td>\n",
       "      <td>2024-02-17 22:42:51.059771</td>\n",
       "    </tr>\n",
       "  </tbody>\n",
       "</table>\n",
       "</div>"
      ],
      "text/plain": [
       "    ID       Nombre  Cantidad     Precio                      Fecha\n",
       "0    1   Producto 1        22  80.136463 2024-03-12 22:42:51.059746\n",
       "1    2   Producto 2        23   1.836154 2024-03-11 22:42:51.059751\n",
       "2    3   Producto 3        33  16.650175 2024-03-10 22:42:51.059752\n",
       "3    4   Producto 4        51  12.311299 2024-03-09 22:42:51.059753\n",
       "4    5   Producto 5        85  41.689835 2024-03-08 22:42:51.059755\n",
       "5    6   Producto 6        98  92.247486 2024-03-07 22:42:51.059755\n",
       "6    7   Producto 7        49  76.842301 2024-03-06 22:42:51.059756\n",
       "7    8   Producto 8        63  37.675837 2024-03-05 22:42:51.059757\n",
       "8    9   Producto 9        16  87.781713 2024-03-04 22:42:51.059758\n",
       "9   10  Producto 10        86  71.022139 2024-03-03 22:42:51.059759\n",
       "10  11  Producto 11        58  39.592011 2024-03-02 22:42:51.059760\n",
       "11  12  Producto 12        76  13.380711 2024-03-01 22:42:51.059760\n",
       "12  13  Producto 13        10  49.788467 2024-02-29 22:42:51.059761\n",
       "13  14  Producto 14        95  75.281448 2024-02-28 22:42:51.059762\n",
       "14  15  Producto 15        55  69.832399 2024-02-27 22:42:51.059763\n",
       "15  16  Producto 16        43   4.785003 2024-02-26 22:42:51.059764\n",
       "16  17  Producto 17        42  34.315972 2024-02-25 22:42:51.059765\n",
       "17  18  Producto 18        44  90.345264 2024-02-24 22:42:51.059766\n",
       "18  19  Producto 19        47  78.283033 2024-02-23 22:42:51.059767\n",
       "19  20  Producto 20        55   7.996861 2024-02-22 22:42:51.059767\n",
       "20  21  Producto 21        26  35.382016 2024-02-21 22:42:51.059768\n",
       "21  22  Producto 22        78  77.111069 2024-02-20 22:42:51.059769\n",
       "22  23  Producto 23        14  71.799203 2024-02-19 22:42:51.059770\n",
       "23  24  Producto 24        66  56.501240 2024-02-18 22:42:51.059770\n",
       "24  25  Producto 25        54  14.149602 2024-02-17 22:42:51.059771"
      ]
     },
     "execution_count": 80,
     "metadata": {},
     "output_type": "execute_result"
    }
   ],
   "source": [
    "# Creamos una lista de fechas\n",
    "fechas = [datetime.datetime.today() - datetime.timedelta(days=x) for x in range(25)]\n",
    "\n",
    "# Creamos un diccionario con datos aleatorios\n",
    "data = {\n",
    "    'ID': range(1, 26),\n",
    "    'Nombre': ['Producto ' + str(i) for i in range(1, 26)],\n",
    "    'Cantidad': np.random.randint(1, 100, size=25),\n",
    "    'Precio': np.random.uniform(1, 100, size=25),\n",
    "    'Fecha': fechas\n",
    "}\n",
    "\n",
    "# Creamos el DataFrame\n",
    "df = pd.DataFrame(data)\n",
    "\n",
    "# Mostramos el DataFrame\n",
    "df"
   ]
  },
  {
   "cell_type": "markdown",
   "id": "1740e58b",
   "metadata": {},
   "source": [
    "El índice en Pandas, `df.index` es una parte fundamental de los DataFrames y Series. Sirve como etiqueta para las filas o elementos de los datos almacenados en estas estructuras de datos. El índice proporciona una identificación única para cada fila y facilita el acceso, la manipulación y la comprensión de los datos almacenados.\n",
    "\n",
    "Utilidad del índice en Pandas:\n",
    "\n",
    "1. Identificación única de filas: El índice garantiza que cada fila en un DataFrame o Serie tenga una identificación única. Esto permite acceder a filas específicas utilizando etiquetas de índice o realizar operaciones basadas en la ubicación de las filas.\n",
    "\n",
    "2. Selección y filtrado de datos: Pandas permite seleccionar y filtrar datos utilizando etiquetas de índice, lo que facilita la manipulación de conjuntos de datos grandes y complejos. Por ejemplo, puedes seleccionar filas específicas utilizando `df.loc[]` o realizar selecciones basadas en condiciones utilizando operadores de comparación.\n",
    "\n",
    "3. Alineación de datos: Pandas realiza alineación automática de datos basada en el índice durante operaciones aritméticas y de combinación de datos. Esto asegura que las operaciones se realicen correctamente incluso cuando los datos no tienen el mismo orden o las mismas etiquetas de índice.\n",
    "\n",
    "4. Operaciones de conjunto: El índice facilita la realización de operaciones de conjuntos, como la unión, la intersección y la diferencia, entre conjuntos de datos. Esto es especialmente útil al combinar o comparar datos de diferentes fuentes.\n",
    "\n",
    "5. Facilita la manipulación de datos temporales: En el caso de datos temporales, el índice puede representar marcas de tiempo o fechas. Esto permite realizar operaciones de manipulación de series temporales de manera eficiente y realizar análisis basados en el tiempo.\n",
    "\n",
    "En resumen, el índice en Pandas desempeña un papel crucial en la organización, manipulación y análisis de datos. Proporciona una forma eficiente y poderosa de acceder, filtrar y alinear datos, así como realizar operaciones basadas en etiquetas de fila. Comprender y utilizar el índice de manera efectiva es esencial para trabajar con éxito con conjuntos de datos en Pandas.\n",
    "\n",
    "Vamos a ir viendo cada uno de estos por partes. "
   ]
  },
  {
   "cell_type": "code",
   "execution_count": 81,
   "id": "70f075f3",
   "metadata": {},
   "outputs": [
    {
     "name": "stdout",
     "output_type": "stream",
     "text": [
      "   ID      Nombre  Cantidad     Precio                      Fecha\n",
      "0   1  Producto 1        22  80.136463 2024-03-12 22:42:51.059746\n",
      "1   2  Producto 2        23   1.836154 2024-03-11 22:42:51.059751\n",
      "2   3  Producto 3        33  16.650175 2024-03-10 22:42:51.059752\n",
      "3   4  Producto 4        51  12.311299 2024-03-09 22:42:51.059753\n",
      "4   5  Producto 5        85  41.689835 2024-03-08 22:42:51.059755\n",
      "RangeIndex(start=0, stop=5, step=1)\n"
     ]
    }
   ],
   "source": [
    "# funcionalidad 1\n",
    "print(df.head())\n",
    "# solo el indice\n",
    "print(df.head().index)"
   ]
  },
  {
   "cell_type": "code",
   "execution_count": 82,
   "id": "6f90580f",
   "metadata": {},
   "outputs": [
    {
     "name": "stdout",
     "output_type": "stream",
     "text": [
      "ID                                   1\n",
      "Nombre                      Producto 1\n",
      "Cantidad                            22\n",
      "Precio                       80.136463\n",
      "Fecha       2024-03-12 22:42:51.059746\n",
      "Name: 0, dtype: object\n"
     ]
    }
   ],
   "source": [
    "# para ver la primer fila de nuestra base de datos\n",
    "print(df.loc[df.index[0]])"
   ]
  },
  {
   "cell_type": "code",
   "execution_count": 83,
   "id": "f69a0f7d",
   "metadata": {},
   "outputs": [
    {
     "name": "stdout",
     "output_type": "stream",
     "text": [
      "ID                                  25\n",
      "Nombre                     Producto 25\n",
      "Cantidad                            54\n",
      "Precio                       14.149602\n",
      "Fecha       2024-02-17 22:42:51.059771\n",
      "Name: 24, dtype: object\n"
     ]
    }
   ],
   "source": [
    "# ahora la ultima\n",
    "print(df.loc[df.index[-1]])"
   ]
  },
  {
   "cell_type": "code",
   "execution_count": 84,
   "id": "0c28e8b9",
   "metadata": {},
   "outputs": [
    {
     "name": "stdout",
     "output_type": "stream",
     "text": [
      "   ID      Nombre  Cantidad     Precio                      Fecha\n",
      "0   1  Producto 1        22  80.136463 2024-03-12 22:42:51.059746\n",
      "1   2  Producto 2        23   1.836154 2024-03-11 22:42:51.059751\n",
      "2   3  Producto 3        33  16.650175 2024-03-10 22:42:51.059752\n",
      "3   4  Producto 4        51  12.311299 2024-03-09 22:42:51.059753\n",
      "4   5  Producto 5        85  41.689835 2024-03-08 22:42:51.059755\n"
     ]
    }
   ],
   "source": [
    "# slice para los primeros 5 elementos del dataframe\n",
    "print(df.loc[df.index<5])"
   ]
  },
  {
   "cell_type": "markdown",
   "id": "2b66195d",
   "metadata": {},
   "source": [
    "El índice puede ser modificado una vez que ya se hizo el dataframe. Hay dos maneras de hacer esto. Una es redefiniendo el indice y otra con la función `set_index()` que toma como argumento opcional `inplace=True` para decirle que modifique al objeto `df` directamente sin tener que guardarlo en otra variable. Sin `inplace=True`, no se guardaría nuestro resultado."
   ]
  },
  {
   "cell_type": "code",
   "execution_count": 85,
   "id": "742038fa",
   "metadata": {},
   "outputs": [
    {
     "data": {
      "text/html": [
       "<div>\n",
       "<style scoped>\n",
       "    .dataframe tbody tr th:only-of-type {\n",
       "        vertical-align: middle;\n",
       "    }\n",
       "\n",
       "    .dataframe tbody tr th {\n",
       "        vertical-align: top;\n",
       "    }\n",
       "\n",
       "    .dataframe thead th {\n",
       "        text-align: right;\n",
       "    }\n",
       "</style>\n",
       "<table border=\"1\" class=\"dataframe\">\n",
       "  <thead>\n",
       "    <tr style=\"text-align: right;\">\n",
       "      <th></th>\n",
       "      <th>ID</th>\n",
       "      <th>Nombre</th>\n",
       "      <th>Cantidad</th>\n",
       "      <th>Precio</th>\n",
       "      <th>Fecha</th>\n",
       "    </tr>\n",
       "    <tr>\n",
       "      <th>Fecha</th>\n",
       "      <th></th>\n",
       "      <th></th>\n",
       "      <th></th>\n",
       "      <th></th>\n",
       "      <th></th>\n",
       "    </tr>\n",
       "  </thead>\n",
       "  <tbody>\n",
       "    <tr>\n",
       "      <th>2024-03-12 22:42:51.059746</th>\n",
       "      <td>1</td>\n",
       "      <td>Producto 1</td>\n",
       "      <td>22</td>\n",
       "      <td>80.136463</td>\n",
       "      <td>2024-03-12 22:42:51.059746</td>\n",
       "    </tr>\n",
       "    <tr>\n",
       "      <th>2024-03-11 22:42:51.059751</th>\n",
       "      <td>2</td>\n",
       "      <td>Producto 2</td>\n",
       "      <td>23</td>\n",
       "      <td>1.836154</td>\n",
       "      <td>2024-03-11 22:42:51.059751</td>\n",
       "    </tr>\n",
       "    <tr>\n",
       "      <th>2024-03-10 22:42:51.059752</th>\n",
       "      <td>3</td>\n",
       "      <td>Producto 3</td>\n",
       "      <td>33</td>\n",
       "      <td>16.650175</td>\n",
       "      <td>2024-03-10 22:42:51.059752</td>\n",
       "    </tr>\n",
       "    <tr>\n",
       "      <th>2024-03-09 22:42:51.059753</th>\n",
       "      <td>4</td>\n",
       "      <td>Producto 4</td>\n",
       "      <td>51</td>\n",
       "      <td>12.311299</td>\n",
       "      <td>2024-03-09 22:42:51.059753</td>\n",
       "    </tr>\n",
       "    <tr>\n",
       "      <th>2024-03-08 22:42:51.059755</th>\n",
       "      <td>5</td>\n",
       "      <td>Producto 5</td>\n",
       "      <td>85</td>\n",
       "      <td>41.689835</td>\n",
       "      <td>2024-03-08 22:42:51.059755</td>\n",
       "    </tr>\n",
       "  </tbody>\n",
       "</table>\n",
       "</div>"
      ],
      "text/plain": [
       "                            ID      Nombre  Cantidad     Precio  \\\n",
       "Fecha                                                             \n",
       "2024-03-12 22:42:51.059746   1  Producto 1        22  80.136463   \n",
       "2024-03-11 22:42:51.059751   2  Producto 2        23   1.836154   \n",
       "2024-03-10 22:42:51.059752   3  Producto 3        33  16.650175   \n",
       "2024-03-09 22:42:51.059753   4  Producto 4        51  12.311299   \n",
       "2024-03-08 22:42:51.059755   5  Producto 5        85  41.689835   \n",
       "\n",
       "                                                Fecha  \n",
       "Fecha                                                  \n",
       "2024-03-12 22:42:51.059746 2024-03-12 22:42:51.059746  \n",
       "2024-03-11 22:42:51.059751 2024-03-11 22:42:51.059751  \n",
       "2024-03-10 22:42:51.059752 2024-03-10 22:42:51.059752  \n",
       "2024-03-09 22:42:51.059753 2024-03-09 22:42:51.059753  \n",
       "2024-03-08 22:42:51.059755 2024-03-08 22:42:51.059755  "
      ]
     },
     "execution_count": 85,
     "metadata": {},
     "output_type": "execute_result"
    }
   ],
   "source": [
    "# primera manera\n",
    "df.index=df['Fecha']\n",
    "df.head()"
   ]
  },
  {
   "cell_type": "code",
   "execution_count": 86,
   "id": "8411d5dc",
   "metadata": {},
   "outputs": [
    {
     "data": {
      "text/html": [
       "<div>\n",
       "<style scoped>\n",
       "    .dataframe tbody tr th:only-of-type {\n",
       "        vertical-align: middle;\n",
       "    }\n",
       "\n",
       "    .dataframe tbody tr th {\n",
       "        vertical-align: top;\n",
       "    }\n",
       "\n",
       "    .dataframe thead th {\n",
       "        text-align: right;\n",
       "    }\n",
       "</style>\n",
       "<table border=\"1\" class=\"dataframe\">\n",
       "  <thead>\n",
       "    <tr style=\"text-align: right;\">\n",
       "      <th></th>\n",
       "      <th>Nombre</th>\n",
       "      <th>Cantidad</th>\n",
       "      <th>Precio</th>\n",
       "      <th>Fecha</th>\n",
       "    </tr>\n",
       "    <tr>\n",
       "      <th>ID</th>\n",
       "      <th></th>\n",
       "      <th></th>\n",
       "      <th></th>\n",
       "      <th></th>\n",
       "    </tr>\n",
       "  </thead>\n",
       "  <tbody>\n",
       "    <tr>\n",
       "      <th>1</th>\n",
       "      <td>Producto 1</td>\n",
       "      <td>22</td>\n",
       "      <td>80.136463</td>\n",
       "      <td>2024-03-12 22:42:51.059746</td>\n",
       "    </tr>\n",
       "    <tr>\n",
       "      <th>2</th>\n",
       "      <td>Producto 2</td>\n",
       "      <td>23</td>\n",
       "      <td>1.836154</td>\n",
       "      <td>2024-03-11 22:42:51.059751</td>\n",
       "    </tr>\n",
       "    <tr>\n",
       "      <th>3</th>\n",
       "      <td>Producto 3</td>\n",
       "      <td>33</td>\n",
       "      <td>16.650175</td>\n",
       "      <td>2024-03-10 22:42:51.059752</td>\n",
       "    </tr>\n",
       "    <tr>\n",
       "      <th>4</th>\n",
       "      <td>Producto 4</td>\n",
       "      <td>51</td>\n",
       "      <td>12.311299</td>\n",
       "      <td>2024-03-09 22:42:51.059753</td>\n",
       "    </tr>\n",
       "    <tr>\n",
       "      <th>5</th>\n",
       "      <td>Producto 5</td>\n",
       "      <td>85</td>\n",
       "      <td>41.689835</td>\n",
       "      <td>2024-03-08 22:42:51.059755</td>\n",
       "    </tr>\n",
       "  </tbody>\n",
       "</table>\n",
       "</div>"
      ],
      "text/plain": [
       "        Nombre  Cantidad     Precio                      Fecha\n",
       "ID                                                            \n",
       "1   Producto 1        22  80.136463 2024-03-12 22:42:51.059746\n",
       "2   Producto 2        23   1.836154 2024-03-11 22:42:51.059751\n",
       "3   Producto 3        33  16.650175 2024-03-10 22:42:51.059752\n",
       "4   Producto 4        51  12.311299 2024-03-09 22:42:51.059753\n",
       "5   Producto 5        85  41.689835 2024-03-08 22:42:51.059755"
      ]
     },
     "execution_count": 86,
     "metadata": {},
     "output_type": "execute_result"
    }
   ],
   "source": [
    "# primera manera\n",
    "df.set_index('ID',inplace=True)\n",
    "df.head()"
   ]
  },
  {
   "cell_type": "markdown",
   "id": "b0738239",
   "metadata": {},
   "source": [
    "Ahora vamos a hacer otro ejemplo para ver cómo Pandas hace las operaciones con dataframes a partir del índice. Esto es el punto 3 de los 5 de arriba. \n",
    "\n",
    "Si el índice está bien pensado y escrito en Pandas, podemos hacer muchas cosas. En este caso, vamos a hacer dos nuevos dataframes, uno para la cantidad y otro para el precio de los productos anteriores. Sus valores serán aleatorios. Pero si queremos calcular una operación de dos dataframes diferentes, necesitamos del índice.\n"
   ]
  },
  {
   "cell_type": "code",
   "execution_count": 87,
   "id": "bc48de0a",
   "metadata": {},
   "outputs": [
    {
     "name": "stdout",
     "output_type": "stream",
     "text": [
      "Ventas\n",
      "   ID  Cantidad\n",
      "0   1        49\n",
      "1   2        94\n",
      "2   3        96\n",
      "3   4        56\n",
      "4   5        48\n",
      "Precio\n",
      "   ID     Precio\n",
      "0   1  32.174077\n",
      "1   2  81.293953\n",
      "2   3  59.707260\n",
      "3   4  99.119180\n",
      "4   5  77.063483\n"
     ]
    },
    {
     "data": {
      "text/plain": [
       "ID\n",
       "1    1576.529752\n",
       "2    7641.631626\n",
       "3    5731.896937\n",
       "4    5550.674082\n",
       "5    3699.047191\n",
       "dtype: float64"
      ]
     },
     "execution_count": 87,
     "metadata": {},
     "output_type": "execute_result"
    }
   ],
   "source": [
    "# Suponiendo que df1 contiene los datos de ventas y df2 contiene los precios de los productos\n",
    "df_ventas = pd.DataFrame({\n",
    "    'ID': range(1, 26),\n",
    "    'Cantidad': np.random.randint(1, 100, size=25)\n",
    "})\n",
    "\n",
    "df_precios = pd.DataFrame({\n",
    "    'ID': range(1, 26),\n",
    "    'Precio': np.random.uniform(1, 100, size=25)\n",
    "})\n",
    "\n",
    "print('Ventas')\n",
    "print(df_ventas.head())\n",
    "print('Precio')\n",
    "print(df_precios.head())\n",
    "\n",
    "# Establecemos el índice en ambos DataFrames\n",
    "df_ventas.set_index('ID', inplace=True)\n",
    "df_precios.set_index('ID', inplace=True)\n",
    "\n",
    "# Calculamos el total de ventas multiplicando la cantidad vendida por el precio unitario\n",
    "total_ventas = df_ventas['Cantidad'] * df_precios['Precio']\n",
    "\n",
    "# Mostramos el resultado\n",
    "total_ventas.head()"
   ]
  },
  {
   "cell_type": "markdown",
   "id": "15af1b01",
   "metadata": {},
   "source": [
    "El punto 4 se refiere a que podemos hacer ciertas operaciones con 2 dataframes que nos permitan unirlos o evaluar cosas en común. \n",
    "\n",
    "Los principales métodos para hacer esto son:\n",
    "\n",
    "- `merge()`:\n",
    "        El método `merge()` se utiliza para combinar dos DataFrames en función de una o más columnas que tengan valores comunes.\n",
    "        Puedes especificar las columnas clave de combinación utilizando los parámetros left_on y right_on si las columnas tienen nombres diferentes en los DataFrames, o usar `left_index=True` y `right_index=True` si deseas combinar en función de los índices.\n",
    "        El método `merge()` es más flexible y poderoso que `join()` y puede manejar casos más complejos de combinación de datos.\n",
    "\n",
    "- `join()`:\n",
    "        El método `join()` es similar a merge(), pero está diseñado para combinar DataFrames en función de sus índices.\n",
    "        Por defecto, `join()` realiza una combinación de tipo \"left join\", donde las filas del DataFrame de la izquierda se conservan y se completan con valores correspondientes del DataFrame de la derecha.\n",
    "        `join()` es conveniente cuando quieres combinar DataFrames en función de sus índices y cuando los DataFrames comparten los mismos nombres de columnas. Join se utiliza de manera diferente a `merge` ya que su sintaxis es del tipo `DataFrame.join(DataFrame2)`.\n",
    "\n",
    "- `concatenate()`:\n",
    "        La función `concatenate()` se utiliza para concatenar DataFrames a lo largo de un eje específico (por defecto, a lo largo del eje 0, es decir, las filas).\n",
    "        Puedes especificar una lista de DataFrames que deseas concatenar y Pandas los combinará a lo largo del eje especificado.\n",
    "        `concatenate()` es útil cuando deseas combinar múltiples DataFrames sin realizar una combinación basada en valores de columna o índice.\n",
    "\n",
    "- `intersection()`:\n",
    "        El método `intersection()` se utiliza para encontrar la intersección de los índices (o columnas) de dos DataFrames o Series.\n",
    "        Puedes usar `intersection()` para encontrar los elementos que son comunes en los índices de los DataFrames.\n",
    "        Esto es útil para identificar los elementos compartidos entre dos conjuntos de datos y puede ser útil al realizar operaciones de conjunto o al comparar datos.\n",
    "\n",
    "En resumen, `merge()`, `join()`, `concatenate()` e `intersection()` son funciones y métodos fundamentales en Pandas que te permiten combinar, unir y manipular DataFrames y Series de manera eficiente y flexible. La elección de cuál utilizar depende de tus necesidades específicas y del tipo de operación que deseas realizar."
   ]
  },
  {
   "cell_type": "code",
   "execution_count": 88,
   "id": "dbe6dc2c",
   "metadata": {},
   "outputs": [
    {
     "name": "stdout",
     "output_type": "stream",
     "text": [
      "Productos en común:\n",
      "Int64Index([ 1,  2,  3,  4,  5,  6,  7,  8,  9, 10, 11, 12, 13, 14, 15, 16, 17,\n",
      "            18, 19, 20, 21, 22, 23, 24, 25],\n",
      "           dtype='int64', name='ID')\n"
     ]
    }
   ],
   "source": [
    "# Encontrar los productos que aparecen en ambos DataFrames\n",
    "productos_en_comun = df_ventas.index.intersection(df_precios.index)\n",
    "\n",
    "# Mostrar los productos en común\n",
    "print(\"Productos en común:\")\n",
    "print(productos_en_comun)\n"
   ]
  },
  {
   "cell_type": "code",
   "execution_count": 89,
   "id": "8f50d4f8",
   "metadata": {},
   "outputs": [
    {
     "data": {
      "text/html": [
       "<div>\n",
       "<style scoped>\n",
       "    .dataframe tbody tr th:only-of-type {\n",
       "        vertical-align: middle;\n",
       "    }\n",
       "\n",
       "    .dataframe tbody tr th {\n",
       "        vertical-align: top;\n",
       "    }\n",
       "\n",
       "    .dataframe thead th {\n",
       "        text-align: right;\n",
       "    }\n",
       "</style>\n",
       "<table border=\"1\" class=\"dataframe\">\n",
       "  <thead>\n",
       "    <tr style=\"text-align: right;\">\n",
       "      <th></th>\n",
       "      <th>Cantidad</th>\n",
       "      <th>Precio</th>\n",
       "    </tr>\n",
       "    <tr>\n",
       "      <th>ID</th>\n",
       "      <th></th>\n",
       "      <th></th>\n",
       "    </tr>\n",
       "  </thead>\n",
       "  <tbody>\n",
       "    <tr>\n",
       "      <th>1</th>\n",
       "      <td>49</td>\n",
       "      <td>32.174077</td>\n",
       "    </tr>\n",
       "    <tr>\n",
       "      <th>2</th>\n",
       "      <td>94</td>\n",
       "      <td>81.293953</td>\n",
       "    </tr>\n",
       "    <tr>\n",
       "      <th>3</th>\n",
       "      <td>96</td>\n",
       "      <td>59.707260</td>\n",
       "    </tr>\n",
       "    <tr>\n",
       "      <th>4</th>\n",
       "      <td>56</td>\n",
       "      <td>99.119180</td>\n",
       "    </tr>\n",
       "    <tr>\n",
       "      <th>5</th>\n",
       "      <td>48</td>\n",
       "      <td>77.063483</td>\n",
       "    </tr>\n",
       "  </tbody>\n",
       "</table>\n",
       "</div>"
      ],
      "text/plain": [
       "    Cantidad     Precio\n",
       "ID                     \n",
       "1         49  32.174077\n",
       "2         94  81.293953\n",
       "3         96  59.707260\n",
       "4         56  99.119180\n",
       "5         48  77.063483"
      ]
     },
     "execution_count": 89,
     "metadata": {},
     "output_type": "execute_result"
    }
   ],
   "source": [
    "# df_ventas y df_precios tienen el mismo índice 'ID' entonces podemos unirlos\n",
    "df_combinado = pd.merge(df_ventas, df_precios, left_index=True, right_index=True)\n",
    "\n",
    "# Mostrar el DataFrame combinado\n",
    "df_combinado.head()"
   ]
  },
  {
   "cell_type": "markdown",
   "id": "09c9b440",
   "metadata": {},
   "source": [
    "---\n",
    "<a name='ej-1'></a>\n",
    "### **<font color=\"DodgerBlue\">Ejercicio 2 - Índices </font>**\n",
    "\n",
    "<font color=\"DarkBlue\"> 1. Utilice el método de join para unir los dataframes `df_ventas` y `df_precios` así como le hicimos con merge. Imprima el resultado.\n",
    "    \n",
    "<font color=\"DarkBlue\"> Extra (2). Utilizando el objeto `df`, repita la operación de calcular el total de ventas como el producto de la columna \"Ventas\" con \"Precio\". Calcula la suma de este resultado y obtenga el total de ventas final. \n",
    "    \n",
    "---"
   ]
  },
  {
   "cell_type": "code",
   "execution_count": null,
   "id": "6a383057",
   "metadata": {},
   "outputs": [],
   "source": []
  },
  {
   "cell_type": "markdown",
   "id": "259e71e5",
   "metadata": {},
   "source": [
    "### **<font color=\"ForestGreen\">  Transformaciones de Pandas </font>**\n",
    "\n",
    "Las funciones `lambda` $\\lambda$ y el método `apply()` son herramientas poderosas en Pandas para realizar operaciones personalizadas en DataFrames: \n",
    "\n",
    "- Una función lambda es una función anónima y pequeña que se define en una sola línea de código.\n",
    "\n",
    "- Se utilizan comúnmente para definir funciones simples y de una sola expresión.\n",
    "\n",
    "- Tienen una sintaxis básica: `lambda` _argumentos_: expresión.\n",
    "\n",
    "- Las funciones lambda son útiles cuando necesitas una función rápida y temporal para realizar una tarea específica.\n",
    "\n",
    "- Se pueden utilizar en combinación con muchas funciones de Python y de Pandas, como map(), filter(), reduce(), y también con el método apply() de Pandas."
   ]
  },
  {
   "cell_type": "code",
   "execution_count": 90,
   "id": "0a37f753",
   "metadata": {},
   "outputs": [
    {
     "data": {
      "text/html": [
       "<div>\n",
       "<style scoped>\n",
       "    .dataframe tbody tr th:only-of-type {\n",
       "        vertical-align: middle;\n",
       "    }\n",
       "\n",
       "    .dataframe tbody tr th {\n",
       "        vertical-align: top;\n",
       "    }\n",
       "\n",
       "    .dataframe thead th {\n",
       "        text-align: right;\n",
       "    }\n",
       "</style>\n",
       "<table border=\"1\" class=\"dataframe\">\n",
       "  <thead>\n",
       "    <tr style=\"text-align: right;\">\n",
       "      <th></th>\n",
       "      <th>Nombre</th>\n",
       "      <th>Cantidad</th>\n",
       "      <th>Precio</th>\n",
       "      <th>Fecha</th>\n",
       "      <th>Precio (EUR)</th>\n",
       "    </tr>\n",
       "    <tr>\n",
       "      <th>ID</th>\n",
       "      <th></th>\n",
       "      <th></th>\n",
       "      <th></th>\n",
       "      <th></th>\n",
       "      <th></th>\n",
       "    </tr>\n",
       "  </thead>\n",
       "  <tbody>\n",
       "    <tr>\n",
       "      <th>1</th>\n",
       "      <td>Producto 1</td>\n",
       "      <td>22</td>\n",
       "      <td>80.136463</td>\n",
       "      <td>2024-03-12 22:42:51.059746</td>\n",
       "      <td>4.343440</td>\n",
       "    </tr>\n",
       "    <tr>\n",
       "      <th>2</th>\n",
       "      <td>Producto 2</td>\n",
       "      <td>23</td>\n",
       "      <td>1.836154</td>\n",
       "      <td>2024-03-11 22:42:51.059751</td>\n",
       "      <td>0.099521</td>\n",
       "    </tr>\n",
       "    <tr>\n",
       "      <th>3</th>\n",
       "      <td>Producto 3</td>\n",
       "      <td>33</td>\n",
       "      <td>16.650175</td>\n",
       "      <td>2024-03-10 22:42:51.059752</td>\n",
       "      <td>0.902449</td>\n",
       "    </tr>\n",
       "    <tr>\n",
       "      <th>4</th>\n",
       "      <td>Producto 4</td>\n",
       "      <td>51</td>\n",
       "      <td>12.311299</td>\n",
       "      <td>2024-03-09 22:42:51.059753</td>\n",
       "      <td>0.667279</td>\n",
       "    </tr>\n",
       "    <tr>\n",
       "      <th>5</th>\n",
       "      <td>Producto 5</td>\n",
       "      <td>85</td>\n",
       "      <td>41.689835</td>\n",
       "      <td>2024-03-08 22:42:51.059755</td>\n",
       "      <td>2.259612</td>\n",
       "    </tr>\n",
       "  </tbody>\n",
       "</table>\n",
       "</div>"
      ],
      "text/plain": [
       "        Nombre  Cantidad     Precio                      Fecha  Precio (EUR)\n",
       "ID                                                                          \n",
       "1   Producto 1        22  80.136463 2024-03-12 22:42:51.059746      4.343440\n",
       "2   Producto 2        23   1.836154 2024-03-11 22:42:51.059751      0.099521\n",
       "3   Producto 3        33  16.650175 2024-03-10 22:42:51.059752      0.902449\n",
       "4   Producto 4        51  12.311299 2024-03-09 22:42:51.059753      0.667279\n",
       "5   Producto 5        85  41.689835 2024-03-08 22:42:51.059755      2.259612"
      ]
     },
     "execution_count": 90,
     "metadata": {},
     "output_type": "execute_result"
    }
   ],
   "source": [
    "# Definir una función lambda para convertir dólares a euros (1 EURO = 18.45 MXN)\n",
    "convertir_a_euros = lambda precio: precio * 1/18.45\n",
    "\n",
    "# Aplicar la transformación a la columna 'Precio (USD)' usando apply y la función lambda\n",
    "df['Precio (EUR)'] = df['Precio'].apply(convertir_a_euros)\n",
    "df.head()"
   ]
  },
  {
   "cell_type": "code",
   "execution_count": 91,
   "id": "59e6379f",
   "metadata": {},
   "outputs": [
    {
     "data": {
      "text/html": [
       "<div>\n",
       "<style scoped>\n",
       "    .dataframe tbody tr th:only-of-type {\n",
       "        vertical-align: middle;\n",
       "    }\n",
       "\n",
       "    .dataframe tbody tr th {\n",
       "        vertical-align: top;\n",
       "    }\n",
       "\n",
       "    .dataframe thead th {\n",
       "        text-align: right;\n",
       "    }\n",
       "</style>\n",
       "<table border=\"1\" class=\"dataframe\">\n",
       "  <thead>\n",
       "    <tr style=\"text-align: right;\">\n",
       "      <th></th>\n",
       "      <th>Nombre</th>\n",
       "      <th>Cantidad</th>\n",
       "      <th>Precio</th>\n",
       "      <th>Fecha</th>\n",
       "      <th>Precio (EUR)</th>\n",
       "      <th>Docenas</th>\n",
       "    </tr>\n",
       "    <tr>\n",
       "      <th>ID</th>\n",
       "      <th></th>\n",
       "      <th></th>\n",
       "      <th></th>\n",
       "      <th></th>\n",
       "      <th></th>\n",
       "      <th></th>\n",
       "    </tr>\n",
       "  </thead>\n",
       "  <tbody>\n",
       "    <tr>\n",
       "      <th>1</th>\n",
       "      <td>Producto 1</td>\n",
       "      <td>22</td>\n",
       "      <td>80.136463</td>\n",
       "      <td>2024-03-12 22:42:51.059746</td>\n",
       "      <td>4.343440</td>\n",
       "      <td>1</td>\n",
       "    </tr>\n",
       "    <tr>\n",
       "      <th>2</th>\n",
       "      <td>Producto 2</td>\n",
       "      <td>23</td>\n",
       "      <td>1.836154</td>\n",
       "      <td>2024-03-11 22:42:51.059751</td>\n",
       "      <td>0.099521</td>\n",
       "      <td>1</td>\n",
       "    </tr>\n",
       "    <tr>\n",
       "      <th>3</th>\n",
       "      <td>Producto 3</td>\n",
       "      <td>33</td>\n",
       "      <td>16.650175</td>\n",
       "      <td>2024-03-10 22:42:51.059752</td>\n",
       "      <td>0.902449</td>\n",
       "      <td>2</td>\n",
       "    </tr>\n",
       "    <tr>\n",
       "      <th>4</th>\n",
       "      <td>Producto 4</td>\n",
       "      <td>51</td>\n",
       "      <td>12.311299</td>\n",
       "      <td>2024-03-09 22:42:51.059753</td>\n",
       "      <td>0.667279</td>\n",
       "      <td>4</td>\n",
       "    </tr>\n",
       "    <tr>\n",
       "      <th>5</th>\n",
       "      <td>Producto 5</td>\n",
       "      <td>85</td>\n",
       "      <td>41.689835</td>\n",
       "      <td>2024-03-08 22:42:51.059755</td>\n",
       "      <td>2.259612</td>\n",
       "      <td>7</td>\n",
       "    </tr>\n",
       "  </tbody>\n",
       "</table>\n",
       "</div>"
      ],
      "text/plain": [
       "        Nombre  Cantidad     Precio                      Fecha  Precio (EUR)  \\\n",
       "ID                                                                             \n",
       "1   Producto 1        22  80.136463 2024-03-12 22:42:51.059746      4.343440   \n",
       "2   Producto 2        23   1.836154 2024-03-11 22:42:51.059751      0.099521   \n",
       "3   Producto 3        33  16.650175 2024-03-10 22:42:51.059752      0.902449   \n",
       "4   Producto 4        51  12.311299 2024-03-09 22:42:51.059753      0.667279   \n",
       "5   Producto 5        85  41.689835 2024-03-08 22:42:51.059755      2.259612   \n",
       "\n",
       "    Docenas  \n",
       "ID           \n",
       "1         1  \n",
       "2         1  \n",
       "3         2  \n",
       "4         4  \n",
       "5         7  "
      ]
     },
     "execution_count": 91,
     "metadata": {},
     "output_type": "execute_result"
    }
   ],
   "source": [
    "# Definir una función lambda para convertir la cantidad de algo pero a docenas en enteros\n",
    "cantidad_en_docenas = lambda cantidad: int(cantidad/12)\n",
    "\n",
    "# Aplicar la transformación a la columna 'Precio (USD)' usando apply y la función lambda\n",
    "df['Docenas'] = df['Cantidad'].apply(cantidad_en_docenas)\n",
    "df.head()"
   ]
  },
  {
   "cell_type": "markdown",
   "id": "df5eae24",
   "metadata": {},
   "source": [
    "También podemos usar funciones pre-fabricadas para hacer transformaciones "
   ]
  },
  {
   "cell_type": "code",
   "execution_count": 92,
   "id": "dfb6696f",
   "metadata": {},
   "outputs": [
    {
     "data": {
      "text/html": [
       "<div>\n",
       "<style scoped>\n",
       "    .dataframe tbody tr th:only-of-type {\n",
       "        vertical-align: middle;\n",
       "    }\n",
       "\n",
       "    .dataframe tbody tr th {\n",
       "        vertical-align: top;\n",
       "    }\n",
       "\n",
       "    .dataframe thead th {\n",
       "        text-align: right;\n",
       "    }\n",
       "</style>\n",
       "<table border=\"1\" class=\"dataframe\">\n",
       "  <thead>\n",
       "    <tr style=\"text-align: right;\">\n",
       "      <th></th>\n",
       "      <th>Nombre</th>\n",
       "      <th>Cantidad</th>\n",
       "      <th>Precio</th>\n",
       "      <th>Fecha</th>\n",
       "      <th>Precio (EUR)</th>\n",
       "      <th>Docenas</th>\n",
       "      <th>Precio al cuadrado</th>\n",
       "    </tr>\n",
       "    <tr>\n",
       "      <th>ID</th>\n",
       "      <th></th>\n",
       "      <th></th>\n",
       "      <th></th>\n",
       "      <th></th>\n",
       "      <th></th>\n",
       "      <th></th>\n",
       "      <th></th>\n",
       "    </tr>\n",
       "  </thead>\n",
       "  <tbody>\n",
       "    <tr>\n",
       "      <th>1</th>\n",
       "      <td>Producto 1</td>\n",
       "      <td>22</td>\n",
       "      <td>80.136463</td>\n",
       "      <td>2024-03-12 22:42:51.059746</td>\n",
       "      <td>4.343440</td>\n",
       "      <td>1</td>\n",
       "      <td>6421.852729</td>\n",
       "    </tr>\n",
       "    <tr>\n",
       "      <th>2</th>\n",
       "      <td>Producto 2</td>\n",
       "      <td>23</td>\n",
       "      <td>1.836154</td>\n",
       "      <td>2024-03-11 22:42:51.059751</td>\n",
       "      <td>0.099521</td>\n",
       "      <td>1</td>\n",
       "      <td>3.371462</td>\n",
       "    </tr>\n",
       "    <tr>\n",
       "      <th>3</th>\n",
       "      <td>Producto 3</td>\n",
       "      <td>33</td>\n",
       "      <td>16.650175</td>\n",
       "      <td>2024-03-10 22:42:51.059752</td>\n",
       "      <td>0.902449</td>\n",
       "      <td>2</td>\n",
       "      <td>277.228335</td>\n",
       "    </tr>\n",
       "    <tr>\n",
       "      <th>4</th>\n",
       "      <td>Producto 4</td>\n",
       "      <td>51</td>\n",
       "      <td>12.311299</td>\n",
       "      <td>2024-03-09 22:42:51.059753</td>\n",
       "      <td>0.667279</td>\n",
       "      <td>4</td>\n",
       "      <td>151.568091</td>\n",
       "    </tr>\n",
       "    <tr>\n",
       "      <th>5</th>\n",
       "      <td>Producto 5</td>\n",
       "      <td>85</td>\n",
       "      <td>41.689835</td>\n",
       "      <td>2024-03-08 22:42:51.059755</td>\n",
       "      <td>2.259612</td>\n",
       "      <td>7</td>\n",
       "      <td>1738.042332</td>\n",
       "    </tr>\n",
       "  </tbody>\n",
       "</table>\n",
       "</div>"
      ],
      "text/plain": [
       "        Nombre  Cantidad     Precio                      Fecha  Precio (EUR)  \\\n",
       "ID                                                                             \n",
       "1   Producto 1        22  80.136463 2024-03-12 22:42:51.059746      4.343440   \n",
       "2   Producto 2        23   1.836154 2024-03-11 22:42:51.059751      0.099521   \n",
       "3   Producto 3        33  16.650175 2024-03-10 22:42:51.059752      0.902449   \n",
       "4   Producto 4        51  12.311299 2024-03-09 22:42:51.059753      0.667279   \n",
       "5   Producto 5        85  41.689835 2024-03-08 22:42:51.059755      2.259612   \n",
       "\n",
       "    Docenas  Precio al cuadrado  \n",
       "ID                               \n",
       "1         1         6421.852729  \n",
       "2         1            3.371462  \n",
       "3         2          277.228335  \n",
       "4         4          151.568091  \n",
       "5         7         1738.042332  "
      ]
     },
     "execution_count": 92,
     "metadata": {},
     "output_type": "execute_result"
    }
   ],
   "source": [
    "def calcular_cuadrado(x):\n",
    "    return x ** 2\n",
    "\n",
    "df['Precio al cuadrado'] = df['Precio'].apply(calcular_cuadrado)\n",
    "df.head()"
   ]
  },
  {
   "cell_type": "markdown",
   "id": "c41b630a",
   "metadata": {},
   "source": [
    "---\n",
    "<a name='ej-1'></a>\n",
    "### **<font color=\"DodgerBlue\">Ejercicio 3 - Índices </font>**\n",
    "\n",
    "<font color=\"DarkBlue\"> 1. Utilice el método lambdas para calcular el año en el que nacieron los individuos del primer dataframe del notebook y guarde este resultado en la columna `Año de nacimiento`. \n",
    "    \n",
    "    \n",
    "---"
   ]
  },
  {
   "cell_type": "code",
   "execution_count": null,
   "id": "743c8559",
   "metadata": {},
   "outputs": [],
   "source": []
  }
 ],
 "metadata": {
  "kernelspec": {
   "display_name": "Python 3 (ipykernel)",
   "language": "python",
   "name": "python3"
  },
  "language_info": {
   "codemirror_mode": {
    "name": "ipython",
    "version": 3
   },
   "file_extension": ".py",
   "mimetype": "text/x-python",
   "name": "python",
   "nbconvert_exporter": "python",
   "pygments_lexer": "ipython3",
   "version": "3.10.9"
  }
 },
 "nbformat": 4,
 "nbformat_minor": 5
}
